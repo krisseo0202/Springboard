{
 "cells": [
  {
   "cell_type": "code",
   "execution_count": 68,
   "metadata": {},
   "outputs": [],
   "source": [
    "import pandas as pd\n",
    "import numpy as np\n",
    "import seaborn as sns\n",
    "import re\n",
    "import matplotlib.pyplot as plt\n",
    "import glob\n",
    "import pickle\n",
    "import scipy.stats\n",
    "import statsmodels.api as sm\n",
    "\n",
    "from surprise.model_selection import cross_validate\n",
    "from surprise import KNNBasic, KNNWithMeans, KNNWithZScore\n",
    "from surprise.model_selection import train_test_split\n",
    "\n",
    "from sklearn.preprocessing import StandardScaler\n",
    "from sklearn.decomposition import PCA\n",
    "from sklearn.neighbors import KNeighborsClassifier\n",
    "from sklearn.neighbors import NearestNeighbors\n",
    "from sklearn.metrics.pairwise import cosine_similarity\n",
    "from sklearn.feature_extraction.text import TfidfVectorizer\n",
    "from scipy.sparse import csr_matrix\n",
    "from sklearn.feature_extraction.text import CountVectorizer\n",
    "from mpl_toolkits.mplot3d import Axes3D\n",
    "\n",
    "# fuzz is used to compare TWO strings\n",
    "from fuzzywuzzy import fuzz\n",
    "# process is used to compare a string to MULTIPLE other strings\n",
    "from fuzzywuzzy import process"
   ]
  },
  {
   "cell_type": "markdown",
   "metadata": {},
   "source": [
    "## Load Music Data / Data Collection\n",
    "***"
   ]
  },
  {
   "cell_type": "code",
   "execution_count": 2,
   "metadata": {
    "scrolled": true
   },
   "outputs": [],
   "source": [
    "artname = pd.read_csv('data/usersha1-artmbid-artname-plays.tsv', sep='\\t', header=None, names = ['users', 'artist_id', 'artist_name', 'plays'])\n",
    "profile = pd.read_csv('data/usersha1-profile.tsv', sep='\\t', header=None, names = ['users', 'gender', 'age', 'country', 'sign_up'],\n",
    "                        usecols = ['users', 'country'])\n"
   ]
  },
  {
   "cell_type": "code",
   "execution_count": 3,
   "metadata": {},
   "outputs": [
    {
     "data": {
      "text/html": [
       "<div>\n",
       "<style scoped>\n",
       "    .dataframe tbody tr th:only-of-type {\n",
       "        vertical-align: middle;\n",
       "    }\n",
       "\n",
       "    .dataframe tbody tr th {\n",
       "        vertical-align: top;\n",
       "    }\n",
       "\n",
       "    .dataframe thead th {\n",
       "        text-align: right;\n",
       "    }\n",
       "</style>\n",
       "<table border=\"1\" class=\"dataframe\">\n",
       "  <thead>\n",
       "    <tr style=\"text-align: right;\">\n",
       "      <th></th>\n",
       "      <th>trackid</th>\n",
       "      <th>artist_name</th>\n",
       "      <th>track_name</th>\n",
       "      <th>pid</th>\n",
       "    </tr>\n",
       "  </thead>\n",
       "  <tbody>\n",
       "    <tr>\n",
       "      <th>0</th>\n",
       "      <td>spotify:track:2vCtiBvJJZfz773yTfAxPP</td>\n",
       "      <td>Lost Frequencies</td>\n",
       "      <td>What Is Love 2016 - Mike Mago Remix</td>\n",
       "      <td>3000</td>\n",
       "    </tr>\n",
       "    <tr>\n",
       "      <th>1</th>\n",
       "      <td>spotify:track:5WOLZP8KrXiupBjG1SSN5U</td>\n",
       "      <td>John Legend</td>\n",
       "      <td>Love Me Now - Dave Audé Remix Radio Edit</td>\n",
       "      <td>3000</td>\n",
       "    </tr>\n",
       "    <tr>\n",
       "      <th>2</th>\n",
       "      <td>spotify:track:0oQDQ9QiqsO63EEBAro8Le</td>\n",
       "      <td>July Child</td>\n",
       "      <td>Thinkin of U</td>\n",
       "      <td>3000</td>\n",
       "    </tr>\n",
       "    <tr>\n",
       "      <th>3</th>\n",
       "      <td>spotify:track:7MUS0La2IQ85vJ59fQqtoN</td>\n",
       "      <td>Tiësto</td>\n",
       "      <td>I Will Be Here - (Wolfgang Gartner Remix)</td>\n",
       "      <td>3000</td>\n",
       "    </tr>\n",
       "    <tr>\n",
       "      <th>4</th>\n",
       "      <td>spotify:track:3ciyZYofjiqmMUElM5qgGB</td>\n",
       "      <td>Joe Stone</td>\n",
       "      <td>The Party (This Is How We Do It)</td>\n",
       "      <td>3000</td>\n",
       "    </tr>\n",
       "  </tbody>\n",
       "</table>\n",
       "</div>"
      ],
      "text/plain": [
       "                                trackid       artist_name  \\\n",
       "0  spotify:track:2vCtiBvJJZfz773yTfAxPP  Lost Frequencies   \n",
       "1  spotify:track:5WOLZP8KrXiupBjG1SSN5U       John Legend   \n",
       "2  spotify:track:0oQDQ9QiqsO63EEBAro8Le        July Child   \n",
       "3  spotify:track:7MUS0La2IQ85vJ59fQqtoN            Tiësto   \n",
       "4  spotify:track:3ciyZYofjiqmMUElM5qgGB         Joe Stone   \n",
       "\n",
       "                                  track_name   pid  \n",
       "0        What Is Love 2016 - Mike Mago Remix  3000  \n",
       "1   Love Me Now - Dave Audé Remix Radio Edit  3000  \n",
       "2                               Thinkin of U  3000  \n",
       "3  I Will Be Here - (Wolfgang Gartner Remix)  3000  \n",
       "4           The Party (This Is How We Do It)  3000  "
      ]
     },
     "execution_count": 3,
     "metadata": {},
     "output_type": "execute_result"
    }
   ],
   "source": [
    "#Getting all the spotify_data follwing by numbers\n",
    "filenames = glob.glob('data/spotify_data*.csv')\n",
    "l = []\n",
    "for file in filenames: \n",
    "    df = pd.read_csv(file)\n",
    "    l.append(df)\n",
    "    \n",
    "spotify_data = pd.concat(l, axis = 0,ignore_index= True)\n",
    "spotify_data.head()\n"
   ]
  },
  {
   "cell_type": "code",
   "execution_count": 4,
   "metadata": {},
   "outputs": [
    {
     "data": {
      "text/html": [
       "<div>\n",
       "<style scoped>\n",
       "    .dataframe tbody tr th:only-of-type {\n",
       "        vertical-align: middle;\n",
       "    }\n",
       "\n",
       "    .dataframe tbody tr th {\n",
       "        vertical-align: top;\n",
       "    }\n",
       "\n",
       "    .dataframe thead th {\n",
       "        text-align: right;\n",
       "    }\n",
       "</style>\n",
       "<table border=\"1\" class=\"dataframe\">\n",
       "  <thead>\n",
       "    <tr style=\"text-align: right;\">\n",
       "      <th></th>\n",
       "      <th>artist_name</th>\n",
       "      <th>genre</th>\n",
       "    </tr>\n",
       "  </thead>\n",
       "  <tbody>\n",
       "    <tr>\n",
       "      <th>0</th>\n",
       "      <td>Rumer</td>\n",
       "      <td>british singer-songwriter</td>\n",
       "    </tr>\n",
       "    <tr>\n",
       "      <th>1</th>\n",
       "      <td>Anita Wilson</td>\n",
       "      <td>contemporary gospel</td>\n",
       "    </tr>\n",
       "    <tr>\n",
       "      <th>2</th>\n",
       "      <td>Anita Wilson</td>\n",
       "      <td>gospel</td>\n",
       "    </tr>\n",
       "    <tr>\n",
       "      <th>3</th>\n",
       "      <td>Anita Wilson</td>\n",
       "      <td>gospel r&amp;b</td>\n",
       "    </tr>\n",
       "    <tr>\n",
       "      <th>4</th>\n",
       "      <td>Matrimony</td>\n",
       "      <td>charlotte nc indie</td>\n",
       "    </tr>\n",
       "  </tbody>\n",
       "</table>\n",
       "</div>"
      ],
      "text/plain": [
       "    artist_name                      genre\n",
       "0         Rumer  british singer-songwriter\n",
       "1  Anita Wilson        contemporary gospel\n",
       "2  Anita Wilson                     gospel\n",
       "3  Anita Wilson                 gospel r&b\n",
       "4     Matrimony         charlotte nc indie"
      ]
     },
     "execution_count": 4,
     "metadata": {},
     "output_type": "execute_result"
    }
   ],
   "source": [
    "artists_genres = pickle.load(open(\"artists_genres.p\", 'rb'))\n",
    "artists_genres.head()"
   ]
  },
  {
   "cell_type": "code",
   "execution_count": 152,
   "metadata": {},
   "outputs": [
    {
     "data": {
      "text/plain": [
       "2196"
      ]
     },
     "execution_count": 152,
     "metadata": {},
     "output_type": "execute_result"
    }
   ],
   "source": [
    "len(set(artists_genres['genre']))"
   ]
  },
  {
   "cell_type": "code",
   "execution_count": 125,
   "metadata": {},
   "outputs": [
    {
     "data": {
      "text/html": [
       "<div>\n",
       "<style scoped>\n",
       "    .dataframe tbody tr th:only-of-type {\n",
       "        vertical-align: middle;\n",
       "    }\n",
       "\n",
       "    .dataframe tbody tr th {\n",
       "        vertical-align: top;\n",
       "    }\n",
       "\n",
       "    .dataframe thead th {\n",
       "        text-align: right;\n",
       "    }\n",
       "</style>\n",
       "<table border=\"1\" class=\"dataframe\">\n",
       "  <thead>\n",
       "    <tr style=\"text-align: right;\">\n",
       "      <th></th>\n",
       "      <th>genre</th>\n",
       "    </tr>\n",
       "    <tr>\n",
       "      <th>artist_name</th>\n",
       "      <th></th>\n",
       "    </tr>\n",
       "  </thead>\n",
       "  <tbody>\n",
       "    <tr>\n",
       "      <th>!!!</th>\n",
       "      <td>alternative dance dance-punk electronic filter...</td>\n",
       "    </tr>\n",
       "    <tr>\n",
       "      <th>\"Weird Al\" Yankovic</th>\n",
       "      <td>antiviral pop comedy rock comic</td>\n",
       "    </tr>\n",
       "    <tr>\n",
       "      <th>#1 Dads</th>\n",
       "      <td>australian indie</td>\n",
       "    </tr>\n",
       "    <tr>\n",
       "      <th>$teven Cannon</th>\n",
       "      <td>dark trap underground hip hop vapor trap</td>\n",
       "    </tr>\n",
       "    <tr>\n",
       "      <th>$uicideBoy$</th>\n",
       "      <td>dark trap new orleans rap underground hip hop</td>\n",
       "    </tr>\n",
       "  </tbody>\n",
       "</table>\n",
       "</div>"
      ],
      "text/plain": [
       "                                                                 genre\n",
       "artist_name                                                           \n",
       "!!!                  alternative dance dance-punk electronic filter...\n",
       "\"Weird Al\" Yankovic                    antiviral pop comedy rock comic\n",
       "#1 Dads                                               australian indie\n",
       "$teven Cannon                 dark trap underground hip hop vapor trap\n",
       "$uicideBoy$              dark trap new orleans rap underground hip hop"
      ]
     },
     "execution_count": 125,
     "metadata": {},
     "output_type": "execute_result"
    }
   ],
   "source": [
    "bag_of_genres = pd.DataFrame(artists_genres.groupby('artist_name')['genre'].agg(lambda x: ' '.join(x)))\n",
    "bag_of_genres.head()\n"
   ]
  },
  {
   "cell_type": "code",
   "execution_count": 124,
   "metadata": {},
   "outputs": [
    {
     "data": {
      "text/html": [
       "<div>\n",
       "<style scoped>\n",
       "    .dataframe tbody tr th:only-of-type {\n",
       "        vertical-align: middle;\n",
       "    }\n",
       "\n",
       "    .dataframe tbody tr th {\n",
       "        vertical-align: top;\n",
       "    }\n",
       "\n",
       "    .dataframe thead th {\n",
       "        text-align: right;\n",
       "    }\n",
       "</style>\n",
       "<table border=\"1\" class=\"dataframe\">\n",
       "  <thead>\n",
       "    <tr style=\"text-align: right;\">\n",
       "      <th></th>\n",
       "      <th>acousticness</th>\n",
       "      <th>danceability</th>\n",
       "      <th>energy</th>\n",
       "      <th>instrumentalness</th>\n",
       "      <th>liveness</th>\n",
       "      <th>loudness</th>\n",
       "      <th>speechiness</th>\n",
       "      <th>tempo</th>\n",
       "      <th>valence</th>\n",
       "      <th>popularity</th>\n",
       "    </tr>\n",
       "    <tr>\n",
       "      <th>uri</th>\n",
       "      <th></th>\n",
       "      <th></th>\n",
       "      <th></th>\n",
       "      <th></th>\n",
       "      <th></th>\n",
       "      <th></th>\n",
       "      <th></th>\n",
       "      <th></th>\n",
       "      <th></th>\n",
       "      <th></th>\n",
       "    </tr>\n",
       "  </thead>\n",
       "  <tbody>\n",
       "    <tr>\n",
       "      <th>spotify:track:4V2F0DZrAXOWq9hkwMMG3x</th>\n",
       "      <td>0.2260</td>\n",
       "      <td>0.664</td>\n",
       "      <td>0.351</td>\n",
       "      <td>0.000002</td>\n",
       "      <td>0.1060</td>\n",
       "      <td>-12.136</td>\n",
       "      <td>0.1180</td>\n",
       "      <td>113.204</td>\n",
       "      <td>0.816</td>\n",
       "      <td>61</td>\n",
       "    </tr>\n",
       "    <tr>\n",
       "      <th>spotify:track:4vE8kSu9DhhJHAczFvuUgN</th>\n",
       "      <td>0.7320</td>\n",
       "      <td>0.830</td>\n",
       "      <td>0.417</td>\n",
       "      <td>0.000308</td>\n",
       "      <td>0.2190</td>\n",
       "      <td>-10.444</td>\n",
       "      <td>0.3330</td>\n",
       "      <td>81.948</td>\n",
       "      <td>0.324</td>\n",
       "      <td>43</td>\n",
       "    </tr>\n",
       "    <tr>\n",
       "      <th>spotify:track:31SQzEn2j6IqoBM41axtX4</th>\n",
       "      <td>0.8630</td>\n",
       "      <td>0.433</td>\n",
       "      <td>0.305</td>\n",
       "      <td>0.946000</td>\n",
       "      <td>0.2320</td>\n",
       "      <td>-10.574</td>\n",
       "      <td>0.0477</td>\n",
       "      <td>82.975</td>\n",
       "      <td>0.204</td>\n",
       "      <td>32</td>\n",
       "    </tr>\n",
       "    <tr>\n",
       "      <th>spotify:track:5wDo8f5JkiLu98wa38chVT</th>\n",
       "      <td>0.3290</td>\n",
       "      <td>0.835</td>\n",
       "      <td>0.532</td>\n",
       "      <td>0.000023</td>\n",
       "      <td>0.3640</td>\n",
       "      <td>-8.891</td>\n",
       "      <td>0.2920</td>\n",
       "      <td>99.995</td>\n",
       "      <td>0.562</td>\n",
       "      <td>27</td>\n",
       "    </tr>\n",
       "    <tr>\n",
       "      <th>spotify:track:128zElW4z27JtpfRKPkJwF</th>\n",
       "      <td>0.0187</td>\n",
       "      <td>0.518</td>\n",
       "      <td>0.801</td>\n",
       "      <td>0.000000</td>\n",
       "      <td>0.0988</td>\n",
       "      <td>-6.091</td>\n",
       "      <td>0.0445</td>\n",
       "      <td>160.100</td>\n",
       "      <td>0.491</td>\n",
       "      <td>51</td>\n",
       "    </tr>\n",
       "  </tbody>\n",
       "</table>\n",
       "</div>"
      ],
      "text/plain": [
       "                                      acousticness  danceability  energy  \\\n",
       "uri                                                                        \n",
       "spotify:track:4V2F0DZrAXOWq9hkwMMG3x        0.2260         0.664   0.351   \n",
       "spotify:track:4vE8kSu9DhhJHAczFvuUgN        0.7320         0.830   0.417   \n",
       "spotify:track:31SQzEn2j6IqoBM41axtX4        0.8630         0.433   0.305   \n",
       "spotify:track:5wDo8f5JkiLu98wa38chVT        0.3290         0.835   0.532   \n",
       "spotify:track:128zElW4z27JtpfRKPkJwF        0.0187         0.518   0.801   \n",
       "\n",
       "                                      instrumentalness  liveness  loudness  \\\n",
       "uri                                                                          \n",
       "spotify:track:4V2F0DZrAXOWq9hkwMMG3x          0.000002    0.1060   -12.136   \n",
       "spotify:track:4vE8kSu9DhhJHAczFvuUgN          0.000308    0.2190   -10.444   \n",
       "spotify:track:31SQzEn2j6IqoBM41axtX4          0.946000    0.2320   -10.574   \n",
       "spotify:track:5wDo8f5JkiLu98wa38chVT          0.000023    0.3640    -8.891   \n",
       "spotify:track:128zElW4z27JtpfRKPkJwF          0.000000    0.0988    -6.091   \n",
       "\n",
       "                                      speechiness    tempo  valence  \\\n",
       "uri                                                                   \n",
       "spotify:track:4V2F0DZrAXOWq9hkwMMG3x       0.1180  113.204    0.816   \n",
       "spotify:track:4vE8kSu9DhhJHAczFvuUgN       0.3330   81.948    0.324   \n",
       "spotify:track:31SQzEn2j6IqoBM41axtX4       0.0477   82.975    0.204   \n",
       "spotify:track:5wDo8f5JkiLu98wa38chVT       0.2920   99.995    0.562   \n",
       "spotify:track:128zElW4z27JtpfRKPkJwF       0.0445  160.100    0.491   \n",
       "\n",
       "                                      popularity  \n",
       "uri                                               \n",
       "spotify:track:4V2F0DZrAXOWq9hkwMMG3x          61  \n",
       "spotify:track:4vE8kSu9DhhJHAczFvuUgN          43  \n",
       "spotify:track:31SQzEn2j6IqoBM41axtX4          32  \n",
       "spotify:track:5wDo8f5JkiLu98wa38chVT          27  \n",
       "spotify:track:128zElW4z27JtpfRKPkJwF          51  "
      ]
     },
     "execution_count": 124,
     "metadata": {},
     "output_type": "execute_result"
    }
   ],
   "source": [
    "all_features = pickle.load(open(\"all_features.p\",\"rb\"))\n",
    "all_features = all_features.drop(['duration_ms','key','mode','time_signature'], axis=1)\n",
    "all_features.head()"
   ]
  },
  {
   "cell_type": "code",
   "execution_count": 7,
   "metadata": {},
   "outputs": [],
   "source": [
    "# Set index as trackid which is the same as index of all_features\n",
    "spotify_data = spotify_data.set_index('trackid') "
   ]
  },
  {
   "cell_type": "code",
   "execution_count": 8,
   "metadata": {},
   "outputs": [],
   "source": [
    "merged = pd.merge(all_features,spotify_data, left_index=True, right_index=True) # Merging Two dataframes based on their indexes to combine all the information.\n",
    "merged = merged[~merged.index.duplicated(keep='first')] # Dropping duplicated index.\n",
    "\n",
    "merged['artist_name'] = merged['artist_name'].astype(str).str.lower() # Generalize artist name\n"
   ]
  },
  {
   "cell_type": "markdown",
   "metadata": {},
   "source": [
    "I want to use Item-based collaborative filtering by using each song's features as listed below. \n",
    "Get similarity scores between one artists music features and all artists' the user listened.\n"
   ]
  },
  {
   "cell_type": "code",
   "execution_count": 9,
   "metadata": {},
   "outputs": [
    {
     "name": "stdout",
     "output_type": "stream",
     "text": [
      "<class 'pandas.core.frame.DataFrame'>\n",
      "Index: 93132 entries, spotify:track:000VZqvXwT0YNqKk7iG2GS to spotify:track:7zzLt6Z9y7jMvXnEg00n58\n",
      "Data columns (total 13 columns):\n",
      "acousticness        93132 non-null float64\n",
      "danceability        93132 non-null float64\n",
      "energy              93132 non-null float64\n",
      "instrumentalness    93132 non-null float64\n",
      "liveness            93132 non-null float64\n",
      "loudness            93132 non-null float64\n",
      "speechiness         93132 non-null float64\n",
      "tempo               93132 non-null float64\n",
      "valence             93132 non-null float64\n",
      "popularity          93132 non-null int64\n",
      "artist_name         93132 non-null object\n",
      "track_name          93132 non-null object\n",
      "pid                 93132 non-null int64\n",
      "dtypes: float64(9), int64(2), object(2)\n",
      "memory usage: 9.9+ MB\n"
     ]
    },
    {
     "data": {
      "text/html": [
       "<div>\n",
       "<style scoped>\n",
       "    .dataframe tbody tr th:only-of-type {\n",
       "        vertical-align: middle;\n",
       "    }\n",
       "\n",
       "    .dataframe tbody tr th {\n",
       "        vertical-align: top;\n",
       "    }\n",
       "\n",
       "    .dataframe thead th {\n",
       "        text-align: right;\n",
       "    }\n",
       "</style>\n",
       "<table border=\"1\" class=\"dataframe\">\n",
       "  <thead>\n",
       "    <tr style=\"text-align: right;\">\n",
       "      <th></th>\n",
       "      <th>acousticness</th>\n",
       "      <th>danceability</th>\n",
       "      <th>energy</th>\n",
       "      <th>instrumentalness</th>\n",
       "      <th>liveness</th>\n",
       "      <th>loudness</th>\n",
       "      <th>speechiness</th>\n",
       "      <th>tempo</th>\n",
       "      <th>valence</th>\n",
       "      <th>popularity</th>\n",
       "      <th>artist_name</th>\n",
       "      <th>track_name</th>\n",
       "      <th>pid</th>\n",
       "    </tr>\n",
       "  </thead>\n",
       "  <tbody>\n",
       "    <tr>\n",
       "      <th>spotify:track:7y8aVfDkqt6qirGNivvs0M</th>\n",
       "      <td>0.00255</td>\n",
       "      <td>0.702</td>\n",
       "      <td>0.851</td>\n",
       "      <td>0.000059</td>\n",
       "      <td>0.3220</td>\n",
       "      <td>-5.747</td>\n",
       "      <td>0.0407</td>\n",
       "      <td>117.004</td>\n",
       "      <td>0.870</td>\n",
       "      <td>51</td>\n",
       "      <td>!!!</td>\n",
       "      <td>One Girl / One Boy</td>\n",
       "      <td>3785</td>\n",
       "    </tr>\n",
       "    <tr>\n",
       "      <th>spotify:track:32TXsOUIWtTQDkE72Cvafe</th>\n",
       "      <td>0.00232</td>\n",
       "      <td>0.711</td>\n",
       "      <td>0.893</td>\n",
       "      <td>0.196000</td>\n",
       "      <td>0.6420</td>\n",
       "      <td>-6.059</td>\n",
       "      <td>0.0781</td>\n",
       "      <td>120.751</td>\n",
       "      <td>0.629</td>\n",
       "      <td>41</td>\n",
       "      <td>!!!</td>\n",
       "      <td>Pardon My Freedom</td>\n",
       "      <td>2997</td>\n",
       "    </tr>\n",
       "    <tr>\n",
       "      <th>spotify:track:0BjOgTLP0kLC88XqMoyrv8</th>\n",
       "      <td>0.06260</td>\n",
       "      <td>0.858</td>\n",
       "      <td>0.717</td>\n",
       "      <td>0.243000</td>\n",
       "      <td>0.2160</td>\n",
       "      <td>-8.734</td>\n",
       "      <td>0.0995</td>\n",
       "      <td>120.004</td>\n",
       "      <td>0.582</td>\n",
       "      <td>39</td>\n",
       "      <td>!!!</td>\n",
       "      <td>Slyd</td>\n",
       "      <td>2871</td>\n",
       "    </tr>\n",
       "    <tr>\n",
       "      <th>spotify:track:5zfg3qZOcjS4IFhazNk9PW</th>\n",
       "      <td>0.03640</td>\n",
       "      <td>0.694</td>\n",
       "      <td>0.798</td>\n",
       "      <td>0.024000</td>\n",
       "      <td>0.0596</td>\n",
       "      <td>-6.010</td>\n",
       "      <td>0.0725</td>\n",
       "      <td>126.073</td>\n",
       "      <td>0.456</td>\n",
       "      <td>38</td>\n",
       "      <td>!!!</td>\n",
       "      <td>Yadnus</td>\n",
       "      <td>1633</td>\n",
       "    </tr>\n",
       "    <tr>\n",
       "      <th>spotify:track:3MZ0Obyv6AnO1anmGBJydv</th>\n",
       "      <td>0.09200</td>\n",
       "      <td>0.805</td>\n",
       "      <td>0.414</td>\n",
       "      <td>0.719000</td>\n",
       "      <td>0.0723</td>\n",
       "      <td>-10.608</td>\n",
       "      <td>0.5160</td>\n",
       "      <td>161.707</td>\n",
       "      <td>0.527</td>\n",
       "      <td>40</td>\n",
       "      <td>!llmind</td>\n",
       "      <td>Take A Break - Interlude</td>\n",
       "      <td>3162</td>\n",
       "    </tr>\n",
       "  </tbody>\n",
       "</table>\n",
       "</div>"
      ],
      "text/plain": [
       "                                      acousticness  danceability  energy  \\\n",
       "spotify:track:7y8aVfDkqt6qirGNivvs0M       0.00255         0.702   0.851   \n",
       "spotify:track:32TXsOUIWtTQDkE72Cvafe       0.00232         0.711   0.893   \n",
       "spotify:track:0BjOgTLP0kLC88XqMoyrv8       0.06260         0.858   0.717   \n",
       "spotify:track:5zfg3qZOcjS4IFhazNk9PW       0.03640         0.694   0.798   \n",
       "spotify:track:3MZ0Obyv6AnO1anmGBJydv       0.09200         0.805   0.414   \n",
       "\n",
       "                                      instrumentalness  liveness  loudness  \\\n",
       "spotify:track:7y8aVfDkqt6qirGNivvs0M          0.000059    0.3220    -5.747   \n",
       "spotify:track:32TXsOUIWtTQDkE72Cvafe          0.196000    0.6420    -6.059   \n",
       "spotify:track:0BjOgTLP0kLC88XqMoyrv8          0.243000    0.2160    -8.734   \n",
       "spotify:track:5zfg3qZOcjS4IFhazNk9PW          0.024000    0.0596    -6.010   \n",
       "spotify:track:3MZ0Obyv6AnO1anmGBJydv          0.719000    0.0723   -10.608   \n",
       "\n",
       "                                      speechiness    tempo  valence  \\\n",
       "spotify:track:7y8aVfDkqt6qirGNivvs0M       0.0407  117.004    0.870   \n",
       "spotify:track:32TXsOUIWtTQDkE72Cvafe       0.0781  120.751    0.629   \n",
       "spotify:track:0BjOgTLP0kLC88XqMoyrv8       0.0995  120.004    0.582   \n",
       "spotify:track:5zfg3qZOcjS4IFhazNk9PW       0.0725  126.073    0.456   \n",
       "spotify:track:3MZ0Obyv6AnO1anmGBJydv       0.5160  161.707    0.527   \n",
       "\n",
       "                                      popularity artist_name  \\\n",
       "spotify:track:7y8aVfDkqt6qirGNivvs0M          51         !!!   \n",
       "spotify:track:32TXsOUIWtTQDkE72Cvafe          41         !!!   \n",
       "spotify:track:0BjOgTLP0kLC88XqMoyrv8          39         !!!   \n",
       "spotify:track:5zfg3qZOcjS4IFhazNk9PW          38         !!!   \n",
       "spotify:track:3MZ0Obyv6AnO1anmGBJydv          40     !llmind   \n",
       "\n",
       "                                                    track_name   pid  \n",
       "spotify:track:7y8aVfDkqt6qirGNivvs0M        One Girl / One Boy  3785  \n",
       "spotify:track:32TXsOUIWtTQDkE72Cvafe         Pardon My Freedom  2997  \n",
       "spotify:track:0BjOgTLP0kLC88XqMoyrv8                      Slyd  2871  \n",
       "spotify:track:5zfg3qZOcjS4IFhazNk9PW                    Yadnus  1633  \n",
       "spotify:track:3MZ0Obyv6AnO1anmGBJydv  Take A Break - Interlude  3162  "
      ]
     },
     "execution_count": 9,
     "metadata": {},
     "output_type": "execute_result"
    }
   ],
   "source": [
    "merged.info() # 93132 all non-null values. No Missing values.\n",
    "merged.sort_values(['artist_name','track_name'],inplace=True)\n",
    "merged.head()"
   ]
  },
  {
   "cell_type": "markdown",
   "metadata": {},
   "source": [
    "## EDA"
   ]
  },
  {
   "cell_type": "code",
   "execution_count": 10,
   "metadata": {},
   "outputs": [
    {
     "data": {
      "text/plain": [
       "<matplotlib.axes._subplots.AxesSubplot at 0x1c1b8bc6d8>"
      ]
     },
     "execution_count": 10,
     "metadata": {},
     "output_type": "execute_result"
    },
    {
     "data": {
      "image/png": "[encoded data removed]",
      "text/plain": [
       "<Figure size 720x720 with 6 Axes>"
      ]
     },
     "metadata": {},
     "output_type": "display_data"
    }
   ],
   "source": [
    "f, axes = plt.subplots(2, 3,figsize=(10, 10), sharex=True)\n",
    "sns.kdeplot(merged.acousticness, shade=True, color='red', ax=axes[0, 0])\n",
    "sns.kdeplot(merged.instrumentalness, shade=True, color=\"pink\", ax=axes[0, 1])\n",
    "sns.kdeplot(merged.liveness, shade=True, color='purple', ax=axes[0, 2])\n",
    "sns.kdeplot(merged.danceability, shade=True, color=\"blue\", ax=axes[1, 0])\n",
    "sns.kdeplot(merged.energy, shade=True, color=\"green\", ax=axes[1, 1])\n",
    "sns.kdeplot(merged.valence, shade=True, color='yellow', ax=axes[1, 2])\n",
    "# Seem like distributions of acousticness, instrumentalness and liveness similar to each other.\n",
    "# Each distribution contains lots of 0 values with low standard deviation; however, distributions of other except liveness,\n",
    "# have a dip at each mean. This dip might represents that it has lots of mins and max values/ can be understood that classical and modern music.\n",
    "# Danceability is normally distributed.\n",
    "# Tracks with high valence sound more positive (e.g. happy, cheerful, euphoric), \n",
    "# while tracks with low valence sound more negative (e.g. sad, depressed, angry)."
   ]
  },
  {
   "cell_type": "code",
   "execution_count": 11,
   "metadata": {},
   "outputs": [
    {
     "data": {
      "text/plain": [
       "<matplotlib.axes._subplots.AxesSubplot at 0x1c29d90b00>"
      ]
     },
     "execution_count": 11,
     "metadata": {},
     "output_type": "execute_result"
    },
    {
     "data": {
      "image/png": "[encoded data removed]",
      "text/plain": [
       "<Figure size 432x288 with 1 Axes>"
      ]
     },
     "metadata": {},
     "output_type": "display_data"
    }
   ],
   "source": [
    "#sns.kdeplot(merged.loudness, shade=True, color='yellow')\n",
    "sns.kdeplot(merged.popularity.divide(max(merged.popularity)), shade=True)"
   ]
  },
  {
   "cell_type": "markdown",
   "metadata": {},
   "source": [
    "# Data Cleaning"
   ]
  },
  {
   "cell_type": "code",
   "execution_count": 19,
   "metadata": {},
   "outputs": [],
   "source": [
    "merged.describe()\n",
    "# When you look at loudness, the minimum is -60 db, which people cannot hear well. We can treat them as an outlier.\n",
    "# There are some outliers in this data.\n",
    "merged.drop(columns='pid',inplace=True)"
   ]
  },
  {
   "cell_type": "code",
   "execution_count": 20,
   "metadata": {},
   "outputs": [
    {
     "data": {
      "text/html": [
       "<div>\n",
       "<style scoped>\n",
       "    .dataframe tbody tr th:only-of-type {\n",
       "        vertical-align: middle;\n",
       "    }\n",
       "\n",
       "    .dataframe tbody tr th {\n",
       "        vertical-align: top;\n",
       "    }\n",
       "\n",
       "    .dataframe thead th {\n",
       "        text-align: right;\n",
       "    }\n",
       "</style>\n",
       "<table border=\"1\" class=\"dataframe\">\n",
       "  <thead>\n",
       "    <tr style=\"text-align: right;\">\n",
       "      <th></th>\n",
       "      <th>acousticness</th>\n",
       "      <th>danceability</th>\n",
       "      <th>energy</th>\n",
       "      <th>instrumentalness</th>\n",
       "      <th>liveness</th>\n",
       "      <th>loudness</th>\n",
       "      <th>speechiness</th>\n",
       "      <th>tempo</th>\n",
       "      <th>valence</th>\n",
       "      <th>popularity</th>\n",
       "    </tr>\n",
       "  </thead>\n",
       "  <tbody>\n",
       "    <tr>\n",
       "      <th>count</th>\n",
       "      <td>93123.000000</td>\n",
       "      <td>93123.000000</td>\n",
       "      <td>93123.000000</td>\n",
       "      <td>93123.000000</td>\n",
       "      <td>93123.000000</td>\n",
       "      <td>93123.000000</td>\n",
       "      <td>93123.000000</td>\n",
       "      <td>93123.000000</td>\n",
       "      <td>93123.000000</td>\n",
       "      <td>93123.000000</td>\n",
       "    </tr>\n",
       "    <tr>\n",
       "      <th>mean</th>\n",
       "      <td>0.273708</td>\n",
       "      <td>0.576649</td>\n",
       "      <td>0.632417</td>\n",
       "      <td>0.103783</td>\n",
       "      <td>0.200467</td>\n",
       "      <td>-7.868350</td>\n",
       "      <td>0.088602</td>\n",
       "      <td>121.527841</td>\n",
       "      <td>0.478919</td>\n",
       "      <td>29.579277</td>\n",
       "    </tr>\n",
       "    <tr>\n",
       "      <th>std</th>\n",
       "      <td>0.308152</td>\n",
       "      <td>0.167859</td>\n",
       "      <td>0.232854</td>\n",
       "      <td>0.252932</td>\n",
       "      <td>0.173219</td>\n",
       "      <td>4.270365</td>\n",
       "      <td>0.100403</td>\n",
       "      <td>29.234429</td>\n",
       "      <td>0.250129</td>\n",
       "      <td>20.237134</td>\n",
       "    </tr>\n",
       "    <tr>\n",
       "      <th>min</th>\n",
       "      <td>0.000000</td>\n",
       "      <td>0.000000</td>\n",
       "      <td>0.000000</td>\n",
       "      <td>0.000000</td>\n",
       "      <td>0.000000</td>\n",
       "      <td>-44.150000</td>\n",
       "      <td>0.000000</td>\n",
       "      <td>0.000000</td>\n",
       "      <td>0.000000</td>\n",
       "      <td>0.000000</td>\n",
       "    </tr>\n",
       "    <tr>\n",
       "      <th>25%</th>\n",
       "      <td>0.018900</td>\n",
       "      <td>0.467000</td>\n",
       "      <td>0.478000</td>\n",
       "      <td>0.000000</td>\n",
       "      <td>0.096200</td>\n",
       "      <td>-9.494000</td>\n",
       "      <td>0.034800</td>\n",
       "      <td>98.887000</td>\n",
       "      <td>0.276000</td>\n",
       "      <td>11.000000</td>\n",
       "    </tr>\n",
       "    <tr>\n",
       "      <th>50%</th>\n",
       "      <td>0.131000</td>\n",
       "      <td>0.586000</td>\n",
       "      <td>0.668000</td>\n",
       "      <td>0.000018</td>\n",
       "      <td>0.128000</td>\n",
       "      <td>-6.849000</td>\n",
       "      <td>0.047900</td>\n",
       "      <td>120.840000</td>\n",
       "      <td>0.467000</td>\n",
       "      <td>31.000000</td>\n",
       "    </tr>\n",
       "    <tr>\n",
       "      <th>75%</th>\n",
       "      <td>0.477000</td>\n",
       "      <td>0.699000</td>\n",
       "      <td>0.821000</td>\n",
       "      <td>0.008180</td>\n",
       "      <td>0.255000</td>\n",
       "      <td>-5.063500</td>\n",
       "      <td>0.090900</td>\n",
       "      <td>139.978000</td>\n",
       "      <td>0.676000</td>\n",
       "      <td>45.000000</td>\n",
       "    </tr>\n",
       "    <tr>\n",
       "      <th>max</th>\n",
       "      <td>0.996000</td>\n",
       "      <td>0.991000</td>\n",
       "      <td>1.000000</td>\n",
       "      <td>0.999000</td>\n",
       "      <td>1.000000</td>\n",
       "      <td>2.766000</td>\n",
       "      <td>0.965000</td>\n",
       "      <td>232.690000</td>\n",
       "      <td>1.000000</td>\n",
       "      <td>87.000000</td>\n",
       "    </tr>\n",
       "  </tbody>\n",
       "</table>\n",
       "</div>"
      ],
      "text/plain": [
       "       acousticness  danceability        energy  instrumentalness  \\\n",
       "count  93123.000000  93123.000000  93123.000000      93123.000000   \n",
       "mean       0.273708      0.576649      0.632417          0.103783   \n",
       "std        0.308152      0.167859      0.232854          0.252932   \n",
       "min        0.000000      0.000000      0.000000          0.000000   \n",
       "25%        0.018900      0.467000      0.478000          0.000000   \n",
       "50%        0.131000      0.586000      0.668000          0.000018   \n",
       "75%        0.477000      0.699000      0.821000          0.008180   \n",
       "max        0.996000      0.991000      1.000000          0.999000   \n",
       "\n",
       "           liveness      loudness   speechiness         tempo       valence  \\\n",
       "count  93123.000000  93123.000000  93123.000000  93123.000000  93123.000000   \n",
       "mean       0.200467     -7.868350      0.088602    121.527841      0.478919   \n",
       "std        0.173219      4.270365      0.100403     29.234429      0.250129   \n",
       "min        0.000000    -44.150000      0.000000      0.000000      0.000000   \n",
       "25%        0.096200     -9.494000      0.034800     98.887000      0.276000   \n",
       "50%        0.128000     -6.849000      0.047900    120.840000      0.467000   \n",
       "75%        0.255000     -5.063500      0.090900    139.978000      0.676000   \n",
       "max        1.000000      2.766000      0.965000    232.690000      1.000000   \n",
       "\n",
       "         popularity  \n",
       "count  93123.000000  \n",
       "mean      29.579277  \n",
       "std       20.237134  \n",
       "min        0.000000  \n",
       "25%       11.000000  \n",
       "50%       31.000000  \n",
       "75%       45.000000  \n",
       "max       87.000000  "
      ]
     },
     "execution_count": 20,
     "metadata": {},
     "output_type": "execute_result"
    }
   ],
   "source": [
    "merged[merged.loudness == -60]\n",
    "# Most of these data's values are minimum and can be trated as Missing Value.\n",
    "# Remove these missing values\n",
    "merged = merged[~(merged.loudness == min(merged.loudness))]\n",
    "merged.describe()"
   ]
  },
  {
   "cell_type": "code",
   "execution_count": 12,
   "metadata": {},
   "outputs": [
    {
     "name": "stdout",
     "output_type": "stream",
     "text": [
      "<class 'pandas.core.frame.DataFrame'>\n",
      "Index: 93124 entries, spotify:track:7y8aVfDkqt6qirGNivvs0M to spotify:track:078pWHDvTDkqasNoTsuv9p\n",
      "Data columns (total 13 columns):\n",
      "acousticness        93124 non-null float64\n",
      "danceability        93124 non-null float64\n",
      "energy              93124 non-null float64\n",
      "instrumentalness    93124 non-null float64\n",
      "liveness            93124 non-null float64\n",
      "loudness            93124 non-null float64\n",
      "speechiness         93124 non-null float64\n",
      "tempo               93124 non-null float64\n",
      "valence             93124 non-null float64\n",
      "popularity          93124 non-null int64\n",
      "artist_name         93124 non-null object\n",
      "track_name          93124 non-null object\n",
      "pid                 93124 non-null int64\n",
      "dtypes: float64(9), int64(2), object(2)\n",
      "memory usage: 9.9+ MB\n"
     ]
    }
   ],
   "source": [
    "merged.info()"
   ]
  },
  {
   "cell_type": "markdown",
   "metadata": {},
   "source": [
    "Also, we will like to only use popular songs to be recommended for users.\n",
    "Let's see how many songs have 0 popularity.\n",
    "Spotify's document says \"Generally speaking, songs that are being played a lot now will have a higher popularity than songs that were played a lot in the past.\" \n",
    "Users won't prefer listening non-popular song now.\n",
    "## So I am basically recommending today's trending songs to old users."
   ]
  },
  {
   "cell_type": "code",
   "execution_count": 13,
   "metadata": {},
   "outputs": [
    {
     "data": {
      "text/plain": [
       "11845"
      ]
     },
     "execution_count": 13,
     "metadata": {},
     "output_type": "execute_result"
    }
   ],
   "source": [
    "len(merged[merged.popularity == min(merged.popularity)])\n",
    "# 11845 songs are not listened by regular users."
   ]
  },
  {
   "cell_type": "code",
   "execution_count": 14,
   "metadata": {},
   "outputs": [
    {
     "name": "stdout",
     "output_type": "stream",
     "text": [
      "0.90    56.0\n",
      "0.91    57.0\n",
      "0.92    58.0\n",
      "0.93    59.0\n",
      "0.94    60.0\n",
      "0.95    61.0\n",
      "0.96    63.0\n",
      "0.97    65.0\n",
      "0.98    67.0\n",
      "0.99    71.0\n",
      "Name: popularity, dtype: float64\n"
     ]
    },
    {
     "data": {
      "text/plain": [
       "32952"
      ]
     },
     "execution_count": 14,
     "metadata": {},
     "output_type": "execute_result"
    }
   ],
   "source": [
    "print(merged.popularity.quantile(np.arange(.9,1,.01)))\n",
    "pop_threshold = 40 # Want to gather more data ,since our maximum of popularity is 87\n",
    "merged_popular = merged.query('popularity >= @pop_threshold')\n",
    "len(merged_popular)"
   ]
  },
  {
   "cell_type": "code",
   "execution_count": 15,
   "metadata": {},
   "outputs": [
    {
     "data": {
      "text/plain": [
       "<matplotlib.axes._subplots.AxesSubplot at 0x1c26ed04e0>"
      ]
     },
     "execution_count": 15,
     "metadata": {},
     "output_type": "execute_result"
    },
    {
     "data": {
      "image/png": "[encoded data removed]",
      "text/plain": [
       "<Figure size 432x288 with 1 Axes>"
      ]
     },
     "metadata": {},
     "output_type": "display_data"
    }
   ],
   "source": [
    "sns.boxplot(x=merged_popular.popularity, data=merged_popular)"
   ]
  },
  {
   "cell_type": "markdown",
   "metadata": {},
   "source": []
  },
  {
   "cell_type": "code",
   "execution_count": 16,
   "metadata": {},
   "outputs": [
    {
     "data": {
      "text/html": [
       "<div>\n",
       "<style scoped>\n",
       "    .dataframe tbody tr th:only-of-type {\n",
       "        vertical-align: middle;\n",
       "    }\n",
       "\n",
       "    .dataframe tbody tr th {\n",
       "        vertical-align: top;\n",
       "    }\n",
       "\n",
       "    .dataframe thead th {\n",
       "        text-align: right;\n",
       "    }\n",
       "</style>\n",
       "<table border=\"1\" class=\"dataframe\">\n",
       "  <thead>\n",
       "    <tr style=\"text-align: right;\">\n",
       "      <th></th>\n",
       "      <th>acousticness</th>\n",
       "      <th>danceability</th>\n",
       "      <th>energy</th>\n",
       "      <th>instrumentalness</th>\n",
       "      <th>liveness</th>\n",
       "      <th>loudness</th>\n",
       "      <th>speechiness</th>\n",
       "      <th>tempo</th>\n",
       "      <th>valence</th>\n",
       "      <th>popularity</th>\n",
       "      <th>artist_name</th>\n",
       "      <th>track_name</th>\n",
       "      <th>pid</th>\n",
       "    </tr>\n",
       "  </thead>\n",
       "  <tbody>\n",
       "    <tr>\n",
       "      <th>spotify:track:7y8aVfDkqt6qirGNivvs0M</th>\n",
       "      <td>0.00255</td>\n",
       "      <td>0.702</td>\n",
       "      <td>0.851</td>\n",
       "      <td>0.000059</td>\n",
       "      <td>0.3220</td>\n",
       "      <td>-5.747</td>\n",
       "      <td>0.0407</td>\n",
       "      <td>117.004</td>\n",
       "      <td>0.870</td>\n",
       "      <td>51</td>\n",
       "      <td>!!!</td>\n",
       "      <td>One Girl / One Boy</td>\n",
       "      <td>3785</td>\n",
       "    </tr>\n",
       "    <tr>\n",
       "      <th>spotify:track:32TXsOUIWtTQDkE72Cvafe</th>\n",
       "      <td>0.00232</td>\n",
       "      <td>0.711</td>\n",
       "      <td>0.893</td>\n",
       "      <td>0.196000</td>\n",
       "      <td>0.6420</td>\n",
       "      <td>-6.059</td>\n",
       "      <td>0.0781</td>\n",
       "      <td>120.751</td>\n",
       "      <td>0.629</td>\n",
       "      <td>41</td>\n",
       "      <td>!!!</td>\n",
       "      <td>Pardon My Freedom</td>\n",
       "      <td>2997</td>\n",
       "    </tr>\n",
       "    <tr>\n",
       "      <th>spotify:track:3MZ0Obyv6AnO1anmGBJydv</th>\n",
       "      <td>0.09200</td>\n",
       "      <td>0.805</td>\n",
       "      <td>0.414</td>\n",
       "      <td>0.719000</td>\n",
       "      <td>0.0723</td>\n",
       "      <td>-10.608</td>\n",
       "      <td>0.5160</td>\n",
       "      <td>161.707</td>\n",
       "      <td>0.527</td>\n",
       "      <td>40</td>\n",
       "      <td>!llmind</td>\n",
       "      <td>Take A Break - Interlude</td>\n",
       "      <td>3162</td>\n",
       "    </tr>\n",
       "    <tr>\n",
       "      <th>spotify:track:5r96TaQquRrlo3Ym3ZlSL2</th>\n",
       "      <td>0.10300</td>\n",
       "      <td>0.728</td>\n",
       "      <td>0.448</td>\n",
       "      <td>0.000000</td>\n",
       "      <td>0.2670</td>\n",
       "      <td>-10.540</td>\n",
       "      <td>0.1720</td>\n",
       "      <td>80.902</td>\n",
       "      <td>0.483</td>\n",
       "      <td>53</td>\n",
       "      <td>\"weird al\" yankovic</td>\n",
       "      <td>Amish Paradise (Parody of \"Gangsta's Paradise\"...</td>\n",
       "      <td>3910</td>\n",
       "    </tr>\n",
       "    <tr>\n",
       "      <th>spotify:track:1gloYGAZI6eHp6MEPjLuL3</th>\n",
       "      <td>0.00206</td>\n",
       "      <td>0.543</td>\n",
       "      <td>0.697</td>\n",
       "      <td>0.000002</td>\n",
       "      <td>0.3430</td>\n",
       "      <td>-9.211</td>\n",
       "      <td>0.0612</td>\n",
       "      <td>185.978</td>\n",
       "      <td>0.861</td>\n",
       "      <td>42</td>\n",
       "      <td>\"weird al\" yankovic</td>\n",
       "      <td>Canadian Idiot (Parody of \"American Idiot\" by ...</td>\n",
       "      <td>120</td>\n",
       "    </tr>\n",
       "  </tbody>\n",
       "</table>\n",
       "</div>"
      ],
      "text/plain": [
       "                                      acousticness  danceability  energy  \\\n",
       "spotify:track:7y8aVfDkqt6qirGNivvs0M       0.00255         0.702   0.851   \n",
       "spotify:track:32TXsOUIWtTQDkE72Cvafe       0.00232         0.711   0.893   \n",
       "spotify:track:3MZ0Obyv6AnO1anmGBJydv       0.09200         0.805   0.414   \n",
       "spotify:track:5r96TaQquRrlo3Ym3ZlSL2       0.10300         0.728   0.448   \n",
       "spotify:track:1gloYGAZI6eHp6MEPjLuL3       0.00206         0.543   0.697   \n",
       "\n",
       "                                      instrumentalness  liveness  loudness  \\\n",
       "spotify:track:7y8aVfDkqt6qirGNivvs0M          0.000059    0.3220    -5.747   \n",
       "spotify:track:32TXsOUIWtTQDkE72Cvafe          0.196000    0.6420    -6.059   \n",
       "spotify:track:3MZ0Obyv6AnO1anmGBJydv          0.719000    0.0723   -10.608   \n",
       "spotify:track:5r96TaQquRrlo3Ym3ZlSL2          0.000000    0.2670   -10.540   \n",
       "spotify:track:1gloYGAZI6eHp6MEPjLuL3          0.000002    0.3430    -9.211   \n",
       "\n",
       "                                      speechiness    tempo  valence  \\\n",
       "spotify:track:7y8aVfDkqt6qirGNivvs0M       0.0407  117.004    0.870   \n",
       "spotify:track:32TXsOUIWtTQDkE72Cvafe       0.0781  120.751    0.629   \n",
       "spotify:track:3MZ0Obyv6AnO1anmGBJydv       0.5160  161.707    0.527   \n",
       "spotify:track:5r96TaQquRrlo3Ym3ZlSL2       0.1720   80.902    0.483   \n",
       "spotify:track:1gloYGAZI6eHp6MEPjLuL3       0.0612  185.978    0.861   \n",
       "\n",
       "                                      popularity          artist_name  \\\n",
       "spotify:track:7y8aVfDkqt6qirGNivvs0M          51                  !!!   \n",
       "spotify:track:32TXsOUIWtTQDkE72Cvafe          41                  !!!   \n",
       "spotify:track:3MZ0Obyv6AnO1anmGBJydv          40              !llmind   \n",
       "spotify:track:5r96TaQquRrlo3Ym3ZlSL2          53  \"weird al\" yankovic   \n",
       "spotify:track:1gloYGAZI6eHp6MEPjLuL3          42  \"weird al\" yankovic   \n",
       "\n",
       "                                                                             track_name  \\\n",
       "spotify:track:7y8aVfDkqt6qirGNivvs0M                                 One Girl / One Boy   \n",
       "spotify:track:32TXsOUIWtTQDkE72Cvafe                                  Pardon My Freedom   \n",
       "spotify:track:3MZ0Obyv6AnO1anmGBJydv                           Take A Break - Interlude   \n",
       "spotify:track:5r96TaQquRrlo3Ym3ZlSL2  Amish Paradise (Parody of \"Gangsta's Paradise\"...   \n",
       "spotify:track:1gloYGAZI6eHp6MEPjLuL3  Canadian Idiot (Parody of \"American Idiot\" by ...   \n",
       "\n",
       "                                       pid  \n",
       "spotify:track:7y8aVfDkqt6qirGNivvs0M  3785  \n",
       "spotify:track:32TXsOUIWtTQDkE72Cvafe  2997  \n",
       "spotify:track:3MZ0Obyv6AnO1anmGBJydv  3162  \n",
       "spotify:track:5r96TaQquRrlo3Ym3ZlSL2  3910  \n",
       "spotify:track:1gloYGAZI6eHp6MEPjLuL3   120  "
      ]
     },
     "execution_count": 16,
     "metadata": {},
     "output_type": "execute_result"
    }
   ],
   "source": [
    "merged_popular.head()"
   ]
  },
  {
   "cell_type": "markdown",
   "metadata": {},
   "source": [
    "## Content Based Recommendation System by Audio Features"
   ]
  },
  {
   "cell_type": "markdown",
   "metadata": {},
   "source": [
    "$similarity = cos(\\ \\theta ) = \\ \\dfrac{\\ \\boldsymbol{u} \\ \\cdot \\ \\boldsymbol{v}}{\\ \\|{\\ \\boldsymbol{u}}\\ \\|\\ \\|{\\ \\boldsymbol{v}}\\ \\|}$\n",
    "This is basically same as normalized vector u times normalized vector v."
   ]
  },
  {
   "cell_type": "code",
   "execution_count": null,
   "metadata": {},
   "outputs": [],
   "source": []
  },
  {
   "cell_type": "code",
   "execution_count": 21,
   "metadata": {},
   "outputs": [
    {
     "data": {
      "text/plain": [
       "0    spotify:track:7y8aVfDkqt6qirGNivvs0M\n",
       "1    spotify:track:32TXsOUIWtTQDkE72Cvafe\n",
       "2    spotify:track:3MZ0Obyv6AnO1anmGBJydv\n",
       "3    spotify:track:5r96TaQquRrlo3Ym3ZlSL2\n",
       "4    spotify:track:1gloYGAZI6eHp6MEPjLuL3\n",
       "dtype: object"
      ]
     },
     "execution_count": 21,
     "metadata": {},
     "output_type": "execute_result"
    }
   ],
   "source": [
    "#merged_popular= merged_popular.drop('spotify:track:6YepaCG8cUabGz3lyCgCxv')\n",
    "features = ['acousticness', 'danceability', 'energy', 'instrumentalness', \n",
    "            'liveness', 'loudness','speechiness','tempo','valence']\n",
    "# Separating out the features\n",
    "x = merged_popular.loc[:, features]\n",
    "x = StandardScaler().fit_transform(x)\n",
    "\n",
    "sim = pd.DataFrame(cosine_similarity(x), index=merged_popular.index)\n",
    "sim.columns = merged_popular.index\n",
    "indices = pd.Series(merged_popular.index)\n",
    "indices[:5]"
   ]
  },
  {
   "cell_type": "code",
   "execution_count": 22,
   "metadata": {},
   "outputs": [
    {
     "data": {
      "text/html": [
       "<div>\n",
       "<style scoped>\n",
       "    .dataframe tbody tr th:only-of-type {\n",
       "        vertical-align: middle;\n",
       "    }\n",
       "\n",
       "    .dataframe tbody tr th {\n",
       "        vertical-align: top;\n",
       "    }\n",
       "\n",
       "    .dataframe thead th {\n",
       "        text-align: right;\n",
       "    }\n",
       "</style>\n",
       "<table border=\"1\" class=\"dataframe\">\n",
       "  <thead>\n",
       "    <tr style=\"text-align: right;\">\n",
       "      <th></th>\n",
       "      <th>spotify:track:7y8aVfDkqt6qirGNivvs0M</th>\n",
       "      <th>spotify:track:32TXsOUIWtTQDkE72Cvafe</th>\n",
       "      <th>spotify:track:3MZ0Obyv6AnO1anmGBJydv</th>\n",
       "      <th>spotify:track:5r96TaQquRrlo3Ym3ZlSL2</th>\n",
       "      <th>spotify:track:1gloYGAZI6eHp6MEPjLuL3</th>\n",
       "      <th>spotify:track:2Q26sym8OSOl6PfH7LLPtJ</th>\n",
       "      <th>spotify:track:74sUbOF9Zm8LdGUJjxleTl</th>\n",
       "      <th>spotify:track:60R2v9lheAu3lwZwAFxMZK</th>\n",
       "      <th>spotify:track:4qbWToFOFOmFrBVClOidKn</th>\n",
       "      <th>spotify:track:7ahhev2IIbivmkRqLjm7g3</th>\n",
       "      <th>...</th>\n",
       "      <th>spotify:track:194uD6fRM58ztn7Z1Mfyr2</th>\n",
       "      <th>spotify:track:2qq5HTgeJTLL9oY7b4X16y</th>\n",
       "      <th>spotify:track:6J5mJPOs8EGCyjljxeLYx5</th>\n",
       "      <th>spotify:track:70jK4YYMql3lJFBUK6l8QT</th>\n",
       "      <th>spotify:track:6BuGA3ontF6D4jluQ0DHZY</th>\n",
       "      <th>spotify:track:5XfHNrdomVBNxUI0iRztic</th>\n",
       "      <th>spotify:track:5oOYmBhKeMtweW5EwwZhVg</th>\n",
       "      <th>spotify:track:1yeMCWXg3gdbQcIsXwnTiO</th>\n",
       "      <th>spotify:track:0dT2JHN6fGZnwhNxTcDJRk</th>\n",
       "      <th>spotify:track:6YepaCG8cUabGz3lyCgCxv</th>\n",
       "    </tr>\n",
       "  </thead>\n",
       "  <tbody>\n",
       "    <tr>\n",
       "      <th>spotify:track:7y8aVfDkqt6qirGNivvs0M</th>\n",
       "      <td>1.000000</td>\n",
       "      <td>0.836905</td>\n",
       "      <td>0.362250</td>\n",
       "      <td>0.492136</td>\n",
       "      <td>0.738715</td>\n",
       "      <td>0.783576</td>\n",
       "      <td>0.312570</td>\n",
       "      <td>0.704688</td>\n",
       "      <td>0.254312</td>\n",
       "      <td>0.395002</td>\n",
       "      <td>...</td>\n",
       "      <td>0.240525</td>\n",
       "      <td>0.700079</td>\n",
       "      <td>0.587486</td>\n",
       "      <td>0.175145</td>\n",
       "      <td>0.379578</td>\n",
       "      <td>0.834269</td>\n",
       "      <td>0.942049</td>\n",
       "      <td>0.788789</td>\n",
       "      <td>0.585406</td>\n",
       "      <td>0.180126</td>\n",
       "    </tr>\n",
       "    <tr>\n",
       "      <th>spotify:track:32TXsOUIWtTQDkE72Cvafe</th>\n",
       "      <td>0.836905</td>\n",
       "      <td>1.000000</td>\n",
       "      <td>0.490749</td>\n",
       "      <td>0.538665</td>\n",
       "      <td>0.682906</td>\n",
       "      <td>0.759654</td>\n",
       "      <td>0.319757</td>\n",
       "      <td>0.465849</td>\n",
       "      <td>0.285849</td>\n",
       "      <td>0.235925</td>\n",
       "      <td>...</td>\n",
       "      <td>0.219436</td>\n",
       "      <td>0.500692</td>\n",
       "      <td>0.521127</td>\n",
       "      <td>0.373146</td>\n",
       "      <td>0.640106</td>\n",
       "      <td>0.511442</td>\n",
       "      <td>0.844804</td>\n",
       "      <td>0.525665</td>\n",
       "      <td>0.478739</td>\n",
       "      <td>0.250496</td>\n",
       "    </tr>\n",
       "    <tr>\n",
       "      <th>spotify:track:3MZ0Obyv6AnO1anmGBJydv</th>\n",
       "      <td>0.362250</td>\n",
       "      <td>0.490749</td>\n",
       "      <td>1.000000</td>\n",
       "      <td>0.619315</td>\n",
       "      <td>0.510802</td>\n",
       "      <td>0.460363</td>\n",
       "      <td>0.402927</td>\n",
       "      <td>0.599227</td>\n",
       "      <td>0.493930</td>\n",
       "      <td>0.253876</td>\n",
       "      <td>...</td>\n",
       "      <td>0.498646</td>\n",
       "      <td>0.682951</td>\n",
       "      <td>0.698045</td>\n",
       "      <td>0.698377</td>\n",
       "      <td>0.737207</td>\n",
       "      <td>0.463594</td>\n",
       "      <td>0.410863</td>\n",
       "      <td>0.322758</td>\n",
       "      <td>0.436593</td>\n",
       "      <td>0.492909</td>\n",
       "    </tr>\n",
       "    <tr>\n",
       "      <th>spotify:track:5r96TaQquRrlo3Ym3ZlSL2</th>\n",
       "      <td>0.492136</td>\n",
       "      <td>0.538665</td>\n",
       "      <td>0.619315</td>\n",
       "      <td>1.000000</td>\n",
       "      <td>0.331344</td>\n",
       "      <td>0.600916</td>\n",
       "      <td>0.405685</td>\n",
       "      <td>0.585449</td>\n",
       "      <td>0.176991</td>\n",
       "      <td>0.436495</td>\n",
       "      <td>...</td>\n",
       "      <td>0.291022</td>\n",
       "      <td>0.394653</td>\n",
       "      <td>0.282489</td>\n",
       "      <td>0.529756</td>\n",
       "      <td>0.574430</td>\n",
       "      <td>0.487810</td>\n",
       "      <td>0.575064</td>\n",
       "      <td>0.553333</td>\n",
       "      <td>0.151020</td>\n",
       "      <td>0.629760</td>\n",
       "    </tr>\n",
       "    <tr>\n",
       "      <th>spotify:track:1gloYGAZI6eHp6MEPjLuL3</th>\n",
       "      <td>0.738715</td>\n",
       "      <td>0.682906</td>\n",
       "      <td>0.510802</td>\n",
       "      <td>0.331344</td>\n",
       "      <td>1.000000</td>\n",
       "      <td>0.745554</td>\n",
       "      <td>0.695594</td>\n",
       "      <td>0.757495</td>\n",
       "      <td>0.698610</td>\n",
       "      <td>0.143345</td>\n",
       "      <td>...</td>\n",
       "      <td>0.621134</td>\n",
       "      <td>0.767972</td>\n",
       "      <td>0.782463</td>\n",
       "      <td>0.355662</td>\n",
       "      <td>0.382835</td>\n",
       "      <td>0.634430</td>\n",
       "      <td>0.770528</td>\n",
       "      <td>0.352641</td>\n",
       "      <td>0.847329</td>\n",
       "      <td>0.303749</td>\n",
       "    </tr>\n",
       "  </tbody>\n",
       "</table>\n",
       "<p>5 rows × 32952 columns</p>\n",
       "</div>"
      ],
      "text/plain": [
       "                                      spotify:track:7y8aVfDkqt6qirGNivvs0M  \\\n",
       "spotify:track:7y8aVfDkqt6qirGNivvs0M                              1.000000   \n",
       "spotify:track:32TXsOUIWtTQDkE72Cvafe                              0.836905   \n",
       "spotify:track:3MZ0Obyv6AnO1anmGBJydv                              0.362250   \n",
       "spotify:track:5r96TaQquRrlo3Ym3ZlSL2                              0.492136   \n",
       "spotify:track:1gloYGAZI6eHp6MEPjLuL3                              0.738715   \n",
       "\n",
       "                                      spotify:track:32TXsOUIWtTQDkE72Cvafe  \\\n",
       "spotify:track:7y8aVfDkqt6qirGNivvs0M                              0.836905   \n",
       "spotify:track:32TXsOUIWtTQDkE72Cvafe                              1.000000   \n",
       "spotify:track:3MZ0Obyv6AnO1anmGBJydv                              0.490749   \n",
       "spotify:track:5r96TaQquRrlo3Ym3ZlSL2                              0.538665   \n",
       "spotify:track:1gloYGAZI6eHp6MEPjLuL3                              0.682906   \n",
       "\n",
       "                                      spotify:track:3MZ0Obyv6AnO1anmGBJydv  \\\n",
       "spotify:track:7y8aVfDkqt6qirGNivvs0M                              0.362250   \n",
       "spotify:track:32TXsOUIWtTQDkE72Cvafe                              0.490749   \n",
       "spotify:track:3MZ0Obyv6AnO1anmGBJydv                              1.000000   \n",
       "spotify:track:5r96TaQquRrlo3Ym3ZlSL2                              0.619315   \n",
       "spotify:track:1gloYGAZI6eHp6MEPjLuL3                              0.510802   \n",
       "\n",
       "                                      spotify:track:5r96TaQquRrlo3Ym3ZlSL2  \\\n",
       "spotify:track:7y8aVfDkqt6qirGNivvs0M                              0.492136   \n",
       "spotify:track:32TXsOUIWtTQDkE72Cvafe                              0.538665   \n",
       "spotify:track:3MZ0Obyv6AnO1anmGBJydv                              0.619315   \n",
       "spotify:track:5r96TaQquRrlo3Ym3ZlSL2                              1.000000   \n",
       "spotify:track:1gloYGAZI6eHp6MEPjLuL3                              0.331344   \n",
       "\n",
       "                                      spotify:track:1gloYGAZI6eHp6MEPjLuL3  \\\n",
       "spotify:track:7y8aVfDkqt6qirGNivvs0M                              0.738715   \n",
       "spotify:track:32TXsOUIWtTQDkE72Cvafe                              0.682906   \n",
       "spotify:track:3MZ0Obyv6AnO1anmGBJydv                              0.510802   \n",
       "spotify:track:5r96TaQquRrlo3Ym3ZlSL2                              0.331344   \n",
       "spotify:track:1gloYGAZI6eHp6MEPjLuL3                              1.000000   \n",
       "\n",
       "                                      spotify:track:2Q26sym8OSOl6PfH7LLPtJ  \\\n",
       "spotify:track:7y8aVfDkqt6qirGNivvs0M                              0.783576   \n",
       "spotify:track:32TXsOUIWtTQDkE72Cvafe                              0.759654   \n",
       "spotify:track:3MZ0Obyv6AnO1anmGBJydv                              0.460363   \n",
       "spotify:track:5r96TaQquRrlo3Ym3ZlSL2                              0.600916   \n",
       "spotify:track:1gloYGAZI6eHp6MEPjLuL3                              0.745554   \n",
       "\n",
       "                                      spotify:track:74sUbOF9Zm8LdGUJjxleTl  \\\n",
       "spotify:track:7y8aVfDkqt6qirGNivvs0M                              0.312570   \n",
       "spotify:track:32TXsOUIWtTQDkE72Cvafe                              0.319757   \n",
       "spotify:track:3MZ0Obyv6AnO1anmGBJydv                              0.402927   \n",
       "spotify:track:5r96TaQquRrlo3Ym3ZlSL2                              0.405685   \n",
       "spotify:track:1gloYGAZI6eHp6MEPjLuL3                              0.695594   \n",
       "\n",
       "                                      spotify:track:60R2v9lheAu3lwZwAFxMZK  \\\n",
       "spotify:track:7y8aVfDkqt6qirGNivvs0M                              0.704688   \n",
       "spotify:track:32TXsOUIWtTQDkE72Cvafe                              0.465849   \n",
       "spotify:track:3MZ0Obyv6AnO1anmGBJydv                              0.599227   \n",
       "spotify:track:5r96TaQquRrlo3Ym3ZlSL2                              0.585449   \n",
       "spotify:track:1gloYGAZI6eHp6MEPjLuL3                              0.757495   \n",
       "\n",
       "                                      spotify:track:4qbWToFOFOmFrBVClOidKn  \\\n",
       "spotify:track:7y8aVfDkqt6qirGNivvs0M                              0.254312   \n",
       "spotify:track:32TXsOUIWtTQDkE72Cvafe                              0.285849   \n",
       "spotify:track:3MZ0Obyv6AnO1anmGBJydv                              0.493930   \n",
       "spotify:track:5r96TaQquRrlo3Ym3ZlSL2                              0.176991   \n",
       "spotify:track:1gloYGAZI6eHp6MEPjLuL3                              0.698610   \n",
       "\n",
       "                                      spotify:track:7ahhev2IIbivmkRqLjm7g3  \\\n",
       "spotify:track:7y8aVfDkqt6qirGNivvs0M                              0.395002   \n",
       "spotify:track:32TXsOUIWtTQDkE72Cvafe                              0.235925   \n",
       "spotify:track:3MZ0Obyv6AnO1anmGBJydv                              0.253876   \n",
       "spotify:track:5r96TaQquRrlo3Ym3ZlSL2                              0.436495   \n",
       "spotify:track:1gloYGAZI6eHp6MEPjLuL3                              0.143345   \n",
       "\n",
       "                                                      ...                   \\\n",
       "spotify:track:7y8aVfDkqt6qirGNivvs0M                  ...                    \n",
       "spotify:track:32TXsOUIWtTQDkE72Cvafe                  ...                    \n",
       "spotify:track:3MZ0Obyv6AnO1anmGBJydv                  ...                    \n",
       "spotify:track:5r96TaQquRrlo3Ym3ZlSL2                  ...                    \n",
       "spotify:track:1gloYGAZI6eHp6MEPjLuL3                  ...                    \n",
       "\n",
       "                                      spotify:track:194uD6fRM58ztn7Z1Mfyr2  \\\n",
       "spotify:track:7y8aVfDkqt6qirGNivvs0M                              0.240525   \n",
       "spotify:track:32TXsOUIWtTQDkE72Cvafe                              0.219436   \n",
       "spotify:track:3MZ0Obyv6AnO1anmGBJydv                              0.498646   \n",
       "spotify:track:5r96TaQquRrlo3Ym3ZlSL2                              0.291022   \n",
       "spotify:track:1gloYGAZI6eHp6MEPjLuL3                              0.621134   \n",
       "\n",
       "                                      spotify:track:2qq5HTgeJTLL9oY7b4X16y  \\\n",
       "spotify:track:7y8aVfDkqt6qirGNivvs0M                              0.700079   \n",
       "spotify:track:32TXsOUIWtTQDkE72Cvafe                              0.500692   \n",
       "spotify:track:3MZ0Obyv6AnO1anmGBJydv                              0.682951   \n",
       "spotify:track:5r96TaQquRrlo3Ym3ZlSL2                              0.394653   \n",
       "spotify:track:1gloYGAZI6eHp6MEPjLuL3                              0.767972   \n",
       "\n",
       "                                      spotify:track:6J5mJPOs8EGCyjljxeLYx5  \\\n",
       "spotify:track:7y8aVfDkqt6qirGNivvs0M                              0.587486   \n",
       "spotify:track:32TXsOUIWtTQDkE72Cvafe                              0.521127   \n",
       "spotify:track:3MZ0Obyv6AnO1anmGBJydv                              0.698045   \n",
       "spotify:track:5r96TaQquRrlo3Ym3ZlSL2                              0.282489   \n",
       "spotify:track:1gloYGAZI6eHp6MEPjLuL3                              0.782463   \n",
       "\n",
       "                                      spotify:track:70jK4YYMql3lJFBUK6l8QT  \\\n",
       "spotify:track:7y8aVfDkqt6qirGNivvs0M                              0.175145   \n",
       "spotify:track:32TXsOUIWtTQDkE72Cvafe                              0.373146   \n",
       "spotify:track:3MZ0Obyv6AnO1anmGBJydv                              0.698377   \n",
       "spotify:track:5r96TaQquRrlo3Ym3ZlSL2                              0.529756   \n",
       "spotify:track:1gloYGAZI6eHp6MEPjLuL3                              0.355662   \n",
       "\n",
       "                                      spotify:track:6BuGA3ontF6D4jluQ0DHZY  \\\n",
       "spotify:track:7y8aVfDkqt6qirGNivvs0M                              0.379578   \n",
       "spotify:track:32TXsOUIWtTQDkE72Cvafe                              0.640106   \n",
       "spotify:track:3MZ0Obyv6AnO1anmGBJydv                              0.737207   \n",
       "spotify:track:5r96TaQquRrlo3Ym3ZlSL2                              0.574430   \n",
       "spotify:track:1gloYGAZI6eHp6MEPjLuL3                              0.382835   \n",
       "\n",
       "                                      spotify:track:5XfHNrdomVBNxUI0iRztic  \\\n",
       "spotify:track:7y8aVfDkqt6qirGNivvs0M                              0.834269   \n",
       "spotify:track:32TXsOUIWtTQDkE72Cvafe                              0.511442   \n",
       "spotify:track:3MZ0Obyv6AnO1anmGBJydv                              0.463594   \n",
       "spotify:track:5r96TaQquRrlo3Ym3ZlSL2                              0.487810   \n",
       "spotify:track:1gloYGAZI6eHp6MEPjLuL3                              0.634430   \n",
       "\n",
       "                                      spotify:track:5oOYmBhKeMtweW5EwwZhVg  \\\n",
       "spotify:track:7y8aVfDkqt6qirGNivvs0M                              0.942049   \n",
       "spotify:track:32TXsOUIWtTQDkE72Cvafe                              0.844804   \n",
       "spotify:track:3MZ0Obyv6AnO1anmGBJydv                              0.410863   \n",
       "spotify:track:5r96TaQquRrlo3Ym3ZlSL2                              0.575064   \n",
       "spotify:track:1gloYGAZI6eHp6MEPjLuL3                              0.770528   \n",
       "\n",
       "                                      spotify:track:1yeMCWXg3gdbQcIsXwnTiO  \\\n",
       "spotify:track:7y8aVfDkqt6qirGNivvs0M                              0.788789   \n",
       "spotify:track:32TXsOUIWtTQDkE72Cvafe                              0.525665   \n",
       "spotify:track:3MZ0Obyv6AnO1anmGBJydv                              0.322758   \n",
       "spotify:track:5r96TaQquRrlo3Ym3ZlSL2                              0.553333   \n",
       "spotify:track:1gloYGAZI6eHp6MEPjLuL3                              0.352641   \n",
       "\n",
       "                                      spotify:track:0dT2JHN6fGZnwhNxTcDJRk  \\\n",
       "spotify:track:7y8aVfDkqt6qirGNivvs0M                              0.585406   \n",
       "spotify:track:32TXsOUIWtTQDkE72Cvafe                              0.478739   \n",
       "spotify:track:3MZ0Obyv6AnO1anmGBJydv                              0.436593   \n",
       "spotify:track:5r96TaQquRrlo3Ym3ZlSL2                              0.151020   \n",
       "spotify:track:1gloYGAZI6eHp6MEPjLuL3                              0.847329   \n",
       "\n",
       "                                      spotify:track:6YepaCG8cUabGz3lyCgCxv  \n",
       "spotify:track:7y8aVfDkqt6qirGNivvs0M                              0.180126  \n",
       "spotify:track:32TXsOUIWtTQDkE72Cvafe                              0.250496  \n",
       "spotify:track:3MZ0Obyv6AnO1anmGBJydv                              0.492909  \n",
       "spotify:track:5r96TaQquRrlo3Ym3ZlSL2                              0.629760  \n",
       "spotify:track:1gloYGAZI6eHp6MEPjLuL3                              0.303749  \n",
       "\n",
       "[5 rows x 32952 columns]"
      ]
     },
     "execution_count": 22,
     "metadata": {},
     "output_type": "execute_result"
    }
   ],
   "source": [
    "sim = (sim + 1) / 2\n",
    "sim.head()"
   ]
  },
  {
   "cell_type": "code",
   "execution_count": 23,
   "metadata": {},
   "outputs": [
    {
     "data": {
      "text/html": [
       "<div>\n",
       "<style scoped>\n",
       "    .dataframe tbody tr th:only-of-type {\n",
       "        vertical-align: middle;\n",
       "    }\n",
       "\n",
       "    .dataframe tbody tr th {\n",
       "        vertical-align: top;\n",
       "    }\n",
       "\n",
       "    .dataframe thead th {\n",
       "        text-align: right;\n",
       "    }\n",
       "</style>\n",
       "<table border=\"1\" class=\"dataframe\">\n",
       "  <thead>\n",
       "    <tr style=\"text-align: right;\">\n",
       "      <th></th>\n",
       "      <th>item_id</th>\n",
       "      <th>similarity_score</th>\n",
       "    </tr>\n",
       "  </thead>\n",
       "  <tbody>\n",
       "    <tr>\n",
       "      <th>0</th>\n",
       "      <td>spotify:track:0tgVpDi06FyKpA1z0VMD4v</td>\n",
       "      <td>1.000000</td>\n",
       "    </tr>\n",
       "    <tr>\n",
       "      <th>1</th>\n",
       "      <td>spotify:track:6h0hBlyQGZeR8mb6SpX2us</td>\n",
       "      <td>0.985965</td>\n",
       "    </tr>\n",
       "    <tr>\n",
       "      <th>2</th>\n",
       "      <td>spotify:track:3DkaXDmC0qaFNAxgLMuwX4</td>\n",
       "      <td>0.981521</td>\n",
       "    </tr>\n",
       "    <tr>\n",
       "      <th>3</th>\n",
       "      <td>spotify:track:5P3yUXUC9rZPJPNmYGKEAz</td>\n",
       "      <td>0.980976</td>\n",
       "    </tr>\n",
       "    <tr>\n",
       "      <th>4</th>\n",
       "      <td>spotify:track:6J0xeqjdpsUH0W1YBCmD1L</td>\n",
       "      <td>0.979802</td>\n",
       "    </tr>\n",
       "    <tr>\n",
       "      <th>5</th>\n",
       "      <td>spotify:track:0tkBOcK7oRVXQJY97zzSvr</td>\n",
       "      <td>0.979772</td>\n",
       "    </tr>\n",
       "    <tr>\n",
       "      <th>6</th>\n",
       "      <td>spotify:track:44XXnLW9z7YZXSHIUVj4cO</td>\n",
       "      <td>0.978736</td>\n",
       "    </tr>\n",
       "    <tr>\n",
       "      <th>7</th>\n",
       "      <td>spotify:track:4aXAuEMP6QP3f2vYjrrXle</td>\n",
       "      <td>0.977824</td>\n",
       "    </tr>\n",
       "    <tr>\n",
       "      <th>8</th>\n",
       "      <td>spotify:track:66QtMlymqBC5O1F3fh5wTZ</td>\n",
       "      <td>0.975659</td>\n",
       "    </tr>\n",
       "    <tr>\n",
       "      <th>9</th>\n",
       "      <td>spotify:track:6rjtB7KSIiJ6v9vrACMlqF</td>\n",
       "      <td>0.973101</td>\n",
       "    </tr>\n",
       "  </tbody>\n",
       "</table>\n",
       "</div>"
      ],
      "text/plain": [
       "                                item_id  similarity_score\n",
       "0  spotify:track:0tgVpDi06FyKpA1z0VMD4v          1.000000\n",
       "1  spotify:track:6h0hBlyQGZeR8mb6SpX2us          0.985965\n",
       "2  spotify:track:3DkaXDmC0qaFNAxgLMuwX4          0.981521\n",
       "3  spotify:track:5P3yUXUC9rZPJPNmYGKEAz          0.980976\n",
       "4  spotify:track:6J0xeqjdpsUH0W1YBCmD1L          0.979802\n",
       "5  spotify:track:0tkBOcK7oRVXQJY97zzSvr          0.979772\n",
       "6  spotify:track:44XXnLW9z7YZXSHIUVj4cO          0.978736\n",
       "7  spotify:track:4aXAuEMP6QP3f2vYjrrXle          0.977824\n",
       "8  spotify:track:66QtMlymqBC5O1F3fh5wTZ          0.975659\n",
       "9  spotify:track:6rjtB7KSIiJ6v9vrACMlqF          0.973101"
      ]
     },
     "execution_count": 23,
     "metadata": {},
     "output_type": "execute_result"
    }
   ],
   "source": [
    "similar_items = pd.DataFrame(sim.loc['spotify:track:0tgVpDi06FyKpA1z0VMD4v'])\n",
    "similar_items.columns = [\"similarity_score\"]\n",
    "similar_items = similar_items.sort_values('similarity_score', ascending=False)\n",
    "similar_items = similar_items.head(10)\n",
    "similar_items.reset_index(inplace=True)\n",
    "similar_items = similar_items.rename(index=str, columns={\"index\": \"item_id\"},)\n",
    "similar_items"
   ]
  },
  {
   "cell_type": "code",
   "execution_count": 26,
   "metadata": {},
   "outputs": [
    {
     "data": {
      "text/html": [
       "<div>\n",
       "<style scoped>\n",
       "    .dataframe tbody tr th:only-of-type {\n",
       "        vertical-align: middle;\n",
       "    }\n",
       "\n",
       "    .dataframe tbody tr th {\n",
       "        vertical-align: top;\n",
       "    }\n",
       "\n",
       "    .dataframe thead th {\n",
       "        text-align: right;\n",
       "    }\n",
       "</style>\n",
       "<table border=\"1\" class=\"dataframe\">\n",
       "  <thead>\n",
       "    <tr style=\"text-align: right;\">\n",
       "      <th></th>\n",
       "      <th>acousticness</th>\n",
       "      <th>danceability</th>\n",
       "      <th>energy</th>\n",
       "      <th>instrumentalness</th>\n",
       "      <th>liveness</th>\n",
       "      <th>loudness</th>\n",
       "      <th>speechiness</th>\n",
       "      <th>tempo</th>\n",
       "      <th>valence</th>\n",
       "      <th>popularity</th>\n",
       "      <th>artist_name</th>\n",
       "      <th>track_name</th>\n",
       "      <th>pid</th>\n",
       "    </tr>\n",
       "  </thead>\n",
       "  <tbody>\n",
       "    <tr>\n",
       "      <th>spotify:track:0tgVpDi06FyKpA1z0VMD4v</th>\n",
       "      <td>0.1630</td>\n",
       "      <td>0.599</td>\n",
       "      <td>0.448</td>\n",
       "      <td>0.000000</td>\n",
       "      <td>0.1060</td>\n",
       "      <td>-6.312</td>\n",
       "      <td>0.0232</td>\n",
       "      <td>95.050</td>\n",
       "      <td>0.168</td>\n",
       "      <td>87</td>\n",
       "      <td>ed sheeran</td>\n",
       "      <td>Perfect</td>\n",
       "      <td>3263</td>\n",
       "    </tr>\n",
       "    <tr>\n",
       "      <th>spotify:track:6h0hBlyQGZeR8mb6SpX2us</th>\n",
       "      <td>0.1770</td>\n",
       "      <td>0.636</td>\n",
       "      <td>0.445</td>\n",
       "      <td>0.000004</td>\n",
       "      <td>0.0718</td>\n",
       "      <td>-7.377</td>\n",
       "      <td>0.0285</td>\n",
       "      <td>85.989</td>\n",
       "      <td>0.188</td>\n",
       "      <td>43</td>\n",
       "      <td>lucy rose</td>\n",
       "      <td>Nebraska - Radio Edit</td>\n",
       "      <td>3863</td>\n",
       "    </tr>\n",
       "    <tr>\n",
       "      <th>spotify:track:3DkaXDmC0qaFNAxgLMuwX4</th>\n",
       "      <td>0.1900</td>\n",
       "      <td>0.564</td>\n",
       "      <td>0.555</td>\n",
       "      <td>0.000000</td>\n",
       "      <td>0.0870</td>\n",
       "      <td>-6.611</td>\n",
       "      <td>0.0345</td>\n",
       "      <td>101.884</td>\n",
       "      <td>0.196</td>\n",
       "      <td>49</td>\n",
       "      <td>musiq soulchild</td>\n",
       "      <td>Dontchange - Album Version (Edited)</td>\n",
       "      <td>2081</td>\n",
       "    </tr>\n",
       "    <tr>\n",
       "      <th>spotify:track:5P3yUXUC9rZPJPNmYGKEAz</th>\n",
       "      <td>0.1940</td>\n",
       "      <td>0.565</td>\n",
       "      <td>0.437</td>\n",
       "      <td>0.000007</td>\n",
       "      <td>0.0656</td>\n",
       "      <td>-7.680</td>\n",
       "      <td>0.0403</td>\n",
       "      <td>96.132</td>\n",
       "      <td>0.217</td>\n",
       "      <td>67</td>\n",
       "      <td>twenty one pilots</td>\n",
       "      <td>Goner</td>\n",
       "      <td>3038</td>\n",
       "    </tr>\n",
       "    <tr>\n",
       "      <th>spotify:track:6J0xeqjdpsUH0W1YBCmD1L</th>\n",
       "      <td>0.1600</td>\n",
       "      <td>0.557</td>\n",
       "      <td>0.532</td>\n",
       "      <td>0.000004</td>\n",
       "      <td>0.0999</td>\n",
       "      <td>-6.467</td>\n",
       "      <td>0.0307</td>\n",
       "      <td>103.992</td>\n",
       "      <td>0.122</td>\n",
       "      <td>60</td>\n",
       "      <td>you me at six</td>\n",
       "      <td>Take on the World</td>\n",
       "      <td>1214</td>\n",
       "    </tr>\n",
       "    <tr>\n",
       "      <th>spotify:track:0tkBOcK7oRVXQJY97zzSvr</th>\n",
       "      <td>0.2730</td>\n",
       "      <td>0.588</td>\n",
       "      <td>0.481</td>\n",
       "      <td>0.000013</td>\n",
       "      <td>0.0986</td>\n",
       "      <td>-4.801</td>\n",
       "      <td>0.0285</td>\n",
       "      <td>93.568</td>\n",
       "      <td>0.176</td>\n",
       "      <td>57</td>\n",
       "      <td>cage the elephant</td>\n",
       "      <td>Telescope</td>\n",
       "      <td>3044</td>\n",
       "    </tr>\n",
       "    <tr>\n",
       "      <th>spotify:track:44XXnLW9z7YZXSHIUVj4cO</th>\n",
       "      <td>0.0748</td>\n",
       "      <td>0.652</td>\n",
       "      <td>0.377</td>\n",
       "      <td>0.000001</td>\n",
       "      <td>0.1090</td>\n",
       "      <td>-7.021</td>\n",
       "      <td>0.0236</td>\n",
       "      <td>103.004</td>\n",
       "      <td>0.168</td>\n",
       "      <td>40</td>\n",
       "      <td>meg myers</td>\n",
       "      <td>Monster</td>\n",
       "      <td>1563</td>\n",
       "    </tr>\n",
       "    <tr>\n",
       "      <th>spotify:track:4aXAuEMP6QP3f2vYjrrXle</th>\n",
       "      <td>0.2040</td>\n",
       "      <td>0.603</td>\n",
       "      <td>0.557</td>\n",
       "      <td>0.000564</td>\n",
       "      <td>0.0998</td>\n",
       "      <td>-6.863</td>\n",
       "      <td>0.0659</td>\n",
       "      <td>99.845</td>\n",
       "      <td>0.301</td>\n",
       "      <td>41</td>\n",
       "      <td>honne</td>\n",
       "      <td>It Ain't Wrong Loving You</td>\n",
       "      <td>1014</td>\n",
       "    </tr>\n",
       "    <tr>\n",
       "      <th>spotify:track:66QtMlymqBC5O1F3fh5wTZ</th>\n",
       "      <td>0.2040</td>\n",
       "      <td>0.581</td>\n",
       "      <td>0.487</td>\n",
       "      <td>0.000000</td>\n",
       "      <td>0.1260</td>\n",
       "      <td>-6.653</td>\n",
       "      <td>0.0354</td>\n",
       "      <td>112.925</td>\n",
       "      <td>0.327</td>\n",
       "      <td>48</td>\n",
       "      <td>k. michelle</td>\n",
       "      <td>Cry</td>\n",
       "      <td>3173</td>\n",
       "    </tr>\n",
       "    <tr>\n",
       "      <th>spotify:track:6rjtB7KSIiJ6v9vrACMlqF</th>\n",
       "      <td>0.0830</td>\n",
       "      <td>0.623</td>\n",
       "      <td>0.480</td>\n",
       "      <td>0.002000</td>\n",
       "      <td>0.1240</td>\n",
       "      <td>-8.372</td>\n",
       "      <td>0.0278</td>\n",
       "      <td>92.007</td>\n",
       "      <td>0.181</td>\n",
       "      <td>59</td>\n",
       "      <td>lorde</td>\n",
       "      <td>400 Lux</td>\n",
       "      <td>3061</td>\n",
       "    </tr>\n",
       "  </tbody>\n",
       "</table>\n",
       "</div>"
      ],
      "text/plain": [
       "                                      acousticness  danceability  energy  \\\n",
       "spotify:track:0tgVpDi06FyKpA1z0VMD4v        0.1630         0.599   0.448   \n",
       "spotify:track:6h0hBlyQGZeR8mb6SpX2us        0.1770         0.636   0.445   \n",
       "spotify:track:3DkaXDmC0qaFNAxgLMuwX4        0.1900         0.564   0.555   \n",
       "spotify:track:5P3yUXUC9rZPJPNmYGKEAz        0.1940         0.565   0.437   \n",
       "spotify:track:6J0xeqjdpsUH0W1YBCmD1L        0.1600         0.557   0.532   \n",
       "spotify:track:0tkBOcK7oRVXQJY97zzSvr        0.2730         0.588   0.481   \n",
       "spotify:track:44XXnLW9z7YZXSHIUVj4cO        0.0748         0.652   0.377   \n",
       "spotify:track:4aXAuEMP6QP3f2vYjrrXle        0.2040         0.603   0.557   \n",
       "spotify:track:66QtMlymqBC5O1F3fh5wTZ        0.2040         0.581   0.487   \n",
       "spotify:track:6rjtB7KSIiJ6v9vrACMlqF        0.0830         0.623   0.480   \n",
       "\n",
       "                                      instrumentalness  liveness  loudness  \\\n",
       "spotify:track:0tgVpDi06FyKpA1z0VMD4v          0.000000    0.1060    -6.312   \n",
       "spotify:track:6h0hBlyQGZeR8mb6SpX2us          0.000004    0.0718    -7.377   \n",
       "spotify:track:3DkaXDmC0qaFNAxgLMuwX4          0.000000    0.0870    -6.611   \n",
       "spotify:track:5P3yUXUC9rZPJPNmYGKEAz          0.000007    0.0656    -7.680   \n",
       "spotify:track:6J0xeqjdpsUH0W1YBCmD1L          0.000004    0.0999    -6.467   \n",
       "spotify:track:0tkBOcK7oRVXQJY97zzSvr          0.000013    0.0986    -4.801   \n",
       "spotify:track:44XXnLW9z7YZXSHIUVj4cO          0.000001    0.1090    -7.021   \n",
       "spotify:track:4aXAuEMP6QP3f2vYjrrXle          0.000564    0.0998    -6.863   \n",
       "spotify:track:66QtMlymqBC5O1F3fh5wTZ          0.000000    0.1260    -6.653   \n",
       "spotify:track:6rjtB7KSIiJ6v9vrACMlqF          0.002000    0.1240    -8.372   \n",
       "\n",
       "                                      speechiness    tempo  valence  \\\n",
       "spotify:track:0tgVpDi06FyKpA1z0VMD4v       0.0232   95.050    0.168   \n",
       "spotify:track:6h0hBlyQGZeR8mb6SpX2us       0.0285   85.989    0.188   \n",
       "spotify:track:3DkaXDmC0qaFNAxgLMuwX4       0.0345  101.884    0.196   \n",
       "spotify:track:5P3yUXUC9rZPJPNmYGKEAz       0.0403   96.132    0.217   \n",
       "spotify:track:6J0xeqjdpsUH0W1YBCmD1L       0.0307  103.992    0.122   \n",
       "spotify:track:0tkBOcK7oRVXQJY97zzSvr       0.0285   93.568    0.176   \n",
       "spotify:track:44XXnLW9z7YZXSHIUVj4cO       0.0236  103.004    0.168   \n",
       "spotify:track:4aXAuEMP6QP3f2vYjrrXle       0.0659   99.845    0.301   \n",
       "spotify:track:66QtMlymqBC5O1F3fh5wTZ       0.0354  112.925    0.327   \n",
       "spotify:track:6rjtB7KSIiJ6v9vrACMlqF       0.0278   92.007    0.181   \n",
       "\n",
       "                                      popularity        artist_name  \\\n",
       "spotify:track:0tgVpDi06FyKpA1z0VMD4v          87         ed sheeran   \n",
       "spotify:track:6h0hBlyQGZeR8mb6SpX2us          43          lucy rose   \n",
       "spotify:track:3DkaXDmC0qaFNAxgLMuwX4          49    musiq soulchild   \n",
       "spotify:track:5P3yUXUC9rZPJPNmYGKEAz          67  twenty one pilots   \n",
       "spotify:track:6J0xeqjdpsUH0W1YBCmD1L          60      you me at six   \n",
       "spotify:track:0tkBOcK7oRVXQJY97zzSvr          57  cage the elephant   \n",
       "spotify:track:44XXnLW9z7YZXSHIUVj4cO          40          meg myers   \n",
       "spotify:track:4aXAuEMP6QP3f2vYjrrXle          41              honne   \n",
       "spotify:track:66QtMlymqBC5O1F3fh5wTZ          48        k. michelle   \n",
       "spotify:track:6rjtB7KSIiJ6v9vrACMlqF          59              lorde   \n",
       "\n",
       "                                                               track_name  \\\n",
       "spotify:track:0tgVpDi06FyKpA1z0VMD4v                              Perfect   \n",
       "spotify:track:6h0hBlyQGZeR8mb6SpX2us                Nebraska - Radio Edit   \n",
       "spotify:track:3DkaXDmC0qaFNAxgLMuwX4  Dontchange - Album Version (Edited)   \n",
       "spotify:track:5P3yUXUC9rZPJPNmYGKEAz                                Goner   \n",
       "spotify:track:6J0xeqjdpsUH0W1YBCmD1L                    Take on the World   \n",
       "spotify:track:0tkBOcK7oRVXQJY97zzSvr                            Telescope   \n",
       "spotify:track:44XXnLW9z7YZXSHIUVj4cO                              Monster   \n",
       "spotify:track:4aXAuEMP6QP3f2vYjrrXle            It Ain't Wrong Loving You   \n",
       "spotify:track:66QtMlymqBC5O1F3fh5wTZ                                  Cry   \n",
       "spotify:track:6rjtB7KSIiJ6v9vrACMlqF                              400 Lux   \n",
       "\n",
       "                                       pid  \n",
       "spotify:track:0tgVpDi06FyKpA1z0VMD4v  3263  \n",
       "spotify:track:6h0hBlyQGZeR8mb6SpX2us  3863  \n",
       "spotify:track:3DkaXDmC0qaFNAxgLMuwX4  2081  \n",
       "spotify:track:5P3yUXUC9rZPJPNmYGKEAz  3038  \n",
       "spotify:track:6J0xeqjdpsUH0W1YBCmD1L  1214  \n",
       "spotify:track:0tkBOcK7oRVXQJY97zzSvr  3044  \n",
       "spotify:track:44XXnLW9z7YZXSHIUVj4cO  1563  \n",
       "spotify:track:4aXAuEMP6QP3f2vYjrrXle  1014  \n",
       "spotify:track:66QtMlymqBC5O1F3fh5wTZ  3173  \n",
       "spotify:track:6rjtB7KSIiJ6v9vrACMlqF  3061  "
      ]
     },
     "execution_count": 26,
     "metadata": {},
     "output_type": "execute_result"
    }
   ],
   "source": [
    "merged_popular.loc[similar_items['item_id']]"
   ]
  },
  {
   "cell_type": "code",
   "execution_count": 39,
   "metadata": {},
   "outputs": [
    {
     "data": {
      "text/html": [
       "<div>\n",
       "<style scoped>\n",
       "    .dataframe tbody tr th:only-of-type {\n",
       "        vertical-align: middle;\n",
       "    }\n",
       "\n",
       "    .dataframe tbody tr th {\n",
       "        vertical-align: top;\n",
       "    }\n",
       "\n",
       "    .dataframe thead th {\n",
       "        text-align: right;\n",
       "    }\n",
       "</style>\n",
       "<table border=\"1\" class=\"dataframe\">\n",
       "  <thead>\n",
       "    <tr style=\"text-align: right;\">\n",
       "      <th></th>\n",
       "      <th>acousticness</th>\n",
       "      <th>danceability</th>\n",
       "      <th>energy</th>\n",
       "      <th>instrumentalness</th>\n",
       "      <th>liveness</th>\n",
       "      <th>loudness</th>\n",
       "      <th>speechiness</th>\n",
       "      <th>tempo</th>\n",
       "      <th>valence</th>\n",
       "      <th>popularity</th>\n",
       "      <th>pid</th>\n",
       "    </tr>\n",
       "  </thead>\n",
       "  <tbody>\n",
       "    <tr>\n",
       "      <th>count</th>\n",
       "      <td>72.000000</td>\n",
       "      <td>72.000000</td>\n",
       "      <td>72.000000</td>\n",
       "      <td>72.000000</td>\n",
       "      <td>72.000000</td>\n",
       "      <td>72.000000</td>\n",
       "      <td>72.000000</td>\n",
       "      <td>72.000000</td>\n",
       "      <td>72.000000</td>\n",
       "      <td>72.000000</td>\n",
       "      <td>72.000000</td>\n",
       "    </tr>\n",
       "    <tr>\n",
       "      <th>mean</th>\n",
       "      <td>0.477004</td>\n",
       "      <td>0.651000</td>\n",
       "      <td>0.501275</td>\n",
       "      <td>0.002354</td>\n",
       "      <td>0.158906</td>\n",
       "      <td>-7.899500</td>\n",
       "      <td>0.073707</td>\n",
       "      <td>107.476222</td>\n",
       "      <td>0.507458</td>\n",
       "      <td>59.166667</td>\n",
       "      <td>2840.263889</td>\n",
       "    </tr>\n",
       "    <tr>\n",
       "      <th>std</th>\n",
       "      <td>0.297700</td>\n",
       "      <td>0.114124</td>\n",
       "      <td>0.233514</td>\n",
       "      <td>0.017447</td>\n",
       "      <td>0.129263</td>\n",
       "      <td>3.565837</td>\n",
       "      <td>0.071692</td>\n",
       "      <td>21.546462</td>\n",
       "      <td>0.246275</td>\n",
       "      <td>12.540638</td>\n",
       "      <td>930.228565</td>\n",
       "    </tr>\n",
       "    <tr>\n",
       "      <th>min</th>\n",
       "      <td>0.005740</td>\n",
       "      <td>0.422000</td>\n",
       "      <td>0.054900</td>\n",
       "      <td>0.000000</td>\n",
       "      <td>0.024800</td>\n",
       "      <td>-20.514000</td>\n",
       "      <td>0.023200</td>\n",
       "      <td>74.130000</td>\n",
       "      <td>0.110000</td>\n",
       "      <td>40.000000</td>\n",
       "      <td>167.000000</td>\n",
       "    </tr>\n",
       "    <tr>\n",
       "      <th>25%</th>\n",
       "      <td>0.166750</td>\n",
       "      <td>0.569500</td>\n",
       "      <td>0.319750</td>\n",
       "      <td>0.000000</td>\n",
       "      <td>0.092525</td>\n",
       "      <td>-10.484250</td>\n",
       "      <td>0.036250</td>\n",
       "      <td>93.380000</td>\n",
       "      <td>0.321750</td>\n",
       "      <td>49.000000</td>\n",
       "      <td>2652.500000</td>\n",
       "    </tr>\n",
       "    <tr>\n",
       "      <th>50%</th>\n",
       "      <td>0.532500</td>\n",
       "      <td>0.632000</td>\n",
       "      <td>0.446500</td>\n",
       "      <td>0.000000</td>\n",
       "      <td>0.125000</td>\n",
       "      <td>-7.143000</td>\n",
       "      <td>0.044450</td>\n",
       "      <td>102.001000</td>\n",
       "      <td>0.459500</td>\n",
       "      <td>58.000000</td>\n",
       "      <td>3105.500000</td>\n",
       "    </tr>\n",
       "    <tr>\n",
       "      <th>75%</th>\n",
       "      <td>0.716000</td>\n",
       "      <td>0.740000</td>\n",
       "      <td>0.682000</td>\n",
       "      <td>0.000006</td>\n",
       "      <td>0.158250</td>\n",
       "      <td>-5.528250</td>\n",
       "      <td>0.082650</td>\n",
       "      <td>119.976750</td>\n",
       "      <td>0.731500</td>\n",
       "      <td>70.000000</td>\n",
       "      <td>3413.000000</td>\n",
       "    </tr>\n",
       "    <tr>\n",
       "      <th>max</th>\n",
       "      <td>0.950000</td>\n",
       "      <td>0.843000</td>\n",
       "      <td>0.948000</td>\n",
       "      <td>0.148000</td>\n",
       "      <td>0.696000</td>\n",
       "      <td>-1.397000</td>\n",
       "      <td>0.406000</td>\n",
       "      <td>159.917000</td>\n",
       "      <td>0.939000</td>\n",
       "      <td>87.000000</td>\n",
       "      <td>3929.000000</td>\n",
       "    </tr>\n",
       "  </tbody>\n",
       "</table>\n",
       "</div>"
      ],
      "text/plain": [
       "       acousticness  danceability     energy  instrumentalness   liveness  \\\n",
       "count     72.000000     72.000000  72.000000         72.000000  72.000000   \n",
       "mean       0.477004      0.651000   0.501275          0.002354   0.158906   \n",
       "std        0.297700      0.114124   0.233514          0.017447   0.129263   \n",
       "min        0.005740      0.422000   0.054900          0.000000   0.024800   \n",
       "25%        0.166750      0.569500   0.319750          0.000000   0.092525   \n",
       "50%        0.532500      0.632000   0.446500          0.000000   0.125000   \n",
       "75%        0.716000      0.740000   0.682000          0.000006   0.158250   \n",
       "max        0.950000      0.843000   0.948000          0.148000   0.696000   \n",
       "\n",
       "        loudness  speechiness       tempo    valence  popularity          pid  \n",
       "count  72.000000    72.000000   72.000000  72.000000   72.000000    72.000000  \n",
       "mean   -7.899500     0.073707  107.476222   0.507458   59.166667  2840.263889  \n",
       "std     3.565837     0.071692   21.546462   0.246275   12.540638   930.228565  \n",
       "min   -20.514000     0.023200   74.130000   0.110000   40.000000   167.000000  \n",
       "25%   -10.484250     0.036250   93.380000   0.321750   49.000000  2652.500000  \n",
       "50%    -7.143000     0.044450  102.001000   0.459500   58.000000  3105.500000  \n",
       "75%    -5.528250     0.082650  119.976750   0.731500   70.000000  3413.000000  \n",
       "max    -1.397000     0.406000  159.917000   0.939000   87.000000  3929.000000  "
      ]
     },
     "execution_count": 39,
     "metadata": {},
     "output_type": "execute_result"
    }
   ],
   "source": [
    "merged_popular[merged_popular.artist_name == 'ed sheeran'].describe()"
   ]
  },
  {
   "cell_type": "code",
   "execution_count": 32,
   "metadata": {},
   "outputs": [
    {
     "data": {
      "text/html": [
       "<div>\n",
       "<style scoped>\n",
       "    .dataframe tbody tr th:only-of-type {\n",
       "        vertical-align: middle;\n",
       "    }\n",
       "\n",
       "    .dataframe tbody tr th {\n",
       "        vertical-align: top;\n",
       "    }\n",
       "\n",
       "    .dataframe thead th {\n",
       "        text-align: right;\n",
       "    }\n",
       "</style>\n",
       "<table border=\"1\" class=\"dataframe\">\n",
       "  <thead>\n",
       "    <tr style=\"text-align: right;\">\n",
       "      <th></th>\n",
       "      <th>artist_name</th>\n",
       "      <th>acousticness</th>\n",
       "      <th>danceability</th>\n",
       "      <th>energy</th>\n",
       "      <th>instrumentalness</th>\n",
       "      <th>liveness</th>\n",
       "      <th>loudness</th>\n",
       "      <th>speechiness</th>\n",
       "      <th>tempo</th>\n",
       "      <th>valence</th>\n",
       "      <th>popularity</th>\n",
       "      <th>pid</th>\n",
       "    </tr>\n",
       "  </thead>\n",
       "  <tbody>\n",
       "    <tr>\n",
       "      <th>2087</th>\n",
       "      <td>ed sheeran</td>\n",
       "      <td>0.477004</td>\n",
       "      <td>0.651</td>\n",
       "      <td>0.501275</td>\n",
       "      <td>0.002354</td>\n",
       "      <td>0.158906</td>\n",
       "      <td>-7.8995</td>\n",
       "      <td>0.073707</td>\n",
       "      <td>107.476222</td>\n",
       "      <td>0.507458</td>\n",
       "      <td>59.166667</td>\n",
       "      <td>2840.263889</td>\n",
       "    </tr>\n",
       "  </tbody>\n",
       "</table>\n",
       "</div>"
      ],
      "text/plain": [
       "     artist_name  acousticness  danceability    energy  instrumentalness  \\\n",
       "2087  ed sheeran      0.477004         0.651  0.501275          0.002354   \n",
       "\n",
       "      liveness  loudness  speechiness       tempo   valence  popularity  \\\n",
       "2087  0.158906   -7.8995     0.073707  107.476222  0.507458   59.166667   \n",
       "\n",
       "              pid  \n",
       "2087  2840.263889  "
      ]
     },
     "execution_count": 32,
     "metadata": {},
     "output_type": "execute_result"
    }
   ],
   "source": [
    "artists_features = merged_popular.groupby('artist_name')[merged_popular.columns].mean().reset_index()\n",
    "artists_features[artists_features['artist_name'] == 'ed sheeran']"
   ]
  },
  {
   "cell_type": "code",
   "execution_count": 69,
   "metadata": {},
   "outputs": [],
   "source": [
    "# query_index = np.random.choice(merged_popular.index)\n",
    "# distances, indices = model_knn.kneighbors(x.loc[query_index].values.reshape(-1,1), n_neighbors = 6)\n",
    "\n",
    "# for i in range(0, len(distances.flatten())):\n",
    "#     if i == 0:\n",
    "#         print ('Recommendations for {0}:\\n'.format(x.index[query_index]))\n",
    "#     else:\n",
    "#         print ('{0}: {1}, with distance of {2}:'.format(i, x.index[indices.flatten()[i]], distances.flatten()[i]))"
   ]
  },
  {
   "cell_type": "code",
   "execution_count": 37,
   "metadata": {},
   "outputs": [],
   "source": [
    "def get_track_index(track_name):\n",
    "    return merged_popular[merged_popular.track_name == track_name].index.values[0]\n",
    "\n",
    "def get_track_name(track_index):\n",
    "    return merged_popular.loc[track_index].track_name"
   ]
  },
  {
   "cell_type": "code",
   "execution_count": 63,
   "metadata": {},
   "outputs": [],
   "source": [
    "def content_recommendations(track_name, cosine_sim = sim.values):\n",
    "    \n",
    "    recommended_songs = []\n",
    "    spotify_id = get_track_index(track_name)\n",
    "    # gettin the index of the movie that matches the title\n",
    "    idx = indices[indices == spotify_id].index[0]\n",
    "\n",
    "    # creating a Series with the similarity scores in descending order\n",
    "    score_series = pd.Series(cosine_sim[idx]).sort_values(ascending = False)\n",
    "\n",
    "    # getting the indexes of the 10 most similar movies\n",
    "    top_5_indexes = list(score_series.iloc[1:6].index)\n",
    "\n",
    "    # populating the list with the titles of the best 10 matching movies\n",
    "    for i in top_5_indexes:\n",
    "        recommended_songs.append(list(merged_popular.index)[i])\n",
    "    \n",
    "    return merged_popular.loc[recommended_songs][['track_name','artist_name']]"
   ]
  },
  {
   "cell_type": "code",
   "execution_count": 64,
   "metadata": {},
   "outputs": [
    {
     "data": {
      "text/html": [
       "<div>\n",
       "<style scoped>\n",
       "    .dataframe tbody tr th:only-of-type {\n",
       "        vertical-align: middle;\n",
       "    }\n",
       "\n",
       "    .dataframe tbody tr th {\n",
       "        vertical-align: top;\n",
       "    }\n",
       "\n",
       "    .dataframe thead th {\n",
       "        text-align: right;\n",
       "    }\n",
       "</style>\n",
       "<table border=\"1\" class=\"dataframe\">\n",
       "  <thead>\n",
       "    <tr style=\"text-align: right;\">\n",
       "      <th></th>\n",
       "      <th>track_name</th>\n",
       "      <th>artist_name</th>\n",
       "    </tr>\n",
       "  </thead>\n",
       "  <tbody>\n",
       "    <tr>\n",
       "      <th>spotify:track:6h0hBlyQGZeR8mb6SpX2us</th>\n",
       "      <td>Nebraska - Radio Edit</td>\n",
       "      <td>lucy rose</td>\n",
       "    </tr>\n",
       "    <tr>\n",
       "      <th>spotify:track:3DkaXDmC0qaFNAxgLMuwX4</th>\n",
       "      <td>Dontchange - Album Version (Edited)</td>\n",
       "      <td>musiq soulchild</td>\n",
       "    </tr>\n",
       "    <tr>\n",
       "      <th>spotify:track:5P3yUXUC9rZPJPNmYGKEAz</th>\n",
       "      <td>Goner</td>\n",
       "      <td>twenty one pilots</td>\n",
       "    </tr>\n",
       "    <tr>\n",
       "      <th>spotify:track:6J0xeqjdpsUH0W1YBCmD1L</th>\n",
       "      <td>Take on the World</td>\n",
       "      <td>you me at six</td>\n",
       "    </tr>\n",
       "    <tr>\n",
       "      <th>spotify:track:0tkBOcK7oRVXQJY97zzSvr</th>\n",
       "      <td>Telescope</td>\n",
       "      <td>cage the elephant</td>\n",
       "    </tr>\n",
       "  </tbody>\n",
       "</table>\n",
       "</div>"
      ],
      "text/plain": [
       "                                                               track_name  \\\n",
       "spotify:track:6h0hBlyQGZeR8mb6SpX2us                Nebraska - Radio Edit   \n",
       "spotify:track:3DkaXDmC0qaFNAxgLMuwX4  Dontchange - Album Version (Edited)   \n",
       "spotify:track:5P3yUXUC9rZPJPNmYGKEAz                                Goner   \n",
       "spotify:track:6J0xeqjdpsUH0W1YBCmD1L                    Take on the World   \n",
       "spotify:track:0tkBOcK7oRVXQJY97zzSvr                            Telescope   \n",
       "\n",
       "                                            artist_name  \n",
       "spotify:track:6h0hBlyQGZeR8mb6SpX2us          lucy rose  \n",
       "spotify:track:3DkaXDmC0qaFNAxgLMuwX4    musiq soulchild  \n",
       "spotify:track:5P3yUXUC9rZPJPNmYGKEAz  twenty one pilots  \n",
       "spotify:track:6J0xeqjdpsUH0W1YBCmD1L      you me at six  \n",
       "spotify:track:0tkBOcK7oRVXQJY97zzSvr  cage the elephant  "
      ]
     },
     "execution_count": 64,
     "metadata": {},
     "output_type": "execute_result"
    }
   ],
   "source": [
    "content_recommendations('Perfect')"
   ]
  },
  {
   "cell_type": "markdown",
   "metadata": {},
   "source": [
    "## Content Based Recommendation System by song's genres\n",
    "## Informational Retrieval (BM25, TF-Idf)"
   ]
  },
  {
   "cell_type": "code",
   "execution_count": 168,
   "metadata": {},
   "outputs": [
    {
     "data": {
      "text/html": [
       "<div>\n",
       "<style scoped>\n",
       "    .dataframe tbody tr th:only-of-type {\n",
       "        vertical-align: middle;\n",
       "    }\n",
       "\n",
       "    .dataframe tbody tr th {\n",
       "        vertical-align: top;\n",
       "    }\n",
       "\n",
       "    .dataframe thead th {\n",
       "        text-align: right;\n",
       "    }\n",
       "</style>\n",
       "<table border=\"1\" class=\"dataframe\">\n",
       "  <thead>\n",
       "    <tr style=\"text-align: right;\">\n",
       "      <th></th>\n",
       "      <th>genre</th>\n",
       "    </tr>\n",
       "    <tr>\n",
       "      <th>artist_name</th>\n",
       "      <th></th>\n",
       "    </tr>\n",
       "  </thead>\n",
       "  <tbody>\n",
       "    <tr>\n",
       "      <th>!!!</th>\n",
       "      <td>alternative dance dance-punk electronic filter...</td>\n",
       "    </tr>\n",
       "    <tr>\n",
       "      <th>\"Weird Al\" Yankovic</th>\n",
       "      <td>antiviral pop comedy rock comic</td>\n",
       "    </tr>\n",
       "    <tr>\n",
       "      <th>#1 Dads</th>\n",
       "      <td>australian indie</td>\n",
       "    </tr>\n",
       "    <tr>\n",
       "      <th>$teven Cannon</th>\n",
       "      <td>dark trap underground hip hop vapor trap</td>\n",
       "    </tr>\n",
       "    <tr>\n",
       "      <th>$uicideBoy$</th>\n",
       "      <td>dark trap new orleans rap underground hip hop</td>\n",
       "    </tr>\n",
       "  </tbody>\n",
       "</table>\n",
       "</div>"
      ],
      "text/plain": [
       "                                                                 genre\n",
       "artist_name                                                           \n",
       "!!!                  alternative dance dance-punk electronic filter...\n",
       "\"Weird Al\" Yankovic                    antiviral pop comedy rock comic\n",
       "#1 Dads                                               australian indie\n",
       "$teven Cannon                 dark trap underground hip hop vapor trap\n",
       "$uicideBoy$              dark trap new orleans rap underground hip hop"
      ]
     },
     "execution_count": 168,
     "metadata": {},
     "output_type": "execute_result"
    }
   ],
   "source": [
    "bag_of_genres.head()"
   ]
  },
  {
   "cell_type": "code",
   "execution_count": 130,
   "metadata": {},
   "outputs": [],
   "source": [
    "v = TfidfVectorizer()\n",
    "x = v.fit_transform(bag_of_genres['genre'])"
   ]
  },
  {
   "cell_type": "code",
   "execution_count": 165,
   "metadata": {},
   "outputs": [
    {
     "data": {
      "text/html": [
       "<div>\n",
       "<style scoped>\n",
       "    .dataframe tbody tr th:only-of-type {\n",
       "        vertical-align: middle;\n",
       "    }\n",
       "\n",
       "    .dataframe tbody tr th {\n",
       "        vertical-align: top;\n",
       "    }\n",
       "\n",
       "    .dataframe thead th {\n",
       "        text-align: right;\n",
       "    }\n",
       "</style>\n",
       "<table border=\"1\" class=\"dataframe\">\n",
       "  <thead>\n",
       "    <tr style=\"text-align: right;\">\n",
       "      <th></th>\n",
       "      <th>genre</th>\n",
       "    </tr>\n",
       "    <tr>\n",
       "      <th>artist_name</th>\n",
       "      <th></th>\n",
       "    </tr>\n",
       "  </thead>\n",
       "  <tbody>\n",
       "    <tr>\n",
       "      <th>Alvin &amp; The Chipmunks</th>\n",
       "      <td>children's music</td>\n",
       "    </tr>\n",
       "    <tr>\n",
       "      <th>Bryant Oden</th>\n",
       "      <td>children's music</td>\n",
       "    </tr>\n",
       "    <tr>\n",
       "      <th>Chicago Children's Choir</th>\n",
       "      <td>american choir children's choir</td>\n",
       "    </tr>\n",
       "    <tr>\n",
       "      <th>Hampton The Hampster</th>\n",
       "      <td>children's music</td>\n",
       "    </tr>\n",
       "    <tr>\n",
       "      <th>Hushabye Baby</th>\n",
       "      <td>children's music lullaby</td>\n",
       "    </tr>\n",
       "  </tbody>\n",
       "</table>\n",
       "</div>"
      ],
      "text/plain": [
       "                                                    genre\n",
       "artist_name                                              \n",
       "Alvin & The Chipmunks                    children's music\n",
       "Bryant Oden                              children's music\n",
       "Chicago Children's Choir  american choir children's choir\n",
       "Hampton The Hampster                     children's music\n",
       "Hushabye Baby                    children's music lullaby"
      ]
     },
     "execution_count": 165,
     "metadata": {},
     "output_type": "execute_result"
    }
   ],
   "source": [
    "bag_of_genres[bag_of_genres.genre.str.contains('children')].head()"
   ]
  },
  {
   "cell_type": "code",
   "execution_count": 142,
   "metadata": {},
   "outputs": [
    {
     "name": "stdout",
     "output_type": "stream",
     "text": [
      "(16412, 1269)\n"
     ]
    }
   ],
   "source": [
    "print(x.shape) # 16412 Artists with 1269 different genres\n"
   ]
  },
  {
   "cell_type": "code",
   "execution_count": 157,
   "metadata": {},
   "outputs": [],
   "source": [
    "from sklearn.metrics.pairwise import linear_kernel\n",
    "\n",
    "# Compute the cosine similarity matrix\n",
    "cosine_sim = linear_kernel(x, x)\n"
   ]
  },
  {
   "cell_type": "code",
   "execution_count": 188,
   "metadata": {},
   "outputs": [
    {
     "data": {
      "text/plain": [
       "array([[1.        , 0.18257419, 0.28867513, ..., 0.        , 0.40824829,\n",
       "        0.        ],\n",
       "       [0.18257419, 1.        , 0.        , ..., 0.25819889, 0.        ,\n",
       "        0.4472136 ],\n",
       "       [0.28867513, 0.        , 1.        , ..., 0.        , 0.70710678,\n",
       "        0.        ],\n",
       "       ...,\n",
       "       [0.        , 0.25819889, 0.        , ..., 1.        , 0.        ,\n",
       "        0.57735027],\n",
       "       [0.40824829, 0.        , 0.70710678, ..., 0.        , 1.        ,\n",
       "        0.        ],\n",
       "       [0.        , 0.4472136 , 0.        , ..., 0.57735027, 0.        ,\n",
       "        1.        ]])"
      ]
     },
     "execution_count": 188,
     "metadata": {},
     "output_type": "execute_result"
    }
   ],
   "source": [
    "count = CountVectorizer() # Initializing for counting genres.\n",
    "count_matrix = count.fit_transform(bag_of_genres['genre']) # Transform\n",
    "sim2 = cosine_similarity(count_matrix, count_matrix)\n",
    "sim2"
   ]
  },
  {
   "cell_type": "code",
   "execution_count": 186,
   "metadata": {},
   "outputs": [
    {
     "data": {
      "text/plain": [
       "1269"
      ]
     },
     "execution_count": 186,
     "metadata": {},
     "output_type": "execute_result"
    }
   ],
   "source": [
    "a = set(vect.get_feature_names())\n",
    "c = set(count.get_feature_names())\n",
    "len(c)"
   ]
  },
  {
   "cell_type": "code",
   "execution_count": 169,
   "metadata": {},
   "outputs": [
    {
     "data": {
      "text/plain": [
       "0                    !!!\n",
       "1    \"Weird Al\" Yankovic\n",
       "2                #1 Dads\n",
       "3          $teven Cannon\n",
       "4            $uicideBoy$\n",
       "Name: artist_name, dtype: object"
      ]
     },
     "execution_count": 169,
     "metadata": {},
     "output_type": "execute_result"
    }
   ],
   "source": [
    "indices = pd.Series(bag_of_genres.index)\n",
    "indices[:5]"
   ]
  },
  {
   "cell_type": "code",
   "execution_count": 112,
   "metadata": {},
   "outputs": [],
   "source": [
    "#Combination n-grams of the words"
   ]
  },
  {
   "cell_type": "code",
   "execution_count": 194,
   "metadata": {},
   "outputs": [],
   "source": [
    "def content_recommendations_genre(artist_name, cosine_sim):\n",
    "    \n",
    "    recommended_songs = []\n",
    "    \n",
    "    # Find the index of the artist that matches\n",
    "    idx = indices[indices == artist_name].index[0]\n",
    "\n",
    "    # creating a Series with the similarity scores in descending order\n",
    "    score_series = pd.Series(cosine_sim[idx]).sort_values(ascending = False)\n",
    "\n",
    "    # getting the indexes of the 10 most similar movies\n",
    "    top_10_indexes = list(score_series.iloc[1:11].index)\n",
    "    \n",
    "    # populating the list with the titles of the best 10 matching movies\n",
    "    for i in top_10_indexes:\n",
    "        recommended_songs.append(list(bag_of_genres.index)[i])\n",
    "    \n",
    "    top_10_songs = bag_of_genres[bag_of_genres.index.isin(recommended_songs)]\n",
    "    top_10_songs['scores'] = list(score_series.iloc[1:11,])\n",
    "    return top_10_songs"
   ]
  },
  {
   "cell_type": "code",
   "execution_count": 179,
   "metadata": {},
   "outputs": [
    {
     "data": {
      "text/plain": [
       "'dance pop pop'"
      ]
     },
     "execution_count": 179,
     "metadata": {},
     "output_type": "execute_result"
    }
   ],
   "source": [
    "bag_of_genres.loc['Lady Gaga']['genre']"
   ]
  },
  {
   "cell_type": "code",
   "execution_count": 206,
   "metadata": {},
   "outputs": [
    {
     "name": "stderr",
     "output_type": "stream",
     "text": [
      "/Users/krisseo/anaconda3/lib/python3.6/site-packages/ipykernel_launcher.py:19: SettingWithCopyWarning: \n",
      "A value is trying to be set on a copy of a slice from a DataFrame.\n",
      "Try using .loc[row_indexer,col_indexer] = value instead\n",
      "\n",
      "See the caveats in the documentation: http://pandas.pydata.org/pandas-docs/stable/indexing.html#indexing-view-versus-copy\n"
     ]
    }
   ],
   "source": [
    "a=set(content_recommendations_genre('The Beatles',sim2).index)"
   ]
  },
  {
   "cell_type": "code",
   "execution_count": 208,
   "metadata": {},
   "outputs": [
    {
     "name": "stderr",
     "output_type": "stream",
     "text": [
      "/Users/krisseo/anaconda3/lib/python3.6/site-packages/ipykernel_launcher.py:19: SettingWithCopyWarning: \n",
      "A value is trying to be set on a copy of a slice from a DataFrame.\n",
      "Try using .loc[row_indexer,col_indexer] = value instead\n",
      "\n",
      "See the caveats in the documentation: http://pandas.pydata.org/pandas-docs/stable/indexing.html#indexing-view-versus-copy\n"
     ]
    }
   ],
   "source": [
    "b=set(content_recommendations_genre('The Beatles', cosine_sim).index)"
   ]
  },
  {
   "cell_type": "markdown",
   "metadata": {},
   "source": [
    "the most frequently used words in a document are often the most frequently used words in all of the documents. In contrast, terms with the highest tf-idf scores are the terms in a document that are distinctively frequent in a document, when that document is compared other documents.\n",
    "\n"
   ]
  },
  {
   "cell_type": "code",
   "execution_count": 224,
   "metadata": {},
   "outputs": [
    {
     "name": "stdout",
     "output_type": "stream",
     "text": [
      "album rock art rock classic rock folk rock mellow gold psychedelic rock rock\n"
     ]
    }
   ],
   "source": [
    "print(bag_of_genres.loc['John Lennon']['genre'])"
   ]
  },
  {
   "cell_type": "code",
   "execution_count": 230,
   "metadata": {},
   "outputs": [
    {
     "data": {
      "text/plain": [
       "array([[1.        , 0.05242927, 0.13225835, ..., 0.        , 0.27018093,\n",
       "        0.        ],\n",
       "       [0.05242927, 1.        , 0.        , ..., 0.02888439, 0.        ,\n",
       "        0.1677547 ],\n",
       "       [0.13225835, 0.        , 1.        , ..., 0.        , 0.48951772,\n",
       "        0.        ],\n",
       "       ...,\n",
       "       [0.        , 0.02888439, 0.        , ..., 1.        , 0.        ,\n",
       "        0.17218228],\n",
       "       [0.27018093, 0.        , 0.48951772, ..., 0.        , 1.        ,\n",
       "        0.        ],\n",
       "       [0.        , 0.1677547 , 0.        , ..., 0.17218228, 0.        ,\n",
       "        1.        ]])"
      ]
     },
     "execution_count": 230,
     "metadata": {},
     "output_type": "execute_result"
    }
   ],
   "source": [
    "cosine_sim"
   ]
  },
  {
   "cell_type": "code",
   "execution_count": 2,
   "metadata": {},
   "outputs": [
    {
     "ename": "NameError",
     "evalue": "name 'merged_popular' is not defined",
     "output_type": "error",
     "traceback": [
      "\u001b[0;31m---------------------------------------------------------------------------\u001b[0m",
      "\u001b[0;31mNameError\u001b[0m                                 Traceback (most recent call last)",
      "\u001b[0;32m<ipython-input-2-b86eb3f69f0d>\u001b[0m in \u001b[0;36m<module>\u001b[0;34m()\u001b[0m\n\u001b[0;32m----> 1\u001b[0;31m \u001b[0mrocky\u001b[0m \u001b[0;34m=\u001b[0m \u001b[0mmerged_popular\u001b[0m\u001b[0;34m[\u001b[0m\u001b[0mmerged_popular\u001b[0m\u001b[0;34m.\u001b[0m\u001b[0martist_name\u001b[0m \u001b[0;34m==\u001b[0m \u001b[0;34m'a$ap rocky'\u001b[0m\u001b[0;34m]\u001b[0m\u001b[0;34m.\u001b[0m\u001b[0mdrop\u001b[0m\u001b[0;34m(\u001b[0m\u001b[0mcolumns\u001b[0m\u001b[0;34m=\u001b[0m\u001b[0;34m'pid'\u001b[0m\u001b[0;34m)\u001b[0m\u001b[0;34m\u001b[0m\u001b[0m\n\u001b[0m\u001b[1;32m      2\u001b[0m \u001b[0mrocky\u001b[0m\u001b[0;34m.\u001b[0m\u001b[0mhead\u001b[0m\u001b[0;34m(\u001b[0m\u001b[0;34m)\u001b[0m\u001b[0;34m\u001b[0m\u001b[0m\n",
      "\u001b[0;31mNameError\u001b[0m: name 'merged_popular' is not defined"
     ]
    }
   ],
   "source": [
    "rocky = merged_popular[merged_popular.artist_name == 'a$ap rocky'].drop(columns='pid')\n",
    "rocky.head()"
   ]
  },
  {
   "cell_type": "code",
   "execution_count": 132,
   "metadata": {},
   "outputs": [],
   "source": [
    "ferg = merged_popular[merged_popular.artist_name == 'a$ap ferg'].drop(columns='pid')"
   ]
  },
  {
   "cell_type": "code",
   "execution_count": 133,
   "metadata": {},
   "outputs": [],
   "source": [
    "quavo = merged_popular[merged_popular.artist_name == 'quavo'].drop(columns='pid')"
   ]
  },
  {
   "cell_type": "code",
   "execution_count": 134,
   "metadata": {},
   "outputs": [
    {
     "data": {
      "text/plain": [
       "acousticness          0.070211\n",
       "danceability          0.560500\n",
       "energy                0.864680\n",
       "instrumentalness      0.016378\n",
       "liveness              0.250596\n",
       "loudness             -4.935780\n",
       "speechiness           0.093098\n",
       "tempo               121.625400\n",
       "valence               0.479798\n",
       "popularity           59.160000\n",
       "dtype: float64"
      ]
     },
     "execution_count": 134,
     "metadata": {},
     "output_type": "execute_result"
    }
   ],
   "source": [
    "park = merged_popular[merged_popular.artist_name == 'linkin park'].drop(columns='pid')\n",
    "park.mean()\n"
   ]
  },
  {
   "cell_type": "code",
   "execution_count": 135,
   "metadata": {},
   "outputs": [
    {
     "data": {
      "text/plain": [
       "Ttest_indResult(statistic=-0.01812379768562407, pvalue=0.9857394789213656)"
      ]
     },
     "execution_count": 135,
     "metadata": {},
     "output_type": "execute_result"
    }
   ],
   "source": [
    "# Assumption is that rocky's song features and quavo's features are different from each other.\n",
    "# p-value is .95 --> Fail to reject the null hypothesis.\n",
    "scipy.stats.ttest_ind(rocky.mean(),park.mean())"
   ]
  },
  {
   "cell_type": "code",
   "execution_count": null,
   "metadata": {},
   "outputs": [],
   "source": [
    "from scipy.stats import ttest_ind\n",
    "ttest_ind_from_stats(mean1=np.mean(insur), std1=np.std(insur), nobs1=len(insur),\n",
    "                     mean2=np.mean(no), std2=np.std(no), nobs2=len(no))"
   ]
  },
  {
   "cell_type": "markdown",
   "metadata": {},
   "source": [
    "### PCA"
   ]
  },
  {
   "cell_type": "code",
   "execution_count": 19,
   "metadata": {},
   "outputs": [],
   "source": [
    "features = ['acousticness', 'danceability', 'energy', 'instrumentalness', \n",
    "            'liveness', 'loudness','speechiness','tempo','valence']\n",
    "# Separating out the features\n",
    "x = merged.loc[:, features].values\n",
    "# Separating out the target\n",
    "y = merged.loc[:,'popularity'].values\n",
    "# Standardizing the features\n"
   ]
  },
  {
   "cell_type": "code",
   "execution_count": 45,
   "metadata": {},
   "outputs": [],
   "source": [
    "standard_pd = pd.DataFrame(data=x, columns=features)\n",
    "scaler = StandardScaler()\n",
    "scaled_data = scaler.fit_transform(standard_pd)\n"
   ]
  },
  {
   "cell_type": "code",
   "execution_count": 38,
   "metadata": {},
   "outputs": [
    {
     "name": "stdout",
     "output_type": "stream",
     "text": [
      "DescribeResult(nobs=93124, minmax=(-0.8882339713420301, 2.343886664313716), mean=1.2208113667971311e-18, variance=1.0000107384856585, skewness=0.9769656431372729, kurtosis=-0.4174445123757611)\n",
      "DescribeResult(nobs=93124, minmax=(-3.4351911321641793, 2.4684032833372083), mean=2.441622733594262e-16, variance=1.000010738485659, skewness=-0.3143132220056392, kurtosis=-0.22281593549650447)\n",
      "DescribeResult(nobs=93124, minmax=(-2.7158372131981654, 1.5785824253027525), mean=-2.509148862320228e-16, variance=1.0000107384856587, skewness=-0.5776450586959854, kurtosis=-0.41611179993002567)\n",
      "DescribeResult(nobs=93124, minmax=(-0.41033729455447415, 3.539204878026759), mean=2.456882875679226e-17, variance=1.0000107384856585, skewness=2.42011995304572, kurtosis=4.32701659898111)\n",
      "DescribeResult(nobs=93124, minmax=(-1.1573167257982775, 4.615762600393987), mean=-9.888572071056762e-17, variance=1.0000107384856587, skewness=2.209000576468605, kurtosis=5.285203620297505)\n",
      "DescribeResult(nobs=93124, minmax=(-8.632959645682739, 2.489389896449608), mean=1.5260142084964136e-17, variance=1.000010738485659, skewness=-1.967172671413949, kurtosis=6.332698188347301)\n",
      "DescribeResult(nobs=93124, minmax=(-0.8824714155335555, 8.72887107684625), mean=-5.0053266038682374e-17, variance=1.0000107384856587, skewness=3.1807069756757134, kurtosis=14.328923930538558)\n",
      "DescribeResult(nobs=93124, minmax=(-4.157008606929175, 3.802463012936166), mean=-5.196841387034537e-16, variance=1.0000107384856587, skewness=0.3234918838697346, kurtosis=-0.17025795616608352)\n",
      "DescribeResult(nobs=93124, minmax=(-1.9146525233717844, 2.083253906436589), mean=-1.1292505142873463e-16, variance=1.0000107384856587, skewness=0.14139515140748485, kurtosis=-0.9741543187772361)\n"
     ]
    }
   ],
   "source": [
    "num_cols = len(scaled_data[0,:])\n",
    "for i in range(num_cols):\n",
    "    col = scaled_data[:,i]\n",
    "    col_stats = scipy.stats.describe(col)\n",
    "    print(col_stats)"
   ]
  },
  {
   "cell_type": "code",
   "execution_count": 50,
   "metadata": {},
   "outputs": [],
   "source": [
    "pca = PCA(n_components=4)\n",
    "principalComponents = pca.fit_transform(scaled_data)\n",
    "principalDf = pd.DataFrame(data = principalComponents\n",
    "             , columns = ['pc_1', 'pc_2','pc_3','pc_4'])\n",
    "model = KNeighborsClassifier(4)\n",
    "\n",
    "model.fit(principalComponents, y)\n",
    "predict = model.predict(principalComponents)\n"
   ]
  },
  {
   "cell_type": "code",
   "execution_count": 51,
   "metadata": {},
   "outputs": [
    {
     "data": {
      "text/plain": [
       "array([0.3223191 , 0.15255362, 0.12224025, 0.10415109])"
      ]
     },
     "execution_count": 51,
     "metadata": {},
     "output_type": "execute_result"
    }
   ],
   "source": [
    "pca.explained_variance_ratio_"
   ]
  },
  {
   "cell_type": "code",
   "execution_count": 213,
   "metadata": {},
   "outputs": [],
   "source": [
    "#plot 3D\n",
    "# fig = plt.figure(figsize=(20,20))\n",
    "# ax = fig.add_subplot(111, projection='3d')\n",
    "# ax.scatter(merged_songs['acousticness'], merged_songs['danceability'], merged_songs['popularity'], c='skyblue', s=60)\n",
    "# ax.view_init(0, 60)\n",
    "# plt.show()\n",
    " "
   ]
  },
  {
   "cell_type": "markdown",
   "metadata": {},
   "source": [
    "### Users Data In United States"
   ]
  },
  {
   "cell_type": "code",
   "execution_count": null,
   "metadata": {},
   "outputs": [],
   "source": [
    "artname = artname.set_index('users')\n",
    "profile = profile.set_index('users')"
   ]
  },
  {
   "cell_type": "code",
   "execution_count": 213,
   "metadata": {},
   "outputs": [
    {
     "name": "stderr",
     "output_type": "stream",
     "text": [
      "/Users/krisseo/anaconda3/lib/python3.6/site-packages/ipykernel_launcher.py:5: SettingWithCopyWarning: \n",
      "A value is trying to be set on a copy of a slice from a DataFrame.\n",
      "Try using .loc[row_indexer,col_indexer] = value instead\n",
      "\n",
      "See the caveats in the documentation: http://pandas.pydata.org/pandas-docs/stable/indexing.html#indexing-view-versus-copy\n",
      "  \"\"\"\n",
      "/Users/krisseo/anaconda3/lib/python3.6/site-packages/ipykernel_launcher.py:6: SettingWithCopyWarning: \n",
      "A value is trying to be set on a copy of a slice from a DataFrame.\n",
      "Try using .loc[row_indexer,col_indexer] = value instead\n",
      "\n",
      "See the caveats in the documentation: http://pandas.pydata.org/pandas-docs/stable/indexing.html#indexing-view-versus-copy\n",
      "  \n"
     ]
    }
   ],
   "source": [
    "profile_merged = pd.merge(artname,profile, left_index=True, right_index=True)\n",
    "profile_merged = profile_merged.reset_index()\n",
    "# Only US profiles.\n",
    "us_profile = profile_merged[profile_merged.country == \"United States\"]\n",
    "us_profile['users'] = us_profile['users'].astype('category')\n",
    "us_profile['artist_name'] = us_profile['artist_name'].astype('category')"
   ]
  },
  {
   "cell_type": "code",
   "execution_count": 214,
   "metadata": {},
   "outputs": [
    {
     "name": "stdout",
     "output_type": "stream",
     "text": [
      "['artist_id', 'artist_name']\n"
     ]
    }
   ],
   "source": [
    "# Shows there is no more duplicated rows in the data frame.\n",
    "has_nan = us_profile.isnull().any(axis=0)\n",
    "has_nan = [us_profile.columns[i] for i in np.where(has_nan)[0]]\n",
    "print(has_nan) "
   ]
  },
  {
   "cell_type": "code",
   "execution_count": 215,
   "metadata": {},
   "outputs": [
    {
     "data": {
      "text/html": [
       "<div>\n",
       "<style scoped>\n",
       "    .dataframe tbody tr th:only-of-type {\n",
       "        vertical-align: middle;\n",
       "    }\n",
       "\n",
       "    .dataframe tbody tr th {\n",
       "        vertical-align: top;\n",
       "    }\n",
       "\n",
       "    .dataframe thead th {\n",
       "        text-align: right;\n",
       "    }\n",
       "</style>\n",
       "<table border=\"1\" class=\"dataframe\">\n",
       "  <thead>\n",
       "    <tr style=\"text-align: right;\">\n",
       "      <th></th>\n",
       "      <th>artist_id</th>\n",
       "      <th>total plays</th>\n",
       "    </tr>\n",
       "  </thead>\n",
       "  <tbody>\n",
       "    <tr>\n",
       "      <th>0</th>\n",
       "      <td>00010eb3-ebfe-4965-81ef-0ac64cd49fde</td>\n",
       "      <td>3</td>\n",
       "    </tr>\n",
       "    <tr>\n",
       "      <th>1</th>\n",
       "      <td>0001cd84-2a11-4699-8d6b-0abf969c5f06</td>\n",
       "      <td>112</td>\n",
       "    </tr>\n",
       "    <tr>\n",
       "      <th>2</th>\n",
       "      <td>00026532-1fe3-45fb-a0df-34aec04a1319</td>\n",
       "      <td>321</td>\n",
       "    </tr>\n",
       "    <tr>\n",
       "      <th>3</th>\n",
       "      <td>0002f649-8285-4a72-b847-b3854e1a449c</td>\n",
       "      <td>20882</td>\n",
       "    </tr>\n",
       "    <tr>\n",
       "      <th>4</th>\n",
       "      <td>00034ede-a1f1-4219-be39-02f36853373e</td>\n",
       "      <td>4010</td>\n",
       "    </tr>\n",
       "  </tbody>\n",
       "</table>\n",
       "</div>"
      ],
      "text/plain": [
       "                              artist_id  total plays\n",
       "0  00010eb3-ebfe-4965-81ef-0ac64cd49fde            3\n",
       "1  0001cd84-2a11-4699-8d6b-0abf969c5f06          112\n",
       "2  00026532-1fe3-45fb-a0df-34aec04a1319          321\n",
       "3  0002f649-8285-4a72-b847-b3854e1a449c        20882\n",
       "4  00034ede-a1f1-4219-be39-02f36853373e         4010"
      ]
     },
     "execution_count": 215,
     "metadata": {},
     "output_type": "execute_result"
    }
   ],
   "source": [
    "artists_plays = us_profile.groupby(['artist_id'])['plays'].sum().reset_index()\n",
    "artists_plays.columns = ['artist_id','total plays']\n",
    "artists_plays.head()"
   ]
  },
  {
   "cell_type": "code",
   "execution_count": 118,
   "metadata": {},
   "outputs": [
    {
     "data": {
      "text/plain": [
       "count    8.450600e+04\n",
       "mean     1.000555e+04\n",
       "std      9.214116e+04\n",
       "min      1.000000e+00\n",
       "25%      7.600000e+01\n",
       "50%      3.240000e+02\n",
       "75%      1.553000e+03\n",
       "max      1.070638e+07\n",
       "Name: total plays, dtype: float64"
      ]
     },
     "execution_count": 118,
     "metadata": {},
     "output_type": "execute_result"
    }
   ],
   "source": [
    "artists_plays['total plays'].describe()\n"
   ]
  },
  {
   "cell_type": "markdown",
   "metadata": {},
   "source": [
    "Minimum of total plays is one, which can be interpreted as there are not well known unique artists.\n",
    "Need to clean the data. \n",
    "Difference of min and max is too big for total plays and median of total plays is 221; therefore, I have to set up a reasonable threshold to prevent nosiy data."
   ]
  },
  {
   "cell_type": "code",
   "execution_count": 119,
   "metadata": {},
   "outputs": [
    {
     "data": {
      "image/png": "[encoded data removed]",
      "text/plain": [
       "<Figure size 432x288 with 1 Axes>"
      ]
     },
     "metadata": {},
     "output_type": "display_data"
    }
   ],
   "source": [
    "y = np.sort(artists_plays['total plays'])\n",
    "yvals = np.arange(len(y))/float(len(y))\n",
    "\n",
    "plt.plot (y, yvals)\n",
    "plt.xlabel('Play Counts')\n",
    "plt.xlim(0,10000)\n",
    "plt.ylabel('ECDF')\n",
    "plt.grid(True,which=\"both\",ls=\"-\")\n",
    "plt.title('ECDF of number of play counts per User ID')\n",
    "plt.show()\n"
   ]
  },
  {
   "cell_type": "code",
   "execution_count": 55,
   "metadata": {},
   "outputs": [
    {
     "data": {
      "image/png": "[encoded data removed]",
      "text/plain": [
       "<Figure size 432x288 with 1 Axes>"
      ]
     },
     "metadata": {},
     "output_type": "display_data"
    }
   ],
   "source": [
    "sorted_total = artists_plays.sort_values(by='total plays', ascending=False)[:10]\n",
    "top_10 = [us_profile[us_profile.artist_id == top]['artist_name'][0] for top in sorted_total.artist_id]\n",
    "y_pos = range(len(sorted_total))\n",
    "frequency = sorted_total['total plays']\n",
    "\n",
    "plt.barh(y_pos, frequency[::-1], align='center', alpha=0.4)\n",
    "plt.yticks(y_pos, top_10[::-1])\n",
    "plt.xlabel('Play Count')\n",
    "plt.ylabel('Artist')\n",
    "plt.title('Top-10 Artist per play counts')\n",
    "plt.show()\n"
   ]
  },
  {
   "cell_type": "code",
   "execution_count": 216,
   "metadata": {},
   "outputs": [],
   "source": [
    "users_with_total = us_profile.merge(artists_plays, on='artist_id', how ='left')\n",
    "users_with_total.isnull().sum()\n",
    "\n",
    "users_with_total = users_with_total[~users_with_total.artist_id.isnull()] # Dropping Missing values of artist_id\n",
    "users_with_total = users_with_total[~users_with_total.artist_name.isnull()] # Dropping 33 Missing values of artist names\n",
    "users_with_total.drop(columns=['artist_id','country'], inplace=True)\n",
    "users_with_total.users = users_with_total.users.cat.codes # Change it to categorical code to summarize user Ids"
   ]
  },
  {
   "cell_type": "code",
   "execution_count": 217,
   "metadata": {},
   "outputs": [
    {
     "data": {
      "text/plain": [
       "users          0\n",
       "artist_name    0\n",
       "plays          0\n",
       "total plays    0\n",
       "dtype: int64"
      ]
     },
     "execution_count": 217,
     "metadata": {},
     "output_type": "execute_result"
    }
   ],
   "source": [
    "users_with_total.isnull().sum() #No more missing values are detected."
   ]
  },
  {
   "cell_type": "code",
   "execution_count": 122,
   "metadata": {},
   "outputs": [
    {
     "ename": "AttributeError",
     "evalue": "'DataFrame' object has no attribute 'artist_name'",
     "output_type": "error",
     "traceback": [
      "\u001b[0;31m---------------------------------------------------------------------------\u001b[0m",
      "\u001b[0;31mAttributeError\u001b[0m                            Traceback (most recent call last)",
      "\u001b[0;32m<ipython-input-122-1c928e1b2c6f>\u001b[0m in \u001b[0;36m<module>\u001b[0;34m()\u001b[0m\n\u001b[0;32m----> 1\u001b[0;31m \u001b[0mx\u001b[0m \u001b[0;34m=\u001b[0m \u001b[0mnp\u001b[0m\u001b[0;34m.\u001b[0m\u001b[0marange\u001b[0m\u001b[0;34m(\u001b[0m\u001b[0mlen\u001b[0m\u001b[0;34m(\u001b[0m\u001b[0martists_plays\u001b[0m\u001b[0;34m.\u001b[0m\u001b[0martist_name\u001b[0m\u001b[0;34m)\u001b[0m\u001b[0;34m)\u001b[0m\u001b[0;34m\u001b[0m\u001b[0m\n\u001b[0m\u001b[1;32m      2\u001b[0m \u001b[0my\u001b[0m \u001b[0;34m=\u001b[0m \u001b[0martists_plays\u001b[0m\u001b[0;34m.\u001b[0m\u001b[0msort_values\u001b[0m\u001b[0;34m(\u001b[0m\u001b[0mascending\u001b[0m\u001b[0;34m=\u001b[0m\u001b[0;32mFalse\u001b[0m\u001b[0;34m,\u001b[0m \u001b[0mby\u001b[0m\u001b[0;34m=\u001b[0m\u001b[0;34m'total plays'\u001b[0m\u001b[0;34m)\u001b[0m\u001b[0;34m[\u001b[0m\u001b[0;34m'total plays'\u001b[0m\u001b[0;34m]\u001b[0m\u001b[0;34m.\u001b[0m\u001b[0mapply\u001b[0m\u001b[0;34m(\u001b[0m\u001b[0mnp\u001b[0m\u001b[0;34m.\u001b[0m\u001b[0mlog\u001b[0m\u001b[0;34m)\u001b[0m\u001b[0;34m\u001b[0m\u001b[0m\n\u001b[1;32m      3\u001b[0m \u001b[0mplt\u001b[0m\u001b[0;34m.\u001b[0m\u001b[0mscatter\u001b[0m\u001b[0;34m(\u001b[0m\u001b[0mx\u001b[0m\u001b[0;34m,\u001b[0m\u001b[0my\u001b[0m\u001b[0;34m)\u001b[0m\u001b[0;34m\u001b[0m\u001b[0m\n\u001b[1;32m      4\u001b[0m \u001b[0mplt\u001b[0m\u001b[0;34m.\u001b[0m\u001b[0mxlabel\u001b[0m\u001b[0;34m(\u001b[0m\u001b[0;34m'Unique Artists ID'\u001b[0m\u001b[0;34m)\u001b[0m\u001b[0;34m\u001b[0m\u001b[0m\n\u001b[1;32m      5\u001b[0m \u001b[0mplt\u001b[0m\u001b[0;34m.\u001b[0m\u001b[0mylabel\u001b[0m\u001b[0;34m(\u001b[0m\u001b[0;34m\"Total plays by ID\"\u001b[0m\u001b[0;34m)\u001b[0m\u001b[0;34m\u001b[0m\u001b[0m\n",
      "\u001b[0;32m~/anaconda3/lib/python3.6/site-packages/pandas/core/generic.py\u001b[0m in \u001b[0;36m__getattr__\u001b[0;34m(self, name)\u001b[0m\n\u001b[1;32m   4370\u001b[0m             \u001b[0;32mif\u001b[0m \u001b[0mself\u001b[0m\u001b[0;34m.\u001b[0m\u001b[0m_info_axis\u001b[0m\u001b[0;34m.\u001b[0m\u001b[0m_can_hold_identifiers_and_holds_name\u001b[0m\u001b[0;34m(\u001b[0m\u001b[0mname\u001b[0m\u001b[0;34m)\u001b[0m\u001b[0;34m:\u001b[0m\u001b[0;34m\u001b[0m\u001b[0m\n\u001b[1;32m   4371\u001b[0m                 \u001b[0;32mreturn\u001b[0m \u001b[0mself\u001b[0m\u001b[0;34m[\u001b[0m\u001b[0mname\u001b[0m\u001b[0;34m]\u001b[0m\u001b[0;34m\u001b[0m\u001b[0m\n\u001b[0;32m-> 4372\u001b[0;31m             \u001b[0;32mreturn\u001b[0m \u001b[0mobject\u001b[0m\u001b[0;34m.\u001b[0m\u001b[0m__getattribute__\u001b[0m\u001b[0;34m(\u001b[0m\u001b[0mself\u001b[0m\u001b[0;34m,\u001b[0m \u001b[0mname\u001b[0m\u001b[0;34m)\u001b[0m\u001b[0;34m\u001b[0m\u001b[0m\n\u001b[0m\u001b[1;32m   4373\u001b[0m \u001b[0;34m\u001b[0m\u001b[0m\n\u001b[1;32m   4374\u001b[0m     \u001b[0;32mdef\u001b[0m \u001b[0m__setattr__\u001b[0m\u001b[0;34m(\u001b[0m\u001b[0mself\u001b[0m\u001b[0;34m,\u001b[0m \u001b[0mname\u001b[0m\u001b[0;34m,\u001b[0m \u001b[0mvalue\u001b[0m\u001b[0;34m)\u001b[0m\u001b[0;34m:\u001b[0m\u001b[0;34m\u001b[0m\u001b[0m\n",
      "\u001b[0;31mAttributeError\u001b[0m: 'DataFrame' object has no attribute 'artist_name'"
     ]
    }
   ],
   "source": [
    "x = np.arange(len(artists_plays.artist_name))\n",
    "y = artists_plays.sort_values(ascending=False, by='total plays')['total plays'].apply(np.log)\n",
    "plt.scatter(x,y)\n",
    "plt.xlabel('Unique Artists ID')\n",
    "plt.ylabel(\"Total plays by ID\")\n"
   ]
  },
  {
   "cell_type": "code",
   "execution_count": 123,
   "metadata": {},
   "outputs": [
    {
     "name": "stdout",
     "output_type": "stream",
     "text": [
      "0.90      7842.00\n",
      "0.91      9377.55\n",
      "0.92     11435.20\n",
      "0.93     14172.65\n",
      "0.94     18111.80\n",
      "0.95     23720.00\n",
      "0.96     33124.60\n",
      "0.97     49815.00\n",
      "0.98     84784.40\n",
      "0.99    191586.40\n",
      "Name: total plays, dtype: float64\n"
     ]
    }
   ],
   "source": [
    "print(artists_plays['total plays'].quantile(np.arange(.9,1,.01)))\n",
    "# Set the threshold to keep about top 5% of the data.\n",
    "threshold = artists_plays['total plays'].quantile(.95)\n"
   ]
  },
  {
   "cell_type": "code",
   "execution_count": 124,
   "metadata": {},
   "outputs": [
    {
     "data": {
      "text/html": [
       "<div>\n",
       "<style scoped>\n",
       "    .dataframe tbody tr th:only-of-type {\n",
       "        vertical-align: middle;\n",
       "    }\n",
       "\n",
       "    .dataframe tbody tr th {\n",
       "        vertical-align: top;\n",
       "    }\n",
       "\n",
       "    .dataframe thead th {\n",
       "        text-align: right;\n",
       "    }\n",
       "</style>\n",
       "<table border=\"1\" class=\"dataframe\">\n",
       "  <thead>\n",
       "    <tr style=\"text-align: right;\">\n",
       "      <th></th>\n",
       "      <th>users</th>\n",
       "      <th>artist_name</th>\n",
       "      <th>plays</th>\n",
       "      <th>total plays</th>\n",
       "    </tr>\n",
       "  </thead>\n",
       "  <tbody>\n",
       "    <tr>\n",
       "      <th>0</th>\n",
       "      <td>0</td>\n",
       "      <td>devendra banhart</td>\n",
       "      <td>456</td>\n",
       "      <td>868311.0</td>\n",
       "    </tr>\n",
       "    <tr>\n",
       "      <th>1</th>\n",
       "      <td>0</td>\n",
       "      <td>boards of canada</td>\n",
       "      <td>407</td>\n",
       "      <td>1750033.0</td>\n",
       "    </tr>\n",
       "    <tr>\n",
       "      <th>2</th>\n",
       "      <td>0</td>\n",
       "      <td>cocorosie</td>\n",
       "      <td>386</td>\n",
       "      <td>382582.0</td>\n",
       "    </tr>\n",
       "    <tr>\n",
       "      <th>3</th>\n",
       "      <td>0</td>\n",
       "      <td>aphex twin</td>\n",
       "      <td>213</td>\n",
       "      <td>1093663.0</td>\n",
       "    </tr>\n",
       "    <tr>\n",
       "      <th>4</th>\n",
       "      <td>0</td>\n",
       "      <td>animal collective</td>\n",
       "      <td>203</td>\n",
       "      <td>1808594.0</td>\n",
       "    </tr>\n",
       "  </tbody>\n",
       "</table>\n",
       "</div>"
      ],
      "text/plain": [
       "   users        artist_name  plays  total plays\n",
       "0      0   devendra banhart    456     868311.0\n",
       "1      0   boards of canada    407    1750033.0\n",
       "2      0          cocorosie    386     382582.0\n",
       "3      0         aphex twin    213    1093663.0\n",
       "4      0  animal collective    203    1808594.0"
      ]
     },
     "execution_count": 124,
     "metadata": {},
     "output_type": "execute_result"
    }
   ],
   "source": [
    "top5 = users_with_total[users_with_total['total plays'] >= threshold]\n",
    "top5 = top5.drop_duplicates(['users','artist_name'])\n",
    "top5.head()"
   ]
  },
  {
   "cell_type": "code",
   "execution_count": 76,
   "metadata": {},
   "outputs": [],
   "source": [
    "artists = dict((artist, csr_matrix(\n",
    "                (group['plays'], (np.zeros(len(group)), group['users'])),\n",
    "                shape=[1, len(users_with_total.users)]))\n",
    "        for artist, group in users_with_total.groupby('artist_name'))"
   ]
  },
  {
   "cell_type": "code",
   "execution_count": 153,
   "metadata": {},
   "outputs": [
    {
     "data": {
      "text/html": [
       "<div>\n",
       "<style scoped>\n",
       "    .dataframe tbody tr th:only-of-type {\n",
       "        vertical-align: middle;\n",
       "    }\n",
       "\n",
       "    .dataframe tbody tr th {\n",
       "        vertical-align: top;\n",
       "    }\n",
       "\n",
       "    .dataframe thead th {\n",
       "        text-align: right;\n",
       "    }\n",
       "</style>\n",
       "<table border=\"1\" class=\"dataframe\">\n",
       "  <thead>\n",
       "    <tr style=\"text-align: right;\">\n",
       "      <th></th>\n",
       "      <th>users</th>\n",
       "      <th>artist_id</th>\n",
       "      <th>artist_name</th>\n",
       "      <th>plays</th>\n",
       "      <th>total plays</th>\n",
       "    </tr>\n",
       "  </thead>\n",
       "  <tbody>\n",
       "    <tr>\n",
       "      <th>107140</th>\n",
       "      <td>2146</td>\n",
       "      <td>NaN</td>\n",
       "      <td>!hero</td>\n",
       "      <td>77</td>\n",
       "      <td>1529.0</td>\n",
       "    </tr>\n",
       "    <tr>\n",
       "      <th>384229</th>\n",
       "      <td>7704</td>\n",
       "      <td>NaN</td>\n",
       "      <td>!hero</td>\n",
       "      <td>207</td>\n",
       "      <td>1529.0</td>\n",
       "    </tr>\n",
       "    <tr>\n",
       "      <th>2768903</th>\n",
       "      <td>55576</td>\n",
       "      <td>NaN</td>\n",
       "      <td>!hero</td>\n",
       "      <td>1245</td>\n",
       "      <td>1529.0</td>\n",
       "    </tr>\n",
       "  </tbody>\n",
       "</table>\n",
       "</div>"
      ],
      "text/plain": [
       "         users artist_id artist_name  plays  total plays\n",
       "107140    2146       NaN       !hero     77       1529.0\n",
       "384229    7704       NaN       !hero    207       1529.0\n",
       "2768903  55576       NaN       !hero   1245       1529.0"
      ]
     },
     "execution_count": 153,
     "metadata": {},
     "output_type": "execute_result"
    }
   ],
   "source": [
    "users_with_total[users_with_total.artist_name.str.contains('!hero') == True]"
   ]
  },
  {
   "cell_type": "code",
   "execution_count": 149,
   "metadata": {},
   "outputs": [
    {
     "data": {
      "text/plain": [
       "96"
      ]
     },
     "execution_count": 149,
     "metadata": {},
     "output_type": "execute_result"
    }
   ],
   "source": [
    "fuzz.ratio('apes & androids', 'apes and androids')\n",
    "fuzz.ratio(\"tapes 'n tapes\", \"tapes n tapes\")"
   ]
  },
  {
   "cell_type": "code",
   "execution_count": 50,
   "metadata": {},
   "outputs": [
    {
     "data": {
      "text/html": [
       "<div>\n",
       "<style scoped>\n",
       "    .dataframe tbody tr th:only-of-type {\n",
       "        vertical-align: middle;\n",
       "    }\n",
       "\n",
       "    .dataframe tbody tr th {\n",
       "        vertical-align: top;\n",
       "    }\n",
       "\n",
       "    .dataframe thead th {\n",
       "        text-align: right;\n",
       "    }\n",
       "</style>\n",
       "<table border=\"1\" class=\"dataframe\">\n",
       "  <thead>\n",
       "    <tr style=\"text-align: right;\">\n",
       "      <th></th>\n",
       "      <th>plays</th>\n",
       "      <th>total plays</th>\n",
       "    </tr>\n",
       "  </thead>\n",
       "  <tbody>\n",
       "    <tr>\n",
       "      <th>count</th>\n",
       "      <td>45.000000</td>\n",
       "      <td>4.500000e+01</td>\n",
       "    </tr>\n",
       "    <tr>\n",
       "      <th>mean</th>\n",
       "      <td>126.533333</td>\n",
       "      <td>8.017514e+05</td>\n",
       "    </tr>\n",
       "    <tr>\n",
       "      <th>std</th>\n",
       "      <td>88.248770</td>\n",
       "      <td>1.260471e+06</td>\n",
       "    </tr>\n",
       "    <tr>\n",
       "      <th>min</th>\n",
       "      <td>65.000000</td>\n",
       "      <td>3.914700e+04</td>\n",
       "    </tr>\n",
       "    <tr>\n",
       "      <th>25%</th>\n",
       "      <td>75.000000</td>\n",
       "      <td>1.623130e+05</td>\n",
       "    </tr>\n",
       "    <tr>\n",
       "      <th>50%</th>\n",
       "      <td>94.000000</td>\n",
       "      <td>4.051030e+05</td>\n",
       "    </tr>\n",
       "    <tr>\n",
       "      <th>75%</th>\n",
       "      <td>143.000000</td>\n",
       "      <td>1.093663e+06</td>\n",
       "    </tr>\n",
       "    <tr>\n",
       "      <th>max</th>\n",
       "      <td>456.000000</td>\n",
       "      <td>7.931815e+06</td>\n",
       "    </tr>\n",
       "  </tbody>\n",
       "</table>\n",
       "</div>"
      ],
      "text/plain": [
       "            plays   total plays\n",
       "count   45.000000  4.500000e+01\n",
       "mean   126.533333  8.017514e+05\n",
       "std     88.248770  1.260471e+06\n",
       "min     65.000000  3.914700e+04\n",
       "25%     75.000000  1.623130e+05\n",
       "50%     94.000000  4.051030e+05\n",
       "75%    143.000000  1.093663e+06\n",
       "max    456.000000  7.931815e+06"
      ]
     },
     "execution_count": 50,
     "metadata": {},
     "output_type": "execute_result"
    }
   ],
   "source": [
    "top3[top3.users == '00007a47085b9aab8af55f52ec8846ac479ac4fe']['plays'].quantile(np.arange())"
   ]
  },
  {
   "cell_type": "markdown",
   "metadata": {},
   "source": [
    "## based on each user's play counting percentile give ratings"
   ]
  },
  {
   "cell_type": "code",
   "execution_count": 29,
   "metadata": {},
   "outputs": [],
   "source": [
    "a = set(top3['artist_name'])\n"
   ]
  },
  {
   "cell_type": "code",
   "execution_count": 49,
   "metadata": {},
   "outputs": [],
   "source": [
    "bag_of_genres = bag_of_genres.reset_index()"
   ]
  },
  {
   "cell_type": "code",
   "execution_count": 50,
   "metadata": {},
   "outputs": [],
   "source": [
    "bag_of_genres.artist_name = bag_of_genres.artist_name.str.lower()\n",
    "b = set(bag_of_genres.artist_name)"
   ]
  },
  {
   "cell_type": "code",
   "execution_count": 234,
   "metadata": {},
   "outputs": [
    {
     "ename": "AttributeError",
     "evalue": "'DataFrame' object has no attribute 'raw_ratings'",
     "output_type": "error",
     "traceback": [
      "\u001b[0;31m---------------------------------------------------------------------------\u001b[0m",
      "\u001b[0;31mAttributeError\u001b[0m                            Traceback (most recent call last)",
      "\u001b[0;32m<ipython-input-234-5bb0cb4c1878>\u001b[0m in \u001b[0;36m<module>\u001b[0;34m()\u001b[0m\n\u001b[1;32m      1\u001b[0m \u001b[0;32mfrom\u001b[0m \u001b[0msurprise\u001b[0m\u001b[0;34m.\u001b[0m\u001b[0mmodel_selection\u001b[0m \u001b[0;32mimport\u001b[0m \u001b[0mtrain_test_split\u001b[0m\u001b[0;34m\u001b[0m\u001b[0m\n\u001b[0;32m----> 2\u001b[0;31m \u001b[0mtrainset\u001b[0m\u001b[0;34m,\u001b[0m \u001b[0mtestset\u001b[0m \u001b[0;34m=\u001b[0m \u001b[0mtrain_test_split\u001b[0m\u001b[0;34m(\u001b[0m\u001b[0musers_with_total\u001b[0m\u001b[0;34m,\u001b[0m \u001b[0mtest_size\u001b[0m\u001b[0;34m=\u001b[0m\u001b[0;36m.25\u001b[0m\u001b[0;34m)\u001b[0m\u001b[0;34m\u001b[0m\u001b[0m\n\u001b[0m",
      "\u001b[0;32m~/anaconda3/lib/python3.6/site-packages/surprise/model_selection/split.py\u001b[0m in \u001b[0;36mtrain_test_split\u001b[0;34m(data, test_size, train_size, random_state, shuffle)\u001b[0m\n\u001b[1;32m    332\u001b[0m     ss = ShuffleSplit(n_splits=1, test_size=test_size, train_size=train_size,\n\u001b[1;32m    333\u001b[0m                       random_state=random_state, shuffle=shuffle)\n\u001b[0;32m--> 334\u001b[0;31m     \u001b[0;32mreturn\u001b[0m \u001b[0mnext\u001b[0m\u001b[0;34m(\u001b[0m\u001b[0mss\u001b[0m\u001b[0;34m.\u001b[0m\u001b[0msplit\u001b[0m\u001b[0;34m(\u001b[0m\u001b[0mdata\u001b[0m\u001b[0;34m)\u001b[0m\u001b[0;34m)\u001b[0m\u001b[0;34m\u001b[0m\u001b[0m\n\u001b[0m\u001b[1;32m    335\u001b[0m \u001b[0;34m\u001b[0m\u001b[0m\n\u001b[1;32m    336\u001b[0m \u001b[0;34m\u001b[0m\u001b[0m\n",
      "\u001b[0;32m~/anaconda3/lib/python3.6/site-packages/surprise/model_selection/split.py\u001b[0m in \u001b[0;36msplit\u001b[0;34m(self, data)\u001b[0m\n\u001b[1;32m    274\u001b[0m \u001b[0;34m\u001b[0m\u001b[0m\n\u001b[1;32m    275\u001b[0m         test_size, train_size = self.validate_train_test_sizes(\n\u001b[0;32m--> 276\u001b[0;31m             self.test_size, self.train_size, len(data.raw_ratings))\n\u001b[0m\u001b[1;32m    277\u001b[0m         \u001b[0mrng\u001b[0m \u001b[0;34m=\u001b[0m \u001b[0mget_rng\u001b[0m\u001b[0;34m(\u001b[0m\u001b[0mself\u001b[0m\u001b[0;34m.\u001b[0m\u001b[0mrandom_state\u001b[0m\u001b[0;34m)\u001b[0m\u001b[0;34m\u001b[0m\u001b[0m\n\u001b[1;32m    278\u001b[0m \u001b[0;34m\u001b[0m\u001b[0m\n",
      "\u001b[0;32m~/anaconda3/lib/python3.6/site-packages/pandas/core/generic.py\u001b[0m in \u001b[0;36m__getattr__\u001b[0;34m(self, name)\u001b[0m\n\u001b[1;32m   4370\u001b[0m             \u001b[0;32mif\u001b[0m \u001b[0mself\u001b[0m\u001b[0;34m.\u001b[0m\u001b[0m_info_axis\u001b[0m\u001b[0;34m.\u001b[0m\u001b[0m_can_hold_identifiers_and_holds_name\u001b[0m\u001b[0;34m(\u001b[0m\u001b[0mname\u001b[0m\u001b[0;34m)\u001b[0m\u001b[0;34m:\u001b[0m\u001b[0;34m\u001b[0m\u001b[0m\n\u001b[1;32m   4371\u001b[0m                 \u001b[0;32mreturn\u001b[0m \u001b[0mself\u001b[0m\u001b[0;34m[\u001b[0m\u001b[0mname\u001b[0m\u001b[0;34m]\u001b[0m\u001b[0;34m\u001b[0m\u001b[0m\n\u001b[0;32m-> 4372\u001b[0;31m             \u001b[0;32mreturn\u001b[0m \u001b[0mobject\u001b[0m\u001b[0;34m.\u001b[0m\u001b[0m__getattribute__\u001b[0m\u001b[0;34m(\u001b[0m\u001b[0mself\u001b[0m\u001b[0;34m,\u001b[0m \u001b[0mname\u001b[0m\u001b[0;34m)\u001b[0m\u001b[0;34m\u001b[0m\u001b[0m\n\u001b[0m\u001b[1;32m   4373\u001b[0m \u001b[0;34m\u001b[0m\u001b[0m\n\u001b[1;32m   4374\u001b[0m     \u001b[0;32mdef\u001b[0m \u001b[0m__setattr__\u001b[0m\u001b[0;34m(\u001b[0m\u001b[0mself\u001b[0m\u001b[0;34m,\u001b[0m \u001b[0mname\u001b[0m\u001b[0;34m,\u001b[0m \u001b[0mvalue\u001b[0m\u001b[0;34m)\u001b[0m\u001b[0;34m:\u001b[0m\u001b[0;34m\u001b[0m\u001b[0m\n",
      "\u001b[0;31mAttributeError\u001b[0m: 'DataFrame' object has no attribute 'raw_ratings'"
     ]
    }
   ],
   "source": [
    "from surprise.model_selection import train_test_split\n",
    "trainset, testset = train_test_split(users_with_total, test_size=.25)"
   ]
  },
  {
   "cell_type": "code",
   "execution_count": 235,
   "metadata": {},
   "outputs": [
    {
     "data": {
      "text/html": [
       "<div>\n",
       "<style scoped>\n",
       "    .dataframe tbody tr th:only-of-type {\n",
       "        vertical-align: middle;\n",
       "    }\n",
       "\n",
       "    .dataframe tbody tr th {\n",
       "        vertical-align: top;\n",
       "    }\n",
       "\n",
       "    .dataframe thead th {\n",
       "        text-align: right;\n",
       "    }\n",
       "</style>\n",
       "<table border=\"1\" class=\"dataframe\">\n",
       "  <thead>\n",
       "    <tr style=\"text-align: right;\">\n",
       "      <th></th>\n",
       "      <th>users</th>\n",
       "      <th>artist_name</th>\n",
       "      <th>plays</th>\n",
       "      <th>total plays</th>\n",
       "    </tr>\n",
       "  </thead>\n",
       "  <tbody>\n",
       "    <tr>\n",
       "      <th>0</th>\n",
       "      <td>0</td>\n",
       "      <td>devendra banhart</td>\n",
       "      <td>456</td>\n",
       "      <td>868311.0</td>\n",
       "    </tr>\n",
       "    <tr>\n",
       "      <th>1</th>\n",
       "      <td>0</td>\n",
       "      <td>boards of canada</td>\n",
       "      <td>407</td>\n",
       "      <td>1750033.0</td>\n",
       "    </tr>\n",
       "    <tr>\n",
       "      <th>2</th>\n",
       "      <td>0</td>\n",
       "      <td>cocorosie</td>\n",
       "      <td>386</td>\n",
       "      <td>382582.0</td>\n",
       "    </tr>\n",
       "    <tr>\n",
       "      <th>3</th>\n",
       "      <td>0</td>\n",
       "      <td>aphex twin</td>\n",
       "      <td>213</td>\n",
       "      <td>1093663.0</td>\n",
       "    </tr>\n",
       "    <tr>\n",
       "      <th>4</th>\n",
       "      <td>0</td>\n",
       "      <td>animal collective</td>\n",
       "      <td>203</td>\n",
       "      <td>1808594.0</td>\n",
       "    </tr>\n",
       "    <tr>\n",
       "      <th>5</th>\n",
       "      <td>0</td>\n",
       "      <td>atmosphere</td>\n",
       "      <td>189</td>\n",
       "      <td>1173674.0</td>\n",
       "    </tr>\n",
       "    <tr>\n",
       "      <th>6</th>\n",
       "      <td>0</td>\n",
       "      <td>joanna newsom</td>\n",
       "      <td>184</td>\n",
       "      <td>401586.0</td>\n",
       "    </tr>\n",
       "    <tr>\n",
       "      <th>7</th>\n",
       "      <td>0</td>\n",
       "      <td>air</td>\n",
       "      <td>178</td>\n",
       "      <td>240890.0</td>\n",
       "    </tr>\n",
       "    <tr>\n",
       "      <th>8</th>\n",
       "      <td>0</td>\n",
       "      <td>portishead</td>\n",
       "      <td>162</td>\n",
       "      <td>851811.0</td>\n",
       "    </tr>\n",
       "    <tr>\n",
       "      <th>9</th>\n",
       "      <td>0</td>\n",
       "      <td>massive attack</td>\n",
       "      <td>149</td>\n",
       "      <td>783634.0</td>\n",
       "    </tr>\n",
       "    <tr>\n",
       "      <th>10</th>\n",
       "      <td>0</td>\n",
       "      <td>broken social scene</td>\n",
       "      <td>144</td>\n",
       "      <td>1474127.0</td>\n",
       "    </tr>\n",
       "    <tr>\n",
       "      <th>11</th>\n",
       "      <td>0</td>\n",
       "      <td>arcade fire</td>\n",
       "      <td>143</td>\n",
       "      <td>1724083.0</td>\n",
       "    </tr>\n",
       "    <tr>\n",
       "      <th>12</th>\n",
       "      <td>0</td>\n",
       "      <td>plaid</td>\n",
       "      <td>133</td>\n",
       "      <td>116667.0</td>\n",
       "    </tr>\n",
       "    <tr>\n",
       "      <th>13</th>\n",
       "      <td>0</td>\n",
       "      <td>fog</td>\n",
       "      <td>132</td>\n",
       "      <td>16842.0</td>\n",
       "    </tr>\n",
       "    <tr>\n",
       "      <th>14</th>\n",
       "      <td>0</td>\n",
       "      <td>prefuse 73</td>\n",
       "      <td>121</td>\n",
       "      <td>407428.0</td>\n",
       "    </tr>\n",
       "    <tr>\n",
       "      <th>15</th>\n",
       "      <td>0</td>\n",
       "      <td>m83</td>\n",
       "      <td>118</td>\n",
       "      <td>760290.0</td>\n",
       "    </tr>\n",
       "    <tr>\n",
       "      <th>16</th>\n",
       "      <td>0</td>\n",
       "      <td>the flashbulb</td>\n",
       "      <td>118</td>\n",
       "      <td>262909.0</td>\n",
       "    </tr>\n",
       "    <tr>\n",
       "      <th>17</th>\n",
       "      <td>0</td>\n",
       "      <td>pavement</td>\n",
       "      <td>117</td>\n",
       "      <td>1096794.0</td>\n",
       "    </tr>\n",
       "    <tr>\n",
       "      <th>18</th>\n",
       "      <td>0</td>\n",
       "      <td>goldfrapp</td>\n",
       "      <td>109</td>\n",
       "      <td>534976.0</td>\n",
       "    </tr>\n",
       "    <tr>\n",
       "      <th>19</th>\n",
       "      <td>0</td>\n",
       "      <td>amon tobin</td>\n",
       "      <td>106</td>\n",
       "      <td>357733.0</td>\n",
       "    </tr>\n",
       "    <tr>\n",
       "      <th>20</th>\n",
       "      <td>0</td>\n",
       "      <td>sage francis</td>\n",
       "      <td>106</td>\n",
       "      <td>401861.0</td>\n",
       "    </tr>\n",
       "    <tr>\n",
       "      <th>21</th>\n",
       "      <td>0</td>\n",
       "      <td>four tet</td>\n",
       "      <td>100</td>\n",
       "      <td>253461.0</td>\n",
       "    </tr>\n",
       "    <tr>\n",
       "      <th>22</th>\n",
       "      <td>0</td>\n",
       "      <td>brother ali</td>\n",
       "      <td>96</td>\n",
       "      <td>142451.0</td>\n",
       "    </tr>\n",
       "    <tr>\n",
       "      <th>23</th>\n",
       "      <td>0</td>\n",
       "      <td>max richter</td>\n",
       "      <td>94</td>\n",
       "      <td>138159.0</td>\n",
       "    </tr>\n",
       "    <tr>\n",
       "      <th>24</th>\n",
       "      <td>0</td>\n",
       "      <td>why?</td>\n",
       "      <td>91</td>\n",
       "      <td>338420.0</td>\n",
       "    </tr>\n",
       "    <tr>\n",
       "      <th>25</th>\n",
       "      <td>0</td>\n",
       "      <td>autechre</td>\n",
       "      <td>86</td>\n",
       "      <td>277789.0</td>\n",
       "    </tr>\n",
       "    <tr>\n",
       "      <th>26</th>\n",
       "      <td>0</td>\n",
       "      <td>radiohead</td>\n",
       "      <td>86</td>\n",
       "      <td>7931815.0</td>\n",
       "    </tr>\n",
       "    <tr>\n",
       "      <th>27</th>\n",
       "      <td>0</td>\n",
       "      <td>susumu yokota</td>\n",
       "      <td>85</td>\n",
       "      <td>39147.0</td>\n",
       "    </tr>\n",
       "    <tr>\n",
       "      <th>28</th>\n",
       "      <td>0</td>\n",
       "      <td>electrelane</td>\n",
       "      <td>84</td>\n",
       "      <td>111956.0</td>\n",
       "    </tr>\n",
       "    <tr>\n",
       "      <th>29</th>\n",
       "      <td>0</td>\n",
       "      <td>neutral milk hotel</td>\n",
       "      <td>83</td>\n",
       "      <td>1162980.0</td>\n",
       "    </tr>\n",
       "    <tr>\n",
       "      <th>...</th>\n",
       "      <td>...</td>\n",
       "      <td>...</td>\n",
       "      <td>...</td>\n",
       "      <td>...</td>\n",
       "    </tr>\n",
       "    <tr>\n",
       "      <th>3336242</th>\n",
       "      <td>66948</td>\n",
       "      <td>none more black</td>\n",
       "      <td>117</td>\n",
       "      <td>98291.0</td>\n",
       "    </tr>\n",
       "    <tr>\n",
       "      <th>3336243</th>\n",
       "      <td>66948</td>\n",
       "      <td>queen</td>\n",
       "      <td>117</td>\n",
       "      <td>1254795.0</td>\n",
       "    </tr>\n",
       "    <tr>\n",
       "      <th>3336244</th>\n",
       "      <td>66948</td>\n",
       "      <td>fucked up</td>\n",
       "      <td>109</td>\n",
       "      <td>82088.0</td>\n",
       "    </tr>\n",
       "    <tr>\n",
       "      <th>3336245</th>\n",
       "      <td>66948</td>\n",
       "      <td>eisbrecher</td>\n",
       "      <td>108</td>\n",
       "      <td>55515.0</td>\n",
       "    </tr>\n",
       "    <tr>\n",
       "      <th>3336246</th>\n",
       "      <td>66948</td>\n",
       "      <td>life long tragedy</td>\n",
       "      <td>107</td>\n",
       "      <td>39173.0</td>\n",
       "    </tr>\n",
       "    <tr>\n",
       "      <th>3336247</th>\n",
       "      <td>66948</td>\n",
       "      <td>hot snakes</td>\n",
       "      <td>96</td>\n",
       "      <td>97648.0</td>\n",
       "    </tr>\n",
       "    <tr>\n",
       "      <th>3336248</th>\n",
       "      <td>66948</td>\n",
       "      <td>trap them</td>\n",
       "      <td>95</td>\n",
       "      <td>30321.0</td>\n",
       "    </tr>\n",
       "    <tr>\n",
       "      <th>3336249</th>\n",
       "      <td>66948</td>\n",
       "      <td>black moth super rainbow</td>\n",
       "      <td>88</td>\n",
       "      <td>307557.0</td>\n",
       "    </tr>\n",
       "    <tr>\n",
       "      <th>3336250</th>\n",
       "      <td>66948</td>\n",
       "      <td>amon amarth</td>\n",
       "      <td>87</td>\n",
       "      <td>306701.0</td>\n",
       "    </tr>\n",
       "    <tr>\n",
       "      <th>3336251</th>\n",
       "      <td>66948</td>\n",
       "      <td>bloc party</td>\n",
       "      <td>81</td>\n",
       "      <td>1331562.0</td>\n",
       "    </tr>\n",
       "    <tr>\n",
       "      <th>3336252</th>\n",
       "      <td>66948</td>\n",
       "      <td>static-x</td>\n",
       "      <td>79</td>\n",
       "      <td>256984.0</td>\n",
       "    </tr>\n",
       "    <tr>\n",
       "      <th>3336253</th>\n",
       "      <td>66948</td>\n",
       "      <td>the union underground</td>\n",
       "      <td>75</td>\n",
       "      <td>6192.0</td>\n",
       "    </tr>\n",
       "    <tr>\n",
       "      <th>3336254</th>\n",
       "      <td>66948</td>\n",
       "      <td>children of bodom</td>\n",
       "      <td>74</td>\n",
       "      <td>444269.0</td>\n",
       "    </tr>\n",
       "    <tr>\n",
       "      <th>3336255</th>\n",
       "      <td>66948</td>\n",
       "      <td>marduk</td>\n",
       "      <td>70</td>\n",
       "      <td>30789.0</td>\n",
       "    </tr>\n",
       "    <tr>\n",
       "      <th>3336256</th>\n",
       "      <td>66948</td>\n",
       "      <td>cypress hill</td>\n",
       "      <td>69</td>\n",
       "      <td>170239.0</td>\n",
       "    </tr>\n",
       "    <tr>\n",
       "      <th>3336257</th>\n",
       "      <td>66948</td>\n",
       "      <td>crack the sky</td>\n",
       "      <td>67</td>\n",
       "      <td>3674.0</td>\n",
       "    </tr>\n",
       "    <tr>\n",
       "      <th>3336258</th>\n",
       "      <td>66948</td>\n",
       "      <td>cursed</td>\n",
       "      <td>66</td>\n",
       "      <td>65539.0</td>\n",
       "    </tr>\n",
       "    <tr>\n",
       "      <th>3336259</th>\n",
       "      <td>66948</td>\n",
       "      <td>sepultura</td>\n",
       "      <td>62</td>\n",
       "      <td>142862.0</td>\n",
       "    </tr>\n",
       "    <tr>\n",
       "      <th>3336260</th>\n",
       "      <td>66948</td>\n",
       "      <td>bloodhound gang</td>\n",
       "      <td>57</td>\n",
       "      <td>229061.0</td>\n",
       "    </tr>\n",
       "    <tr>\n",
       "      <th>3336261</th>\n",
       "      <td>66948</td>\n",
       "      <td>the jimi hendrix experience</td>\n",
       "      <td>57</td>\n",
       "      <td>283234.0</td>\n",
       "    </tr>\n",
       "    <tr>\n",
       "      <th>3336262</th>\n",
       "      <td>66948</td>\n",
       "      <td>chinese telephones</td>\n",
       "      <td>54</td>\n",
       "      <td>9805.0</td>\n",
       "    </tr>\n",
       "    <tr>\n",
       "      <th>3336263</th>\n",
       "      <td>66948</td>\n",
       "      <td>soilwork</td>\n",
       "      <td>53</td>\n",
       "      <td>230202.0</td>\n",
       "    </tr>\n",
       "    <tr>\n",
       "      <th>3336264</th>\n",
       "      <td>66948</td>\n",
       "      <td>his hero is gone</td>\n",
       "      <td>49</td>\n",
       "      <td>72951.0</td>\n",
       "    </tr>\n",
       "    <tr>\n",
       "      <th>3336265</th>\n",
       "      <td>66948</td>\n",
       "      <td>seether</td>\n",
       "      <td>48</td>\n",
       "      <td>260603.0</td>\n",
       "    </tr>\n",
       "    <tr>\n",
       "      <th>3336266</th>\n",
       "      <td>66948</td>\n",
       "      <td>coal chamber</td>\n",
       "      <td>46</td>\n",
       "      <td>50013.0</td>\n",
       "    </tr>\n",
       "    <tr>\n",
       "      <th>3336267</th>\n",
       "      <td>66948</td>\n",
       "      <td>chevelle</td>\n",
       "      <td>44</td>\n",
       "      <td>345585.0</td>\n",
       "    </tr>\n",
       "    <tr>\n",
       "      <th>3336268</th>\n",
       "      <td>66948</td>\n",
       "      <td>vader</td>\n",
       "      <td>43</td>\n",
       "      <td>64792.0</td>\n",
       "    </tr>\n",
       "    <tr>\n",
       "      <th>3336269</th>\n",
       "      <td>66948</td>\n",
       "      <td>powerman 5000</td>\n",
       "      <td>41</td>\n",
       "      <td>90334.0</td>\n",
       "    </tr>\n",
       "    <tr>\n",
       "      <th>3336270</th>\n",
       "      <td>66948</td>\n",
       "      <td>behemoth</td>\n",
       "      <td>40</td>\n",
       "      <td>166551.0</td>\n",
       "    </tr>\n",
       "    <tr>\n",
       "      <th>3336271</th>\n",
       "      <td>66948</td>\n",
       "      <td>green day</td>\n",
       "      <td>40</td>\n",
       "      <td>1901382.0</td>\n",
       "    </tr>\n",
       "  </tbody>\n",
       "</table>\n",
       "<p>3298956 rows × 4 columns</p>\n",
       "</div>"
      ],
      "text/plain": [
       "         users                  artist_name  plays  total plays\n",
       "0            0             devendra banhart    456     868311.0\n",
       "1            0             boards of canada    407    1750033.0\n",
       "2            0                    cocorosie    386     382582.0\n",
       "3            0                   aphex twin    213    1093663.0\n",
       "4            0            animal collective    203    1808594.0\n",
       "5            0                   atmosphere    189    1173674.0\n",
       "6            0                joanna newsom    184     401586.0\n",
       "7            0                          air    178     240890.0\n",
       "8            0                   portishead    162     851811.0\n",
       "9            0               massive attack    149     783634.0\n",
       "10           0          broken social scene    144    1474127.0\n",
       "11           0                  arcade fire    143    1724083.0\n",
       "12           0                        plaid    133     116667.0\n",
       "13           0                          fog    132      16842.0\n",
       "14           0                   prefuse 73    121     407428.0\n",
       "15           0                          m83    118     760290.0\n",
       "16           0                the flashbulb    118     262909.0\n",
       "17           0                     pavement    117    1096794.0\n",
       "18           0                    goldfrapp    109     534976.0\n",
       "19           0                   amon tobin    106     357733.0\n",
       "20           0                 sage francis    106     401861.0\n",
       "21           0                     four tet    100     253461.0\n",
       "22           0                  brother ali     96     142451.0\n",
       "23           0                  max richter     94     138159.0\n",
       "24           0                         why?     91     338420.0\n",
       "25           0                     autechre     86     277789.0\n",
       "26           0                    radiohead     86    7931815.0\n",
       "27           0                susumu yokota     85      39147.0\n",
       "28           0                  electrelane     84     111956.0\n",
       "29           0           neutral milk hotel     83    1162980.0\n",
       "...        ...                          ...    ...          ...\n",
       "3336242  66948              none more black    117      98291.0\n",
       "3336243  66948                        queen    117    1254795.0\n",
       "3336244  66948                    fucked up    109      82088.0\n",
       "3336245  66948                   eisbrecher    108      55515.0\n",
       "3336246  66948            life long tragedy    107      39173.0\n",
       "3336247  66948                   hot snakes     96      97648.0\n",
       "3336248  66948                    trap them     95      30321.0\n",
       "3336249  66948     black moth super rainbow     88     307557.0\n",
       "3336250  66948                  amon amarth     87     306701.0\n",
       "3336251  66948                   bloc party     81    1331562.0\n",
       "3336252  66948                     static-x     79     256984.0\n",
       "3336253  66948        the union underground     75       6192.0\n",
       "3336254  66948            children of bodom     74     444269.0\n",
       "3336255  66948                       marduk     70      30789.0\n",
       "3336256  66948                 cypress hill     69     170239.0\n",
       "3336257  66948                crack the sky     67       3674.0\n",
       "3336258  66948                       cursed     66      65539.0\n",
       "3336259  66948                    sepultura     62     142862.0\n",
       "3336260  66948              bloodhound gang     57     229061.0\n",
       "3336261  66948  the jimi hendrix experience     57     283234.0\n",
       "3336262  66948           chinese telephones     54       9805.0\n",
       "3336263  66948                     soilwork     53     230202.0\n",
       "3336264  66948             his hero is gone     49      72951.0\n",
       "3336265  66948                      seether     48     260603.0\n",
       "3336266  66948                 coal chamber     46      50013.0\n",
       "3336267  66948                     chevelle     44     345585.0\n",
       "3336268  66948                        vader     43      64792.0\n",
       "3336269  66948                powerman 5000     41      90334.0\n",
       "3336270  66948                     behemoth     40     166551.0\n",
       "3336271  66948                    green day     40    1901382.0\n",
       "\n",
       "[3298956 rows x 4 columns]"
      ]
     },
     "execution_count": 235,
     "metadata": {},
     "output_type": "execute_result"
    }
   ],
   "source": [
    "users_with_total.columns ={'users',}"
   ]
  },
  {
   "cell_type": "markdown",
   "metadata": {},
   "source": [
    "# 2124 Artists with intersection. Enough for recommendation system\n",
    "# Recommend from these"
   ]
  },
  {
   "cell_type": "code",
   "execution_count": 125,
   "metadata": {},
   "outputs": [
    {
     "name": "stdout",
     "output_type": "stream",
     "text": [
      "<class 'pandas.core.frame.DataFrame'>\n",
      "CategoricalIndex: 5205 entries, devendra banhart to merele haggard\n",
      "Columns: 66863 entries, 0 to 66948\n",
      "dtypes: float64(66863)\n",
      "memory usage: 2.6 GB\n"
     ]
    }
   ],
   "source": [
    "### Now Pivot the table to transform the data. m items and n users\n",
    "pivoted = top5.pivot_table(index='artist_name', columns='users', values='plays').fillna(0)\n",
    "pivoted.info()"
   ]
  },
  {
   "cell_type": "code",
   "execution_count": null,
   "metadata": {},
   "outputs": [],
   "source": [
    "\n"
   ]
  },
  {
   "cell_type": "markdown",
   "metadata": {},
   "source": [
    "# Collaborative Based Filtering Users/Artists\n",
    "# Information Retrieval"
   ]
  },
  {
   "cell_type": "markdown",
   "metadata": {},
   "source": [
    "Calculating similarity matrix based on different methods."
   ]
  },
  {
   "cell_type": "code",
   "execution_count": 127,
   "metadata": {},
   "outputs": [],
   "source": [
    "sparse = csr_matrix(pivoted.values)"
   ]
  },
  {
   "cell_type": "code",
   "execution_count": 56,
   "metadata": {},
   "outputs": [
    {
     "data": {
      "text/plain": [
       "<3424x66836 sparse matrix of type '<class 'numpy.float64'>'\n",
       "\twith 2478240 stored elements in Compressed Sparse Row format>"
      ]
     },
     "execution_count": 56,
     "metadata": {},
     "output_type": "execute_result"
    }
   ],
   "source": [
    "sparse"
   ]
  },
  {
   "cell_type": "code",
   "execution_count": 128,
   "metadata": {},
   "outputs": [
    {
     "data": {
      "text/plain": [
       "NearestNeighbors(algorithm='brute', leaf_size=30, metric='cosine',\n",
       "         metric_params=None, n_jobs=1, n_neighbors=5, p=2, radius=1.0)"
      ]
     },
     "execution_count": 128,
     "metadata": {},
     "output_type": "execute_result"
    }
   ],
   "source": [
    "model_knn = NearestNeighbors(metric='cosine',algorithm = 'brute')\n",
    "model_knn.fit(sparse)"
   ]
  },
  {
   "cell_type": "code",
   "execution_count": 129,
   "metadata": {},
   "outputs": [
    {
     "name": "stdout",
     "output_type": "stream",
     "text": [
      "Recommendations for old mans child:\n",
      "\n",
      "1: tower of power, with distance of 0.5030764967966783:\n",
      "2: arch enemy, with distance of 0.8533535823148006:\n",
      "3: dissection, with distance of 0.8892330808838016:\n",
      "4: dying fetus, with distance of 0.8951466000086633:\n",
      "5: lamb of god, with distance of 0.8960220314423025:\n"
     ]
    }
   ],
   "source": [
    "query_index = np.random.choice(pivoted.shape[0])\n",
    "distances, indices = model_knn.kneighbors(pivoted.iloc[query_index, :].values.reshape(1, -1), n_neighbors = 6)\n",
    "\n",
    "\n",
    "for i in range(0, len(distances.flatten())):\n",
    "    if i == 0:\n",
    "        print ('Recommendations for {0}:\\n'.format(pivoted.index[query_index]))\n",
    "    else:\n",
    "        print ('{0}: {1}, with distance of {2}:'.format(i, pivoted.index[indices.flatten()[i]], distances.flatten()[i]))"
   ]
  },
  {
   "cell_type": "code",
   "execution_count": 67,
   "metadata": {},
   "outputs": [
    {
     "data": {
      "text/plain": [
       "array([1.11022302e-16, 6.23414462e-01, 6.43431575e-01, 6.82500580e-01,\n",
       "       7.23153763e-01, 7.32854719e-01])"
      ]
     },
     "execution_count": 67,
     "metadata": {},
     "output_type": "execute_result"
    }
   ],
   "source": [
    "distances.flatten()"
   ]
  },
  {
   "cell_type": "code",
   "execution_count": null,
   "metadata": {},
   "outputs": [],
   "source": []
  },
  {
   "cell_type": "code",
   "execution_count": null,
   "metadata": {},
   "outputs": [],
   "source": [
    "def collaborative_rec(query_index, cosine_sim = sim.values):\n",
    "    \n",
    "    recommended_songs = []\n",
    "    \n",
    "    # gettin the index of the movie that matches the title\n",
    "    idx = indices[indices == spotify_id].index[0]\n",
    "\n",
    "    # creating a Series with the similarity scores in descending order\n",
    "    score_series = pd.Series(cosine_sim[idx]).sort_values(ascending = False)\n",
    "\n",
    "    # getting the indexes of the 10 most similar movies\n",
    "    top_5_indexes = list(score_series.iloc[1:6].index)\n",
    "\n",
    "    # populating the list with the titles of the best 10 matching movies\n",
    "    for i in top_5_indexes:\n",
    "        recommended_songs.append(list(merged_popular.index)[i])\n",
    "    \n",
    "    return merged_popular[merged_popular.index.isin(recommended_songs)]"
   ]
  },
  {
   "cell_type": "code",
   "execution_count": 37,
   "metadata": {},
   "outputs": [
    {
     "ename": "SyntaxError",
     "evalue": "unexpected EOF while parsing (<ipython-input-37-14428e88dab3>, line 2)",
     "output_type": "error",
     "traceback": [
      "\u001b[0;36m  File \u001b[0;32m\"<ipython-input-37-14428e88dab3>\"\u001b[0;36m, line \u001b[0;32m2\u001b[0m\n\u001b[0;31m    \u001b[0m\n\u001b[0m    ^\u001b[0m\n\u001b[0;31mSyntaxError\u001b[0m\u001b[0;31m:\u001b[0m unexpected EOF while parsing\n"
     ]
    }
   ],
   "source": [
    "idf = [1 + log(N/(1+docF) for docF in)] \n",
    "\n",
    "# IDF diminishes the weight of terms that occur frequently in the document. \n",
    "    "
   ]
  },
  {
   "cell_type": "code",
   "execution_count": null,
   "metadata": {},
   "outputs": [],
   "source": [
    "def bm25"
   ]
  },
  {
   "cell_type": "markdown",
   "metadata": {},
   "source": [
    "### THINGS TO DO \n",
    "### HOW ARE YOU GONNA BUILD A LINEAR MODEL SETTING Y=POPUALRITY.\n",
    "### COMBINE SVD TO SIMILAR FEATURES TO SUMMARIZE FEATURES\n",
    "### Calculating Similarities between each songs. (Done)\n",
    "### How can I recommend songs based on the artists they like?\n",
    "### Grouby Genres --> and combine audio_features?\n",
    "A hybrid approach called collaboration via content deals with these issues by incorporating both the information used by content-based filtering and by collaborative filtering."
   ]
  },
  {
   "cell_type": "code",
   "execution_count": 33,
   "metadata": {},
   "outputs": [
    {
     "ename": "TypeError",
     "evalue": "'numpy.bool_' object is not iterable",
     "output_type": "error",
     "traceback": [
      "\u001b[0;31m---------------------------------------------------------------------------\u001b[0m",
      "\u001b[0;31mTypeError\u001b[0m                                 Traceback (most recent call last)",
      "\u001b[0;32m<ipython-input-33-cec66dfba4cf>\u001b[0m in \u001b[0;36m<module>\u001b[0;34m()\u001b[0m\n\u001b[0;32m----> 1\u001b[0;31m \u001b[0mmax\u001b[0m\u001b[0;34m(\u001b[0m\u001b[0mcollabo_sim\u001b[0m\u001b[0;34m.\u001b[0m\u001b[0mall\u001b[0m\u001b[0;34m(\u001b[0m\u001b[0;34m)\u001b[0m\u001b[0;34m)\u001b[0m\u001b[0;34m\u001b[0m\u001b[0m\n\u001b[0m",
      "\u001b[0;31mTypeError\u001b[0m: 'numpy.bool_' object is not iterable"
     ]
    }
   ],
   "source": []
  },
  {
   "cell_type": "code",
   "execution_count": 22,
   "metadata": {},
   "outputs": [],
   "source": [
    "# trainset, testset = train_test_split(pivoted, test_size=.15)\n",
    "# knn = surprise.KNNWithMeans(k=6,im_options={'name': 'pearson_baseline', 'user_based': True})\n",
    "\n"
   ]
  },
  {
   "cell_type": "markdown",
   "metadata": {},
   "source": []
  },
  {
   "cell_type": "code",
   "execution_count": null,
   "metadata": {},
   "outputs": [],
   "source": []
  },
  {
   "cell_type": "markdown",
   "metadata": {},
   "source": [
    "## Data Visualization"
   ]
  },
  {
   "cell_type": "code",
   "execution_count": 34,
   "metadata": {},
   "outputs": [],
   "source": [
    "def heatMap(df):\n",
    "    \"\"\" Taking a dataframe and returns to Heat Map to describe \n",
    "        each of features in the df.\n",
    "    \"\"\"\n",
    "    corr = df.corr()\n",
    "    # Return Upper Triangular Correlation Matrix, since corr matrix is symmetric.\n",
    "    mask = np.zeros_like(corr, dtype=np.bool)\n",
    "    mask[np.triu_indices_from(mask)] = True\n",
    "    \n",
    "    # Set Figures\n",
    "    fig, ax = plt.subplots(figsize=(10, 10))\n",
    "    # Generate Color Map\n",
    "    colormap = sns.diverging_palette(220, 10, as_cmap=True)\n",
    "    # Generate Heat Map based on Correlation\n",
    "    sns.heatmap(corr, mask=mask, cmap=colormap, annot=True, fmt=\".2f\")\n",
    "    \n",
    "    # Apply xticks\n",
    "    plt.xticks(range(len(corr.columns)), corr.columns);\n",
    "    # Apply yticks\n",
    "    plt.yticks(range(len(corr.columns)), corr.columns)\n",
    "    # Show plot\n",
    "    plt.show()"
   ]
  },
  {
   "cell_type": "code",
   "execution_count": 35,
   "metadata": {},
   "outputs": [
    {
     "data": {
      "image/png": "[encoded data removed]",
      "text/plain": [
       "<Figure size 720x720 with 2 Axes>"
      ]
     },
     "metadata": {},
     "output_type": "display_data"
    }
   ],
   "source": [
    "heatMap(merged)"
   ]
  },
  {
   "cell_type": "markdown",
   "metadata": {},
   "source": [
    "As we can see from the heat map, energy and loudness are negativley correlated with acousticness, but strongly positively correlated to each other.\n",
    "There is no significant factor that affects popularity; however, there is a slightly negative correlation bewteen instrumentalness and popularity. It might be the fact that classical musics are instrumental and are not frequently on Billboard Top 100."
   ]
  },
  {
   "cell_type": "code",
   "execution_count": null,
   "metadata": {},
   "outputs": [],
   "source": [
    "#plt.hist(x=artists_merged['total plays'], normed=True, bins=100, histtype='stepfilled')\n",
    "artists_merged['total plays'].describe()"
   ]
  },
  {
   "cell_type": "markdown",
   "metadata": {},
   "source": [
    "There was a huge difference between minimum plays and maximum plays. Hence, I would like to exclude some data points to prevent the noise."
   ]
  },
  {
   "cell_type": "code",
   "execution_count": null,
   "metadata": {},
   "outputs": [],
   "source": [
    "#total = pd.merge(profile_merged,merged, on='artist_name', how='left')"
   ]
  },
  {
   "cell_type": "markdown",
   "metadata": {},
   "source": [
    "How to connect KNN two matrix. \n",
    "1. profile and artist_name --> Will recommend artist based on the number of plays. Collarborative Filtering\n",
    "2. songs and features --> will recommend songs. Content Based Filters.\n",
    "\n",
    "Get average of each features for unique artists and then apply knn to get similar artist based on features?\n",
    "How to connect User-based and item-based."
   ]
  },
  {
   "cell_type": "code",
   "execution_count": 81,
   "metadata": {},
   "outputs": [],
   "source": [
    "X = [merged.acousticness, merged.danceability, merged.energy, merged.instrumentalness,\n",
    "     merged.liveness, merged.speechiness, merged.tempo, merged.valence]\n",
    "Y = merged.popularity.tolist()"
   ]
  },
  {
   "cell_type": "code",
   "execution_count": 82,
   "metadata": {},
   "outputs": [],
   "source": [
    "r_squared = [] # The coefficient of determination. A statistical measure of how well the regression line approximates the popularity.\n",
    "\n",
    "for x in X:\n",
    "    result = sm.OLS(Y,x).fit()\n",
    "    r_squared.append(result.rsquared)"
   ]
  },
  {
   "cell_type": "code",
   "execution_count": null,
   "metadata": {},
   "outputs": [],
   "source": [
    "\n"
   ]
  },
  {
   "cell_type": "markdown",
   "metadata": {},
   "source": [
    "# 7/3 Build KNN System.\n",
    "# Think how you will map audio_features to songs and summarize audio_feautres."
   ]
  },
  {
   "cell_type": "markdown",
   "metadata": {},
   "source": [
    "Split train and test data by using surprise library.\n",
    "Build some models for doing predictions.\n",
    "Try to regenerate other artists' genre from Spotify data using the artists generated from the recommender built based on Last.FM data,"
   ]
  },
  {
   "cell_type": "code",
   "execution_count": null,
   "metadata": {},
   "outputs": [],
   "source": []
  }
 ],
 "metadata": {
  "kernelspec": {
   "display_name": "Python 3",
   "language": "python",
   "name": "python3"
  },
  "language_info": {
   "codemirror_mode": {
    "name": "ipython",
    "version": 3
   },
   "file_extension": ".py",
   "mimetype": "text/x-python",
   "name": "python",
   "nbconvert_exporter": "python",
   "pygments_lexer": "ipython3",
   "version": "3.6.5"
  }
 },
 "nbformat": 4,
 "nbformat_minor": 2
}
