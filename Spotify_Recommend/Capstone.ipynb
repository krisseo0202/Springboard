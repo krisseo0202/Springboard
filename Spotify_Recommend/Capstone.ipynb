{
 "cells": [
  {
   "cell_type": "code",
   "execution_count": 1,
   "metadata": {},
   "outputs": [
    {
     "name": "stderr",
     "output_type": "stream",
     "text": [
      "/Users/krisseo/anaconda3/lib/python3.6/site-packages/fuzzywuzzy/fuzz.py:11: UserWarning: Using slow pure-python SequenceMatcher. Install python-Levenshtein to remove this warning\n",
      "  warnings.warn('Using slow pure-python SequenceMatcher. Install python-Levenshtein to remove this warning')\n",
      "/Users/krisseo/anaconda3/lib/python3.6/site-packages/lightfm/_lightfm_fast.py:9: UserWarning: LightFM was compiled without OpenMP support. Only a single thread will be used.\n",
      "  warnings.warn('LightFM was compiled without OpenMP support. '\n"
     ]
    }
   ],
   "source": [
    "# Ignore  the warnings\n",
    "import warnings\n",
    "warnings.filterwarnings('always')\n",
    "warnings.filterwarnings('ignore')\n",
    "\n",
    "import pandas as pd\n",
    "import numpy as np\n",
    "import seaborn as sns\n",
    "import matplotlib.pyplot as plt\n",
    "import glob\n",
    "import pickle\n",
    "import random\n",
    "import itertools\n",
    "import scipy\n",
    "from scipy.sparse import csr_matrix, coo_matrix\n",
    "import statsmodels.api as sm\n",
    "\n",
    "\n",
    "from sklearn import metrics\n",
    "from sklearn.preprocessing import StandardScaler\n",
    "from sklearn.decomposition import PCA\n",
    "\n",
    "from sklearn.neighbors import KNeighborsClassifier\n",
    "from sklearn.neighbors import NearestNeighbors\n",
    "\n",
    "from sklearn.metrics import mean_squared_error\n",
    "from sklearn.metrics.pairwise import cosine_similarity\n",
    "\n",
    "from sklearn.feature_extraction.text import TfidfVectorizer\n",
    "from sklearn.feature_extraction.text import CountVectorizer\n",
    "\n",
    "\n",
    "from fuzzywuzzy import fuzz\n",
    "\n",
    "from lightfm import LightFM\n",
    "from lightfm.evaluation import auc_score as lightfm_auc_score\n",
    "from lightfm.evaluation import precision_at_k\n",
    "from lightfm.cross_validation import random_train_test_split\n",
    "\n",
    "import implicit"
   ]
  },
  {
   "cell_type": "markdown",
   "metadata": {},
   "source": [
    "## Load Music Data / Data Collection\n",
    "***"
   ]
  },
  {
   "cell_type": "code",
   "execution_count": 2,
   "metadata": {
    "scrolled": true
   },
   "outputs": [],
   "source": [
    "artname = pd.read_csv('data/usersha1-artmbid-artname-plays.tsv', sep='\\t', header=None, names = ['users', 'artist_id', 'artist_name', 'plays'])\n",
    "profile = pd.read_csv('data/usersha1-profile.tsv', sep='\\t', header=None, names = ['users', 'gender', 'age', 'country', 'sign_up'],\n",
    "                        usecols = ['users', 'country'])\n"
   ]
  },
  {
   "cell_type": "code",
   "execution_count": 3,
   "metadata": {},
   "outputs": [],
   "source": [
    "artists_id = pd.Series(artname.artist_name.values,index=artname.artist_id).to_dict()"
   ]
  },
  {
   "cell_type": "code",
   "execution_count": 4,
   "metadata": {},
   "outputs": [],
   "source": [
    "# To make sure the artist_name is not duplicated by similar names, used mapping from artist name to artist id\n",
    "# Some of the artists had exact artist_ids but their names were incorrect.\n",
    "artname.artist_name = artname.artist_id.map(artists_id) "
   ]
  },
  {
   "cell_type": "code",
   "execution_count": 5,
   "metadata": {},
   "outputs": [
    {
     "data": {
      "text/html": [
       "<div>\n",
       "<style scoped>\n",
       "    .dataframe tbody tr th:only-of-type {\n",
       "        vertical-align: middle;\n",
       "    }\n",
       "\n",
       "    .dataframe tbody tr th {\n",
       "        vertical-align: top;\n",
       "    }\n",
       "\n",
       "    .dataframe thead th {\n",
       "        text-align: right;\n",
       "    }\n",
       "</style>\n",
       "<table border=\"1\" class=\"dataframe\">\n",
       "  <thead>\n",
       "    <tr style=\"text-align: right;\">\n",
       "      <th></th>\n",
       "      <th>artist_name</th>\n",
       "      <th>track_name</th>\n",
       "      <th>pid</th>\n",
       "    </tr>\n",
       "    <tr>\n",
       "      <th>trackid</th>\n",
       "      <th></th>\n",
       "      <th></th>\n",
       "      <th></th>\n",
       "    </tr>\n",
       "  </thead>\n",
       "  <tbody>\n",
       "    <tr>\n",
       "      <th>spotify:track:2vCtiBvJJZfz773yTfAxPP</th>\n",
       "      <td>Lost Frequencies</td>\n",
       "      <td>What Is Love 2016 - Mike Mago Remix</td>\n",
       "      <td>3000</td>\n",
       "    </tr>\n",
       "    <tr>\n",
       "      <th>spotify:track:5WOLZP8KrXiupBjG1SSN5U</th>\n",
       "      <td>John Legend</td>\n",
       "      <td>Love Me Now - Dave Audé Remix Radio Edit</td>\n",
       "      <td>3000</td>\n",
       "    </tr>\n",
       "    <tr>\n",
       "      <th>spotify:track:0oQDQ9QiqsO63EEBAro8Le</th>\n",
       "      <td>July Child</td>\n",
       "      <td>Thinkin of U</td>\n",
       "      <td>3000</td>\n",
       "    </tr>\n",
       "    <tr>\n",
       "      <th>spotify:track:7MUS0La2IQ85vJ59fQqtoN</th>\n",
       "      <td>Tiësto</td>\n",
       "      <td>I Will Be Here - (Wolfgang Gartner Remix)</td>\n",
       "      <td>3000</td>\n",
       "    </tr>\n",
       "    <tr>\n",
       "      <th>spotify:track:3ciyZYofjiqmMUElM5qgGB</th>\n",
       "      <td>Joe Stone</td>\n",
       "      <td>The Party (This Is How We Do It)</td>\n",
       "      <td>3000</td>\n",
       "    </tr>\n",
       "  </tbody>\n",
       "</table>\n",
       "</div>"
      ],
      "text/plain": [
       "                                           artist_name  \\\n",
       "trackid                                                  \n",
       "spotify:track:2vCtiBvJJZfz773yTfAxPP  Lost Frequencies   \n",
       "spotify:track:5WOLZP8KrXiupBjG1SSN5U       John Legend   \n",
       "spotify:track:0oQDQ9QiqsO63EEBAro8Le        July Child   \n",
       "spotify:track:7MUS0La2IQ85vJ59fQqtoN            Tiësto   \n",
       "spotify:track:3ciyZYofjiqmMUElM5qgGB         Joe Stone   \n",
       "\n",
       "                                                                     track_name  \\\n",
       "trackid                                                                           \n",
       "spotify:track:2vCtiBvJJZfz773yTfAxPP        What Is Love 2016 - Mike Mago Remix   \n",
       "spotify:track:5WOLZP8KrXiupBjG1SSN5U   Love Me Now - Dave Audé Remix Radio Edit   \n",
       "spotify:track:0oQDQ9QiqsO63EEBAro8Le                               Thinkin of U   \n",
       "spotify:track:7MUS0La2IQ85vJ59fQqtoN  I Will Be Here - (Wolfgang Gartner Remix)   \n",
       "spotify:track:3ciyZYofjiqmMUElM5qgGB           The Party (This Is How We Do It)   \n",
       "\n",
       "                                       pid  \n",
       "trackid                                     \n",
       "spotify:track:2vCtiBvJJZfz773yTfAxPP  3000  \n",
       "spotify:track:5WOLZP8KrXiupBjG1SSN5U  3000  \n",
       "spotify:track:0oQDQ9QiqsO63EEBAro8Le  3000  \n",
       "spotify:track:7MUS0La2IQ85vJ59fQqtoN  3000  \n",
       "spotify:track:3ciyZYofjiqmMUElM5qgGB  3000  "
      ]
     },
     "execution_count": 5,
     "metadata": {},
     "output_type": "execute_result"
    }
   ],
   "source": [
    "#Getting all the spotify_data follwing by numbers\n",
    "filenames = glob.glob('data/spotify_data*.csv')\n",
    "l = []\n",
    "for file in filenames: \n",
    "    df = pd.read_csv(file)\n",
    "    l.append(df)\n",
    "    \n",
    "spotify_data = pd.concat(l, axis = 0,ignore_index= True)\n",
    "spotify_data.set_index('trackid', inplace=True)\n",
    "spotify_data.head()"
   ]
  },
  {
   "cell_type": "code",
   "execution_count": 6,
   "metadata": {},
   "outputs": [
    {
     "data": {
      "text/html": [
       "<div>\n",
       "<style scoped>\n",
       "    .dataframe tbody tr th:only-of-type {\n",
       "        vertical-align: middle;\n",
       "    }\n",
       "\n",
       "    .dataframe tbody tr th {\n",
       "        vertical-align: top;\n",
       "    }\n",
       "\n",
       "    .dataframe thead th {\n",
       "        text-align: right;\n",
       "    }\n",
       "</style>\n",
       "<table border=\"1\" class=\"dataframe\">\n",
       "  <thead>\n",
       "    <tr style=\"text-align: right;\">\n",
       "      <th></th>\n",
       "      <th>artist_name</th>\n",
       "      <th>genre</th>\n",
       "    </tr>\n",
       "  </thead>\n",
       "  <tbody>\n",
       "    <tr>\n",
       "      <th>0</th>\n",
       "      <td>Rumer</td>\n",
       "      <td>british singer-songwriter</td>\n",
       "    </tr>\n",
       "    <tr>\n",
       "      <th>1</th>\n",
       "      <td>Anita Wilson</td>\n",
       "      <td>contemporary gospel</td>\n",
       "    </tr>\n",
       "    <tr>\n",
       "      <th>2</th>\n",
       "      <td>Anita Wilson</td>\n",
       "      <td>gospel</td>\n",
       "    </tr>\n",
       "    <tr>\n",
       "      <th>3</th>\n",
       "      <td>Anita Wilson</td>\n",
       "      <td>gospel r&amp;b</td>\n",
       "    </tr>\n",
       "    <tr>\n",
       "      <th>4</th>\n",
       "      <td>Matrimony</td>\n",
       "      <td>charlotte nc indie</td>\n",
       "    </tr>\n",
       "  </tbody>\n",
       "</table>\n",
       "</div>"
      ],
      "text/plain": [
       "    artist_name                      genre\n",
       "0         Rumer  british singer-songwriter\n",
       "1  Anita Wilson        contemporary gospel\n",
       "2  Anita Wilson                     gospel\n",
       "3  Anita Wilson                 gospel r&b\n",
       "4     Matrimony         charlotte nc indie"
      ]
     },
     "execution_count": 6,
     "metadata": {},
     "output_type": "execute_result"
    }
   ],
   "source": [
    "artists_genres = pickle.load(open(\"artists_genres.p\", 'rb'))\n",
    "artists_genres.head()"
   ]
  },
  {
   "cell_type": "code",
   "execution_count": 7,
   "metadata": {},
   "outputs": [],
   "source": [
    "artists_genres.artist_name = artists_genres.artist_name.str.lower()"
   ]
  },
  {
   "cell_type": "code",
   "execution_count": 8,
   "metadata": {},
   "outputs": [],
   "source": [
    "bag_of_genres = artists_genres[artists_genres.artist_name.isin(artname.artist_name)]"
   ]
  },
  {
   "cell_type": "code",
   "execution_count": 9,
   "metadata": {},
   "outputs": [],
   "source": [
    "bag_of_genres.genre = bag_of_genres.genre.astype('category')"
   ]
  },
  {
   "cell_type": "code",
   "execution_count": 10,
   "metadata": {},
   "outputs": [
    {
     "data": {
      "text/plain": [
       "1843"
      ]
     },
     "execution_count": 10,
     "metadata": {},
     "output_type": "execute_result"
    }
   ],
   "source": [
    "len(set(bag_of_genres.genre)) # Total Number of Genres"
   ]
  },
  {
   "cell_type": "code",
   "execution_count": 11,
   "metadata": {},
   "outputs": [
    {
     "name": "stdout",
     "output_type": "stream",
     "text": [
      "(16409, 1)\n",
      "                                                                 genre\n",
      "artist_name                                                           \n",
      "!!!                  alternative dance, dance-punk, electronic, fil...\n",
      "\"weird al\" yankovic                  antiviral pop, comedy rock, comic\n",
      "#1 dads                                               australian indie\n",
      "$teven cannon               dark trap, underground hip hop, vapor trap\n",
      "$uicideboy$            dark trap, new orleans rap, underground hip hop\n"
     ]
    }
   ],
   "source": [
    "bag_of_genres = pd.DataFrame(artists_genres.groupby('artist_name')['genre'].agg(lambda x: ', '.join(x)))\n",
    "print(bag_of_genres.shape) # 16409 Artists\n",
    "print(bag_of_genres.head())\n"
   ]
  },
  {
   "cell_type": "code",
   "execution_count": 14,
   "metadata": {},
   "outputs": [],
   "source": [
    "all_features = pickle.load(open(\"all_features.p\",\"rb\"))\n",
    "all_features = all_features.drop(['duration_ms','key','mode','time_signature'], axis=1)\n"
   ]
  },
  {
   "cell_type": "code",
   "execution_count": 15,
   "metadata": {},
   "outputs": [],
   "source": [
    "track_features = pd.merge(all_features,spotify_data, left_index=True, right_index=True) # Merging Two dataframes based on their indexes to combine all the information.\n",
    "track_features = track_features[~track_features.index.duplicated(keep='first')] # Dropping duplicated index.\n",
    "\n",
    "track_features['artist_name'] = track_features['artist_name'].astype(str).str.lower() # Generalize artist name\n"
   ]
  },
  {
   "cell_type": "markdown",
   "metadata": {},
   "source": [
    "I want to use Item-based collaborative filtering by using each song's features as listed below. \n",
    "Get similarity scores between one artists music features and all artists' the user listened.\n"
   ]
  },
  {
   "cell_type": "code",
   "execution_count": 16,
   "metadata": {},
   "outputs": [
    {
     "name": "stdout",
     "output_type": "stream",
     "text": [
      "<class 'pandas.core.frame.DataFrame'>\n",
      "Index: 93132 entries, spotify:track:000VZqvXwT0YNqKk7iG2GS to spotify:track:7zzLt6Z9y7jMvXnEg00n58\n",
      "Data columns (total 13 columns):\n",
      "acousticness        93132 non-null float64\n",
      "danceability        93132 non-null float64\n",
      "energy              93132 non-null float64\n",
      "instrumentalness    93132 non-null float64\n",
      "liveness            93132 non-null float64\n",
      "loudness            93132 non-null float64\n",
      "speechiness         93132 non-null float64\n",
      "tempo               93132 non-null float64\n",
      "valence             93132 non-null float64\n",
      "popularity          93132 non-null int64\n",
      "artist_name         93132 non-null object\n",
      "track_name          93132 non-null object\n",
      "pid                 93132 non-null int64\n",
      "dtypes: float64(9), int64(2), object(2)\n",
      "memory usage: 9.9+ MB\n"
     ]
    }
   ],
   "source": [
    "track_features.info() # 93132 all non-null values. No Missing values.\n",
    "track_features.sort_values(['artist_name','track_name'],inplace=True)\n"
   ]
  },
  {
   "cell_type": "markdown",
   "metadata": {},
   "source": [
    "## EDA"
   ]
  },
  {
   "cell_type": "code",
   "execution_count": 15,
   "metadata": {},
   "outputs": [
    {
     "data": {
      "text/plain": [
       "<matplotlib.axes._subplots.AxesSubplot at 0x1c4d83b978>"
      ]
     },
     "execution_count": 15,
     "metadata": {},
     "output_type": "execute_result"
    },
    {
     "data": {
      "image/png": "[encoded data removed]",
      "text/plain": [
       "<Figure size 720x720 with 6 Axes>"
      ]
     },
     "metadata": {},
     "output_type": "display_data"
    }
   ],
   "source": [
    "f, axes = plt.subplots(2, 3,figsize=(10, 10), sharex=True)\n",
    "sns.kdeplot(track_features.acousticness, shade=True, color='red', ax=axes[0, 0])\n",
    "sns.kdeplot(track_features.instrumentalness, shade=True, color=\"pink\", ax=axes[0, 1])\n",
    "sns.kdeplot(track_features.liveness, shade=True, color='purple', ax=axes[0, 2])\n",
    "sns.kdeplot(track_features.danceability, shade=True, color=\"blue\", ax=axes[1, 0])\n",
    "sns.kdeplot(track_features.energy, shade=True, color=\"green\", ax=axes[1, 1])\n",
    "sns.kdeplot(track_features.valence, shade=True, color='yellow', ax=axes[1, 2])\n"
   ]
  },
  {
   "cell_type": "code",
   "execution_count": 16,
   "metadata": {},
   "outputs": [
    {
     "data": {
      "text/plain": [
       "<matplotlib.axes._subplots.AxesSubplot at 0x1c4d0590b8>"
      ]
     },
     "execution_count": 16,
     "metadata": {},
     "output_type": "execute_result"
    },
    {
     "data": {
      "image/png": "[encoded data removed]",
      "text/plain": [
       "<Figure size 432x288 with 1 Axes>"
      ]
     },
     "metadata": {},
     "output_type": "display_data"
    }
   ],
   "source": [
    "#sns.kdeplot(merged.loudness, shade=True, color='yellow')\n",
    "sns.kdeplot(track_features.popularity.divide(max(track_features.popularity)), shade=True)"
   ]
  },
  {
   "cell_type": "code",
   "execution_count": 17,
   "metadata": {},
   "outputs": [],
   "source": [
    "def heatMap(df):\n",
    "    \"\"\" Taking a dataframe and returns to Heat Map to describe \n",
    "        each of features in the df.\n",
    "    \"\"\"\n",
    "    corr = df.corr()\n",
    "    # Return Upper Triangular Correlation Matrix, since corr matrix is symmetric.\n",
    "    mask = np.zeros_like(corr, dtype=np.bool)\n",
    "    mask[np.triu_indices_from(mask)] = True\n",
    "    \n",
    "    # Set Figures\n",
    "    fig, ax = plt.subplots(figsize=(10, 10))\n",
    "    # Generate Color Map\n",
    "    colormap = sns.diverging_palette(220, 10, as_cmap=True)\n",
    "    # Generate Heat Map based on Correlation\n",
    "    sns.heatmap(corr, mask=mask, cmap=colormap, annot=True, fmt=\".2f\")\n",
    "    \n",
    "    # Apply xticks\n",
    "    plt.xticks(range(len(corr.columns)), corr.columns);\n",
    "    # Apply yticks\n",
    "    plt.yticks(range(len(corr.columns)), corr.columns)\n",
    "    # Show plot\n",
    "    plt.show()"
   ]
  },
  {
   "cell_type": "code",
   "execution_count": 18,
   "metadata": {},
   "outputs": [
    {
     "data": {
      "image/png": "[encoded data removed]",
      "text/plain": [
       "<Figure size 720x720 with 2 Axes>"
      ]
     },
     "metadata": {},
     "output_type": "display_data"
    }
   ],
   "source": [
    "heatMap(track_features)"
   ]
  },
  {
   "cell_type": "markdown",
   "metadata": {},
   "source": [
    "# Data Cleaning"
   ]
  },
  {
   "cell_type": "code",
   "execution_count": 19,
   "metadata": {},
   "outputs": [],
   "source": [
    "track_features.describe()\n",
    "# When you look at loudness, the minimum is -60 db, which people cannot hear well. We can treat them as an outlier.\n",
    "# There are some outliers in this data.\n",
    "track_features.drop(columns='pid',inplace=True)"
   ]
  },
  {
   "cell_type": "code",
   "execution_count": 20,
   "metadata": {},
   "outputs": [
    {
     "data": {
      "text/html": [
       "<div>\n",
       "<style scoped>\n",
       "    .dataframe tbody tr th:only-of-type {\n",
       "        vertical-align: middle;\n",
       "    }\n",
       "\n",
       "    .dataframe tbody tr th {\n",
       "        vertical-align: top;\n",
       "    }\n",
       "\n",
       "    .dataframe thead th {\n",
       "        text-align: right;\n",
       "    }\n",
       "</style>\n",
       "<table border=\"1\" class=\"dataframe\">\n",
       "  <thead>\n",
       "    <tr style=\"text-align: right;\">\n",
       "      <th></th>\n",
       "      <th>acousticness</th>\n",
       "      <th>danceability</th>\n",
       "      <th>energy</th>\n",
       "      <th>instrumentalness</th>\n",
       "      <th>liveness</th>\n",
       "      <th>loudness</th>\n",
       "      <th>speechiness</th>\n",
       "      <th>tempo</th>\n",
       "      <th>valence</th>\n",
       "      <th>popularity</th>\n",
       "    </tr>\n",
       "  </thead>\n",
       "  <tbody>\n",
       "    <tr>\n",
       "      <th>count</th>\n",
       "      <td>93124.000000</td>\n",
       "      <td>93124.000000</td>\n",
       "      <td>93124.000000</td>\n",
       "      <td>93124.000000</td>\n",
       "      <td>93124.000000</td>\n",
       "      <td>93124.000000</td>\n",
       "      <td>93124.000000</td>\n",
       "      <td>93124.000000</td>\n",
       "      <td>93124.000000</td>\n",
       "      <td>93124.000000</td>\n",
       "    </tr>\n",
       "    <tr>\n",
       "      <th>mean</th>\n",
       "      <td>0.273715</td>\n",
       "      <td>0.576644</td>\n",
       "      <td>0.632411</td>\n",
       "      <td>0.103791</td>\n",
       "      <td>0.200468</td>\n",
       "      <td>-7.868746</td>\n",
       "      <td>0.088602</td>\n",
       "      <td>121.527455</td>\n",
       "      <td>0.478914</td>\n",
       "      <td>29.579238</td>\n",
       "    </tr>\n",
       "    <tr>\n",
       "      <th>std</th>\n",
       "      <td>0.308158</td>\n",
       "      <td>0.167865</td>\n",
       "      <td>0.232862</td>\n",
       "      <td>0.252942</td>\n",
       "      <td>0.173219</td>\n",
       "      <td>4.272052</td>\n",
       "      <td>0.100403</td>\n",
       "      <td>29.234510</td>\n",
       "      <td>0.250132</td>\n",
       "      <td>20.237029</td>\n",
       "    </tr>\n",
       "    <tr>\n",
       "      <th>min</th>\n",
       "      <td>0.000000</td>\n",
       "      <td>0.000000</td>\n",
       "      <td>0.000000</td>\n",
       "      <td>0.000000</td>\n",
       "      <td>0.000000</td>\n",
       "      <td>-44.749000</td>\n",
       "      <td>0.000000</td>\n",
       "      <td>0.000000</td>\n",
       "      <td>0.000000</td>\n",
       "      <td>0.000000</td>\n",
       "    </tr>\n",
       "    <tr>\n",
       "      <th>25%</th>\n",
       "      <td>0.018900</td>\n",
       "      <td>0.467000</td>\n",
       "      <td>0.478000</td>\n",
       "      <td>0.000000</td>\n",
       "      <td>0.096200</td>\n",
       "      <td>-9.494000</td>\n",
       "      <td>0.034800</td>\n",
       "      <td>98.883000</td>\n",
       "      <td>0.276000</td>\n",
       "      <td>11.000000</td>\n",
       "    </tr>\n",
       "    <tr>\n",
       "      <th>50%</th>\n",
       "      <td>0.131000</td>\n",
       "      <td>0.586000</td>\n",
       "      <td>0.668000</td>\n",
       "      <td>0.000018</td>\n",
       "      <td>0.128000</td>\n",
       "      <td>-6.849000</td>\n",
       "      <td>0.047900</td>\n",
       "      <td>120.838500</td>\n",
       "      <td>0.467000</td>\n",
       "      <td>31.000000</td>\n",
       "    </tr>\n",
       "    <tr>\n",
       "      <th>75%</th>\n",
       "      <td>0.477000</td>\n",
       "      <td>0.699000</td>\n",
       "      <td>0.821000</td>\n",
       "      <td>0.008180</td>\n",
       "      <td>0.255000</td>\n",
       "      <td>-5.063750</td>\n",
       "      <td>0.090900</td>\n",
       "      <td>139.978000</td>\n",
       "      <td>0.676000</td>\n",
       "      <td>45.000000</td>\n",
       "    </tr>\n",
       "    <tr>\n",
       "      <th>max</th>\n",
       "      <td>0.996000</td>\n",
       "      <td>0.991000</td>\n",
       "      <td>1.000000</td>\n",
       "      <td>0.999000</td>\n",
       "      <td>1.000000</td>\n",
       "      <td>2.766000</td>\n",
       "      <td>0.965000</td>\n",
       "      <td>232.690000</td>\n",
       "      <td>1.000000</td>\n",
       "      <td>87.000000</td>\n",
       "    </tr>\n",
       "  </tbody>\n",
       "</table>\n",
       "</div>"
      ],
      "text/plain": [
       "       acousticness  danceability        energy  instrumentalness  \\\n",
       "count  93124.000000  93124.000000  93124.000000      93124.000000   \n",
       "mean       0.273715      0.576644      0.632411          0.103791   \n",
       "std        0.308158      0.167865      0.232862          0.252942   \n",
       "min        0.000000      0.000000      0.000000          0.000000   \n",
       "25%        0.018900      0.467000      0.478000          0.000000   \n",
       "50%        0.131000      0.586000      0.668000          0.000018   \n",
       "75%        0.477000      0.699000      0.821000          0.008180   \n",
       "max        0.996000      0.991000      1.000000          0.999000   \n",
       "\n",
       "           liveness      loudness   speechiness         tempo       valence  \\\n",
       "count  93124.000000  93124.000000  93124.000000  93124.000000  93124.000000   \n",
       "mean       0.200468     -7.868746      0.088602    121.527455      0.478914   \n",
       "std        0.173219      4.272052      0.100403     29.234510      0.250132   \n",
       "min        0.000000    -44.749000      0.000000      0.000000      0.000000   \n",
       "25%        0.096200     -9.494000      0.034800     98.883000      0.276000   \n",
       "50%        0.128000     -6.849000      0.047900    120.838500      0.467000   \n",
       "75%        0.255000     -5.063750      0.090900    139.978000      0.676000   \n",
       "max        1.000000      2.766000      0.965000    232.690000      1.000000   \n",
       "\n",
       "         popularity  \n",
       "count  93124.000000  \n",
       "mean      29.579238  \n",
       "std       20.237029  \n",
       "min        0.000000  \n",
       "25%       11.000000  \n",
       "50%       31.000000  \n",
       "75%       45.000000  \n",
       "max       87.000000  "
      ]
     },
     "execution_count": 20,
     "metadata": {},
     "output_type": "execute_result"
    }
   ],
   "source": [
    "track_features[track_features.loudness == -60]\n",
    "# Most of these data's values are minimum and can be trated as Missing Value.\n",
    "# Remove these missing values\n",
    "track_features = track_features[~(track_features.loudness == min(track_features.loudness))]\n",
    "track_features.describe()"
   ]
  },
  {
   "cell_type": "code",
   "execution_count": 22,
   "metadata": {},
   "outputs": [
    {
     "data": {
      "text/plain": [
       "11845"
      ]
     },
     "execution_count": 22,
     "metadata": {},
     "output_type": "execute_result"
    }
   ],
   "source": [
    "len(track_features[track_features.popularity == min(track_features.popularity)])\n",
    "# 11845 songs are not listened by regular users."
   ]
  },
  {
   "cell_type": "code",
   "execution_count": 23,
   "metadata": {},
   "outputs": [
    {
     "name": "stdout",
     "output_type": "stream",
     "text": [
      "0.90    56.0\n",
      "0.91    57.0\n",
      "0.92    58.0\n",
      "0.93    59.0\n",
      "0.94    60.0\n",
      "0.95    61.0\n",
      "0.96    63.0\n",
      "0.97    65.0\n",
      "0.98    67.0\n",
      "0.99    71.0\n",
      "Name: popularity, dtype: float64\n"
     ]
    },
    {
     "data": {
      "text/plain": [
       "32952"
      ]
     },
     "execution_count": 23,
     "metadata": {},
     "output_type": "execute_result"
    }
   ],
   "source": [
    "print(track_features.popularity.quantile(np.arange(.9,1,.01)))\n",
    "pop_threshold = 40 # Want to gather more data ,since our maximum of popularity is 87\n",
    "track_features_popular = track_features.query('popularity >= @pop_threshold')\n",
    "len(track_features_popular)"
   ]
  },
  {
   "cell_type": "code",
   "execution_count": 24,
   "metadata": {},
   "outputs": [
    {
     "data": {
      "text/plain": [
       "<matplotlib.axes._subplots.AxesSubplot at 0x1c4cc49710>"
      ]
     },
     "execution_count": 24,
     "metadata": {},
     "output_type": "execute_result"
    },
    {
     "data": {
      "image/png": "[encoded data removed]",
      "text/plain": [
       "<Figure size 432x288 with 1 Axes>"
      ]
     },
     "metadata": {},
     "output_type": "display_data"
    }
   ],
   "source": [
    "sns.boxplot(x=track_features_popular.popularity, data=track_features_popular)"
   ]
  },
  {
   "cell_type": "markdown",
   "metadata": {},
   "source": []
  },
  {
   "cell_type": "markdown",
   "metadata": {},
   "source": [
    "## Content Based Recommendation System by Spotify's Audio Features\n",
    "Content based recommendation system compares each track's features to calculate the similarity of them."
   ]
  },
  {
   "cell_type": "markdown",
   "metadata": {},
   "source": [
    "$similarity = cos(\\ \\theta ) = \\ \\dfrac{\\ \\boldsymbol{u} \\ \\cdot \\ \\boldsymbol{v}}{\\ \\|{\\ \\boldsymbol{u}}\\ \\|\\ \\|{\\ \\boldsymbol{v}}\\ \\|}$\n",
    "This is basically same as normalized vector u times normalized vector v."
   ]
  },
  {
   "cell_type": "code",
   "execution_count": 25,
   "metadata": {},
   "outputs": [
    {
     "data": {
      "text/plain": [
       "0    spotify:track:7y8aVfDkqt6qirGNivvs0M\n",
       "1    spotify:track:32TXsOUIWtTQDkE72Cvafe\n",
       "2    spotify:track:3MZ0Obyv6AnO1anmGBJydv\n",
       "3    spotify:track:5r96TaQquRrlo3Ym3ZlSL2\n",
       "4    spotify:track:1gloYGAZI6eHp6MEPjLuL3\n",
       "dtype: object"
      ]
     },
     "execution_count": 25,
     "metadata": {},
     "output_type": "execute_result"
    }
   ],
   "source": [
    "features = ['acousticness', 'danceability', 'energy', 'instrumentalness', \n",
    "            'liveness', 'loudness','speechiness','tempo','valence']\n",
    "# Separating out the features\n",
    "x = track_features_popular.loc[:, features]\n",
    "x = StandardScaler().fit_transform(x) # Normalized all features to have mean of 0 and sd of 1.\n",
    " \n",
    "sim = pd.DataFrame(cosine_similarity(x), index=track_features_popular.index)\n",
    "sim.columns = track_features_popular.index\n",
    "indices = pd.Series(track_features_popular.index)\n",
    "indices[:5]"
   ]
  },
  {
   "cell_type": "code",
   "execution_count": 26,
   "metadata": {},
   "outputs": [
    {
     "data": {
      "text/html": [
       "<div>\n",
       "<style scoped>\n",
       "    .dataframe tbody tr th:only-of-type {\n",
       "        vertical-align: middle;\n",
       "    }\n",
       "\n",
       "    .dataframe tbody tr th {\n",
       "        vertical-align: top;\n",
       "    }\n",
       "\n",
       "    .dataframe thead th {\n",
       "        text-align: right;\n",
       "    }\n",
       "</style>\n",
       "<table border=\"1\" class=\"dataframe\">\n",
       "  <thead>\n",
       "    <tr style=\"text-align: right;\">\n",
       "      <th></th>\n",
       "      <th>spotify:track:7y8aVfDkqt6qirGNivvs0M</th>\n",
       "      <th>spotify:track:32TXsOUIWtTQDkE72Cvafe</th>\n",
       "      <th>spotify:track:3MZ0Obyv6AnO1anmGBJydv</th>\n",
       "      <th>spotify:track:5r96TaQquRrlo3Ym3ZlSL2</th>\n",
       "      <th>spotify:track:1gloYGAZI6eHp6MEPjLuL3</th>\n",
       "      <th>spotify:track:2Q26sym8OSOl6PfH7LLPtJ</th>\n",
       "      <th>spotify:track:74sUbOF9Zm8LdGUJjxleTl</th>\n",
       "      <th>spotify:track:60R2v9lheAu3lwZwAFxMZK</th>\n",
       "      <th>spotify:track:4qbWToFOFOmFrBVClOidKn</th>\n",
       "      <th>spotify:track:7ahhev2IIbivmkRqLjm7g3</th>\n",
       "      <th>...</th>\n",
       "      <th>spotify:track:194uD6fRM58ztn7Z1Mfyr2</th>\n",
       "      <th>spotify:track:2qq5HTgeJTLL9oY7b4X16y</th>\n",
       "      <th>spotify:track:6J5mJPOs8EGCyjljxeLYx5</th>\n",
       "      <th>spotify:track:70jK4YYMql3lJFBUK6l8QT</th>\n",
       "      <th>spotify:track:6BuGA3ontF6D4jluQ0DHZY</th>\n",
       "      <th>spotify:track:5XfHNrdomVBNxUI0iRztic</th>\n",
       "      <th>spotify:track:5oOYmBhKeMtweW5EwwZhVg</th>\n",
       "      <th>spotify:track:1yeMCWXg3gdbQcIsXwnTiO</th>\n",
       "      <th>spotify:track:0dT2JHN6fGZnwhNxTcDJRk</th>\n",
       "      <th>spotify:track:6YepaCG8cUabGz3lyCgCxv</th>\n",
       "    </tr>\n",
       "  </thead>\n",
       "  <tbody>\n",
       "    <tr>\n",
       "      <th>spotify:track:7y8aVfDkqt6qirGNivvs0M</th>\n",
       "      <td>1.000000</td>\n",
       "      <td>0.836905</td>\n",
       "      <td>0.362250</td>\n",
       "      <td>0.492136</td>\n",
       "      <td>0.738715</td>\n",
       "      <td>0.783576</td>\n",
       "      <td>0.312570</td>\n",
       "      <td>0.704688</td>\n",
       "      <td>0.254312</td>\n",
       "      <td>0.395002</td>\n",
       "      <td>...</td>\n",
       "      <td>0.240525</td>\n",
       "      <td>0.700079</td>\n",
       "      <td>0.587486</td>\n",
       "      <td>0.175145</td>\n",
       "      <td>0.379578</td>\n",
       "      <td>0.834269</td>\n",
       "      <td>0.942049</td>\n",
       "      <td>0.788789</td>\n",
       "      <td>0.585406</td>\n",
       "      <td>0.180126</td>\n",
       "    </tr>\n",
       "    <tr>\n",
       "      <th>spotify:track:32TXsOUIWtTQDkE72Cvafe</th>\n",
       "      <td>0.836905</td>\n",
       "      <td>1.000000</td>\n",
       "      <td>0.490749</td>\n",
       "      <td>0.538665</td>\n",
       "      <td>0.682906</td>\n",
       "      <td>0.759654</td>\n",
       "      <td>0.319757</td>\n",
       "      <td>0.465849</td>\n",
       "      <td>0.285849</td>\n",
       "      <td>0.235925</td>\n",
       "      <td>...</td>\n",
       "      <td>0.219436</td>\n",
       "      <td>0.500692</td>\n",
       "      <td>0.521127</td>\n",
       "      <td>0.373146</td>\n",
       "      <td>0.640106</td>\n",
       "      <td>0.511442</td>\n",
       "      <td>0.844804</td>\n",
       "      <td>0.525665</td>\n",
       "      <td>0.478739</td>\n",
       "      <td>0.250496</td>\n",
       "    </tr>\n",
       "    <tr>\n",
       "      <th>spotify:track:3MZ0Obyv6AnO1anmGBJydv</th>\n",
       "      <td>0.362250</td>\n",
       "      <td>0.490749</td>\n",
       "      <td>1.000000</td>\n",
       "      <td>0.619315</td>\n",
       "      <td>0.510802</td>\n",
       "      <td>0.460363</td>\n",
       "      <td>0.402927</td>\n",
       "      <td>0.599227</td>\n",
       "      <td>0.493930</td>\n",
       "      <td>0.253876</td>\n",
       "      <td>...</td>\n",
       "      <td>0.498646</td>\n",
       "      <td>0.682951</td>\n",
       "      <td>0.698045</td>\n",
       "      <td>0.698377</td>\n",
       "      <td>0.737207</td>\n",
       "      <td>0.463594</td>\n",
       "      <td>0.410863</td>\n",
       "      <td>0.322758</td>\n",
       "      <td>0.436593</td>\n",
       "      <td>0.492909</td>\n",
       "    </tr>\n",
       "    <tr>\n",
       "      <th>spotify:track:5r96TaQquRrlo3Ym3ZlSL2</th>\n",
       "      <td>0.492136</td>\n",
       "      <td>0.538665</td>\n",
       "      <td>0.619315</td>\n",
       "      <td>1.000000</td>\n",
       "      <td>0.331344</td>\n",
       "      <td>0.600916</td>\n",
       "      <td>0.405685</td>\n",
       "      <td>0.585449</td>\n",
       "      <td>0.176991</td>\n",
       "      <td>0.436495</td>\n",
       "      <td>...</td>\n",
       "      <td>0.291022</td>\n",
       "      <td>0.394653</td>\n",
       "      <td>0.282489</td>\n",
       "      <td>0.529756</td>\n",
       "      <td>0.574430</td>\n",
       "      <td>0.487810</td>\n",
       "      <td>0.575064</td>\n",
       "      <td>0.553333</td>\n",
       "      <td>0.151020</td>\n",
       "      <td>0.629760</td>\n",
       "    </tr>\n",
       "    <tr>\n",
       "      <th>spotify:track:1gloYGAZI6eHp6MEPjLuL3</th>\n",
       "      <td>0.738715</td>\n",
       "      <td>0.682906</td>\n",
       "      <td>0.510802</td>\n",
       "      <td>0.331344</td>\n",
       "      <td>1.000000</td>\n",
       "      <td>0.745554</td>\n",
       "      <td>0.695594</td>\n",
       "      <td>0.757495</td>\n",
       "      <td>0.698610</td>\n",
       "      <td>0.143345</td>\n",
       "      <td>...</td>\n",
       "      <td>0.621134</td>\n",
       "      <td>0.767972</td>\n",
       "      <td>0.782463</td>\n",
       "      <td>0.355662</td>\n",
       "      <td>0.382835</td>\n",
       "      <td>0.634430</td>\n",
       "      <td>0.770528</td>\n",
       "      <td>0.352641</td>\n",
       "      <td>0.847329</td>\n",
       "      <td>0.303749</td>\n",
       "    </tr>\n",
       "  </tbody>\n",
       "</table>\n",
       "<p>5 rows × 32952 columns</p>\n",
       "</div>"
      ],
      "text/plain": [
       "                                      spotify:track:7y8aVfDkqt6qirGNivvs0M  \\\n",
       "spotify:track:7y8aVfDkqt6qirGNivvs0M                              1.000000   \n",
       "spotify:track:32TXsOUIWtTQDkE72Cvafe                              0.836905   \n",
       "spotify:track:3MZ0Obyv6AnO1anmGBJydv                              0.362250   \n",
       "spotify:track:5r96TaQquRrlo3Ym3ZlSL2                              0.492136   \n",
       "spotify:track:1gloYGAZI6eHp6MEPjLuL3                              0.738715   \n",
       "\n",
       "                                      spotify:track:32TXsOUIWtTQDkE72Cvafe  \\\n",
       "spotify:track:7y8aVfDkqt6qirGNivvs0M                              0.836905   \n",
       "spotify:track:32TXsOUIWtTQDkE72Cvafe                              1.000000   \n",
       "spotify:track:3MZ0Obyv6AnO1anmGBJydv                              0.490749   \n",
       "spotify:track:5r96TaQquRrlo3Ym3ZlSL2                              0.538665   \n",
       "spotify:track:1gloYGAZI6eHp6MEPjLuL3                              0.682906   \n",
       "\n",
       "                                      spotify:track:3MZ0Obyv6AnO1anmGBJydv  \\\n",
       "spotify:track:7y8aVfDkqt6qirGNivvs0M                              0.362250   \n",
       "spotify:track:32TXsOUIWtTQDkE72Cvafe                              0.490749   \n",
       "spotify:track:3MZ0Obyv6AnO1anmGBJydv                              1.000000   \n",
       "spotify:track:5r96TaQquRrlo3Ym3ZlSL2                              0.619315   \n",
       "spotify:track:1gloYGAZI6eHp6MEPjLuL3                              0.510802   \n",
       "\n",
       "                                      spotify:track:5r96TaQquRrlo3Ym3ZlSL2  \\\n",
       "spotify:track:7y8aVfDkqt6qirGNivvs0M                              0.492136   \n",
       "spotify:track:32TXsOUIWtTQDkE72Cvafe                              0.538665   \n",
       "spotify:track:3MZ0Obyv6AnO1anmGBJydv                              0.619315   \n",
       "spotify:track:5r96TaQquRrlo3Ym3ZlSL2                              1.000000   \n",
       "spotify:track:1gloYGAZI6eHp6MEPjLuL3                              0.331344   \n",
       "\n",
       "                                      spotify:track:1gloYGAZI6eHp6MEPjLuL3  \\\n",
       "spotify:track:7y8aVfDkqt6qirGNivvs0M                              0.738715   \n",
       "spotify:track:32TXsOUIWtTQDkE72Cvafe                              0.682906   \n",
       "spotify:track:3MZ0Obyv6AnO1anmGBJydv                              0.510802   \n",
       "spotify:track:5r96TaQquRrlo3Ym3ZlSL2                              0.331344   \n",
       "spotify:track:1gloYGAZI6eHp6MEPjLuL3                              1.000000   \n",
       "\n",
       "                                      spotify:track:2Q26sym8OSOl6PfH7LLPtJ  \\\n",
       "spotify:track:7y8aVfDkqt6qirGNivvs0M                              0.783576   \n",
       "spotify:track:32TXsOUIWtTQDkE72Cvafe                              0.759654   \n",
       "spotify:track:3MZ0Obyv6AnO1anmGBJydv                              0.460363   \n",
       "spotify:track:5r96TaQquRrlo3Ym3ZlSL2                              0.600916   \n",
       "spotify:track:1gloYGAZI6eHp6MEPjLuL3                              0.745554   \n",
       "\n",
       "                                      spotify:track:74sUbOF9Zm8LdGUJjxleTl  \\\n",
       "spotify:track:7y8aVfDkqt6qirGNivvs0M                              0.312570   \n",
       "spotify:track:32TXsOUIWtTQDkE72Cvafe                              0.319757   \n",
       "spotify:track:3MZ0Obyv6AnO1anmGBJydv                              0.402927   \n",
       "spotify:track:5r96TaQquRrlo3Ym3ZlSL2                              0.405685   \n",
       "spotify:track:1gloYGAZI6eHp6MEPjLuL3                              0.695594   \n",
       "\n",
       "                                      spotify:track:60R2v9lheAu3lwZwAFxMZK  \\\n",
       "spotify:track:7y8aVfDkqt6qirGNivvs0M                              0.704688   \n",
       "spotify:track:32TXsOUIWtTQDkE72Cvafe                              0.465849   \n",
       "spotify:track:3MZ0Obyv6AnO1anmGBJydv                              0.599227   \n",
       "spotify:track:5r96TaQquRrlo3Ym3ZlSL2                              0.585449   \n",
       "spotify:track:1gloYGAZI6eHp6MEPjLuL3                              0.757495   \n",
       "\n",
       "                                      spotify:track:4qbWToFOFOmFrBVClOidKn  \\\n",
       "spotify:track:7y8aVfDkqt6qirGNivvs0M                              0.254312   \n",
       "spotify:track:32TXsOUIWtTQDkE72Cvafe                              0.285849   \n",
       "spotify:track:3MZ0Obyv6AnO1anmGBJydv                              0.493930   \n",
       "spotify:track:5r96TaQquRrlo3Ym3ZlSL2                              0.176991   \n",
       "spotify:track:1gloYGAZI6eHp6MEPjLuL3                              0.698610   \n",
       "\n",
       "                                      spotify:track:7ahhev2IIbivmkRqLjm7g3  \\\n",
       "spotify:track:7y8aVfDkqt6qirGNivvs0M                              0.395002   \n",
       "spotify:track:32TXsOUIWtTQDkE72Cvafe                              0.235925   \n",
       "spotify:track:3MZ0Obyv6AnO1anmGBJydv                              0.253876   \n",
       "spotify:track:5r96TaQquRrlo3Ym3ZlSL2                              0.436495   \n",
       "spotify:track:1gloYGAZI6eHp6MEPjLuL3                              0.143345   \n",
       "\n",
       "                                                      ...                   \\\n",
       "spotify:track:7y8aVfDkqt6qirGNivvs0M                  ...                    \n",
       "spotify:track:32TXsOUIWtTQDkE72Cvafe                  ...                    \n",
       "spotify:track:3MZ0Obyv6AnO1anmGBJydv                  ...                    \n",
       "spotify:track:5r96TaQquRrlo3Ym3ZlSL2                  ...                    \n",
       "spotify:track:1gloYGAZI6eHp6MEPjLuL3                  ...                    \n",
       "\n",
       "                                      spotify:track:194uD6fRM58ztn7Z1Mfyr2  \\\n",
       "spotify:track:7y8aVfDkqt6qirGNivvs0M                              0.240525   \n",
       "spotify:track:32TXsOUIWtTQDkE72Cvafe                              0.219436   \n",
       "spotify:track:3MZ0Obyv6AnO1anmGBJydv                              0.498646   \n",
       "spotify:track:5r96TaQquRrlo3Ym3ZlSL2                              0.291022   \n",
       "spotify:track:1gloYGAZI6eHp6MEPjLuL3                              0.621134   \n",
       "\n",
       "                                      spotify:track:2qq5HTgeJTLL9oY7b4X16y  \\\n",
       "spotify:track:7y8aVfDkqt6qirGNivvs0M                              0.700079   \n",
       "spotify:track:32TXsOUIWtTQDkE72Cvafe                              0.500692   \n",
       "spotify:track:3MZ0Obyv6AnO1anmGBJydv                              0.682951   \n",
       "spotify:track:5r96TaQquRrlo3Ym3ZlSL2                              0.394653   \n",
       "spotify:track:1gloYGAZI6eHp6MEPjLuL3                              0.767972   \n",
       "\n",
       "                                      spotify:track:6J5mJPOs8EGCyjljxeLYx5  \\\n",
       "spotify:track:7y8aVfDkqt6qirGNivvs0M                              0.587486   \n",
       "spotify:track:32TXsOUIWtTQDkE72Cvafe                              0.521127   \n",
       "spotify:track:3MZ0Obyv6AnO1anmGBJydv                              0.698045   \n",
       "spotify:track:5r96TaQquRrlo3Ym3ZlSL2                              0.282489   \n",
       "spotify:track:1gloYGAZI6eHp6MEPjLuL3                              0.782463   \n",
       "\n",
       "                                      spotify:track:70jK4YYMql3lJFBUK6l8QT  \\\n",
       "spotify:track:7y8aVfDkqt6qirGNivvs0M                              0.175145   \n",
       "spotify:track:32TXsOUIWtTQDkE72Cvafe                              0.373146   \n",
       "spotify:track:3MZ0Obyv6AnO1anmGBJydv                              0.698377   \n",
       "spotify:track:5r96TaQquRrlo3Ym3ZlSL2                              0.529756   \n",
       "spotify:track:1gloYGAZI6eHp6MEPjLuL3                              0.355662   \n",
       "\n",
       "                                      spotify:track:6BuGA3ontF6D4jluQ0DHZY  \\\n",
       "spotify:track:7y8aVfDkqt6qirGNivvs0M                              0.379578   \n",
       "spotify:track:32TXsOUIWtTQDkE72Cvafe                              0.640106   \n",
       "spotify:track:3MZ0Obyv6AnO1anmGBJydv                              0.737207   \n",
       "spotify:track:5r96TaQquRrlo3Ym3ZlSL2                              0.574430   \n",
       "spotify:track:1gloYGAZI6eHp6MEPjLuL3                              0.382835   \n",
       "\n",
       "                                      spotify:track:5XfHNrdomVBNxUI0iRztic  \\\n",
       "spotify:track:7y8aVfDkqt6qirGNivvs0M                              0.834269   \n",
       "spotify:track:32TXsOUIWtTQDkE72Cvafe                              0.511442   \n",
       "spotify:track:3MZ0Obyv6AnO1anmGBJydv                              0.463594   \n",
       "spotify:track:5r96TaQquRrlo3Ym3ZlSL2                              0.487810   \n",
       "spotify:track:1gloYGAZI6eHp6MEPjLuL3                              0.634430   \n",
       "\n",
       "                                      spotify:track:5oOYmBhKeMtweW5EwwZhVg  \\\n",
       "spotify:track:7y8aVfDkqt6qirGNivvs0M                              0.942049   \n",
       "spotify:track:32TXsOUIWtTQDkE72Cvafe                              0.844804   \n",
       "spotify:track:3MZ0Obyv6AnO1anmGBJydv                              0.410863   \n",
       "spotify:track:5r96TaQquRrlo3Ym3ZlSL2                              0.575064   \n",
       "spotify:track:1gloYGAZI6eHp6MEPjLuL3                              0.770528   \n",
       "\n",
       "                                      spotify:track:1yeMCWXg3gdbQcIsXwnTiO  \\\n",
       "spotify:track:7y8aVfDkqt6qirGNivvs0M                              0.788789   \n",
       "spotify:track:32TXsOUIWtTQDkE72Cvafe                              0.525665   \n",
       "spotify:track:3MZ0Obyv6AnO1anmGBJydv                              0.322758   \n",
       "spotify:track:5r96TaQquRrlo3Ym3ZlSL2                              0.553333   \n",
       "spotify:track:1gloYGAZI6eHp6MEPjLuL3                              0.352641   \n",
       "\n",
       "                                      spotify:track:0dT2JHN6fGZnwhNxTcDJRk  \\\n",
       "spotify:track:7y8aVfDkqt6qirGNivvs0M                              0.585406   \n",
       "spotify:track:32TXsOUIWtTQDkE72Cvafe                              0.478739   \n",
       "spotify:track:3MZ0Obyv6AnO1anmGBJydv                              0.436593   \n",
       "spotify:track:5r96TaQquRrlo3Ym3ZlSL2                              0.151020   \n",
       "spotify:track:1gloYGAZI6eHp6MEPjLuL3                              0.847329   \n",
       "\n",
       "                                      spotify:track:6YepaCG8cUabGz3lyCgCxv  \n",
       "spotify:track:7y8aVfDkqt6qirGNivvs0M                              0.180126  \n",
       "spotify:track:32TXsOUIWtTQDkE72Cvafe                              0.250496  \n",
       "spotify:track:3MZ0Obyv6AnO1anmGBJydv                              0.492909  \n",
       "spotify:track:5r96TaQquRrlo3Ym3ZlSL2                              0.629760  \n",
       "spotify:track:1gloYGAZI6eHp6MEPjLuL3                              0.303749  \n",
       "\n",
       "[5 rows x 32952 columns]"
      ]
     },
     "execution_count": 26,
     "metadata": {},
     "output_type": "execute_result"
    }
   ],
   "source": [
    "sim = (sim + 1) / 2\n",
    "sim.head() # Shows how each songs are similar to each other in range of (0,1)"
   ]
  },
  {
   "cell_type": "code",
   "execution_count": 27,
   "metadata": {},
   "outputs": [
    {
     "data": {
      "text/html": [
       "<div>\n",
       "<style scoped>\n",
       "    .dataframe tbody tr th:only-of-type {\n",
       "        vertical-align: middle;\n",
       "    }\n",
       "\n",
       "    .dataframe tbody tr th {\n",
       "        vertical-align: top;\n",
       "    }\n",
       "\n",
       "    .dataframe thead th {\n",
       "        text-align: right;\n",
       "    }\n",
       "</style>\n",
       "<table border=\"1\" class=\"dataframe\">\n",
       "  <thead>\n",
       "    <tr style=\"text-align: right;\">\n",
       "      <th></th>\n",
       "      <th>item_id</th>\n",
       "      <th>similarity_score</th>\n",
       "    </tr>\n",
       "  </thead>\n",
       "  <tbody>\n",
       "    <tr>\n",
       "      <th>0</th>\n",
       "      <td>spotify:track:6h0hBlyQGZeR8mb6SpX2us</td>\n",
       "      <td>0.985965</td>\n",
       "    </tr>\n",
       "    <tr>\n",
       "      <th>1</th>\n",
       "      <td>spotify:track:3DkaXDmC0qaFNAxgLMuwX4</td>\n",
       "      <td>0.981521</td>\n",
       "    </tr>\n",
       "    <tr>\n",
       "      <th>2</th>\n",
       "      <td>spotify:track:5P3yUXUC9rZPJPNmYGKEAz</td>\n",
       "      <td>0.980976</td>\n",
       "    </tr>\n",
       "    <tr>\n",
       "      <th>3</th>\n",
       "      <td>spotify:track:6J0xeqjdpsUH0W1YBCmD1L</td>\n",
       "      <td>0.979802</td>\n",
       "    </tr>\n",
       "    <tr>\n",
       "      <th>4</th>\n",
       "      <td>spotify:track:0tkBOcK7oRVXQJY97zzSvr</td>\n",
       "      <td>0.979772</td>\n",
       "    </tr>\n",
       "    <tr>\n",
       "      <th>5</th>\n",
       "      <td>spotify:track:44XXnLW9z7YZXSHIUVj4cO</td>\n",
       "      <td>0.978736</td>\n",
       "    </tr>\n",
       "    <tr>\n",
       "      <th>6</th>\n",
       "      <td>spotify:track:4aXAuEMP6QP3f2vYjrrXle</td>\n",
       "      <td>0.977824</td>\n",
       "    </tr>\n",
       "    <tr>\n",
       "      <th>7</th>\n",
       "      <td>spotify:track:66QtMlymqBC5O1F3fh5wTZ</td>\n",
       "      <td>0.975659</td>\n",
       "    </tr>\n",
       "    <tr>\n",
       "      <th>8</th>\n",
       "      <td>spotify:track:6rjtB7KSIiJ6v9vrACMlqF</td>\n",
       "      <td>0.973101</td>\n",
       "    </tr>\n",
       "  </tbody>\n",
       "</table>\n",
       "</div>"
      ],
      "text/plain": [
       "                                item_id  similarity_score\n",
       "0  spotify:track:6h0hBlyQGZeR8mb6SpX2us          0.985965\n",
       "1  spotify:track:3DkaXDmC0qaFNAxgLMuwX4          0.981521\n",
       "2  spotify:track:5P3yUXUC9rZPJPNmYGKEAz          0.980976\n",
       "3  spotify:track:6J0xeqjdpsUH0W1YBCmD1L          0.979802\n",
       "4  spotify:track:0tkBOcK7oRVXQJY97zzSvr          0.979772\n",
       "5  spotify:track:44XXnLW9z7YZXSHIUVj4cO          0.978736\n",
       "6  spotify:track:4aXAuEMP6QP3f2vYjrrXle          0.977824\n",
       "7  spotify:track:66QtMlymqBC5O1F3fh5wTZ          0.975659\n",
       "8  spotify:track:6rjtB7KSIiJ6v9vrACMlqF          0.973101"
      ]
     },
     "execution_count": 27,
     "metadata": {},
     "output_type": "execute_result"
    }
   ],
   "source": [
    "similar_items = pd.DataFrame(sim.loc['spotify:track:0tgVpDi06FyKpA1z0VMD4v'])\n",
    "similar_items.columns = [\"similarity_score\"]\n",
    "similar_items = similar_items.sort_values('similarity_score', ascending=False)\n",
    "similar_items = similar_items[1:10] # Except the song itself which has a similarity score of 1.\n",
    "similar_items.reset_index(inplace=True)\n",
    "similar_items = similar_items.rename(index=str, columns={\"index\": \"item_id\"},)\n",
    "similar_items"
   ]
  },
  {
   "cell_type": "code",
   "execution_count": 28,
   "metadata": {},
   "outputs": [],
   "source": [
    "def get_track_index(track_name):\n",
    "    return track_features_popular[track_features_popular.track_name == track_name].index.values[0]\n",
    "\n",
    "def get_track_name(track_index):\n",
    "    return track_features_popular.loc[track_index].track_name\n",
    "\n",
    "def get_artist_name(track_name):\n",
    "    return track_features_popular[track_features_popular.track_name == track_name].artist_name[0]"
   ]
  },
  {
   "cell_type": "code",
   "execution_count": 29,
   "metadata": {},
   "outputs": [],
   "source": [
    "def content_recommendations(track_name, cosine_sim = sim.values):\n",
    "    \"\"\"\n",
    "    parameters:\n",
    "    \n",
    "    track_name - track_name to get recommended\n",
    "    \n",
    "    cosine_sim - similar values of track_features has to be pivoted matrix.\n",
    "    \n",
    "    \"\"\"\n",
    "    recommended_songs = []\n",
    "    spotify_id = get_track_index(track_name)\n",
    "    # gettin the index of the track that matches the uri\n",
    "    idx = indices[indices == spotify_id].index[0]\n",
    "\n",
    "    # creating a Series with the similarity scores in descending order\n",
    "    score_series = pd.Series(cosine_sim[idx]).sort_values(ascending = False)\n",
    "\n",
    "    # getting the indexes of the 10 most similar tracks\n",
    "    top_10_indexes = list(score_series.iloc[1:11].index)\n",
    "    \n",
    "    \n",
    "    for i in top_10_indexes:\n",
    "        recommended_songs.append(list(track_features_popular.index)[i])\n",
    "    \n",
    "    top_10_artists = track_features_popular[track_features_popular.index.isin(recommended_songs)]\n",
    "    top_10_artists['scores'] = list(score_series.iloc[1:11,])\n",
    "    top_10_artists.reset_index(inplace=True)\n",
    "    print('Recommendation of {0} by the artist \"{1}\"'.format(track_name,get_artist_name(track_name)))\n",
    "    for i in range(0,len(top_10_artists)):\n",
    "         print ('{0}: {1} by the artist \"{2}\", with scores of {3:.3f}'.format(i+1,top_10_artists.track_name[i],\\\n",
    "                                                                           top_10_artists.artist_name[i], top_10_artists.scores[i]))\n",
    "    \n",
    "    return None\n",
    "\n"
   ]
  },
  {
   "cell_type": "code",
   "execution_count": 30,
   "metadata": {},
   "outputs": [
    {
     "name": "stdout",
     "output_type": "stream",
     "text": [
      "Recommendation of Perfect by the artist \"ed sheeran\"\n",
      "1: Telescope by the artist \"cage the elephant\", with scores of 0.986\n",
      "2: Little Bit by the artist \"chris brown\", with scores of 0.982\n",
      "3: It Ain't Wrong Loving You by the artist \"honne\", with scores of 0.981\n",
      "4: Cry by the artist \"k. michelle\", with scores of 0.980\n",
      "5: 400 Lux by the artist \"lorde\", with scores of 0.980\n",
      "6: Nebraska - Radio Edit by the artist \"lucy rose\", with scores of 0.979\n",
      "7: Monster by the artist \"meg myers\", with scores of 0.978\n",
      "8: Dontchange - Album Version (Edited) by the artist \"musiq soulchild\", with scores of 0.976\n",
      "9: Goner by the artist \"twenty one pilots\", with scores of 0.973\n",
      "10: Take on the World by the artist \"you me at six\", with scores of 0.972\n"
     ]
    }
   ],
   "source": [
    "content_recommendations('Perfect')"
   ]
  },
  {
   "cell_type": "code",
   "execution_count": 31,
   "metadata": {},
   "outputs": [
    {
     "name": "stdout",
     "output_type": "stream",
     "text": [
      "Recommendation of Hey Jude by the artist \"wilson pickett\"\n",
      "1: Mornin' by the artist \"al jarreau\", with scores of 0.991\n",
      "2: I'm Eighteen by the artist \"alice cooper\", with scores of 0.990\n",
      "3: Ocean Front Property by the artist \"george strait\", with scores of 0.985\n",
      "4: Cheap Day Return by the artist \"jethro tull\", with scores of 0.984\n",
      "5: Love Will Turn You Around by the artist \"kenny rogers\", with scores of 0.982\n",
      "6: I Think I ll Just Stay Here And Drink by the artist \"merle haggard\", with scores of 0.982\n",
      "7: The Pusher by the artist \"steppenwolf\", with scores of 0.981\n",
      "8: Golden Brown by the artist \"the stranglers\", with scores of 0.981\n",
      "9: Sweet Thing by the artist \"van morrison\", with scores of 0.978\n",
      "10: T. B. Sheets by the artist \"van morrison\", with scores of 0.975\n"
     ]
    }
   ],
   "source": [
    "content_recommendations('Hey Jude')"
   ]
  },
  {
   "cell_type": "code",
   "execution_count": 32,
   "metadata": {},
   "outputs": [
    {
     "name": "stdout",
     "output_type": "stream",
     "text": [
      "Recommendation of L$D by the artist \"a$ap rocky\"\n",
      "1: Nothing's Gonna Hurt You Baby by the artist \"cigarettes after sex\", with scores of 0.983\n",
      "2: Late Night by the artist \"foals\", with scores of 0.977\n",
      "3: Game over! by the artist \"harris cole\", with scores of 0.977\n",
      "4: Oceans (Where Feet My Fail) - Live/Acoustic Version by the artist \"hillsong united\", with scores of 0.977\n",
      "5: You've Been Missed by the artist \"partynextdoor\", with scores of 0.976\n",
      "6: Indian Reservation (The Lament of the Cherokee Reservation Indian) by the artist \"paul revere & the raiders\", with scores of 0.976\n",
      "7: Hey You by the artist \"pink floyd\", with scores of 0.972\n",
      "8: Mother by the artist \"pink floyd\", with scores of 0.970\n",
      "9: Howling by the artist \"ry x\", with scores of 0.970\n",
      "10: Neptune by the artist \"sleeping at last\", with scores of 0.969\n"
     ]
    }
   ],
   "source": [
    "content_recommendations('L$D')"
   ]
  },
  {
   "cell_type": "markdown",
   "metadata": {},
   "source": [
    "## Content Based Recommendation System by song's genres from spotify and last fm.\n",
    "## Informational Retrieval (TF-Idf)"
   ]
  },
  {
   "cell_type": "code",
   "execution_count": 33,
   "metadata": {},
   "outputs": [
    {
     "data": {
      "text/html": [
       "<div>\n",
       "<style scoped>\n",
       "    .dataframe tbody tr th:only-of-type {\n",
       "        vertical-align: middle;\n",
       "    }\n",
       "\n",
       "    .dataframe tbody tr th {\n",
       "        vertical-align: top;\n",
       "    }\n",
       "\n",
       "    .dataframe thead th {\n",
       "        text-align: right;\n",
       "    }\n",
       "</style>\n",
       "<table border=\"1\" class=\"dataframe\">\n",
       "  <thead>\n",
       "    <tr style=\"text-align: right;\">\n",
       "      <th></th>\n",
       "      <th>genre</th>\n",
       "    </tr>\n",
       "    <tr>\n",
       "      <th>artist_name</th>\n",
       "      <th></th>\n",
       "    </tr>\n",
       "  </thead>\n",
       "  <tbody>\n",
       "    <tr>\n",
       "      <th>!!!</th>\n",
       "      <td>alternative dance, dance-punk, electronic, fil...</td>\n",
       "    </tr>\n",
       "    <tr>\n",
       "      <th>\"weird al\" yankovic</th>\n",
       "      <td>antiviral pop, comedy rock, comic</td>\n",
       "    </tr>\n",
       "    <tr>\n",
       "      <th>#1 dads</th>\n",
       "      <td>australian indie</td>\n",
       "    </tr>\n",
       "    <tr>\n",
       "      <th>$teven cannon</th>\n",
       "      <td>dark trap, underground hip hop, vapor trap</td>\n",
       "    </tr>\n",
       "    <tr>\n",
       "      <th>$uicideboy$</th>\n",
       "      <td>dark trap, new orleans rap, underground hip hop</td>\n",
       "    </tr>\n",
       "  </tbody>\n",
       "</table>\n",
       "</div>"
      ],
      "text/plain": [
       "                                                                 genre\n",
       "artist_name                                                           \n",
       "!!!                  alternative dance, dance-punk, electronic, fil...\n",
       "\"weird al\" yankovic                  antiviral pop, comedy rock, comic\n",
       "#1 dads                                               australian indie\n",
       "$teven cannon               dark trap, underground hip hop, vapor trap\n",
       "$uicideboy$            dark trap, new orleans rap, underground hip hop"
      ]
     },
     "execution_count": 33,
     "metadata": {},
     "output_type": "execute_result"
    }
   ],
   "source": [
    "bag_of_genres.head()"
   ]
  },
  {
   "cell_type": "code",
   "execution_count": 95,
   "metadata": {},
   "outputs": [],
   "source": [
    "tfidf = TfidfVectorizer(stop_words='english', ngram_range=(1,1))\n",
    "x = tfidf.fit_transform(bag_of_genres['genre'])\n",
    "# Compute the cosine similarity matrix of genres\n",
    "tfidf_cosine_sim = cosine_similarity(x, x)\n"
   ]
  },
  {
   "cell_type": "code",
   "execution_count": 96,
   "metadata": {},
   "outputs": [
    {
     "data": {
      "text/plain": [
       "(16409, 1257)"
      ]
     },
     "execution_count": 96,
     "metadata": {},
     "output_type": "execute_result"
    }
   ],
   "source": [
    "x.shape # 16409 Artists with 1257 different genres\n"
   ]
  },
  {
   "cell_type": "code",
   "execution_count": 101,
   "metadata": {},
   "outputs": [],
   "source": [
    "count = CountVectorizer(stop_words='english',ngram_range=(1,1)) # Initializing for counting genres.\n",
    "count_matrix = count.fit_transform(bag_of_genres['genre']) # Transform\n",
    "count_cosine_sim = cosine_similarity(count_matrix, count_matrix)\n"
   ]
  },
  {
   "cell_type": "code",
   "execution_count": 38,
   "metadata": {},
   "outputs": [
    {
     "data": {
      "text/plain": [
       "0                    !!!\n",
       "1    \"weird al\" yankovic\n",
       "2                #1 dads\n",
       "3          $teven cannon\n",
       "4            $uicideboy$\n",
       "Name: artist_name, dtype: object"
      ]
     },
     "execution_count": 38,
     "metadata": {},
     "output_type": "execute_result"
    }
   ],
   "source": [
    "genre_indices = pd.Series(bag_of_genres.index)\n",
    "genre_indices[:5]"
   ]
  },
  {
   "cell_type": "code",
   "execution_count": 39,
   "metadata": {},
   "outputs": [],
   "source": [
    "def content_recommendations_genre(artist_name, cosine_sim):\n",
    "    \n",
    "    recommended_songs = []\n",
    "    ratio_tuples = []\n",
    "    query_idx = None\n",
    "    # Use fuzz ratio since some of the artist names are ambiguous or commonly used with specific symbols\n",
    "    # for instances $ is used for S.\n",
    "    \n",
    "    for i in bag_of_genres.index:\n",
    "        ratio = fuzz.ratio(i.lower(), artist_name.lower())\n",
    "        if ratio >= 80:\n",
    "            current_query_idx = bag_of_genres.index.tolist().index(i) # Getting the index of current query\n",
    "            ratio_tuples.append((i, ratio, current_query_idx))\n",
    "    print('Possible matches: {0}\\n'.format([(x[0], x[1]) for x in ratio_tuples]))\n",
    "    try:\n",
    "        artist = max(ratio_tuples, key=lambda x: x[1])[0] # get the name of the artist with the highest fuzz ratio\n",
    "    except:\n",
    "        print(\"You artists didn't match any of artists in the data. Try again\")\n",
    "        return None\n",
    "\n",
    "    # Find the index of the artist that matches\n",
    "    query_idx = genre_indices[genre_indices == artist].index[0]\n",
    "    print('Recommendations for {0}:\\n'.format(artist))\n",
    "    \n",
    "    # creating a Series with the similarity scores in descending order\n",
    "    score_series = pd.Series(cosine_sim[query_idx]).sort_values(ascending = False)\n",
    "\n",
    "    # getting the indexes of the 10 most similar movies\n",
    "    top_10_indexes = list(score_series.iloc[1:11].index)\n",
    "    \n",
    "    # populating the list with the titles of the best 10 matching movies\n",
    "    for i in top_10_indexes:\n",
    "        recommended_songs.append(list(bag_of_genres.index)[i])\n",
    "    \n",
    "    top_10_artists = bag_of_genres[bag_of_genres.index.isin(recommended_songs)]\n",
    "    top_10_artists['scores'] = list(score_series.iloc[1:11,])\n",
    "    top_10_artists.reset_index(inplace=True)\n",
    "    for i in range(0,len(top_10_artists)):\n",
    "         print ('{0}: {1}, with scores of {2:.3f}'.format(i+1, top_10_artists.artist_name[i], top_10_artists.scores[i]))\n",
    "    return None"
   ]
  },
  {
   "cell_type": "code",
   "execution_count": 93,
   "metadata": {},
   "outputs": [
    {
     "name": "stdout",
     "output_type": "stream",
     "text": [
      "Possible matches: [('re beatles', 86), ('the antlers', 82), ('the bangles', 82), ('the beat', 84), ('the beatangers', 80), ('the beatles', 100)]\n",
      "\n",
      "Recommendations for the beatles:\n",
      "\n",
      "1: procol harum, with scores of 0.815\n",
      "2: the animals, with scores of 0.810\n",
      "3: the hollies, with scores of 0.794\n",
      "4: the kinks, with scores of 0.786\n",
      "5: the pretty things, with scores of 0.781\n",
      "6: the rolling stones, with scores of 0.778\n",
      "7: the spencer davis group, with scores of 0.766\n",
      "8: the troggs, with scores of 0.761\n",
      "9: the yardbirds, with scores of 0.756\n",
      "10: them, with scores of 0.756\n"
     ]
    }
   ],
   "source": [
    "content_recommendations_genre('The Beatles',count_cosine_sim)"
   ]
  },
  {
   "cell_type": "code",
   "execution_count": 105,
   "metadata": {},
   "outputs": [
    {
     "name": "stdout",
     "output_type": "stream",
     "text": [
      "Possible matches: [('re beatles', 86), ('the antlers', 82), ('the bangles', 82), ('the beat', 84), ('the beatangers', 80), ('the beatles', 100)]\n",
      "\n",
      "Recommendations for the beatles:\n",
      "\n",
      "1: chad & jeremy, with scores of 0.841\n",
      "2: georgie fame & the blue flames, with scores of 0.698\n",
      "3: marianne faithfull, with scores of 0.691\n",
      "4: the hollies, with scores of 0.681\n",
      "5: the nashville teens, with scores of 0.680\n",
      "6: the spencer davis group, with scores of 0.653\n",
      "7: the troggs, with scores of 0.650\n",
      "8: the yardbirds, with scores of 0.650\n",
      "9: them, with scores of 0.633\n",
      "10: unit 4 + 2, with scores of 0.632\n"
     ]
    }
   ],
   "source": [
    "content_recommendations_genre('The Beatles', tfidf_cosine_sim)"
   ]
  },
  {
   "cell_type": "code",
   "execution_count": 44,
   "metadata": {},
   "outputs": [
    {
     "name": "stdout",
     "output_type": "stream",
     "text": [
      "Possible matches: [('a$ap rocky', 100)]\n",
      "\n",
      "Recommendations for a$ap rocky:\n",
      "\n",
      "1: 2 chainz, with scores of 0.951\n",
      "2: a$ap ferg, with scores of 0.951\n",
      "3: big sean, with scores of 0.951\n",
      "4: cam’ron, with scores of 0.951\n",
      "5: dj khaled, with scores of 0.951\n",
      "6: future, with scores of 0.951\n",
      "7: mike will made-it, with scores of 0.951\n",
      "8: quavo, with scores of 0.951\n",
      "9: schoolboy q, with scores of 0.951\n",
      "10: tory lanez, with scores of 0.951\n"
     ]
    }
   ],
   "source": [
    "content_recommendations_genre('A$AP Rocky',count_cosine_sim)"
   ]
  },
  {
   "cell_type": "code",
   "execution_count": 42,
   "metadata": {},
   "outputs": [
    {
     "name": "stdout",
     "output_type": "stream",
     "text": [
      "Possible matches: [('a$ap rocky', 90), ('aesop rock', 80)]\n",
      "\n",
      "Recommendations for a$ap rocky:\n",
      "\n",
      "1: big pun, with scores of 0.910\n",
      "2: cam’ron, with scores of 0.908\n",
      "3: dmx, with scores of 0.904\n",
      "4: fat joe, with scores of 0.904\n",
      "5: french montana, with scores of 0.904\n",
      "6: memphis bleek, with scores of 0.898\n",
      "7: method man, with scores of 0.898\n",
      "8: pnb rock, with scores of 0.897\n",
      "9: rae sremmurd, with scores of 0.897\n",
      "10: the lox, with scores of 0.897\n"
     ]
    }
   ],
   "source": [
    "content_recommendations_genre('ASAP Rocky', tfidf_cosine_sim)"
   ]
  },
  {
   "cell_type": "code",
   "execution_count": 43,
   "metadata": {},
   "outputs": [
    {
     "name": "stdout",
     "output_type": "stream",
     "text": [
      "Possible matches: [('a$ap rocky', 100)]\n",
      "\n",
      "Recommendations for a$ap rocky:\n",
      "\n",
      "1: big pun, with scores of 0.910\n",
      "2: cam’ron, with scores of 0.908\n",
      "3: dmx, with scores of 0.904\n",
      "4: fat joe, with scores of 0.904\n",
      "5: french montana, with scores of 0.904\n",
      "6: memphis bleek, with scores of 0.898\n",
      "7: method man, with scores of 0.898\n",
      "8: pnb rock, with scores of 0.897\n",
      "9: rae sremmurd, with scores of 0.897\n",
      "10: the lox, with scores of 0.897\n"
     ]
    }
   ],
   "source": [
    "content_recommendations_genre('A$AP Rocky',tfidf_cosine_sim)"
   ]
  },
  {
   "cell_type": "markdown",
   "metadata": {},
   "source": [
    "the most frequently used words in a document are often the most frequently used words in all of the documents. In contrast, terms with the highest tf-idf scores are the terms in a document that are distinctively frequent in a document, when that document is compared other documents.\n",
    "\n"
   ]
  },
  {
   "cell_type": "markdown",
   "metadata": {},
   "source": [
    "# Stastistical Inference"
   ]
  },
  {
   "cell_type": "code",
   "execution_count": 98,
   "metadata": {},
   "outputs": [
    {
     "data": {
      "text/plain": [
       "acousticness          0.197358\n",
       "danceability          0.626469\n",
       "energy                0.654344\n",
       "instrumentalness      0.056744\n",
       "liveness              0.283734\n",
       "loudness             -7.614031\n",
       "speechiness           0.202637\n",
       "tempo               119.673781\n",
       "valence               0.413762\n",
       "popularity           60.375000\n",
       "dtype: float64"
      ]
     },
     "execution_count": 98,
     "metadata": {},
     "output_type": "execute_result"
    }
   ],
   "source": [
    "rocky = track_features_popular[track_features_popular.artist_name == 'a$ap rocky']\n",
    "rocky.mean()"
   ]
  },
  {
   "cell_type": "code",
   "execution_count": 99,
   "metadata": {},
   "outputs": [],
   "source": [
    "ferg = track_features_popular[track_features_popular.artist_name == 'a$ap ferg']"
   ]
  },
  {
   "cell_type": "code",
   "execution_count": 100,
   "metadata": {},
   "outputs": [],
   "source": [
    "quavo = track_features_popular[track_features_popular.artist_name == 'quavo']"
   ]
  },
  {
   "cell_type": "code",
   "execution_count": 101,
   "metadata": {},
   "outputs": [
    {
     "data": {
      "text/plain": [
       "acousticness          0.070211\n",
       "danceability          0.560500\n",
       "energy                0.864680\n",
       "instrumentalness      0.016378\n",
       "liveness              0.250596\n",
       "loudness             -4.935780\n",
       "speechiness           0.093098\n",
       "tempo               121.625400\n",
       "valence               0.479798\n",
       "popularity           59.160000\n",
       "dtype: float64"
      ]
     },
     "execution_count": 101,
     "metadata": {},
     "output_type": "execute_result"
    }
   ],
   "source": [
    "park = track_features_popular[track_features_popular.artist_name == 'linkin park']\n",
    "park.mean()\n"
   ]
  },
  {
   "cell_type": "code",
   "execution_count": 102,
   "metadata": {},
   "outputs": [
    {
     "data": {
      "text/plain": [
       "Ttest_indResult(statistic=-0.01812379768562407, pvalue=0.9857394789213656)"
      ]
     },
     "execution_count": 102,
     "metadata": {},
     "output_type": "execute_result"
    }
   ],
   "source": [
    "# Assumption is that rocky's song features and ferg's features are different from each other.\n",
    "# p-value is .95 --> Fail to reject the null hypothesis.\n",
    "from scipy.stats import ttest_ind\n",
    "scipy.stats.ttest_ind(rocky.mean(),park.mean())"
   ]
  },
  {
   "cell_type": "markdown",
   "metadata": {},
   "source": [
    "### Users Data In United States"
   ]
  },
  {
   "cell_type": "markdown",
   "metadata": {},
   "source": [
    "#### We have an implicit data of users, which is counting of their music plays and this implict data can indicate users' preference of their artists.\n",
    "Users don't care about the ability of predictions from the recommender system; they just want to see things they are likely to love.\n"
   ]
  },
  {
   "cell_type": "code",
   "execution_count": 25,
   "metadata": {},
   "outputs": [],
   "source": [
    "artname = artname.set_index('users')\n",
    "profile = profile.set_index('users')"
   ]
  },
  {
   "cell_type": "code",
   "execution_count": 26,
   "metadata": {},
   "outputs": [],
   "source": [
    "profile_merged = pd.merge(artname,profile, left_index=True, right_index=True)\n",
    "profile_merged = profile_merged.reset_index()\n",
    "profile_merged[['users','artist_name']] = profile_merged[['users','artist_name']].astype('category')\n",
    "us_profile = profile_merged[profile_merged.country == 'United States'].drop(['country'],axis=1) # We will recommend artists for users in United States"
   ]
  },
  {
   "cell_type": "code",
   "execution_count": 27,
   "metadata": {},
   "outputs": [
    {
     "data": {
      "text/plain": [
       "7510"
      ]
     },
     "execution_count": 27,
     "metadata": {},
     "output_type": "execute_result"
    }
   ],
   "source": [
    "# Now before train the data, lets see which artists are in common in merged_popular\n",
    "bag_of_genres_artists = set(bag_of_genres.index)\n",
    "lastfm_artists = set(us_profile.artist_name)\n",
    "len(lastfm_artists.intersection(bag_of_genres_artists)) # Artists are in common for both dataframes."
   ]
  },
  {
   "cell_type": "code",
   "execution_count": 28,
   "metadata": {},
   "outputs": [],
   "source": [
    "artists_common = lastfm_artists.intersection(bag_of_genres_artists)\n",
    "merged_last = us_profile[us_profile.artist_name.isin(artists_common)] # Contains all artists in both dataframes.\n"
   ]
  },
  {
   "cell_type": "code",
   "execution_count": 29,
   "metadata": {},
   "outputs": [
    {
     "name": "stdout",
     "output_type": "stream",
     "text": [
      "[]\n"
     ]
    }
   ],
   "source": [
    "# Shows there is no more duplicated rows in the data frame.\n",
    "has_nan = merged_last.isnull().any(axis=0)\n",
    "has_nan = [merged_last.columns[i] for i in np.where(has_nan)[0]]\n",
    "print(has_nan) "
   ]
  },
  {
   "cell_type": "code",
   "execution_count": 30,
   "metadata": {},
   "outputs": [
    {
     "data": {
      "text/html": [
       "<div>\n",
       "<style scoped>\n",
       "    .dataframe tbody tr th:only-of-type {\n",
       "        vertical-align: middle;\n",
       "    }\n",
       "\n",
       "    .dataframe tbody tr th {\n",
       "        vertical-align: top;\n",
       "    }\n",
       "\n",
       "    .dataframe thead th {\n",
       "        text-align: right;\n",
       "    }\n",
       "</style>\n",
       "<table border=\"1\" class=\"dataframe\">\n",
       "  <thead>\n",
       "    <tr style=\"text-align: right;\">\n",
       "      <th></th>\n",
       "      <th>artist_id</th>\n",
       "      <th>total plays</th>\n",
       "    </tr>\n",
       "  </thead>\n",
       "  <tbody>\n",
       "    <tr>\n",
       "      <th>0</th>\n",
       "      <td>0002f649-8285-4a72-b847-b3854e1a449c</td>\n",
       "      <td>20882</td>\n",
       "    </tr>\n",
       "    <tr>\n",
       "      <th>1</th>\n",
       "      <td>00034ede-a1f1-4219-be39-02f36853373e</td>\n",
       "      <td>4010</td>\n",
       "    </tr>\n",
       "    <tr>\n",
       "      <th>2</th>\n",
       "      <td>000fc734-b7e1-4a01-92d1-f544261b43f5</td>\n",
       "      <td>515795</td>\n",
       "    </tr>\n",
       "    <tr>\n",
       "      <th>3</th>\n",
       "      <td>000fecd9-ae03-49bc-9a08-636dde5d405d</td>\n",
       "      <td>27855</td>\n",
       "    </tr>\n",
       "    <tr>\n",
       "      <th>4</th>\n",
       "      <td>0017114a-a0bc-4af9-83d1-75f7a506c3f0</td>\n",
       "      <td>145</td>\n",
       "    </tr>\n",
       "  </tbody>\n",
       "</table>\n",
       "</div>"
      ],
      "text/plain": [
       "                              artist_id  total plays\n",
       "0  0002f649-8285-4a72-b847-b3854e1a449c        20882\n",
       "1  00034ede-a1f1-4219-be39-02f36853373e         4010\n",
       "2  000fc734-b7e1-4a01-92d1-f544261b43f5       515795\n",
       "3  000fecd9-ae03-49bc-9a08-636dde5d405d        27855\n",
       "4  0017114a-a0bc-4af9-83d1-75f7a506c3f0          145"
      ]
     },
     "execution_count": 30,
     "metadata": {},
     "output_type": "execute_result"
    }
   ],
   "source": [
    "artists_plays = merged_last.groupby(['artist_id'])['plays'].sum().reset_index()\n",
    "artists_plays.columns = ['artist_id','total plays']\n",
    "artists_plays.head()"
   ]
  },
  {
   "cell_type": "code",
   "execution_count": 113,
   "metadata": {},
   "outputs": [
    {
     "data": {
      "text/plain": [
       "count    7.590000e+03\n",
       "mean     8.042334e+04\n",
       "std      2.913556e+05\n",
       "min      1.000000e+00\n",
       "25%      1.014000e+03\n",
       "50%      6.900000e+03\n",
       "75%      4.209400e+04\n",
       "max      1.070638e+07\n",
       "Name: total plays, dtype: float64"
      ]
     },
     "execution_count": 113,
     "metadata": {},
     "output_type": "execute_result"
    }
   ],
   "source": [
    "artists_plays['total plays'].describe()"
   ]
  },
  {
   "cell_type": "code",
   "execution_count": 114,
   "metadata": {},
   "outputs": [
    {
     "data": {
      "text/plain": [
       "count    3.336272e+06\n",
       "mean     2.555277e+02\n",
       "std      7.066286e+02\n",
       "min      1.000000e+00\n",
       "25%      4.700000e+01\n",
       "50%      1.180000e+02\n",
       "75%      2.660000e+02\n",
       "max      2.883750e+05\n",
       "Name: plays, dtype: float64"
      ]
     },
     "execution_count": 114,
     "metadata": {},
     "output_type": "execute_result"
    }
   ],
   "source": [
    "us_profile['plays'].describe()"
   ]
  },
  {
   "cell_type": "markdown",
   "metadata": {},
   "source": [
    "Minimum of total plays is one, which can be interpreted as there are not well known unique artists.\n",
    "Need to clean the data. \n",
    "Difference of min and max is too big for total plays and median of total plays is 1.24e4; therefore, I have to set up a reasonable threshold to prevent nosiy data.\n",
    "Also, for each user's plays, I will set up a threshold to prevent the noise."
   ]
  },
  {
   "cell_type": "code",
   "execution_count": 115,
   "metadata": {},
   "outputs": [
    {
     "data": {
      "image/png": "[encoded data removed]",
      "text/plain": [
       "<Figure size 432x288 with 2 Axes>"
      ]
     },
     "metadata": {},
     "output_type": "display_data"
    }
   ],
   "source": [
    "y = np.sort(artists_plays['total plays'])\n",
    "yvals = np.arange(len(y))/float(len(y))\n",
    "\n",
    "y_detailed = y[y<200000]\n",
    "yvals_detailed = np.arange(len(y_detailed))/float(len(y_detailed))\n",
    "plt.plot (y, yvals)\n",
    "plt.xlabel('Play Counts')\n",
    "plt.xlim(0,1100000)\n",
    "plt.ylabel('ECDF')\n",
    "plt.title('ECDF of number of play counts per User ID')\n",
    "plt.grid(True,which=\"both\",ls=\"-\")\n",
    "\n",
    "sub_axes = plt.axes([.5, 0.35, .3, .3]) \n",
    "sub_axes.plot(y_detailed,yvals_detailed, c = 'k') \n",
    "plt.xlabel('Play Counts')\n",
    "plt.ylabel('ECDf')\n",
    "plt.title('ECDF of detailed')\n",
    "plt.grid(True,which=\"both\",ls=\"-\")\n",
    "plt.show()\n"
   ]
  },
  {
   "cell_type": "code",
   "execution_count": 116,
   "metadata": {},
   "outputs": [
    {
     "data": {
      "image/png": "[encoded data removed]",
      "text/plain": [
       "<Figure size 432x288 with 1 Axes>"
      ]
     },
     "metadata": {},
     "output_type": "display_data"
    }
   ],
   "source": [
    "sorted_total = artists_plays.sort_values(by='total plays', ascending=False)[:10]\n",
    "top_10 = [merged_last[merged_last.artist_id == top]['artist_name'][0] for top in sorted_total.artist_id]\n",
    "y_pos = range(len(sorted_total))\n",
    "frequency = sorted_total['total plays']\n",
    "\n",
    "plt.barh(y_pos, frequency[::-1], align='center', alpha=0.4)\n",
    "plt.yticks(y_pos, top_10[::-1])\n",
    "plt.xlabel('Total Play Counts')\n",
    "plt.ylabel('Artists')\n",
    "plt.title('Top-10 Artist by total play counts')\n",
    "plt.show()\n"
   ]
  },
  {
   "cell_type": "code",
   "execution_count": 117,
   "metadata": {},
   "outputs": [
    {
     "data": {
      "image/png": "[encoded data removed]",
      "text/plain": [
       "<Figure size 432x288 with 1 Axes>"
      ]
     },
     "metadata": {},
     "output_type": "display_data"
    }
   ],
   "source": [
    "sorted_plays = merged_last[['artist_name','plays']].sort_values(by='plays', ascending=False)[:10]\n",
    "frequency = sorted_plays['plays']\n",
    "y_pos = range(len(sorted_plays))\n",
    "\n",
    "plt.barh(y_pos, frequency[::-1], align='center', alpha=0.4)\n",
    "plt.yticks(y_pos, sorted_plays['artist_name'][::-1])\n",
    "plt.xlabel('Play Counts')\n",
    "plt.ylabel('Artists')\n",
    "plt.title(\"Top-10 Artist by individual user's play counts\")\n",
    "plt.show()"
   ]
  },
  {
   "cell_type": "code",
   "execution_count": 31,
   "metadata": {},
   "outputs": [
    {
     "data": {
      "image/png": "[encoded data removed]",
      "text/plain": [
       "<Figure size 432x288 with 1 Axes>"
      ]
     },
     "metadata": {},
     "output_type": "display_data"
    }
   ],
   "source": [
    "artist_by_total = merged_last.groupby('artist_name').agg({'users':'count'}).rename(columns={'users':'total_unique_users'})\n",
    "artist_by_total.sort_values(by='total_unique_users', ascending=False, inplace=True)\n",
    "artists10 = artist_by_total[0:10]\n",
    "y_pos = np.arange(len(artist_by_total[0:10]))\n",
    "artists = artist_by_total[0:10].index.tolist()\n",
    "\n",
    "plt.barh(y_pos, artists10.total_unique_users[::-1], align='center', alpha=0.5)\n",
    "plt.yticks(y_pos, artists[::-1])\n",
    "plt.xlabel('Number of Unique Users')\n",
    "plt.ylabel('Artists')\n",
    "plt.title('Top 10 Artists By Unique Users Counting')\n",
    "\n",
    "plt.show()"
   ]
  },
  {
   "cell_type": "code",
   "execution_count": 32,
   "metadata": {},
   "outputs": [],
   "source": [
    "users_with_total = merged_last.merge(artists_plays, on='artist_id', how='left')\n",
    "users_with_total = users_with_total.merge(artist_by_total, on='artist_name', how='left')\n",
    "users_with_total.isnull().sum()\n",
    "# Dropping Missing values of artist_id\n",
    "users_with_total = users_with_total[~users_with_total.artist_id.isnull()] \n",
    "# Dropping 33 Missing values of artist names\n",
    "users_with_total = users_with_total[~users_with_total.artist_name.isnull()] \n",
    "users_with_total.drop(columns=['artist_id'], inplace=True)\n",
    "users_with_total.users = users_with_total.users.cat.codes# Change it to categorical code to summarize user Ids\n"
   ]
  },
  {
   "cell_type": "code",
   "execution_count": 33,
   "metadata": {},
   "outputs": [
    {
     "data": {
      "text/plain": [
       "users                 0\n",
       "artist_name           0\n",
       "plays                 0\n",
       "total plays           0\n",
       "total_unique_users    0\n",
       "dtype: int64"
      ]
     },
     "execution_count": 33,
     "metadata": {},
     "output_type": "execute_result"
    }
   ],
   "source": [
    "users_with_total.isnull().sum() #No more missing values are detected."
   ]
  },
  {
   "cell_type": "code",
   "execution_count": 34,
   "metadata": {},
   "outputs": [
    {
     "data": {
      "text/plain": [
       "[Text(0.5, 0, '')]"
      ]
     },
     "execution_count": 34,
     "metadata": {},
     "output_type": "execute_result"
    },
    {
     "data": {
      "image/png": "[encoded data removed]",
      "text/plain": [
       "<Figure size 1080x720 with 6 Axes>"
      ]
     },
     "metadata": {},
     "output_type": "display_data"
    }
   ],
   "source": [
    "f, axes = plt.subplots(nrows=2, ncols=3,figsize=(15, 10),gridspec_kw={\"height_ratios\": (.15, .85)})\n",
    "\n",
    "sns.boxplot(users_with_total['total plays'], ax=axes[0,0])\n",
    "sns.kdeplot(users_with_total['total plays'], ax=axes[1,0])\n",
    "axes[0,0].set(xlabel='')\n",
    "\n",
    "sns.boxplot(users_with_total.plays, ax=axes[0,1], color='red')\n",
    "sns.kdeplot(users_with_total.plays, ax=axes[1,1], color='red')\n",
    "axes[0,1].set(xlabel='')\n",
    "\n",
    "sns.boxplot(users_with_total.total_unique_users, ax=axes[0,2], color='green')\n",
    "sns.kdeplot(users_with_total.total_unique_users, ax=axes[1,2], color='green')\n",
    "axes[0,2].set(xlabel='')"
   ]
  },
  {
   "cell_type": "code",
   "execution_count": 35,
   "metadata": {},
   "outputs": [
    {
     "data": {
      "text/plain": [
       "[Text(0, 0.5, 'Density'), Text(0.5, 0, 'Log10 (# of total unique users)')]"
      ]
     },
     "execution_count": 35,
     "metadata": {},
     "output_type": "execute_result"
    },
    {
     "data": {
      "image/png": "[encoded data removed]",
      "text/plain": [
       "<Figure size 1080x720 with 6 Axes>"
      ]
     },
     "metadata": {},
     "output_type": "display_data"
    }
   ],
   "source": [
    "f, axes = plt.subplots(nrows=2, ncols=3,figsize=(15, 10),gridspec_kw={\"height_ratios\": (.15, .85)})\n",
    "\n",
    "sns.boxplot(np.log10(users_with_total['total plays']), ax=axes[0,0])\n",
    "sns.kdeplot(np.log10(users_with_total['total plays']), ax=axes[1,0])\n",
    "axes[0,0].set(xlabel='')\n",
    "axes[1,0].set(xlabel='Log10 (total plays)',ylabel='Density')\n",
    "\n",
    "sns.boxplot(np.log10(users_with_total.plays), ax=axes[0,1], color='red')\n",
    "sns.kdeplot(np.log10(users_with_total.plays), ax=axes[1,1], color='red')\n",
    "axes[0,1].set(xlabel='')\n",
    "axes[1,1].set(xlabel='Log10 (plays)',ylabel='Density')\n",
    "\n",
    "sns.boxplot(np.log10(users_with_total.total_unique_users), ax=axes[0,2], color='green')\n",
    "sns.kdeplot(np.log10(users_with_total.total_unique_users), ax=axes[1,2], color='green')\n",
    "axes[0,2].set(xlabel='')\n",
    "axes[1,2].set(xlabel='Log10 (# of total unique users)', ylabel='Density')"
   ]
  },
  {
   "cell_type": "markdown",
   "metadata": {},
   "source": [
    "We can see all of distributions have long tails and are exponential.\n",
    "Will try to use the long tails since items in long tail are the items cater to people with unique niche interesets.\n",
    "Long tails are actually driving a significant volume of users.\n",
    "Transformed to log normal for plays to see the plays distribution clearly."
   ]
  },
  {
   "cell_type": "code",
   "execution_count": 36,
   "metadata": {},
   "outputs": [],
   "source": [
    "# Set the threshold to prevent the noise.\n",
    "total_threshold = artists_plays['total plays'].quantile(.3)\n",
    "plays_threshold = users_with_total.plays.quantile(.3)\n",
    "users_threshold = 50"
   ]
  },
  {
   "cell_type": "code",
   "execution_count": 37,
   "metadata": {},
   "outputs": [],
   "source": [
    "cleaned = users_with_total[users_with_total.plays >= plays_threshold]\n",
    "cleaned = cleaned[cleaned.total_unique_users >= users_threshold]\n",
    "cleaned = cleaned[cleaned['total plays'] >= total_threshold]\n",
    "\n",
    "#users_with_total.artist_name = users_with_total.artist_name.cat.codes"
   ]
  },
  {
   "cell_type": "code",
   "execution_count": 38,
   "metadata": {},
   "outputs": [
    {
     "data": {
      "text/html": [
       "<div>\n",
       "<style scoped>\n",
       "    .dataframe tbody tr th:only-of-type {\n",
       "        vertical-align: middle;\n",
       "    }\n",
       "\n",
       "    .dataframe tbody tr th {\n",
       "        vertical-align: top;\n",
       "    }\n",
       "\n",
       "    .dataframe thead th {\n",
       "        text-align: right;\n",
       "    }\n",
       "</style>\n",
       "<table border=\"1\" class=\"dataframe\">\n",
       "  <thead>\n",
       "    <tr style=\"text-align: right;\">\n",
       "      <th></th>\n",
       "      <th>users</th>\n",
       "      <th>artist_name</th>\n",
       "      <th>plays</th>\n",
       "      <th>total plays</th>\n",
       "      <th>total_unique_users</th>\n",
       "    </tr>\n",
       "  </thead>\n",
       "  <tbody>\n",
       "    <tr>\n",
       "      <th>0</th>\n",
       "      <td>4</td>\n",
       "      <td>devendra banhart</td>\n",
       "      <td>456</td>\n",
       "      <td>868311</td>\n",
       "      <td>2989</td>\n",
       "    </tr>\n",
       "    <tr>\n",
       "      <th>1</th>\n",
       "      <td>4</td>\n",
       "      <td>boards of canada</td>\n",
       "      <td>407</td>\n",
       "      <td>1750033</td>\n",
       "      <td>4314</td>\n",
       "    </tr>\n",
       "    <tr>\n",
       "      <th>2</th>\n",
       "      <td>4</td>\n",
       "      <td>cocorosie</td>\n",
       "      <td>386</td>\n",
       "      <td>382582</td>\n",
       "      <td>1434</td>\n",
       "    </tr>\n",
       "    <tr>\n",
       "      <th>3</th>\n",
       "      <td>4</td>\n",
       "      <td>aphex twin</td>\n",
       "      <td>213</td>\n",
       "      <td>1093663</td>\n",
       "      <td>3701</td>\n",
       "    </tr>\n",
       "    <tr>\n",
       "      <th>4</th>\n",
       "      <td>4</td>\n",
       "      <td>animal collective</td>\n",
       "      <td>203</td>\n",
       "      <td>1808594</td>\n",
       "      <td>5740</td>\n",
       "    </tr>\n",
       "  </tbody>\n",
       "</table>\n",
       "</div>"
      ],
      "text/plain": [
       "   users        artist_name  plays  total plays  total_unique_users\n",
       "0      4   devendra banhart    456       868311                2989\n",
       "1      4   boards of canada    407      1750033                4314\n",
       "2      4          cocorosie    386       382582                1434\n",
       "3      4         aphex twin    213      1093663                3701\n",
       "4      4  animal collective    203      1808594                5740"
      ]
     },
     "execution_count": 38,
     "metadata": {},
     "output_type": "execute_result"
    }
   ],
   "source": [
    "cleaned.head()"
   ]
  },
  {
   "cell_type": "code",
   "execution_count": 124,
   "metadata": {},
   "outputs": [
    {
     "data": {
      "text/plain": [
       "(61340, 3647)"
      ]
     },
     "execution_count": 124,
     "metadata": {},
     "output_type": "execute_result"
    }
   ],
   "source": [
    "len(set(cleaned.users)),len(set(cleaned.artist_name)) # 61340 users, 3647 artists"
   ]
  },
  {
   "cell_type": "markdown",
   "metadata": {},
   "source": [
    "# General Collaborative Based Filtering Item(Artists) Based"
   ]
  },
  {
   "cell_type": "code",
   "execution_count": 125,
   "metadata": {},
   "outputs": [
    {
     "data": {
      "text/plain": [
       "<3647x61340 sparse matrix of type '<class 'numpy.float64'>'\n",
       "\twith 1576182 stored elements in Compressed Sparse Row format>"
      ]
     },
     "execution_count": 125,
     "metadata": {},
     "output_type": "execute_result"
    }
   ],
   "source": [
    "artists_users_pivoted = cleaned.pivot_table(index='artist_name', columns='users', values='plays').fillna(0)\n",
    "artists_users_sparse = csr_matrix(artists_users_pivoted.values)\n",
    "artists_users_sparse # 61340 users and 3647 artists"
   ]
  },
  {
   "cell_type": "code",
   "execution_count": 126,
   "metadata": {},
   "outputs": [
    {
     "data": {
      "text/plain": [
       "NearestNeighbors(algorithm='brute', leaf_size=30, metric='cosine',\n",
       "         metric_params=None, n_jobs=1, n_neighbors=5, p=2, radius=1.0)"
      ]
     },
     "execution_count": 126,
     "metadata": {},
     "output_type": "execute_result"
    }
   ],
   "source": [
    "model_knn = NearestNeighbors(metric='cosine',algorithm = 'brute')\n",
    "model_knn.fit(artists_users_sparse)"
   ]
  },
  {
   "cell_type": "code",
   "execution_count": 127,
   "metadata": {},
   "outputs": [
    {
     "name": "stdout",
     "output_type": "stream",
     "text": [
      "Similar Artists for brad paisley:\n",
      "\n",
      "1: alan jackson, with distance of 0.533:\n",
      "2: tim mcgraw, with distance of 0.554:\n",
      "3: keith urban, with distance of 0.566:\n",
      "4: kenny chesney, with distance of 0.593:\n",
      "5: toby keith, with distance of 0.607:\n"
     ]
    }
   ],
   "source": [
    "query_index = np.random.choice(artists_users_pivoted.shape[0])\n",
    "distances, indices = model_knn.kneighbors(artists_users_pivoted.iloc[query_index].values.reshape(1, -1), \n",
    "                                          n_neighbors = 6)\n",
    "\n",
    "\n",
    "for i in range(0, len(distances.flatten())):\n",
    "    if i == 0:\n",
    "        print ('Similar Artists for {0}:\\n'.format(artists_users_pivoted.index[query_index]))\n",
    "    else:\n",
    "        print ('{0}: {1}, with distance of {2:.3f}:'.format(i, artists_users_pivoted.index[indices.flatten()[i]], distances.flatten()[i]))"
   ]
  },
  {
   "cell_type": "markdown",
   "metadata": {},
   "source": [
    "## Co-occurence Matrix (Item vs Item)"
   ]
  },
  {
   "cell_type": "code",
   "execution_count": 59,
   "metadata": {},
   "outputs": [],
   "source": [
    "def get_artist_users(artists):\n",
    "    \"\"\" \n",
    "    Get unique users who listened the \"artists\"\n",
    "    \"\"\"\n",
    "    artist_data = cleaned[cleaned.artist_name == artists]\n",
    "    artist_users = set(artist_data.users.unique())\n",
    "    return artist_users\n",
    "#get_artist_users('lady gaga')\n"
   ]
  },
  {
   "cell_type": "code",
   "execution_count": 60,
   "metadata": {},
   "outputs": [],
   "source": [
    "def get_users_artists(users):\n",
    "    \"\"\" \n",
    "    users: users' category codes (integer)\n",
    "    \n",
    "    Get unique artists played by the users\n",
    "    \"\"\"\n",
    "    users_data = cleaned[cleaned.users == users]\n",
    "    users_artists = users_data[['artist_name','plays']]\n",
    "    return users_artists"
   ]
  },
  {
   "cell_type": "code",
   "execution_count": 39,
   "metadata": {},
   "outputs": [],
   "source": [
    "cleaned['played'] = cleaned.plays.apply(np.sign) # 1 indicates a user played an artist,but 0 indicates a user didn't"
   ]
  },
  {
   "cell_type": "code",
   "execution_count": 40,
   "metadata": {},
   "outputs": [],
   "source": [
    "binary_users_artists_pivoted = cleaned.pivot_table(index='users', columns='artist_name', values='played').fillna(0).astype(int)\n",
    "binary_users_artists_sparse = csr_matrix(binary_users_artists_pivoted.values)"
   ]
  },
  {
   "cell_type": "code",
   "execution_count": 41,
   "metadata": {},
   "outputs": [
    {
     "data": {
      "text/plain": [
       "(61340, 3647)"
      ]
     },
     "execution_count": 41,
     "metadata": {},
     "output_type": "execute_result"
    }
   ],
   "source": [
    "binary_users_artists_sparse.shape "
   ]
  },
  {
   "cell_type": "code",
   "execution_count": 42,
   "metadata": {},
   "outputs": [
    {
     "data": {
      "text/plain": [
       "(array([  63,   71,  128,  152,  171,  178,  183,  221,  231,  289,  317,\n",
       "         328,  420,  491,  492,  499,  562,  680,  869, 1014, 1026, 1172,\n",
       "        1297, 1478, 2008, 2072, 2094, 2134, 2248, 2279, 2428, 2478, 2488,\n",
       "        2535, 2673, 2955, 3072, 3158, 3234, 3545, 3587]),)"
      ]
     },
     "execution_count": 42,
     "metadata": {},
     "output_type": "execute_result"
    }
   ],
   "source": [
    "binary_users_artists_sparse.toarray()[0].nonzero() # The user index with 0 played artists with indices... and so on."
   ]
  },
  {
   "cell_type": "code",
   "execution_count": 43,
   "metadata": {},
   "outputs": [
    {
     "data": {
      "text/plain": [
       "array([[0, 0, 3, ..., 0, 2, 2],\n",
       "       [0, 0, 0, ..., 0, 0, 0],\n",
       "       [3, 0, 0, ..., 0, 0, 0],\n",
       "       ...,\n",
       "       [0, 0, 0, ..., 0, 0, 0],\n",
       "       [2, 0, 0, ..., 0, 0, 0],\n",
       "       [2, 0, 0, ..., 0, 0, 0]], dtype=int64)"
      ]
     },
     "execution_count": 43,
     "metadata": {},
     "output_type": "execute_result"
    }
   ],
   "source": [
    "co_occ = binary_users_artists_sparse.T.dot(binary_users_artists_sparse)\n",
    "co_occ.setdiag(0)\n",
    "co_occ.toarray() # Showing the co-occurence matrix of artists. 2341 x 2341."
   ]
  },
  {
   "cell_type": "code",
   "execution_count": 55,
   "metadata": {},
   "outputs": [
    {
     "data": {
      "text/html": [
       "<div>\n",
       "<style scoped>\n",
       "    .dataframe tbody tr th:only-of-type {\n",
       "        vertical-align: middle;\n",
       "    }\n",
       "\n",
       "    .dataframe tbody tr th {\n",
       "        vertical-align: top;\n",
       "    }\n",
       "\n",
       "    .dataframe thead th {\n",
       "        text-align: right;\n",
       "    }\n",
       "</style>\n",
       "<table border=\"1\" class=\"dataframe\">\n",
       "  <thead>\n",
       "    <tr style=\"text-align: right;\">\n",
       "      <th>artist_name</th>\n",
       "      <th>!!!</th>\n",
       "      <th>'til tuesday</th>\n",
       "      <th>*nsync</th>\n",
       "      <th>+44</th>\n",
       "      <th>...and you will know us by the trail of dead</th>\n",
       "      <th>10 ft. ganja plant</th>\n",
       "      <th>10 years</th>\n",
       "      <th>10,000 maniacs</th>\n",
       "      <th>10cc</th>\n",
       "      <th>112</th>\n",
       "      <th>...</th>\n",
       "      <th>z-ro</th>\n",
       "      <th>zap mama</th>\n",
       "      <th>zebrahead</th>\n",
       "      <th>zero 7</th>\n",
       "      <th>ziggy marley</th>\n",
       "      <th>zion i</th>\n",
       "      <th>zomby</th>\n",
       "      <th>zox</th>\n",
       "      <th>zz top</th>\n",
       "      <th>µ-ziq</th>\n",
       "    </tr>\n",
       "    <tr>\n",
       "      <th>artist_name</th>\n",
       "      <th></th>\n",
       "      <th></th>\n",
       "      <th></th>\n",
       "      <th></th>\n",
       "      <th></th>\n",
       "      <th></th>\n",
       "      <th></th>\n",
       "      <th></th>\n",
       "      <th></th>\n",
       "      <th></th>\n",
       "      <th></th>\n",
       "      <th></th>\n",
       "      <th></th>\n",
       "      <th></th>\n",
       "      <th></th>\n",
       "      <th></th>\n",
       "      <th></th>\n",
       "      <th></th>\n",
       "      <th></th>\n",
       "      <th></th>\n",
       "      <th></th>\n",
       "    </tr>\n",
       "  </thead>\n",
       "  <tbody>\n",
       "    <tr>\n",
       "      <th>!!!</th>\n",
       "      <td>0</td>\n",
       "      <td>0</td>\n",
       "      <td>3</td>\n",
       "      <td>1</td>\n",
       "      <td>20</td>\n",
       "      <td>1</td>\n",
       "      <td>0</td>\n",
       "      <td>0</td>\n",
       "      <td>0</td>\n",
       "      <td>0</td>\n",
       "      <td>...</td>\n",
       "      <td>0</td>\n",
       "      <td>0</td>\n",
       "      <td>2</td>\n",
       "      <td>13</td>\n",
       "      <td>0</td>\n",
       "      <td>0</td>\n",
       "      <td>1</td>\n",
       "      <td>0</td>\n",
       "      <td>2</td>\n",
       "      <td>2</td>\n",
       "    </tr>\n",
       "    <tr>\n",
       "      <th>'til tuesday</th>\n",
       "      <td>0</td>\n",
       "      <td>0</td>\n",
       "      <td>0</td>\n",
       "      <td>0</td>\n",
       "      <td>1</td>\n",
       "      <td>0</td>\n",
       "      <td>0</td>\n",
       "      <td>4</td>\n",
       "      <td>0</td>\n",
       "      <td>0</td>\n",
       "      <td>...</td>\n",
       "      <td>0</td>\n",
       "      <td>0</td>\n",
       "      <td>0</td>\n",
       "      <td>0</td>\n",
       "      <td>0</td>\n",
       "      <td>0</td>\n",
       "      <td>0</td>\n",
       "      <td>0</td>\n",
       "      <td>0</td>\n",
       "      <td>0</td>\n",
       "    </tr>\n",
       "    <tr>\n",
       "      <th>*nsync</th>\n",
       "      <td>3</td>\n",
       "      <td>0</td>\n",
       "      <td>0</td>\n",
       "      <td>14</td>\n",
       "      <td>1</td>\n",
       "      <td>0</td>\n",
       "      <td>3</td>\n",
       "      <td>0</td>\n",
       "      <td>0</td>\n",
       "      <td>12</td>\n",
       "      <td>...</td>\n",
       "      <td>0</td>\n",
       "      <td>0</td>\n",
       "      <td>2</td>\n",
       "      <td>6</td>\n",
       "      <td>0</td>\n",
       "      <td>0</td>\n",
       "      <td>0</td>\n",
       "      <td>0</td>\n",
       "      <td>0</td>\n",
       "      <td>0</td>\n",
       "    </tr>\n",
       "    <tr>\n",
       "      <th>+44</th>\n",
       "      <td>1</td>\n",
       "      <td>0</td>\n",
       "      <td>14</td>\n",
       "      <td>0</td>\n",
       "      <td>2</td>\n",
       "      <td>0</td>\n",
       "      <td>5</td>\n",
       "      <td>1</td>\n",
       "      <td>0</td>\n",
       "      <td>0</td>\n",
       "      <td>...</td>\n",
       "      <td>0</td>\n",
       "      <td>0</td>\n",
       "      <td>4</td>\n",
       "      <td>0</td>\n",
       "      <td>0</td>\n",
       "      <td>0</td>\n",
       "      <td>0</td>\n",
       "      <td>1</td>\n",
       "      <td>0</td>\n",
       "      <td>0</td>\n",
       "    </tr>\n",
       "    <tr>\n",
       "      <th>...and you will know us by the trail of dead</th>\n",
       "      <td>20</td>\n",
       "      <td>1</td>\n",
       "      <td>1</td>\n",
       "      <td>2</td>\n",
       "      <td>0</td>\n",
       "      <td>1</td>\n",
       "      <td>4</td>\n",
       "      <td>0</td>\n",
       "      <td>0</td>\n",
       "      <td>0</td>\n",
       "      <td>...</td>\n",
       "      <td>0</td>\n",
       "      <td>1</td>\n",
       "      <td>1</td>\n",
       "      <td>7</td>\n",
       "      <td>0</td>\n",
       "      <td>2</td>\n",
       "      <td>0</td>\n",
       "      <td>0</td>\n",
       "      <td>1</td>\n",
       "      <td>1</td>\n",
       "    </tr>\n",
       "  </tbody>\n",
       "</table>\n",
       "<p>5 rows × 3647 columns</p>\n",
       "</div>"
      ],
      "text/plain": [
       "artist_name                                   !!!  'til tuesday  *nsync  +44  \\\n",
       "artist_name                                                                    \n",
       "!!!                                             0             0       3    1   \n",
       "'til tuesday                                    0             0       0    0   \n",
       "*nsync                                          3             0       0   14   \n",
       "+44                                             1             0      14    0   \n",
       "...and you will know us by the trail of dead   20             1       1    2   \n",
       "\n",
       "artist_name                                   ...and you will know us by the trail of dead  \\\n",
       "artist_name                                                                                  \n",
       "!!!                                                                                     20   \n",
       "'til tuesday                                                                             1   \n",
       "*nsync                                                                                   1   \n",
       "+44                                                                                      2   \n",
       "...and you will know us by the trail of dead                                             0   \n",
       "\n",
       "artist_name                                   10 ft. ganja plant  10 years  \\\n",
       "artist_name                                                                  \n",
       "!!!                                                            1         0   \n",
       "'til tuesday                                                   0         0   \n",
       "*nsync                                                         0         3   \n",
       "+44                                                            0         5   \n",
       "...and you will know us by the trail of dead                   1         4   \n",
       "\n",
       "artist_name                                   10,000 maniacs  10cc  112  \\\n",
       "artist_name                                                               \n",
       "!!!                                                        0     0    0   \n",
       "'til tuesday                                               4     0    0   \n",
       "*nsync                                                     0     0   12   \n",
       "+44                                                        1     0    0   \n",
       "...and you will know us by the trail of dead               0     0    0   \n",
       "\n",
       "artist_name                                   ...    z-ro  zap mama  \\\n",
       "artist_name                                   ...                     \n",
       "!!!                                           ...       0         0   \n",
       "'til tuesday                                  ...       0         0   \n",
       "*nsync                                        ...       0         0   \n",
       "+44                                           ...       0         0   \n",
       "...and you will know us by the trail of dead  ...       0         1   \n",
       "\n",
       "artist_name                                   zebrahead  zero 7  ziggy marley  \\\n",
       "artist_name                                                                     \n",
       "!!!                                                   2      13             0   \n",
       "'til tuesday                                          0       0             0   \n",
       "*nsync                                                2       6             0   \n",
       "+44                                                   4       0             0   \n",
       "...and you will know us by the trail of dead          1       7             0   \n",
       "\n",
       "artist_name                                   zion i  zomby  zox  zz top  \\\n",
       "artist_name                                                                \n",
       "!!!                                                0      1    0       2   \n",
       "'til tuesday                                       0      0    0       0   \n",
       "*nsync                                             0      0    0       0   \n",
       "+44                                                0      0    1       0   \n",
       "...and you will know us by the trail of dead       2      0    0       1   \n",
       "\n",
       "artist_name                                   µ-ziq  \n",
       "artist_name                                          \n",
       "!!!                                               2  \n",
       "'til tuesday                                      0  \n",
       "*nsync                                            0  \n",
       "+44                                               0  \n",
       "...and you will know us by the trail of dead      1  \n",
       "\n",
       "[5 rows x 3647 columns]"
      ]
     },
     "execution_count": 55,
     "metadata": {},
     "output_type": "execute_result"
    }
   ],
   "source": [
    "demo = pd.DataFrame(co_occ.A, index=binary_users_artists_pivoted.columns, columns=binary_users_artists_pivoted.columns).head()\n",
    "demo"
   ]
  },
  {
   "cell_type": "code",
   "execution_count": 57,
   "metadata": {},
   "outputs": [],
   "source": [
    "#random_query = np.random.choice(co_occ.shape[0])\n",
    "def collab_n_rec_artists(co_occ, data ,query, n=10):\n",
    "        \"\"\"\n",
    "        parameters:\n",
    "        \n",
    "        co_occ - co-occurence of a matrix, (len (artists) * len (artists)), values of users played or not (1|0)\n",
    "        user_artists: List of artists that the user listened\n",
    "        \n",
    "        data -  pivoted matrix with index = 'users', columns = 'artist_name' and values = 'played'\n",
    "        \n",
    "        query - query of user ids\n",
    "        \n",
    "        returns:\n",
    "        Based on similarity of user's artists and all unique artists, recommend artists.\n",
    "        \n",
    "        \"\"\"\n",
    "        user_name = binary_users_artists_pivoted.index[query]\n",
    "        print('History of User {0} loading :\\n'.format(user_name))\n",
    "        history = get_users_artists(user_name).head(n)\n",
    "        for i in range(0,len(history)):\n",
    "            print(\"{0}: '{1}' was played {2} times\".format(i+1, history.iloc[i][0], history.iloc[i][1]))\n",
    "        print('\\n')\n",
    "        rec_vec = co_occ[np.where(data.iloc[random_query] > 0)].A.sum(axis=0) # Get recommended vector based on co_occurence of artists matrix\n",
    "        rec_vec = rec_vec * (1-data.iloc[random_query]) # Set listened artists as zero to avoid recommending the same artist. \n",
    "        rec_artists = rec_vec.sort_values(ascending=False)[0:n]\n",
    "        print ('Recommendations for  user {0}:\\n'.format(user_name))\n",
    "        for i in range(0,len(rec_artists)):\n",
    "            print (\"{0}: '{1}', with # of similar users {2}\".format(i+1, rec_artists.index[i], rec_artists.values[i]))\n",
    "        "
   ]
  },
  {
   "cell_type": "code",
   "execution_count": 61,
   "metadata": {},
   "outputs": [
    {
     "name": "stdout",
     "output_type": "stream",
     "text": [
      "History of User 4 loading :\n",
      "\n",
      "1: 'devendra banhart' was played 456 times\n",
      "2: 'boards of canada' was played 407 times\n",
      "3: 'cocorosie' was played 386 times\n",
      "4: 'aphex twin' was played 213 times\n",
      "5: 'animal collective' was played 203 times\n",
      "6: 'atmosphere' was played 189 times\n",
      "7: 'air' was played 178 times\n",
      "8: 'portishead' was played 162 times\n",
      "9: 'massive attack' was played 149 times\n",
      "10: 'broken social scene' was played 144 times\n",
      "\n",
      "\n",
      "Recommendations for  user 4:\n",
      "\n",
      "1: 'death cab for cutie', with # of similar users 33267\n",
      "2: 'sufjan stevens', with # of similar users 26126\n",
      "3: 'coldplay', with # of similar users 25013\n",
      "4: 'bob dylan', with # of similar users 24943\n",
      "5: 'elliott smith', with # of similar users 24434\n",
      "6: 'arcade fire', with # of similar users 22397\n",
      "7: 'red hot chili peppers', with # of similar users 21603\n",
      "8: 'the white stripes', with # of similar users 21299\n",
      "9: 'david bowie', with # of similar users 20990\n",
      "10: 'the smashing pumpkins', with # of similar users 20064\n"
     ]
    }
   ],
   "source": [
    "collab_n_rec_artists(co_occ,binary_users_artists_pivoted, query=0, n=10)"
   ]
  },
  {
   "cell_type": "markdown",
   "metadata": {},
   "source": [
    "# Last FM for Hybrid Approach\n"
   ]
  },
  {
   "cell_type": "code",
   "execution_count": 393,
   "metadata": {},
   "outputs": [],
   "source": [
    "users_artists_pivoted = cleaned.pivot_table(index='users', columns='artist_name', values='plays').fillna(0).astype(int)\n",
    "users_artists_sparse = csr_matrix(users_artists_pivoted.values)"
   ]
  },
  {
   "cell_type": "code",
   "execution_count": 92,
   "metadata": {},
   "outputs": [],
   "source": [
    "bag_of_genres.reset_index(inplace=True)"
   ]
  },
  {
   "cell_type": "code",
   "execution_count": 363,
   "metadata": {},
   "outputs": [
    {
     "data": {
      "text/html": [
       "<div>\n",
       "<style scoped>\n",
       "    .dataframe tbody tr th:only-of-type {\n",
       "        vertical-align: middle;\n",
       "    }\n",
       "\n",
       "    .dataframe tbody tr th {\n",
       "        vertical-align: top;\n",
       "    }\n",
       "\n",
       "    .dataframe thead th {\n",
       "        text-align: right;\n",
       "    }\n",
       "</style>\n",
       "<table border=\"1\" class=\"dataframe\">\n",
       "  <thead>\n",
       "    <tr style=\"text-align: right;\">\n",
       "      <th></th>\n",
       "      <th>genre</th>\n",
       "    </tr>\n",
       "    <tr>\n",
       "      <th>artist_name</th>\n",
       "      <th></th>\n",
       "    </tr>\n",
       "  </thead>\n",
       "  <tbody>\n",
       "    <tr>\n",
       "      <th>devendra banhart</th>\n",
       "      <td>chamber pop, folk-pop, freak folk, indie folk,...</td>\n",
       "    </tr>\n",
       "    <tr>\n",
       "      <th>boards of canada</th>\n",
       "      <td>ambient, big beat, electronic, fourth world, i...</td>\n",
       "    </tr>\n",
       "    <tr>\n",
       "      <th>cocorosie</th>\n",
       "      <td>art pop, chamber pop, folktronica, freak folk,...</td>\n",
       "    </tr>\n",
       "    <tr>\n",
       "      <th>aphex twin</th>\n",
       "      <td>ambient, electronic, intelligent dance music, ...</td>\n",
       "    </tr>\n",
       "    <tr>\n",
       "      <th>animal collective</th>\n",
       "      <td>alternative rock, art pop, baltimore indie, ch...</td>\n",
       "    </tr>\n",
       "  </tbody>\n",
       "</table>\n",
       "</div>"
      ],
      "text/plain": [
       "                                                               genre\n",
       "artist_name                                                         \n",
       "devendra banhart   chamber pop, folk-pop, freak folk, indie folk,...\n",
       "boards of canada   ambient, big beat, electronic, fourth world, i...\n",
       "cocorosie          art pop, chamber pop, folktronica, freak folk,...\n",
       "aphex twin         ambient, electronic, intelligent dance music, ...\n",
       "animal collective  alternative rock, art pop, baltimore indie, ch..."
      ]
     },
     "execution_count": 363,
     "metadata": {},
     "output_type": "execute_result"
    }
   ],
   "source": [
    "cleaned_genres = pd.merge(cleaned,bag_of_genres,on='artist_name', how='left')\n",
    "cleaned_genres = cleaned_genres[['artist_name','genre']].set_index('artist_name')\n",
    "cleaned_genres.head()"
   ]
  },
  {
   "cell_type": "code",
   "execution_count": 364,
   "metadata": {},
   "outputs": [],
   "source": [
    "cleaned_genres = cleaned_genres.loc[~cleaned_genres.index.duplicated(keep='first')] # Dropping duplicated index."
   ]
  },
  {
   "cell_type": "code",
   "execution_count": 365,
   "metadata": {},
   "outputs": [
    {
     "data": {
      "text/plain": [
       "(3647, 1)"
      ]
     },
     "execution_count": 365,
     "metadata": {},
     "output_type": "execute_result"
    }
   ],
   "source": [
    "cleaned_genres.shape"
   ]
  },
  {
   "cell_type": "code",
   "execution_count": 366,
   "metadata": {},
   "outputs": [
    {
     "data": {
      "text/html": [
       "<div>\n",
       "<style scoped>\n",
       "    .dataframe tbody tr th:only-of-type {\n",
       "        vertical-align: middle;\n",
       "    }\n",
       "\n",
       "    .dataframe tbody tr th {\n",
       "        vertical-align: top;\n",
       "    }\n",
       "\n",
       "    .dataframe thead th {\n",
       "        text-align: right;\n",
       "    }\n",
       "</style>\n",
       "<table border=\"1\" class=\"dataframe\">\n",
       "  <thead>\n",
       "    <tr style=\"text-align: right;\">\n",
       "      <th></th>\n",
       "      <th>21st</th>\n",
       "      <th>abstract</th>\n",
       "      <th>acid</th>\n",
       "      <th>acousmatic</th>\n",
       "      <th>acoustic</th>\n",
       "      <th>adult</th>\n",
       "      <th>african</th>\n",
       "      <th>afro</th>\n",
       "      <th>afrobeat</th>\n",
       "      <th>afropop</th>\n",
       "      <th>...</th>\n",
       "      <th>world</th>\n",
       "      <th>worship</th>\n",
       "      <th>worth</th>\n",
       "      <th>wrestling</th>\n",
       "      <th>wyoming</th>\n",
       "      <th>xhosa</th>\n",
       "      <th>yacht</th>\n",
       "      <th>ye</th>\n",
       "      <th>youth</th>\n",
       "      <th>zolo</th>\n",
       "    </tr>\n",
       "    <tr>\n",
       "      <th>artist_name</th>\n",
       "      <th></th>\n",
       "      <th></th>\n",
       "      <th></th>\n",
       "      <th></th>\n",
       "      <th></th>\n",
       "      <th></th>\n",
       "      <th></th>\n",
       "      <th></th>\n",
       "      <th></th>\n",
       "      <th></th>\n",
       "      <th></th>\n",
       "      <th></th>\n",
       "      <th></th>\n",
       "      <th></th>\n",
       "      <th></th>\n",
       "      <th></th>\n",
       "      <th></th>\n",
       "      <th></th>\n",
       "      <th></th>\n",
       "      <th></th>\n",
       "      <th></th>\n",
       "    </tr>\n",
       "  </thead>\n",
       "  <tbody>\n",
       "    <tr>\n",
       "      <th>devendra banhart</th>\n",
       "      <td>0.0</td>\n",
       "      <td>0.0</td>\n",
       "      <td>0.0</td>\n",
       "      <td>0.0</td>\n",
       "      <td>0.0</td>\n",
       "      <td>0.0</td>\n",
       "      <td>0.0</td>\n",
       "      <td>0.0</td>\n",
       "      <td>0.0</td>\n",
       "      <td>0.0</td>\n",
       "      <td>...</td>\n",
       "      <td>0.000000</td>\n",
       "      <td>0.0</td>\n",
       "      <td>0.0</td>\n",
       "      <td>0.0</td>\n",
       "      <td>0.0</td>\n",
       "      <td>0.0</td>\n",
       "      <td>0.0</td>\n",
       "      <td>0.0</td>\n",
       "      <td>0.0</td>\n",
       "      <td>0.0</td>\n",
       "    </tr>\n",
       "    <tr>\n",
       "      <th>boards of canada</th>\n",
       "      <td>0.0</td>\n",
       "      <td>0.0</td>\n",
       "      <td>0.0</td>\n",
       "      <td>0.0</td>\n",
       "      <td>0.0</td>\n",
       "      <td>0.0</td>\n",
       "      <td>0.0</td>\n",
       "      <td>0.0</td>\n",
       "      <td>0.0</td>\n",
       "      <td>0.0</td>\n",
       "      <td>...</td>\n",
       "      <td>0.286399</td>\n",
       "      <td>0.0</td>\n",
       "      <td>0.0</td>\n",
       "      <td>0.0</td>\n",
       "      <td>0.0</td>\n",
       "      <td>0.0</td>\n",
       "      <td>0.0</td>\n",
       "      <td>0.0</td>\n",
       "      <td>0.0</td>\n",
       "      <td>0.0</td>\n",
       "    </tr>\n",
       "    <tr>\n",
       "      <th>cocorosie</th>\n",
       "      <td>0.0</td>\n",
       "      <td>0.0</td>\n",
       "      <td>0.0</td>\n",
       "      <td>0.0</td>\n",
       "      <td>0.0</td>\n",
       "      <td>0.0</td>\n",
       "      <td>0.0</td>\n",
       "      <td>0.0</td>\n",
       "      <td>0.0</td>\n",
       "      <td>0.0</td>\n",
       "      <td>...</td>\n",
       "      <td>0.000000</td>\n",
       "      <td>0.0</td>\n",
       "      <td>0.0</td>\n",
       "      <td>0.0</td>\n",
       "      <td>0.0</td>\n",
       "      <td>0.0</td>\n",
       "      <td>0.0</td>\n",
       "      <td>0.0</td>\n",
       "      <td>0.0</td>\n",
       "      <td>0.0</td>\n",
       "    </tr>\n",
       "    <tr>\n",
       "      <th>aphex twin</th>\n",
       "      <td>0.0</td>\n",
       "      <td>0.0</td>\n",
       "      <td>0.0</td>\n",
       "      <td>0.0</td>\n",
       "      <td>0.0</td>\n",
       "      <td>0.0</td>\n",
       "      <td>0.0</td>\n",
       "      <td>0.0</td>\n",
       "      <td>0.0</td>\n",
       "      <td>0.0</td>\n",
       "      <td>...</td>\n",
       "      <td>0.000000</td>\n",
       "      <td>0.0</td>\n",
       "      <td>0.0</td>\n",
       "      <td>0.0</td>\n",
       "      <td>0.0</td>\n",
       "      <td>0.0</td>\n",
       "      <td>0.0</td>\n",
       "      <td>0.0</td>\n",
       "      <td>0.0</td>\n",
       "      <td>0.0</td>\n",
       "    </tr>\n",
       "    <tr>\n",
       "      <th>animal collective</th>\n",
       "      <td>0.0</td>\n",
       "      <td>0.0</td>\n",
       "      <td>0.0</td>\n",
       "      <td>0.0</td>\n",
       "      <td>0.0</td>\n",
       "      <td>0.0</td>\n",
       "      <td>0.0</td>\n",
       "      <td>0.0</td>\n",
       "      <td>0.0</td>\n",
       "      <td>0.0</td>\n",
       "      <td>...</td>\n",
       "      <td>0.000000</td>\n",
       "      <td>0.0</td>\n",
       "      <td>0.0</td>\n",
       "      <td>0.0</td>\n",
       "      <td>0.0</td>\n",
       "      <td>0.0</td>\n",
       "      <td>0.0</td>\n",
       "      <td>0.0</td>\n",
       "      <td>0.0</td>\n",
       "      <td>0.0</td>\n",
       "    </tr>\n",
       "  </tbody>\n",
       "</table>\n",
       "<p>5 rows × 791 columns</p>\n",
       "</div>"
      ],
      "text/plain": [
       "                   21st  abstract  acid  acousmatic  acoustic  adult  african  \\\n",
       "artist_name                                                                     \n",
       "devendra banhart    0.0       0.0   0.0         0.0       0.0    0.0      0.0   \n",
       "boards of canada    0.0       0.0   0.0         0.0       0.0    0.0      0.0   \n",
       "cocorosie           0.0       0.0   0.0         0.0       0.0    0.0      0.0   \n",
       "aphex twin          0.0       0.0   0.0         0.0       0.0    0.0      0.0   \n",
       "animal collective   0.0       0.0   0.0         0.0       0.0    0.0      0.0   \n",
       "\n",
       "                   afro  afrobeat  afropop  ...      world  worship  worth  \\\n",
       "artist_name                                 ...                              \n",
       "devendra banhart    0.0       0.0      0.0  ...   0.000000      0.0    0.0   \n",
       "boards of canada    0.0       0.0      0.0  ...   0.286399      0.0    0.0   \n",
       "cocorosie           0.0       0.0      0.0  ...   0.000000      0.0    0.0   \n",
       "aphex twin          0.0       0.0      0.0  ...   0.000000      0.0    0.0   \n",
       "animal collective   0.0       0.0      0.0  ...   0.000000      0.0    0.0   \n",
       "\n",
       "                   wrestling  wyoming  xhosa  yacht   ye  youth  zolo  \n",
       "artist_name                                                            \n",
       "devendra banhart         0.0      0.0    0.0    0.0  0.0    0.0   0.0  \n",
       "boards of canada         0.0      0.0    0.0    0.0  0.0    0.0   0.0  \n",
       "cocorosie                0.0      0.0    0.0    0.0  0.0    0.0   0.0  \n",
       "aphex twin               0.0      0.0    0.0    0.0  0.0    0.0   0.0  \n",
       "animal collective        0.0      0.0    0.0    0.0  0.0    0.0   0.0  \n",
       "\n",
       "[5 rows x 791 columns]"
      ]
     },
     "execution_count": 366,
     "metadata": {},
     "output_type": "execute_result"
    }
   ],
   "source": [
    "tfidf = TfidfVectorizer(stop_words='english')\n",
    "tf = tfidf.fit_transform(cleaned_genres.genre) # 3647 Artists with 791 Genres.\n",
    "# Convert categorical variables to dummy/indicator vairables.\n",
    "artists_genres_pivot = pd.SparseDataFrame(tf.todense(), index=cleaned_genres.index, columns=tfidf.get_feature_names())\n",
    "artists_genres_pivot.head()"
   ]
  },
  {
   "cell_type": "code",
   "execution_count": 367,
   "metadata": {},
   "outputs": [],
   "source": [
    "artists_genres_matrix_ohs = pd.get_dummies(artists_genres_pivot)\n",
    "artists_genres_matrix_sparse = csr_matrix(artists_genres_matrix_ohs.values)"
   ]
  },
  {
   "cell_type": "code",
   "execution_count": 368,
   "metadata": {},
   "outputs": [],
   "source": [
    "useful_genres = list()\n",
    "cols = artists_genres_pivot.columns\n",
    "for col in cols:\n",
    "    value = len(artists_genres_pivot[col].value_counts())\n",
    "    if value >= 3:\n",
    "        useful_genres.insert(0, col)"
   ]
  },
  {
   "cell_type": "code",
   "execution_count": 369,
   "metadata": {},
   "outputs": [
    {
     "data": {
      "text/plain": [
       "583"
      ]
     },
     "execution_count": 369,
     "metadata": {},
     "output_type": "execute_result"
    }
   ],
   "source": [
    "len(useful_genres)"
   ]
  },
  {
   "cell_type": "code",
   "execution_count": 370,
   "metadata": {},
   "outputs": [],
   "source": [
    "useful_matrix = pd.get_dummies(artists_genres_pivot[useful_genres])\n",
    "useful_matrix = csr_matrix(useful_matrix.values)"
   ]
  },
  {
   "cell_type": "code",
   "execution_count": 371,
   "metadata": {},
   "outputs": [
    {
     "data": {
      "text/html": [
       "<div>\n",
       "<style scoped>\n",
       "    .dataframe tbody tr th:only-of-type {\n",
       "        vertical-align: middle;\n",
       "    }\n",
       "\n",
       "    .dataframe tbody tr th {\n",
       "        vertical-align: top;\n",
       "    }\n",
       "\n",
       "    .dataframe thead th {\n",
       "        text-align: right;\n",
       "    }\n",
       "</style>\n",
       "<table border=\"1\" class=\"dataframe\">\n",
       "  <thead>\n",
       "    <tr style=\"text-align: right;\">\n",
       "      <th></th>\n",
       "      <th>21st</th>\n",
       "      <th>abstract</th>\n",
       "      <th>acid</th>\n",
       "      <th>acousmatic</th>\n",
       "      <th>acoustic</th>\n",
       "      <th>adult</th>\n",
       "      <th>african</th>\n",
       "      <th>afro</th>\n",
       "      <th>afrobeat</th>\n",
       "      <th>afropop</th>\n",
       "      <th>...</th>\n",
       "      <th>world</th>\n",
       "      <th>worship</th>\n",
       "      <th>worth</th>\n",
       "      <th>wrestling</th>\n",
       "      <th>wyoming</th>\n",
       "      <th>xhosa</th>\n",
       "      <th>yacht</th>\n",
       "      <th>ye</th>\n",
       "      <th>youth</th>\n",
       "      <th>zolo</th>\n",
       "    </tr>\n",
       "    <tr>\n",
       "      <th>artist_name</th>\n",
       "      <th></th>\n",
       "      <th></th>\n",
       "      <th></th>\n",
       "      <th></th>\n",
       "      <th></th>\n",
       "      <th></th>\n",
       "      <th></th>\n",
       "      <th></th>\n",
       "      <th></th>\n",
       "      <th></th>\n",
       "      <th></th>\n",
       "      <th></th>\n",
       "      <th></th>\n",
       "      <th></th>\n",
       "      <th></th>\n",
       "      <th></th>\n",
       "      <th></th>\n",
       "      <th></th>\n",
       "      <th></th>\n",
       "      <th></th>\n",
       "      <th></th>\n",
       "    </tr>\n",
       "  </thead>\n",
       "  <tbody>\n",
       "    <tr>\n",
       "      <th>devendra banhart</th>\n",
       "      <td>0</td>\n",
       "      <td>0</td>\n",
       "      <td>0</td>\n",
       "      <td>0</td>\n",
       "      <td>0</td>\n",
       "      <td>0</td>\n",
       "      <td>0</td>\n",
       "      <td>0</td>\n",
       "      <td>0</td>\n",
       "      <td>0</td>\n",
       "      <td>...</td>\n",
       "      <td>0</td>\n",
       "      <td>0</td>\n",
       "      <td>0</td>\n",
       "      <td>0</td>\n",
       "      <td>0</td>\n",
       "      <td>0</td>\n",
       "      <td>0</td>\n",
       "      <td>0</td>\n",
       "      <td>0</td>\n",
       "      <td>0</td>\n",
       "    </tr>\n",
       "    <tr>\n",
       "      <th>boards of canada</th>\n",
       "      <td>0</td>\n",
       "      <td>0</td>\n",
       "      <td>0</td>\n",
       "      <td>0</td>\n",
       "      <td>0</td>\n",
       "      <td>0</td>\n",
       "      <td>0</td>\n",
       "      <td>0</td>\n",
       "      <td>0</td>\n",
       "      <td>0</td>\n",
       "      <td>...</td>\n",
       "      <td>1</td>\n",
       "      <td>0</td>\n",
       "      <td>0</td>\n",
       "      <td>0</td>\n",
       "      <td>0</td>\n",
       "      <td>0</td>\n",
       "      <td>0</td>\n",
       "      <td>0</td>\n",
       "      <td>0</td>\n",
       "      <td>0</td>\n",
       "    </tr>\n",
       "    <tr>\n",
       "      <th>cocorosie</th>\n",
       "      <td>0</td>\n",
       "      <td>0</td>\n",
       "      <td>0</td>\n",
       "      <td>0</td>\n",
       "      <td>0</td>\n",
       "      <td>0</td>\n",
       "      <td>0</td>\n",
       "      <td>0</td>\n",
       "      <td>0</td>\n",
       "      <td>0</td>\n",
       "      <td>...</td>\n",
       "      <td>0</td>\n",
       "      <td>0</td>\n",
       "      <td>0</td>\n",
       "      <td>0</td>\n",
       "      <td>0</td>\n",
       "      <td>0</td>\n",
       "      <td>0</td>\n",
       "      <td>0</td>\n",
       "      <td>0</td>\n",
       "      <td>0</td>\n",
       "    </tr>\n",
       "    <tr>\n",
       "      <th>aphex twin</th>\n",
       "      <td>0</td>\n",
       "      <td>0</td>\n",
       "      <td>0</td>\n",
       "      <td>0</td>\n",
       "      <td>0</td>\n",
       "      <td>0</td>\n",
       "      <td>0</td>\n",
       "      <td>0</td>\n",
       "      <td>0</td>\n",
       "      <td>0</td>\n",
       "      <td>...</td>\n",
       "      <td>0</td>\n",
       "      <td>0</td>\n",
       "      <td>0</td>\n",
       "      <td>0</td>\n",
       "      <td>0</td>\n",
       "      <td>0</td>\n",
       "      <td>0</td>\n",
       "      <td>0</td>\n",
       "      <td>0</td>\n",
       "      <td>0</td>\n",
       "    </tr>\n",
       "    <tr>\n",
       "      <th>animal collective</th>\n",
       "      <td>0</td>\n",
       "      <td>0</td>\n",
       "      <td>0</td>\n",
       "      <td>0</td>\n",
       "      <td>0</td>\n",
       "      <td>0</td>\n",
       "      <td>0</td>\n",
       "      <td>0</td>\n",
       "      <td>0</td>\n",
       "      <td>0</td>\n",
       "      <td>...</td>\n",
       "      <td>0</td>\n",
       "      <td>0</td>\n",
       "      <td>0</td>\n",
       "      <td>0</td>\n",
       "      <td>0</td>\n",
       "      <td>0</td>\n",
       "      <td>0</td>\n",
       "      <td>0</td>\n",
       "      <td>0</td>\n",
       "      <td>0</td>\n",
       "    </tr>\n",
       "  </tbody>\n",
       "</table>\n",
       "<p>5 rows × 791 columns</p>\n",
       "</div>"
      ],
      "text/plain": [
       "                   21st  abstract  acid  acousmatic  acoustic  adult  african  \\\n",
       "artist_name                                                                     \n",
       "devendra banhart      0         0     0           0         0      0        0   \n",
       "boards of canada      0         0     0           0         0      0        0   \n",
       "cocorosie             0         0     0           0         0      0        0   \n",
       "aphex twin            0         0     0           0         0      0        0   \n",
       "animal collective     0         0     0           0         0      0        0   \n",
       "\n",
       "                   afro  afrobeat  afropop  ...   world  worship  worth  \\\n",
       "artist_name                                 ...                           \n",
       "devendra banhart      0         0        0  ...       0        0      0   \n",
       "boards of canada      0         0        0  ...       1        0      0   \n",
       "cocorosie             0         0        0  ...       0        0      0   \n",
       "aphex twin            0         0        0  ...       0        0      0   \n",
       "animal collective     0         0        0  ...       0        0      0   \n",
       "\n",
       "                   wrestling  wyoming  xhosa  yacht  ye  youth  zolo  \n",
       "artist_name                                                           \n",
       "devendra banhart           0        0      0      0   0      0     0  \n",
       "boards of canada           0        0      0      0   0      0     0  \n",
       "cocorosie                  0        0      0      0   0      0     0  \n",
       "aphex twin                 0        0      0      0   0      0     0  \n",
       "animal collective          0        0      0      0   0      0     0  \n",
       "\n",
       "[5 rows x 791 columns]"
      ]
     },
     "execution_count": 371,
     "metadata": {},
     "output_type": "execute_result"
    }
   ],
   "source": [
    "counter = CountVectorizer(stop_words='english')\n",
    "cf = counter.fit_transform(cleaned_genres.genre)\n",
    "cf_artists_genres_pivot = pd.SparseDataFrame(cf.todense(),  index=cleaned_genres.index, columns=counter.get_feature_names())\n",
    "cf_artists_genres_pivot.head()"
   ]
  },
  {
   "cell_type": "code",
   "execution_count": 372,
   "metadata": {},
   "outputs": [],
   "source": [
    "cf_artists_genres_matrix_ohs = pd.get_dummies(cf_artists_genres_pivot)\n",
    "cf_artists_genres_matrix_sparse = csr_matrix(cf_artists_genres_matrix_ohs.values)\n"
   ]
  },
  {
   "cell_type": "code",
   "execution_count": 373,
   "metadata": {},
   "outputs": [],
   "source": [
    "X_train, X_test = random_train_test_split(users_artists_sparse,test_percentage=.2) # Spliited by using lastfm builtin fcn.\n"
   ]
  },
  {
   "cell_type": "code",
   "execution_count": 374,
   "metadata": {},
   "outputs": [
    {
     "data": {
      "text/plain": [
       "0"
      ]
     },
     "execution_count": 374,
     "metadata": {},
     "output_type": "execute_result"
    }
   ],
   "source": [
    "X_test.multiply(X_train).nnz # Showing that X_test is a disjoint set from X_train. No_intersections"
   ]
  },
  {
   "cell_type": "code",
   "execution_count": 381,
   "metadata": {},
   "outputs": [
    {
     "data": {
      "text/plain": [
       "array([-1.62075663, -1.7667284 , -0.8883    , ..., -2.19670129,\n",
       "        0.38476384, -0.94173199])"
      ]
     },
     "execution_count": 381,
     "metadata": {},
     "output_type": "execute_result"
    }
   ],
   "source": [
    "collab_model.predict(4, np.arange(X_train.shape[1]))"
   ]
  },
  {
   "cell_type": "code",
   "execution_count": 402,
   "metadata": {},
   "outputs": [],
   "source": [
    "def light_fm_recommendation(model, data, user_ids):\n",
    "    \"\"\" By using Light FM model, the function\n",
    "        data: a pivoted as n_users x n_items matrix, value = 0 or 1 (played).\n",
    "        Only Doing the Collaborative Based Filtering\n",
    "    \"\"\"\n",
    "    \n",
    "    n_users, n_items = data.shape\n",
    "    for user_id in user_ids:\n",
    "        # artists they already played sorted values by decreasing order\n",
    "        known_played = get_users_artists(user_id)\n",
    "        id_index = np.where(data.index==user_id)\n",
    "        # artists that our model predicts users will like\n",
    "        scores = model.predict(id_index, np.arange(n_items))\n",
    "        # sort scores in order of mostly liked to leastly liked\n",
    "        top_items = data.columns[np.argsort(-scores)].tolist()\n",
    "        #print out the results\n",
    "        print(\"User %s\" % user_id)\n",
    "        print(\"     Top 5 Mostly Played:\")\n",
    "\n",
    "        for x in known_played[:5].artist_name:\n",
    "            print(\"        %s\" % x)\n",
    "\n",
    "        print(\"     Top 5 Recommended Artists:\")\n",
    "\n",
    "        for x in top_items[:5]:\n",
    "            print(\"        %s\" % x)"
   ]
  },
  {
   "cell_type": "code",
   "execution_count": 376,
   "metadata": {},
   "outputs": [
    {
     "data": {
      "text/plain": [
       "<lightfm.lightfm.LightFM at 0x1c4829de80>"
      ]
     },
     "execution_count": 376,
     "metadata": {},
     "output_type": "execute_result"
    }
   ],
   "source": [
    "collab_model = LightFM(loss = 'warp') # Using Stochastic Gradient Descent, which optimizes parameters until it converges\n",
    "collab_model.fit(X_train,epochs=10,num_threads=2)"
   ]
  },
  {
   "cell_type": "code",
   "execution_count": 404,
   "metadata": {},
   "outputs": [
    {
     "name": "stdout",
     "output_type": "stream",
     "text": [
      "User 4\n",
      "     Top 5 Mostly Played:\n",
      "        devendra banhart\n",
      "        boards of canada\n",
      "        cocorosie\n",
      "        aphex twin\n",
      "        animal collective\n",
      "     Top 5 Recommended Artists:\n",
      "        misfits\n",
      "        the beatles\n",
      "        amon amarth\n",
      "        metallica\n",
      "        iron maiden\n",
      "User 11\n",
      "     Top 5 Mostly Played:\n",
      "        thompson twins\n",
      "        hanson\n",
      "        no doubt\n",
      "        orchestral manoeuvres in the dark\n",
      "        tegan and sara\n",
      "     Top 5 Recommended Artists:\n",
      "        modest mouse\n",
      "        radiohead\n",
      "        death cab for cutie\n",
      "        the beatles\n",
      "        against me!\n",
      "User 19\n",
      "     Top 5 Mostly Played:\n",
      "        judas priest\n",
      "        amon amarth\n",
      "        lamb of god\n",
      "        arch enemy\n",
      "        annihilator\n",
      "     Top 5 Recommended Artists:\n",
      "        the beatles\n",
      "        elliott smith\n",
      "        bob dylan\n",
      "        sufjan stevens\n",
      "        the mountain goats\n"
     ]
    }
   ],
   "source": [
    "# COO,Coordinate List stores a list of (row, column, value) tuples. \n",
    "# Ideally, the entries are sorted (by row index, then column index) to improve random access times. \n",
    "# Try to get some recommendations of artists for users 4,11,19\n",
    "light_fm_recommendation(collab_model, users_artists_pivoted, [4,11,19])"
   ]
  },
  {
   "cell_type": "markdown",
   "metadata": {},
   "source": [
    "Like the BPR model, WARP deals with (user, positive item, negative item) triplets. \n",
    "WARP: Weighted Approximate-Rank Pairwise loss. Maximises the rank of positive examples by repeatedly sampling negative examples until rank violating one is found. Useful when only positive interactions are present and optimising the top of the recommendation list (precision@k) is desired."
   ]
  },
  {
   "cell_type": "code",
   "execution_count": 394,
   "metadata": {},
   "outputs": [
    {
     "name": "stdout",
     "output_type": "stream",
     "text": [
      "Train auc: 0.9565\n",
      "Test auc: 0.9380\n"
     ]
    }
   ],
   "source": [
    "collab_train_auc = lightfm_auc_score(collab_model, X_train).mean()\n",
    "collab_test_auc = lightfm_auc_score(collab_model, X_test, train_interactions=X_train).mean()\n",
    "\n",
    "print(\"Train auc: %.4f\"% collab_train_auc)\n",
    "print(\"Test auc: %.4f\"% collab_test_auc)\n"
   ]
  },
  {
   "cell_type": "code",
   "execution_count": 112,
   "metadata": {},
   "outputs": [],
   "source": [
    "epochs = 10\n",
    "lr = .01\n",
    "\n",
    "adagrad_model = LightFM(no_components=30,\n",
    "                        loss='warp',\n",
    "                        learning_rate= lr,\n",
    "                        learning_schedule='adagrad')\n",
    "adadelta_model = LightFM(no_components=30,\n",
    "                        loss='warp',\n",
    "                        learning_rate = lr,\n",
    "                        learning_schedule='adadelta')\n",
    "\n",
    "adagrad_auc = []\n",
    "\n",
    "for epoch in range(epochs):\n",
    "    adagrad_model.fit_partial(X_train, epochs=1)\n",
    "    adagrad_auc.append(lightfm_auc_score(adagrad_model, X_test).mean())\n",
    "    \n",
    "    \n",
    "adadelta_auc = []\n",
    "\n",
    "for epoch in range(epochs):\n",
    "    adadelta_model.fit_partial(X_train, epochs=1)\n",
    "    adadelta_auc.append(lightfm_auc_score(adadelta_model, X_test).mean())"
   ]
  },
  {
   "cell_type": "code",
   "execution_count": 113,
   "metadata": {},
   "outputs": [],
   "source": [
    "import numpy as np\n",
    "\n",
    "from lightfm.datasets import fetch_stackexchange\n",
    "\n",
    "data = fetch_stackexchange('crossvalidated',\n",
    "                           test_set_fraction=0.1,\n",
    "                           indicator_features=False,\n",
    "                           tag_features=True)\n",
    "\n",
    "train = data['train']\n",
    "test = data['test']"
   ]
  },
  {
   "cell_type": "code",
   "execution_count": 115,
   "metadata": {},
   "outputs": [
    {
     "data": {
      "image/png": "[encoded data removed]",
      "text/plain": [
       "<Figure size 432x288 with 1 Axes>"
      ]
     },
     "metadata": {},
     "output_type": "display_data"
    },
    {
     "data": {
      "text/plain": [
       "<Figure size 432x288 with 0 Axes>"
      ]
     },
     "metadata": {},
     "output_type": "display_data"
    }
   ],
   "source": [
    "x = np.arange(len(adagrad_auc))\n",
    "plt.plot(x, np.array(adagrad_auc))\n",
    "plt.plot(x, np.array(adadelta_auc))\n",
    "plt.legend(['adagrad', 'adadelta'], loc='lower right')\n",
    "plt.show()\n",
    "plt.savefig('adagrad_adadelta.png') # Adadelta doesn't care about learning rate because it will learn it by itself."
   ]
  },
  {
   "cell_type": "code",
   "execution_count": 149,
   "metadata": {},
   "outputs": [],
   "source": [
    "epochs = 10\n",
    "\n",
    "\n",
    "adagrad_model2 = LightFM(no_components=10,\n",
    "                        loss='warp',\n",
    "                        learning_schedule='adagrad')\n",
    "adadelta_model2 = LightFM(no_components=10,\n",
    "                        loss='warp',\n",
    "                        learning_schedule='adadelta')\n",
    "\n",
    "adagrad_auc2 = []\n",
    "\n",
    "for epoch in range(epochs):\n",
    "    adagrad_model2.fit_partial(X_train, epochs=1)\n",
    "    adagrad_auc2.append(lightfm_auc_score(adagrad_model2, X_test).mean())\n",
    "    \n",
    "    \n",
    "adadelta_auc2 = []\n",
    "\n",
    "for epoch in range(epochs):\n",
    "    adadelta_model2.fit_partial(X_train, epochs=1)\n",
    "    adadelta_auc2.append(lightfm_auc_score(adadelta_model2, X_test).mean())"
   ]
  },
  {
   "cell_type": "code",
   "execution_count": 151,
   "metadata": {},
   "outputs": [
    {
     "data": {
      "image/png": "[encoded data removed]",
      "text/plain": [
       "<Figure size 432x288 with 1 Axes>"
      ]
     },
     "metadata": {},
     "output_type": "display_data"
    },
    {
     "data": {
      "text/plain": [
       "<Figure size 432x288 with 0 Axes>"
      ]
     },
     "metadata": {},
     "output_type": "display_data"
    }
   ],
   "source": [
    "x = np.arange(len(adagrad_auc2))\n",
    "plt.plot(x, np.array(adagrad_auc2))\n",
    "plt.plot(x, np.array(adadelta_auc2))\n",
    "plt.legend(['adagrad', 'adadelta'], loc='lower right')\n",
    "plt.show()\n",
    "plt.savefig('adagrad_adadelta2.png')\n"
   ]
  },
  {
   "cell_type": "code",
   "execution_count": null,
   "metadata": {},
   "outputs": [],
   "source": [
    "cv_train_aucs = []\n",
    "cv_test_aucs = []\n",
    "for i in range(5):\n",
    "    cv_X_train, cv_X_test =random_train_test_split(users_artists_sparse, test_percentage=.2)\n",
    "    cv_model = LightFM(no_components=10,loss='warp',learning_schedule='adadelta', learning_rate=.01)\n",
    "    cv_model.fit(cv_X_train, epochs=10, num_threads=2)\n",
    "    cv_train_aucs.append(lightfm_auc_score(cv_model,X_train).mean())\n",
    "    cv_test_aucs.append(lightfm_auc_score(cv_model, X_test,train_interactions=X_train).mean())\n",
    "\n"
   ]
  },
  {
   "cell_type": "code",
   "execution_count": 119,
   "metadata": {},
   "outputs": [
    {
     "data": {
      "text/html": [
       "<div>\n",
       "<style scoped>\n",
       "    .dataframe tbody tr th:only-of-type {\n",
       "        vertical-align: middle;\n",
       "    }\n",
       "\n",
       "    .dataframe tbody tr th {\n",
       "        vertical-align: top;\n",
       "    }\n",
       "\n",
       "    .dataframe thead th {\n",
       "        text-align: right;\n",
       "    }\n",
       "</style>\n",
       "<table border=\"1\" class=\"dataframe\">\n",
       "  <thead>\n",
       "    <tr style=\"text-align: right;\">\n",
       "      <th></th>\n",
       "      <th>train_aucs</th>\n",
       "      <th>test_aucs</th>\n",
       "    </tr>\n",
       "  </thead>\n",
       "  <tbody>\n",
       "    <tr>\n",
       "      <th>0</th>\n",
       "      <td>0.953705</td>\n",
       "      <td>0.958052</td>\n",
       "    </tr>\n",
       "    <tr>\n",
       "      <th>1</th>\n",
       "      <td>0.953410</td>\n",
       "      <td>0.957681</td>\n",
       "    </tr>\n",
       "    <tr>\n",
       "      <th>2</th>\n",
       "      <td>0.952799</td>\n",
       "      <td>0.957369</td>\n",
       "    </tr>\n",
       "    <tr>\n",
       "      <th>3</th>\n",
       "      <td>0.952807</td>\n",
       "      <td>0.957207</td>\n",
       "    </tr>\n",
       "    <tr>\n",
       "      <th>4</th>\n",
       "      <td>0.953008</td>\n",
       "      <td>0.957335</td>\n",
       "    </tr>\n",
       "  </tbody>\n",
       "</table>\n",
       "</div>"
      ],
      "text/plain": [
       "   train_aucs  test_aucs\n",
       "0    0.953705   0.958052\n",
       "1    0.953410   0.957681\n",
       "2    0.952799   0.957369\n",
       "3    0.952807   0.957207\n",
       "4    0.953008   0.957335"
      ]
     },
     "execution_count": 119,
     "metadata": {},
     "output_type": "execute_result"
    }
   ],
   "source": [
    "data = {'train_aucs':cv_train_aucs,\n",
    "        'test_aucs':cv_test_aucs\n",
    "        }\n",
    "results = pd.DataFrame(data)\n",
    "results"
   ]
  },
  {
   "cell_type": "code",
   "execution_count": 116,
   "metadata": {},
   "outputs": [
    {
     "name": "stdout",
     "output_type": "stream",
     "text": [
      "Epoch 0\n",
      "Epoch 1\n",
      "Epoch 2\n",
      "Epoch 3\n",
      "Epoch 4\n",
      "Epoch 5\n",
      "Epoch 6\n",
      "Epoch 7\n",
      "Epoch 8\n",
      "Epoch 9\n",
      "Train auc: 0.9589\n",
      "Test auc: 0.9427\n"
     ]
    }
   ],
   "source": [
    "tuned_collab_model = LightFM(no_components=10,learning_rate=.01,learning_schedule='adadelta',loss = 'warp') # Using Stochastic Gradient Descent, which optimizes parameters until it converges\n",
    "tuned_collab_model.fit(X_train,epochs=10,num_threads=4, verbose=True)\n",
    "tuned_collab_train_auc = lightfm_auc_score(tuned_collab_model, X_train).mean()\n",
    "tuned_collab_test_auc = lightfm_auc_score(tuned_collab_model, X_test, train_interactions=X_train).mean()\n",
    "print(\"Train auc: %.4f\"% tuned_collab_train_auc)\n",
    "print(\"Test auc: %.4f\"% tuned_collab_test_auc)\n"
   ]
  },
  {
   "cell_type": "code",
   "execution_count": 119,
   "metadata": {},
   "outputs": [
    {
     "name": "stdout",
     "output_type": "stream",
     "text": [
      "Train precision: 0.3526\n",
      "Test precision: 0.1358\n"
     ]
    }
   ],
   "source": [
    "print(\"Train precision: %.4f\" % precision_at_k(tuned_collab_model, X_train, k=5,num_threads=4).mean())\n",
    "print(\"Test precision: %.4f\" % precision_at_k(tuned_collab_model, X_test,train_interactions=X_train,\\\n",
    "                                              k=5,num_threads=4).mean())"
   ]
  },
  {
   "cell_type": "markdown",
   "metadata": {},
   "source": [
    "Precision_at_k score represents whether the recommended artists are within in the top k list.\n",
    "AUC score represents the probability that any known positive is higher on the list than a random negative example."
   ]
  },
  {
   "cell_type": "code",
   "execution_count": 405,
   "metadata": {},
   "outputs": [],
   "source": [
    "def hybrid_light_fm_recommendation(model, data, user_ids,item_features_sparse):\n",
    "    \"\"\" By using Light FM model, the function\n",
    "        Data has to be pivoted as n_users x n_items matrix, value = user's play counts.\n",
    "        num_threads = 4\n",
    "    parameters:\n",
    "    \n",
    "    model- constructed from LightFM\n",
    "    \n",
    "    data - the pivoted matrix as n_users x n_items and value = user's play counts\n",
    "    \n",
    "    user_ids - user ids to get recommendations\n",
    "    \n",
    "    item_features_sparse - sparsed data of artists vs genres\n",
    "    \n",
    "    returns:\n",
    "    Recommended Artists \n",
    "    \n",
    "    \"\"\"\n",
    "    n_users, n_items = data.shape\n",
    "    pid_array = np.array(n_items, dtype=np.int32)\n",
    "    for user_id in user_ids:\n",
    "        # artists they already played sorted values by decreasing order\n",
    "        known_played = get_users_artists(user_id)\n",
    "        id_index = np.where(data.index==user_id)\n",
    "        # artists that our model predicts users will like\n",
    "        scores = model.predict(id_index, np.arange(n_items),\\\n",
    "                               item_features=item_features_sparse,num_threads=2)\n",
    "        # sort scores in order of mostly liked to leastly liked\n",
    "        top_items = data.columns[np.argsort(-scores)].tolist()\n",
    "        #print out the results\n",
    "        print(\"User %s\" % user_id)\n",
    "        print(\"     Top 5 Mostly Played:\")\n",
    "    \n",
    "        for x in known_played[:5].artist_name:\n",
    "            print(\"        '{0}'| '{1}' \".format(x,cleaned_genres.loc[x].genre))\n",
    "\n",
    "        print(\"     Top 5 Recommended Artists:\")\n",
    "\n",
    "        for x in top_items[:5]:\n",
    "            print(\"        '{0}'| '{1}' \".format(x, cleaned_genres.loc[x].genre))"
   ]
  },
  {
   "cell_type": "code",
   "execution_count": 406,
   "metadata": {},
   "outputs": [
    {
     "name": "stdout",
     "output_type": "stream",
     "text": [
      "Epoch 0\n",
      "Epoch 1\n",
      "Epoch 2\n",
      "Epoch 3\n",
      "Epoch 4\n",
      "Epoch 5\n",
      "Epoch 6\n",
      "Epoch 7\n",
      "Epoch 8\n",
      "Epoch 9\n"
     ]
    },
    {
     "data": {
      "text/plain": [
       "<lightfm.lightfm.LightFM at 0x1c37a89208>"
      ]
     },
     "execution_count": 406,
     "metadata": {},
     "output_type": "execute_result"
    }
   ],
   "source": [
    "no_comp, ep = 10,10\n",
    "tfidf_model = LightFM(no_components=no_comp, learning_schedule='adadelta',loss='warp')\n",
    "tfidf_model.fit_partial(X_train,\n",
    "                        item_features=artists_genres_matrix_sparse,\n",
    "                        epochs=ep,\n",
    "                        num_threads=2,\n",
    "                        verbose=True)"
   ]
  },
  {
   "cell_type": "code",
   "execution_count": 407,
   "metadata": {},
   "outputs": [
    {
     "name": "stdout",
     "output_type": "stream",
     "text": [
      "TfidfVectorizer Train AUC: 0.8257\n",
      "TfidfVectorizer Test AUC: 0.7329\n"
     ]
    }
   ],
   "source": [
    "tfidf_train_auc = lightfm_auc_score(tfidf_model, X_train, item_features=artists_genres_matrix_sparse).mean()\n",
    "tfidf_test_auc = lightfm_auc_score(tfidf_model, X_test, train_interactions=X_train, \n",
    "                           item_features=artists_genres_matrix_sparse).mean()\n",
    "print(\"TfidfVectorizer Train AUC: %.4f\" % tfidf_train_auc)\n",
    "print(\"TfidfVectorizer Test AUC: %.4f\" % tfidf_test_auc)\n"
   ]
  },
  {
   "cell_type": "code",
   "execution_count": 126,
   "metadata": {},
   "outputs": [
    {
     "name": "stdout",
     "output_type": "stream",
     "text": [
      "TfidfVectorizer Train precision: 0.1134\n",
      "TfidfVectorier Test precision: 0.0299\n"
     ]
    }
   ],
   "source": [
    "print(\"TfidfVectorizer Train precision: %.4f\" % precision_at_k(tfidf_model, X_train,\\\n",
    "                                                               item_features=artists_genres_matrix_sparse,\n",
    "                                                               k=10,num_threads=2).mean())\n",
    "\n",
    "print(\"TfidfVectorier Test precision: %.4f\" % precision_at_k(tfidf_model, X_test,\\\n",
    "                                                             item_features=artists_genres_matrix_sparse,\n",
    "                                                             train_interactions=X_train,k=10,num_threads=2).mean())"
   ]
  },
  {
   "cell_type": "code",
   "execution_count": 127,
   "metadata": {},
   "outputs": [
    {
     "name": "stdout",
     "output_type": "stream",
     "text": [
      "Epoch 0\n",
      "Epoch 1\n",
      "Epoch 2\n",
      "Epoch 3\n",
      "Epoch 4\n",
      "Epoch 5\n",
      "Epoch 6\n",
      "Epoch 7\n",
      "Epoch 8\n",
      "Epoch 9\n"
     ]
    },
    {
     "data": {
      "text/plain": [
       "<lightfm.lightfm.LightFM at 0x1c463b3dd8>"
      ]
     },
     "execution_count": 127,
     "metadata": {},
     "output_type": "execute_result"
    }
   ],
   "source": [
    "no_comp, ep = 10, 10 \n",
    "cf_model = LightFM(no_components=no_comp, learning_schedule='adadelta', loss='warp')\n",
    "cf_model.fit_partial(X_train,item_features=cf_artists_genres_matrix_sparse,epochs=ep,num_threads=2,verbose=True)"
   ]
  },
  {
   "cell_type": "code",
   "execution_count": 128,
   "metadata": {},
   "outputs": [
    {
     "name": "stdout",
     "output_type": "stream",
     "text": [
      "Countvectorizer Train AUC: 0.8223\n",
      "Countvectorizer Test AUC: 0.7272\n"
     ]
    }
   ],
   "source": [
    "cf_train_auc = lightfm_auc_score(cf_model, X_train,item_features=cf_artists_genres_matrix_sparse).mean()\n",
    "cf_test_auc = lightfm_auc_score(cf_model, X_test, train_interactions=X_train, item_features=cf_artists_genres_matrix_sparse).mean()\n",
    "print(\"Countvectorizer Train AUC: %.4f\" % cf_train_auc)\n",
    "print(\"Countvectorizer Test AUC: %.4f\" % cf_test_auc)"
   ]
  },
  {
   "cell_type": "code",
   "execution_count": 408,
   "metadata": {},
   "outputs": [
    {
     "name": "stdout",
     "output_type": "stream",
     "text": [
      "User 4\n",
      "     Top 5 Mostly Played:\n",
      "        'devendra banhart'| 'chamber pop, folk-pop, freak folk, indie folk, indie pop' \n",
      "        'boards of canada'| 'ambient, big beat, electronic, fourth world, intelligent dance music, microhouse, trip hop' \n",
      "        'cocorosie'| 'art pop, chamber pop, folktronica, freak folk, new rave, new weird america' \n",
      "        'aphex twin'| 'ambient, electronic, intelligent dance music, trip hop' \n",
      "        'animal collective'| 'alternative rock, art pop, baltimore indie, chamber pop, chillwave, dance-punk, dream pop, experimental pop, experimental rock, folk-pop, freak folk, indie folk, indie pop, indie rock, indietronica, lo-fi, modern rock, new rave, noise pop, noise rock, nu gaze' \n",
      "     Top 5 Recommended Artists:\n",
      "        'the jon spencer blues explosion'| 'blues-rock, garage rock, punk blues' \n",
      "        'red hot chili peppers'| 'alternative rock, funk metal, permanent wave, post-grunge, rock' \n",
      "        'green day'| 'permanent wave, pop punk, punk, rock' \n",
      "        'pink floyd'| 'album rock, art rock, classic rock, progressive rock, psychedelic rock, rock, symphonic rock' \n",
      "        'sublime'| 'reggae fusion, ska mexicano, ska punk' \n",
      "User 11\n",
      "     Top 5 Mostly Played:\n",
      "        'thompson twins'| 'dance rock, mellow gold, new romantic, new wave, new wave pop, soft rock, synthpop' \n",
      "        'hanson'| 'boy band, dance pop, neo mellow, pop rock' \n",
      "        'no doubt'| 'dance pop, permanent wave, pop rock' \n",
      "        'orchestral manoeuvres in the dark'| 'art rock, dance rock, new romantic, new wave, new wave pop, permanent wave, rock, synthpop' \n",
      "        'tegan and sara'| 'canadian indie, folk-pop, indie pop, indie poptimism, indie rock, indietronica, lilith, metropopolis, permanent wave, pop rock' \n",
      "     Top 5 Recommended Artists:\n",
      "        'star fucking hipsters'| 'crack rock steady, folk punk, modern ska punk, punk, ska, ska punk, skate punk' \n",
      "        'the starting line'| 'dreamo, emo, neon pop punk, philly indie, pop emo, pop punk, screamo' \n",
      "        'modest mouse'| 'alternative rock, garage rock, indie folk, indie pop, indie rock, lo-fi, modern rock, pop rock, washington indie' \n",
      "        'kanye west'| 'chicago rap, pop rap, rap' \n",
      "        'fall out boy'| 'emo, modern rock, pop punk' \n",
      "User 19\n",
      "     Top 5 Mostly Played:\n",
      "        'judas priest'| 'album rock, birmingham metal, groove metal, hard rock, metal, power metal, rock' \n",
      "        'amon amarth'| 'alternative metal, groove metal, melodic death metal, metal, power metal, swedish death metal, swedish metal, viking metal' \n",
      "        'lamb of god'| 'alternative metal, groove metal, melodic metalcore, metal, nu metal' \n",
      "        'arch enemy'| 'alternative metal, death metal, groove metal, melodic death metal, metal, nu metal, power metal, slayer, speed metal, swedish death metal, swedish metal' \n",
      "        'annihilator'| 'canadian metal, crossover thrash, death metal, groove metal, hard rock, metal, neo classical metal, old school thrash, power metal, progressive metal, speed metal, technical groove, thrash metal' \n",
      "     Top 5 Recommended Artists:\n",
      "        'sufjan stevens'| 'baroque pop, chamber pop, folk-pop, freak folk, indie folk, indie pop, indie rock, modern rock, singer-songwriter, stomp and holler' \n",
      "        'the slits'| 'alternative rock, dance rock, dance-punk, experimental, experimental rock, no wave, post-punk, punk, riot grrrl, uk post-punk' \n",
      "        'cat power'| 'anti-folk, art pop, chamber pop, folk-pop, freak folk, indie folk, indie pop, indie rock, melancholia, singer-songwriter, slow core' \n",
      "        'songs: ohia'| 'alternative country, alternative rock, anti-folk, chamber pop, folk-pop, freak folk, indie folk, indie rock, lo-fi, roots rock, slow core, stomp and holler' \n",
      "        'sonic youth'| 'alternative rock, blues-rock, dance rock, dream pop, experimental rock, garage rock, grunge, indie rock, lo-fi, modern rock, new wave, noise pop, noise rock, post-punk, punk, rock' \n"
     ]
    }
   ],
   "source": [
    "hybrid_light_fm_recommendation(tfidf_model, users_artists_pivoted,[4,11,19], artists_genres_matrix_sparse)"
   ]
  },
  {
   "cell_type": "code",
   "execution_count": 131,
   "metadata": {},
   "outputs": [
    {
     "name": "stdout",
     "output_type": "stream",
     "text": [
      "User 4\n",
      "     Top 5 Mostly Played:\n",
      "        'devendra banhart'| 'chamber pop, folk-pop, freak folk, indie folk, indie pop' \n",
      "        'boards of canada'| 'ambient, big beat, electronic, fourth world, intelligent dance music, microhouse, trip hop' \n",
      "        'cocorosie'| 'art pop, chamber pop, folktronica, freak folk, new rave, new weird america' \n",
      "        'aphex twin'| 'ambient, electronic, intelligent dance music, trip hop' \n",
      "        'animal collective'| 'alternative rock, art pop, baltimore indie, chamber pop, chillwave, dance-punk, dream pop, experimental pop, experimental rock, folk-pop, freak folk, indie folk, indie pop, indie rock, indietronica, lo-fi, modern rock, new rave, noise pop, noise rock, nu gaze' \n",
      "     Top 5 Recommended Artists:\n",
      "        'kanye west'| 'chicago rap, pop rap, rap' \n",
      "        'tom waits'| 'folk, folk rock, folk-pop, roots rock, singer-songwriter' \n",
      "        'nightmares on wax'| 'acid jazz, downtempo, electronic, nu jazz, trip hop, turntablism' \n",
      "        'johnny cash'| 'outlaw country, traditional country' \n",
      "        'the white stripes'| 'alternative rock, blues-rock, garage rock, indie rock, modern blues rock, modern rock, permanent wave, punk blues, rock' \n",
      "User 11\n",
      "     Top 5 Mostly Played:\n",
      "        'thompson twins'| 'dance rock, mellow gold, new romantic, new wave, new wave pop, soft rock, synthpop' \n",
      "        'hanson'| 'boy band, dance pop, neo mellow, pop rock' \n",
      "        'no doubt'| 'dance pop, permanent wave, pop rock' \n",
      "        'orchestral manoeuvres in the dark'| 'art rock, dance rock, new romantic, new wave, new wave pop, permanent wave, rock, synthpop' \n",
      "        'tegan and sara'| 'canadian indie, folk-pop, indie pop, indie poptimism, indie rock, indietronica, lilith, metropopolis, permanent wave, pop rock' \n",
      "     Top 5 Recommended Artists:\n",
      "        'ingrid michaelson'| 'acoustic pop, ectofolk, folk-pop, indiecoustica, lilith, neo mellow, pop, pop rock' \n",
      "        'beck'| 'alternative rock, anti-folk, garage rock, indie rock, modern rock, permanent wave, pop rock, rock' \n",
      "        'kanye west'| 'chicago rap, pop rap, rap' \n",
      "        'sufjan stevens'| 'baroque pop, chamber pop, folk-pop, freak folk, indie folk, indie pop, indie rock, modern rock, singer-songwriter, stomp and holler' \n",
      "        'modest mouse'| 'alternative rock, garage rock, indie folk, indie pop, indie rock, lo-fi, modern rock, pop rock, washington indie' \n",
      "User 19\n",
      "     Top 5 Mostly Played:\n",
      "        'judas priest'| 'album rock, birmingham metal, groove metal, hard rock, metal, power metal, rock' \n",
      "        'amon amarth'| 'alternative metal, groove metal, melodic death metal, metal, power metal, swedish death metal, swedish metal, viking metal' \n",
      "        'lamb of god'| 'alternative metal, groove metal, melodic metalcore, metal, nu metal' \n",
      "        'arch enemy'| 'alternative metal, death metal, groove metal, melodic death metal, metal, nu metal, power metal, slayer, speed metal, swedish death metal, swedish metal' \n",
      "        'annihilator'| 'canadian metal, crossover thrash, death metal, groove metal, hard rock, metal, neo classical metal, old school thrash, power metal, progressive metal, speed metal, technical groove, thrash metal' \n",
      "     Top 5 Recommended Artists:\n",
      "        'lil wayne'| 'hip hop, new orleans rap, pop, pop rap, rap, trap music' \n",
      "        'spank rock'| 'bmore' \n",
      "        'kanye west'| 'chicago rap, pop rap, rap' \n",
      "        'bad company'| 'album rock, blues-rock, classic rock, folk rock, hard rock, mellow gold, rock, soft rock, southern rock' \n",
      "        'horse the band'| 'mathcore, nintendocore, screamo, trancecore' \n"
     ]
    }
   ],
   "source": [
    "hybrid_light_fm_recommendation(cf_model, users_artists_pivoted,[4,11,19],cf_artists_genres_matrix_sparse)"
   ]
  },
  {
   "cell_type": "markdown",
   "metadata": {},
   "source": [
    "## Implicit Alternating Least Squares\n",
    "Leave One Out Cross Validation\n",
    "We compute Top N recommendations for each user in our trainning data and intentionally remove\n",
    "one of those items from that user's trainning data.\n",
    "Then we then test our recommender system's ability to figure the item that was left out in the Top N result.\n",
    "This algorithm is a user focused task since we have an implicit data, which indirectly reflect opinion through\n",
    "observing user behavior.\n",
    "Hence, we will have to split the dataset into trainning and test in other new ways, not the regular splitting."
   ]
  },
  {
   "cell_type": "code",
   "execution_count": 132,
   "metadata": {},
   "outputs": [
    {
     "data": {
      "text/plain": [
       "<61340x3647 sparse matrix of type '<class 'numpy.int64'>'\n",
       "\twith 1576182 stored elements in Compressed Sparse Row format>"
      ]
     },
     "execution_count": 132,
     "metadata": {},
     "output_type": "execute_result"
    }
   ],
   "source": [
    "users_artists_sparse\n",
    "# 61340 users and 3647 artists"
   ]
  },
  {
   "cell_type": "code",
   "execution_count": 133,
   "metadata": {},
   "outputs": [
    {
     "data": {
      "text/plain": [
       "99.29542565010712"
      ]
     },
     "execution_count": 133,
     "metadata": {},
     "output_type": "execute_result"
    }
   ],
   "source": [
    "matrix_size = users_artists_sparse.shape[0]*users_artists_sparse.shape[1] # Number of possible interactions in the matrix\n",
    "num_artists_listened = len(users_artists_sparse.nonzero()[0]) # Number of artists interacted with \n",
    "sparsity = 100*(1 - (num_artists_listened/matrix_size))\n",
    "sparsity"
   ]
  },
  {
   "cell_type": "markdown",
   "metadata": {},
   "source": [
    "MF methods are designed to get over the problem of sparsity and therefore can possibly work even with such a sparse data set. our sparsity is nice to work with for MF(Matrix Factorization)."
   ]
  },
  {
   "cell_type": "code",
   "execution_count": 134,
   "metadata": {},
   "outputs": [],
   "source": [
    "def train_split(ratings, pct_test=.20):\n",
    "    \"\"\"\n",
    "        This function takes rating values(sparsed data) to change zero values for a certain percentage of the training set.\n",
    "        So that we can figure out that model noticed the changed values from the training set.\n",
    "        Test Set will be the same as the original data set, which here is a sparse matrix.\n",
    "        Test Set is used for comparing the changed values.\n",
    "        \n",
    "        parameters:\n",
    "        ratings - users_artists_sparsed data with value of count of plays for each artists\n",
    "    \"\"\"\n",
    "    random.seed(0) # Set the random seed to zero for reproducibility.\n",
    "    test_set = ratings.copy() # Make a copy of the original set to be the test set. \n",
    "    test_set[test_set != 0] = 1 # Set as binary matrix, where 1 indicates user played artists.\n",
    "    training_set = ratings.copy() # We will alter pct_test of the training_set.\n",
    "    nonzero_inds = training_set.nonzero() # Find the indices of (users, artists) intersection.\n",
    "    nonzero_pairs = list(zip(nonzero_inds[0], nonzero_inds[1])) # Zip the pairs of (user,item) indices into list.\n",
    "    num_samples = int(np.ceil(pct_test*len(nonzero_pairs))) # Numer of samples.\n",
    "    samples = random.sample(nonzero_pairs, num_samples) # Sample a random number of (user,item) intersection without replacement\n",
    "    user_inds = [index[0] for index in samples] # The user row indices.\n",
    "    artist_inds = [index[1] for index in samples] # The item column indices.\n",
    "    training_set[user_inds, artist_inds] = 0 # Assign all of the randomly chosen user-artist pairs to zero (not played).\n",
    "    training_set.eliminate_zeros() # Remove zero entries from the matrix to save memory. \n",
    "\n",
    "    return training_set, test_set, list(set(user_inds)) # Output the unique list of user rows that were altered  "
   ]
  },
  {
   "cell_type": "code",
   "execution_count": 156,
   "metadata": {},
   "outputs": [],
   "source": [
    "als_X_train, als_X_test, users_changed = train_split(users_artists_sparse) "
   ]
  },
  {
   "cell_type": "code",
   "execution_count": 143,
   "metadata": {},
   "outputs": [],
   "source": [
    "def rmse (predictions, actual):\n",
    "    \"\"\"\n",
    "    This function will return to rmse score\n",
    "    \n",
    "    parameters:\n",
    "    predictions - prediction output\n",
    "    actual - actual\n",
    "    \"\"\"\n",
    "    return np.sqrt(mean_squared_error(actual, predictions))"
   ]
  },
  {
   "cell_type": "code",
   "execution_count": 136,
   "metadata": {},
   "outputs": [],
   "source": [
    "def auc_score(predictions, actual):\n",
    "    '''\n",
    "    This function will return to (area under the Receiver Operating Characterisic curve) score\n",
    "    \n",
    "    parameters:\n",
    "    \n",
    "    predictions - your prediction output\n",
    "    \n",
    "    test- comparing variable\n",
    "    \n",
    "    '''\n",
    "    fpr, tpr, thresholds = metrics.roc_curve(actual, predictions)\n",
    "    return metrics.auc(fpr, tpr)   "
   ]
  },
  {
   "cell_type": "code",
   "execution_count": 161,
   "metadata": {},
   "outputs": [
    {
     "data": {
      "text/plain": [
       "<61340x20 sparse matrix of type '<class 'numpy.float32'>'\n",
       "\twith 1217820 stored elements in Compressed Sparse Row format>"
      ]
     },
     "execution_count": 161,
     "metadata": {},
     "output_type": "execute_result"
    }
   ],
   "source": [
    "csr_matrix(artist_factors)"
   ]
  },
  {
   "cell_type": "code",
   "execution_count": 203,
   "metadata": {},
   "outputs": [],
   "source": [
    "def calc_mean_auc(training_set, altered_users, predictions, test_set):\n",
    "    '''\n",
    "    This function will calculate the mean AUC by user for any user that had their user-item matrix altered. \n",
    "    \n",
    "    parameters:\n",
    "    \n",
    "    training_set - The training set constructed from make_train, where 20 percent of the original\n",
    "    user/item interactions are reset to zero to hide them from the model \n",
    "    \n",
    "    predictions - The matrix of your predicted countings for each user/artists pair as output \n",
    "    from the implicit matrix factorization.\n",
    "    Stored in a list. predictions[0] with user vectors as artist and predictions[1] artist vectors as artist one. \n",
    "    \n",
    "    altered_users - The indices of the users where at least one user/artist pair was changed from make_train function\n",
    "    \n",
    "    test_set - The test set constucted from make_train function\n",
    "    \n",
    "    returns:\n",
    "    \n",
    "    The mean AUC of the test set only on user-item interactions.\n",
    "    There were originally zero to test ranking ability in addition to the most popular items as a benchmark.\n",
    "    '''\n",
    "    \n",
    "    \n",
    "    auc = [] # AUC for each user that had an item removed from the training set\n",
    "    pop_auc = [] # To store popular AUC scores\n",
    "    rmses = []\n",
    "    pop_items = np.array(test_set.sum(axis = 0)).flatten() # Get sum of artist iteractions to find most popular artist.\n",
    "    artist_vecs = predictions[1]\n",
    "    \n",
    "    for user in altered_users: # Iterate through each row(user) that had an artist altered\n",
    "        training_row = training_set[user,:].toarray().flatten() # Get trainning set in flatten array.\n",
    "        zero_inds = np.where(training_row == 0) # Find where the interaction of users did not happen.\n",
    "        user_vec = predictions[0][user,:] # Get the predicted values based on our user/artists vectors\n",
    "        \n",
    "        pred = user_vec.dot(artist_vecs).toarray()[0,zero_inds].flatten()\n",
    "        \n",
    "        # Get only the items that were originally zero\n",
    "        # Select all ratings from the MF prediction for dthis user that originally had no iteraction\n",
    "        actual = test_set[user,:].toarray()[0,zero_inds].flatten()\n",
    "        \n",
    "        # Select the binarized yes/no interaction pairs from the original full data\n",
    "        # that align with the same pairs in training \n",
    "        \n",
    "        pop = pop_items[zero_inds] # Get the popularity for our chosen artist.\n",
    "        auc.append(auc_score(pred, actual)) # Calculate AUC for the given user and store\n",
    "        pop_auc.append(auc_score(pop, actual)) # Calculate AUC using most popular artist and score\n",
    "        rmses.append(rmse(pred,actual))\n",
    "    return float('%.3f'%np.mean(auc)), float('%.3f'%np.mean(pop_auc)), float('%3.f'%np.mean(rmses))\n",
    "   # Return the mean AUC rounded to three decimal places for both test and popularity benchmark"
   ]
  },
  {
   "cell_type": "markdown",
   "metadata": {},
   "source": [
    "To fit ALS, the matrix of confidences for the liked items should be a csr_matrix where the rows of the matrix are the item, the columns are the users that liked that item, and the value is the confidence that the user liked the item.\n",
    "So I had to transpose Train Set"
   ]
  },
  {
   "cell_type": "code",
   "execution_count": 172,
   "metadata": {},
   "outputs": [
    {
     "name": "stderr",
     "output_type": "stream",
     "text": [
      "100%|██████████| 50.0/50 [00:09<00:00,  6.20it/s]\n"
     ]
    }
   ],
   "source": [
    "implicit_ALS = implicit.als.AlternatingLeastSquares(factors=20,regularization = 0.1, iterations = 50)\n",
    "# With 20 latent factors.\n",
    "implicit_ALS.fit((als_X_train.T*15).astype('float'))\n"
   ]
  },
  {
   "cell_type": "code",
   "execution_count": 167,
   "metadata": {},
   "outputs": [
    {
     "data": {
      "text/plain": [
       "(3647, 20)"
      ]
     },
     "execution_count": 167,
     "metadata": {},
     "output_type": "execute_result"
    }
   ],
   "source": [
    "implicit_ALS.user_factors.shape"
   ]
  },
  {
   "cell_type": "code",
   "execution_count": 416,
   "metadata": {},
   "outputs": [
    {
     "data": {
      "text/plain": [
       "<61340x3647 sparse matrix of type '<class 'numpy.int64'>'\n",
       "\twith 1260945 stored elements in Compressed Sparse Row format>"
      ]
     },
     "execution_count": 416,
     "metadata": {},
     "output_type": "execute_result"
    }
   ],
   "source": [
    "als_X_train"
   ]
  },
  {
   "cell_type": "code",
   "execution_count": 173,
   "metadata": {},
   "outputs": [],
   "source": [
    "user_factors = implicit_ALS.user_factors\n",
    "artist_factors = implicit_ALS.item_factors"
   ]
  },
  {
   "cell_type": "code",
   "execution_count": 204,
   "metadata": {},
   "outputs": [
    {
     "data": {
      "text/plain": [
       "(0.927, 0.839, 0.0)"
      ]
     },
     "execution_count": 204,
     "metadata": {},
     "output_type": "execute_result"
    }
   ],
   "source": [
    "calc_mean_auc(als_X_train, users_changed, \n",
    "              [csr_matrix(user_factors), csr_matrix(artist_factors.T)], als_X_test)"
   ]
  },
  {
   "cell_type": "code",
   "execution_count": 509,
   "metadata": {},
   "outputs": [],
   "source": [
    "def get_ALS_n_recommend(user_ids, data, als_train,csr_user_factors,csr_artist_factors,N=10):     \n",
    "    \n",
    "    for user_id in user_ids:\n",
    "        id_index = np.where(data.index == user_id)\n",
    "        pref_artists = als_train[id_index].toarray() # Get played Artists\n",
    "        pref_artists= pref_artists + 1 # Set not yet listened artists as 1 \n",
    "        pref_artists[pref_artists > 1] = 0 # Set listened artists as 0\n",
    "        scores = csr_user_factors[id_index].dot(csr_artist_factors).toarray().flatten()\n",
    "        \n",
    "        top_items = data.columns[np.argsort(-scores)].tolist()\n",
    "        print(\"User %s\" % user_id)\n",
    "        print(\"     Top 5 Recommended Artists:\")\n",
    "\n",
    "        for x in top_items[:5]:\n",
    "            print(\"        '{0}' \".format(x))\n",
    "            "
   ]
  },
  {
   "cell_type": "code",
   "execution_count": 511,
   "metadata": {},
   "outputs": [
    {
     "name": "stdout",
     "output_type": "stream",
     "text": [
      "User 4\n",
      "     Top 5 Recommended Artists:\n",
      "        'the avalanches' \n",
      "        'blockhead' \n",
      "        'dntel' \n",
      "        'thom yorke' \n",
      "        'röyksopp' \n",
      "User 11\n",
      "     Top 5 Recommended Artists:\n",
      "        'cyndi lauper' \n",
      "        'carpenters' \n",
      "        'stevie nicks' \n",
      "        'chris isaak' \n",
      "        'pat benatar' \n",
      "User 15\n",
      "     Top 5 Recommended Artists:\n",
      "        'manchester orchestra' \n",
      "        'northstar' \n",
      "        'dear and the headlights' \n",
      "        'the early november' \n",
      "        'limbeck' \n",
      "User 19\n",
      "     Top 5 Recommended Artists:\n",
      "        'cradle of filth' \n",
      "        'manowar' \n",
      "        'korpiklaani' \n",
      "        'katatonia' \n",
      "        'dimmu borgir' \n"
     ]
    }
   ],
   "source": [
    "get_ALS_n_recommend([4,11,15,19],\n",
    "                    users_artists_pivoted,\n",
    "                    als_X_train,\n",
    "                    csr_matrix(user_factors), \n",
    "                    csr_matrix(artist_factors.T), \n",
    "                    N=10)"
   ]
  }
 ],
 "metadata": {
  "kernelspec": {
   "display_name": "Python 3",
   "language": "python",
   "name": "python3"
  },
  "language_info": {
   "codemirror_mode": {
    "name": "ipython",
    "version": 3
   },
   "file_extension": ".py",
   "mimetype": "text/x-python",
   "name": "python",
   "nbconvert_exporter": "python",
   "pygments_lexer": "ipython3",
   "version": "3.6.5"
  }
 },
 "nbformat": 4,
 "nbformat_minor": 2
}
