{
 "cells": [
  {
   "cell_type": "code",
   "execution_count": 2,
   "metadata": {},
   "outputs": [],
   "source": [
    "import pandas as pd\n",
    "import numpy as np\n",
    "import seaborn as sns\n",
    "import re\n",
    "import matplotlib.pyplot as plt\n",
    "import glob\n",
    "import pickle\n",
    "import scipy.stats\n",
    "import statsmodels.api as sm\n",
    "\n",
    "from surprise.model_selection import cross_validate\n",
    "from surprise import KNNBasic, KNNWithMeans, KNNWithZScore\n",
    "from surprise.model_selection import train_test_split\n",
    "\n",
    "from sklearn.preprocessing import StandardScaler\n",
    "from sklearn.decomposition import PCA\n",
    "from sklearn.neighbors import KNeighborsClassifier\n",
    "from sklearn.neighbors import NearestNeighbors\n",
    "from sklearn.metrics.pairwise import cosine_similarity\n",
    "from sklearn.feature_extraction.text import CountVectorizer\n",
    "from mpl_toolkits.mplot3d import Axes3D\n",
    "\n",
    "import spotipy\n",
    "import spotipy.util as util\n",
    "from spotipy.oauth2 import SpotifyClientCredentials\n"
   ]
  },
  {
   "cell_type": "markdown",
   "metadata": {},
   "source": [
    "## Load Music Data / Data Collection\n"
   ]
  },
  {
   "cell_type": "code",
   "execution_count": 3,
   "metadata": {
    "scrolled": true
   },
   "outputs": [],
   "source": [
    "artname = pd.read_csv('data/usersha1-artmbid-artname-plays.tsv', sep='\\t', header=None, names = ['users', 'artist_id', 'artist_name', 'plays'],\n",
    "                        usecols = ['users', 'artist_name', 'plays'])\n",
    "profile = pd.read_csv('data/usersha1-profile.tsv', sep='\\t', header=None, names = ['users', 'gender', 'age', 'country', 'sign_up'],\n",
    "                        usecols = ['users', 'country'])\n"
   ]
  },
  {
   "cell_type": "code",
   "execution_count": 4,
   "metadata": {},
   "outputs": [
    {
     "data": {
      "text/html": [
       "<div>\n",
       "<style scoped>\n",
       "    .dataframe tbody tr th:only-of-type {\n",
       "        vertical-align: middle;\n",
       "    }\n",
       "\n",
       "    .dataframe tbody tr th {\n",
       "        vertical-align: top;\n",
       "    }\n",
       "\n",
       "    .dataframe thead th {\n",
       "        text-align: right;\n",
       "    }\n",
       "</style>\n",
       "<table border=\"1\" class=\"dataframe\">\n",
       "  <thead>\n",
       "    <tr style=\"text-align: right;\">\n",
       "      <th></th>\n",
       "      <th>trackid</th>\n",
       "      <th>artist_name</th>\n",
       "      <th>track_name</th>\n",
       "      <th>pid</th>\n",
       "    </tr>\n",
       "  </thead>\n",
       "  <tbody>\n",
       "    <tr>\n",
       "      <th>0</th>\n",
       "      <td>spotify:track:2vCtiBvJJZfz773yTfAxPP</td>\n",
       "      <td>Lost Frequencies</td>\n",
       "      <td>What Is Love 2016 - Mike Mago Remix</td>\n",
       "      <td>3000</td>\n",
       "    </tr>\n",
       "    <tr>\n",
       "      <th>1</th>\n",
       "      <td>spotify:track:5WOLZP8KrXiupBjG1SSN5U</td>\n",
       "      <td>John Legend</td>\n",
       "      <td>Love Me Now - Dave Audé Remix Radio Edit</td>\n",
       "      <td>3000</td>\n",
       "    </tr>\n",
       "    <tr>\n",
       "      <th>2</th>\n",
       "      <td>spotify:track:0oQDQ9QiqsO63EEBAro8Le</td>\n",
       "      <td>July Child</td>\n",
       "      <td>Thinkin of U</td>\n",
       "      <td>3000</td>\n",
       "    </tr>\n",
       "    <tr>\n",
       "      <th>3</th>\n",
       "      <td>spotify:track:7MUS0La2IQ85vJ59fQqtoN</td>\n",
       "      <td>Tiësto</td>\n",
       "      <td>I Will Be Here - (Wolfgang Gartner Remix)</td>\n",
       "      <td>3000</td>\n",
       "    </tr>\n",
       "    <tr>\n",
       "      <th>4</th>\n",
       "      <td>spotify:track:3ciyZYofjiqmMUElM5qgGB</td>\n",
       "      <td>Joe Stone</td>\n",
       "      <td>The Party (This Is How We Do It)</td>\n",
       "      <td>3000</td>\n",
       "    </tr>\n",
       "  </tbody>\n",
       "</table>\n",
       "</div>"
      ],
      "text/plain": [
       "                                trackid       artist_name  \\\n",
       "0  spotify:track:2vCtiBvJJZfz773yTfAxPP  Lost Frequencies   \n",
       "1  spotify:track:5WOLZP8KrXiupBjG1SSN5U       John Legend   \n",
       "2  spotify:track:0oQDQ9QiqsO63EEBAro8Le        July Child   \n",
       "3  spotify:track:7MUS0La2IQ85vJ59fQqtoN            Tiësto   \n",
       "4  spotify:track:3ciyZYofjiqmMUElM5qgGB         Joe Stone   \n",
       "\n",
       "                                  track_name   pid  \n",
       "0        What Is Love 2016 - Mike Mago Remix  3000  \n",
       "1   Love Me Now - Dave Audé Remix Radio Edit  3000  \n",
       "2                               Thinkin of U  3000  \n",
       "3  I Will Be Here - (Wolfgang Gartner Remix)  3000  \n",
       "4           The Party (This Is How We Do It)  3000  "
      ]
     },
     "execution_count": 4,
     "metadata": {},
     "output_type": "execute_result"
    }
   ],
   "source": [
    "#Getting all the spotify_data follwing by numbers\n",
    "filenames = glob.glob('data/spotify_data*.csv')\n",
    "l = []\n",
    "for file in filenames: \n",
    "    df = pd.read_csv(file)\n",
    "    l.append(df)\n",
    "    \n",
    "spotify_data = pd.concat(l, axis = 0,ignore_index= True)\n",
    "spotify_data.head()\n"
   ]
  },
  {
   "cell_type": "code",
   "execution_count": 5,
   "metadata": {},
   "outputs": [],
   "source": [
    "#SpotifyClientCredentials that can be used to authenticate requests like\n",
    "#Using Spotify API to collect more detailed audio features\n",
    "client_credentials_manager = SpotifyClientCredentials(client_id=\"ad1a53bb434c4023a44d59b0c5ac533b\",client_secret='e25b1aa4183d47b7abb9c0494bb05696')\n",
    "sp = spotipy.Spotify(client_credentials_manager=client_credentials_manager)\n",
    "\n"
   ]
  },
  {
   "cell_type": "code",
   "execution_count": null,
   "metadata": {},
   "outputs": [],
   "source": [
    "trackid = list(set(spotify_data.trackid))\n",
    "batchsize = 50\n",
    "\n",
    "def spotify_info(trackid,batchsize):\n",
    "    features = []\n",
    "    popularity = []\n",
    "    uri = []\n",
    "    artists_uri = []\n",
    "    none_count = 0\n",
    "    none_count2 = 0\n",
    "    for i in range(0,len(trackid),batchsize):\n",
    "        batch = trackid[i:i+batchsize]\n",
    "        track_results = sp.tracks(batch)\n",
    "        features_results = sp.audio_features(tracks = batch)\n",
    "        for i, t in enumerate(track_results['tracks']):\n",
    "            if t == None:\n",
    "                none_count += none_count + 1\n",
    "            else:\n",
    "                popularity.append(t['popularity'])\n",
    "                uri.append(t['uri'])\n",
    "                artists_uri.append(t['artists'][0]['uri'])\n",
    "    for i, t in enumerate(features_results):\n",
    "        if t == None:\n",
    "            none_count2 += none_count2 + 1\n",
    "        else:\n",
    "            features.append(t)\n",
    "        return(features, popularity,uri, artists_uri)"
   ]
  },
  {
   "cell_type": "code",
   "execution_count": 31,
   "metadata": {},
   "outputs": [],
   "source": [
    "genres = []\n",
    "artists_name = []\n",
    "none_count3 = 0\n",
    "artists_uri = list(set(artists_uri))\n",
    "\n",
    "for i in range(0, len(artists_uri), batchsize):\n",
    "    batch = artists_uri[i:i+batchsize]\n",
    "    artist_results = sp.artists(batch)\n",
    "    for i,t in enumerate(artist_results['artists']):\n",
    "        if t['genres'] == []:\n",
    "            t['genres'] == np.nan\n",
    "        else:\n",
    "            genres.append(t['genres'])\n",
    "            artists_name.append(t['name'])\n"
   ]
  },
  {
   "cell_type": "code",
   "execution_count": 73,
   "metadata": {},
   "outputs": [
    {
     "name": "stdout",
     "output_type": "stream",
     "text": [
      "<class 'pandas.core.frame.DataFrame'>\n",
      "RangeIndex: 16424 entries, 0 to 16423\n",
      "Data columns (total 2 columns):\n",
      "artist_name    16424 non-null object\n",
      "genres         16424 non-null object\n",
      "dtypes: object(2)\n",
      "memory usage: 256.7+ KB\n",
      "    artist_name                                     genres\n",
      "0         Rumer                [british singer-songwriter]\n",
      "1  Anita Wilson  [contemporary gospel, gospel, gospel r&b]\n",
      "2     Matrimony                       [charlotte nc indie]\n",
      "3        Kapena       [hawaiian, jawaiian, polynesian pop]\n",
      "4    The Wanted  [boy band, dance pop, pop, post-teen pop] None\n"
     ]
    }
   ],
   "source": [
    "artists_genres = pd.DataFrame(\n",
    "    {'artist_name':artists_name,\n",
    "     'genres':genres\n",
    "    })\n",
    "print(artists_genres.head(),\n",
    "artists_genres.info())\n",
    "genre = artists_genres.apply(lambda x: pd.Series(x['genres']),axis=1).stack().reset_index(level=1, drop=True)\n",
    "genre.name = 'genre'\n",
    "artists_genres = artists_genres.drop('genres', axis=1).join(genre).reset_index(drop=True)\n"
   ]
  },
  {
   "cell_type": "code",
   "execution_count": null,
   "metadata": {},
   "outputs": [],
   "source": [
    "features = pd.DataFrame.from_dict(features)\n",
    "features = features.drop(['id','analysis_url','type','track_href','type'], axis=1)\n",
    "features = features.set_index(\"uri\")\n",
    "df_pop = pd.DataFrame(\n",
    "    {'uri': uri,\n",
    "     'popularity': popularity\n",
    "    })\n",
    "df_pop = df_pop.set_index(\"uri\")\n"
   ]
  },
  {
   "cell_type": "code",
   "execution_count": null,
   "metadata": {},
   "outputs": [],
   "source": [
    "all_features = pd.merge(features,df_pop, left_index=True, right_index=True)\n",
    "all_features.head()\n"
   ]
  },
  {
   "cell_type": "markdown",
   "metadata": {},
   "source": [
    "### Loading from pickle"
   ]
  },
  {
   "cell_type": "code",
   "execution_count": 77,
   "metadata": {},
   "outputs": [],
   "source": [
    "pickle.dump(artists_genres, open(\"artists_genres.p\", 'wb'))"
   ]
  },
  {
   "cell_type": "code",
   "execution_count": 8,
   "metadata": {},
   "outputs": [
    {
     "data": {
      "text/html": [
       "<div>\n",
       "<style scoped>\n",
       "    .dataframe tbody tr th:only-of-type {\n",
       "        vertical-align: middle;\n",
       "    }\n",
       "\n",
       "    .dataframe tbody tr th {\n",
       "        vertical-align: top;\n",
       "    }\n",
       "\n",
       "    .dataframe thead th {\n",
       "        text-align: right;\n",
       "    }\n",
       "</style>\n",
       "<table border=\"1\" class=\"dataframe\">\n",
       "  <thead>\n",
       "    <tr style=\"text-align: right;\">\n",
       "      <th></th>\n",
       "      <th>artist_name</th>\n",
       "      <th>genre</th>\n",
       "    </tr>\n",
       "  </thead>\n",
       "  <tbody>\n",
       "    <tr>\n",
       "      <th>0</th>\n",
       "      <td>Rumer</td>\n",
       "      <td>british singer-songwriter</td>\n",
       "    </tr>\n",
       "    <tr>\n",
       "      <th>1</th>\n",
       "      <td>Anita Wilson</td>\n",
       "      <td>contemporary gospel</td>\n",
       "    </tr>\n",
       "    <tr>\n",
       "      <th>2</th>\n",
       "      <td>Anita Wilson</td>\n",
       "      <td>gospel</td>\n",
       "    </tr>\n",
       "    <tr>\n",
       "      <th>3</th>\n",
       "      <td>Anita Wilson</td>\n",
       "      <td>gospel r&amp;b</td>\n",
       "    </tr>\n",
       "    <tr>\n",
       "      <th>4</th>\n",
       "      <td>Matrimony</td>\n",
       "      <td>charlotte nc indie</td>\n",
       "    </tr>\n",
       "  </tbody>\n",
       "</table>\n",
       "</div>"
      ],
      "text/plain": [
       "    artist_name                      genre\n",
       "0         Rumer  british singer-songwriter\n",
       "1  Anita Wilson        contemporary gospel\n",
       "2  Anita Wilson                     gospel\n",
       "3  Anita Wilson                 gospel r&b\n",
       "4     Matrimony         charlotte nc indie"
      ]
     },
     "execution_count": 8,
     "metadata": {},
     "output_type": "execute_result"
    }
   ],
   "source": [
    "artists_genres = pickle.load(open(\"artists_genres.p\", 'rb'))\n",
    "artists_genres.head()"
   ]
  },
  {
   "cell_type": "code",
   "execution_count": 9,
   "metadata": {},
   "outputs": [
    {
     "data": {
      "text/html": [
       "<div>\n",
       "<style scoped>\n",
       "    .dataframe tbody tr th:only-of-type {\n",
       "        vertical-align: middle;\n",
       "    }\n",
       "\n",
       "    .dataframe tbody tr th {\n",
       "        vertical-align: top;\n",
       "    }\n",
       "\n",
       "    .dataframe thead th {\n",
       "        text-align: right;\n",
       "    }\n",
       "</style>\n",
       "<table border=\"1\" class=\"dataframe\">\n",
       "  <thead>\n",
       "    <tr style=\"text-align: right;\">\n",
       "      <th></th>\n",
       "      <th>genre</th>\n",
       "    </tr>\n",
       "    <tr>\n",
       "      <th>artist_name</th>\n",
       "      <th></th>\n",
       "    </tr>\n",
       "  </thead>\n",
       "  <tbody>\n",
       "    <tr>\n",
       "      <th>!!!</th>\n",
       "      <td>alternative dance dance-punk electronic filter...</td>\n",
       "    </tr>\n",
       "    <tr>\n",
       "      <th>\"Weird Al\" Yankovic</th>\n",
       "      <td>antiviral pop comedy rock comic</td>\n",
       "    </tr>\n",
       "    <tr>\n",
       "      <th>#1 Dads</th>\n",
       "      <td>australian indie</td>\n",
       "    </tr>\n",
       "    <tr>\n",
       "      <th>$teven Cannon</th>\n",
       "      <td>dark trap underground hip hop vapor trap</td>\n",
       "    </tr>\n",
       "    <tr>\n",
       "      <th>$uicideBoy$</th>\n",
       "      <td>dark trap new orleans rap underground hip hop</td>\n",
       "    </tr>\n",
       "  </tbody>\n",
       "</table>\n",
       "</div>"
      ],
      "text/plain": [
       "                                                                 genre\n",
       "artist_name                                                           \n",
       "!!!                  alternative dance dance-punk electronic filter...\n",
       "\"Weird Al\" Yankovic                    antiviral pop comedy rock comic\n",
       "#1 Dads                                               australian indie\n",
       "$teven Cannon                 dark trap underground hip hop vapor trap\n",
       "$uicideBoy$              dark trap new orleans rap underground hip hop"
      ]
     },
     "execution_count": 9,
     "metadata": {},
     "output_type": "execute_result"
    }
   ],
   "source": [
    "bag_of_genres = pd.DataFrame(artists_genres.groupby('artist_name')['genre'].agg(lambda x: ' '.join(x)))\n",
    "bag_of_genres.head()"
   ]
  },
  {
   "cell_type": "code",
   "execution_count": 6,
   "metadata": {},
   "outputs": [
    {
     "data": {
      "text/html": [
       "<div>\n",
       "<style scoped>\n",
       "    .dataframe tbody tr th:only-of-type {\n",
       "        vertical-align: middle;\n",
       "    }\n",
       "\n",
       "    .dataframe tbody tr th {\n",
       "        vertical-align: top;\n",
       "    }\n",
       "\n",
       "    .dataframe thead th {\n",
       "        text-align: right;\n",
       "    }\n",
       "</style>\n",
       "<table border=\"1\" class=\"dataframe\">\n",
       "  <thead>\n",
       "    <tr style=\"text-align: right;\">\n",
       "      <th></th>\n",
       "      <th>acousticness</th>\n",
       "      <th>danceability</th>\n",
       "      <th>energy</th>\n",
       "      <th>instrumentalness</th>\n",
       "      <th>liveness</th>\n",
       "      <th>loudness</th>\n",
       "      <th>speechiness</th>\n",
       "      <th>tempo</th>\n",
       "      <th>valence</th>\n",
       "      <th>popularity</th>\n",
       "    </tr>\n",
       "    <tr>\n",
       "      <th>uri</th>\n",
       "      <th></th>\n",
       "      <th></th>\n",
       "      <th></th>\n",
       "      <th></th>\n",
       "      <th></th>\n",
       "      <th></th>\n",
       "      <th></th>\n",
       "      <th></th>\n",
       "      <th></th>\n",
       "      <th></th>\n",
       "    </tr>\n",
       "  </thead>\n",
       "  <tbody>\n",
       "    <tr>\n",
       "      <th>spotify:track:4V2F0DZrAXOWq9hkwMMG3x</th>\n",
       "      <td>0.2260</td>\n",
       "      <td>0.664</td>\n",
       "      <td>0.351</td>\n",
       "      <td>0.000002</td>\n",
       "      <td>0.1060</td>\n",
       "      <td>-12.136</td>\n",
       "      <td>0.1180</td>\n",
       "      <td>113.204</td>\n",
       "      <td>0.816</td>\n",
       "      <td>61</td>\n",
       "    </tr>\n",
       "    <tr>\n",
       "      <th>spotify:track:4vE8kSu9DhhJHAczFvuUgN</th>\n",
       "      <td>0.7320</td>\n",
       "      <td>0.830</td>\n",
       "      <td>0.417</td>\n",
       "      <td>0.000308</td>\n",
       "      <td>0.2190</td>\n",
       "      <td>-10.444</td>\n",
       "      <td>0.3330</td>\n",
       "      <td>81.948</td>\n",
       "      <td>0.324</td>\n",
       "      <td>43</td>\n",
       "    </tr>\n",
       "    <tr>\n",
       "      <th>spotify:track:31SQzEn2j6IqoBM41axtX4</th>\n",
       "      <td>0.8630</td>\n",
       "      <td>0.433</td>\n",
       "      <td>0.305</td>\n",
       "      <td>0.946000</td>\n",
       "      <td>0.2320</td>\n",
       "      <td>-10.574</td>\n",
       "      <td>0.0477</td>\n",
       "      <td>82.975</td>\n",
       "      <td>0.204</td>\n",
       "      <td>32</td>\n",
       "    </tr>\n",
       "    <tr>\n",
       "      <th>spotify:track:5wDo8f5JkiLu98wa38chVT</th>\n",
       "      <td>0.3290</td>\n",
       "      <td>0.835</td>\n",
       "      <td>0.532</td>\n",
       "      <td>0.000023</td>\n",
       "      <td>0.3640</td>\n",
       "      <td>-8.891</td>\n",
       "      <td>0.2920</td>\n",
       "      <td>99.995</td>\n",
       "      <td>0.562</td>\n",
       "      <td>27</td>\n",
       "    </tr>\n",
       "    <tr>\n",
       "      <th>spotify:track:128zElW4z27JtpfRKPkJwF</th>\n",
       "      <td>0.0187</td>\n",
       "      <td>0.518</td>\n",
       "      <td>0.801</td>\n",
       "      <td>0.000000</td>\n",
       "      <td>0.0988</td>\n",
       "      <td>-6.091</td>\n",
       "      <td>0.0445</td>\n",
       "      <td>160.100</td>\n",
       "      <td>0.491</td>\n",
       "      <td>51</td>\n",
       "    </tr>\n",
       "  </tbody>\n",
       "</table>\n",
       "</div>"
      ],
      "text/plain": [
       "                                      acousticness  danceability  energy  \\\n",
       "uri                                                                        \n",
       "spotify:track:4V2F0DZrAXOWq9hkwMMG3x        0.2260         0.664   0.351   \n",
       "spotify:track:4vE8kSu9DhhJHAczFvuUgN        0.7320         0.830   0.417   \n",
       "spotify:track:31SQzEn2j6IqoBM41axtX4        0.8630         0.433   0.305   \n",
       "spotify:track:5wDo8f5JkiLu98wa38chVT        0.3290         0.835   0.532   \n",
       "spotify:track:128zElW4z27JtpfRKPkJwF        0.0187         0.518   0.801   \n",
       "\n",
       "                                      instrumentalness  liveness  loudness  \\\n",
       "uri                                                                          \n",
       "spotify:track:4V2F0DZrAXOWq9hkwMMG3x          0.000002    0.1060   -12.136   \n",
       "spotify:track:4vE8kSu9DhhJHAczFvuUgN          0.000308    0.2190   -10.444   \n",
       "spotify:track:31SQzEn2j6IqoBM41axtX4          0.946000    0.2320   -10.574   \n",
       "spotify:track:5wDo8f5JkiLu98wa38chVT          0.000023    0.3640    -8.891   \n",
       "spotify:track:128zElW4z27JtpfRKPkJwF          0.000000    0.0988    -6.091   \n",
       "\n",
       "                                      speechiness    tempo  valence  \\\n",
       "uri                                                                   \n",
       "spotify:track:4V2F0DZrAXOWq9hkwMMG3x       0.1180  113.204    0.816   \n",
       "spotify:track:4vE8kSu9DhhJHAczFvuUgN       0.3330   81.948    0.324   \n",
       "spotify:track:31SQzEn2j6IqoBM41axtX4       0.0477   82.975    0.204   \n",
       "spotify:track:5wDo8f5JkiLu98wa38chVT       0.2920   99.995    0.562   \n",
       "spotify:track:128zElW4z27JtpfRKPkJwF       0.0445  160.100    0.491   \n",
       "\n",
       "                                      popularity  \n",
       "uri                                               \n",
       "spotify:track:4V2F0DZrAXOWq9hkwMMG3x          61  \n",
       "spotify:track:4vE8kSu9DhhJHAczFvuUgN          43  \n",
       "spotify:track:31SQzEn2j6IqoBM41axtX4          32  \n",
       "spotify:track:5wDo8f5JkiLu98wa38chVT          27  \n",
       "spotify:track:128zElW4z27JtpfRKPkJwF          51  "
      ]
     },
     "execution_count": 6,
     "metadata": {},
     "output_type": "execute_result"
    }
   ],
   "source": [
    "all_features = pickle.load(open(\"all_features.p\",\"rb\"))\n",
    "all_features = all_features.drop(['duration_ms','key','mode','time_signature'], axis=1)\n",
    "all_features.head()"
   ]
  },
  {
   "cell_type": "code",
   "execution_count": 10,
   "metadata": {},
   "outputs": [],
   "source": [
    "# Set index as trackid which is the same as index of all_features\n",
    "spotify_data = spotify_data.set_index('trackid') "
   ]
  },
  {
   "cell_type": "code",
   "execution_count": 11,
   "metadata": {},
   "outputs": [],
   "source": [
    "merged = pd.merge(all_features,spotify_data, left_index=True, right_index=True) # Merging Two dataframes based on their indexes to combine all the information.\n",
    "merged = merged[~merged.index.duplicated(keep='first')] # Dropping duplicated index.\n",
    "\n",
    "merged['artist_name'] = merged['artist_name'].astype(str).str.lower() # Generalize artist name\n"
   ]
  },
  {
   "cell_type": "markdown",
   "metadata": {},
   "source": [
    "I want to use Item-based collaborative filtering by using each song's features as listed below. \n",
    "Get similarity scores between one artists music features and all artists' the user listened.\n"
   ]
  },
  {
   "cell_type": "code",
   "execution_count": 12,
   "metadata": {},
   "outputs": [
    {
     "name": "stdout",
     "output_type": "stream",
     "text": [
      "<class 'pandas.core.frame.DataFrame'>\n",
      "Index: 93132 entries, spotify:track:000VZqvXwT0YNqKk7iG2GS to spotify:track:7zzLt6Z9y7jMvXnEg00n58\n",
      "Data columns (total 13 columns):\n",
      "acousticness        93132 non-null float64\n",
      "danceability        93132 non-null float64\n",
      "energy              93132 non-null float64\n",
      "instrumentalness    93132 non-null float64\n",
      "liveness            93132 non-null float64\n",
      "loudness            93132 non-null float64\n",
      "speechiness         93132 non-null float64\n",
      "tempo               93132 non-null float64\n",
      "valence             93132 non-null float64\n",
      "popularity          93132 non-null int64\n",
      "artist_name         93132 non-null object\n",
      "track_name          93132 non-null object\n",
      "pid                 93132 non-null int64\n",
      "dtypes: float64(9), int64(2), object(2)\n",
      "memory usage: 9.9+ MB\n"
     ]
    },
    {
     "data": {
      "text/html": [
       "<div>\n",
       "<style scoped>\n",
       "    .dataframe tbody tr th:only-of-type {\n",
       "        vertical-align: middle;\n",
       "    }\n",
       "\n",
       "    .dataframe tbody tr th {\n",
       "        vertical-align: top;\n",
       "    }\n",
       "\n",
       "    .dataframe thead th {\n",
       "        text-align: right;\n",
       "    }\n",
       "</style>\n",
       "<table border=\"1\" class=\"dataframe\">\n",
       "  <thead>\n",
       "    <tr style=\"text-align: right;\">\n",
       "      <th></th>\n",
       "      <th>acousticness</th>\n",
       "      <th>danceability</th>\n",
       "      <th>energy</th>\n",
       "      <th>instrumentalness</th>\n",
       "      <th>liveness</th>\n",
       "      <th>loudness</th>\n",
       "      <th>speechiness</th>\n",
       "      <th>tempo</th>\n",
       "      <th>valence</th>\n",
       "      <th>popularity</th>\n",
       "      <th>artist_name</th>\n",
       "      <th>track_name</th>\n",
       "      <th>pid</th>\n",
       "    </tr>\n",
       "  </thead>\n",
       "  <tbody>\n",
       "    <tr>\n",
       "      <th>spotify:track:7y8aVfDkqt6qirGNivvs0M</th>\n",
       "      <td>0.00255</td>\n",
       "      <td>0.702</td>\n",
       "      <td>0.851</td>\n",
       "      <td>0.000059</td>\n",
       "      <td>0.3220</td>\n",
       "      <td>-5.747</td>\n",
       "      <td>0.0407</td>\n",
       "      <td>117.004</td>\n",
       "      <td>0.870</td>\n",
       "      <td>51</td>\n",
       "      <td>!!!</td>\n",
       "      <td>One Girl / One Boy</td>\n",
       "      <td>3785</td>\n",
       "    </tr>\n",
       "    <tr>\n",
       "      <th>spotify:track:32TXsOUIWtTQDkE72Cvafe</th>\n",
       "      <td>0.00232</td>\n",
       "      <td>0.711</td>\n",
       "      <td>0.893</td>\n",
       "      <td>0.196000</td>\n",
       "      <td>0.6420</td>\n",
       "      <td>-6.059</td>\n",
       "      <td>0.0781</td>\n",
       "      <td>120.751</td>\n",
       "      <td>0.629</td>\n",
       "      <td>41</td>\n",
       "      <td>!!!</td>\n",
       "      <td>Pardon My Freedom</td>\n",
       "      <td>2997</td>\n",
       "    </tr>\n",
       "    <tr>\n",
       "      <th>spotify:track:0BjOgTLP0kLC88XqMoyrv8</th>\n",
       "      <td>0.06260</td>\n",
       "      <td>0.858</td>\n",
       "      <td>0.717</td>\n",
       "      <td>0.243000</td>\n",
       "      <td>0.2160</td>\n",
       "      <td>-8.734</td>\n",
       "      <td>0.0995</td>\n",
       "      <td>120.004</td>\n",
       "      <td>0.582</td>\n",
       "      <td>39</td>\n",
       "      <td>!!!</td>\n",
       "      <td>Slyd</td>\n",
       "      <td>2871</td>\n",
       "    </tr>\n",
       "    <tr>\n",
       "      <th>spotify:track:5zfg3qZOcjS4IFhazNk9PW</th>\n",
       "      <td>0.03640</td>\n",
       "      <td>0.694</td>\n",
       "      <td>0.798</td>\n",
       "      <td>0.024000</td>\n",
       "      <td>0.0596</td>\n",
       "      <td>-6.010</td>\n",
       "      <td>0.0725</td>\n",
       "      <td>126.073</td>\n",
       "      <td>0.456</td>\n",
       "      <td>38</td>\n",
       "      <td>!!!</td>\n",
       "      <td>Yadnus</td>\n",
       "      <td>1633</td>\n",
       "    </tr>\n",
       "    <tr>\n",
       "      <th>spotify:track:3MZ0Obyv6AnO1anmGBJydv</th>\n",
       "      <td>0.09200</td>\n",
       "      <td>0.805</td>\n",
       "      <td>0.414</td>\n",
       "      <td>0.719000</td>\n",
       "      <td>0.0723</td>\n",
       "      <td>-10.608</td>\n",
       "      <td>0.5160</td>\n",
       "      <td>161.707</td>\n",
       "      <td>0.527</td>\n",
       "      <td>40</td>\n",
       "      <td>!llmind</td>\n",
       "      <td>Take A Break - Interlude</td>\n",
       "      <td>3162</td>\n",
       "    </tr>\n",
       "  </tbody>\n",
       "</table>\n",
       "</div>"
      ],
      "text/plain": [
       "                                      acousticness  danceability  energy  \\\n",
       "spotify:track:7y8aVfDkqt6qirGNivvs0M       0.00255         0.702   0.851   \n",
       "spotify:track:32TXsOUIWtTQDkE72Cvafe       0.00232         0.711   0.893   \n",
       "spotify:track:0BjOgTLP0kLC88XqMoyrv8       0.06260         0.858   0.717   \n",
       "spotify:track:5zfg3qZOcjS4IFhazNk9PW       0.03640         0.694   0.798   \n",
       "spotify:track:3MZ0Obyv6AnO1anmGBJydv       0.09200         0.805   0.414   \n",
       "\n",
       "                                      instrumentalness  liveness  loudness  \\\n",
       "spotify:track:7y8aVfDkqt6qirGNivvs0M          0.000059    0.3220    -5.747   \n",
       "spotify:track:32TXsOUIWtTQDkE72Cvafe          0.196000    0.6420    -6.059   \n",
       "spotify:track:0BjOgTLP0kLC88XqMoyrv8          0.243000    0.2160    -8.734   \n",
       "spotify:track:5zfg3qZOcjS4IFhazNk9PW          0.024000    0.0596    -6.010   \n",
       "spotify:track:3MZ0Obyv6AnO1anmGBJydv          0.719000    0.0723   -10.608   \n",
       "\n",
       "                                      speechiness    tempo  valence  \\\n",
       "spotify:track:7y8aVfDkqt6qirGNivvs0M       0.0407  117.004    0.870   \n",
       "spotify:track:32TXsOUIWtTQDkE72Cvafe       0.0781  120.751    0.629   \n",
       "spotify:track:0BjOgTLP0kLC88XqMoyrv8       0.0995  120.004    0.582   \n",
       "spotify:track:5zfg3qZOcjS4IFhazNk9PW       0.0725  126.073    0.456   \n",
       "spotify:track:3MZ0Obyv6AnO1anmGBJydv       0.5160  161.707    0.527   \n",
       "\n",
       "                                      popularity artist_name  \\\n",
       "spotify:track:7y8aVfDkqt6qirGNivvs0M          51         !!!   \n",
       "spotify:track:32TXsOUIWtTQDkE72Cvafe          41         !!!   \n",
       "spotify:track:0BjOgTLP0kLC88XqMoyrv8          39         !!!   \n",
       "spotify:track:5zfg3qZOcjS4IFhazNk9PW          38         !!!   \n",
       "spotify:track:3MZ0Obyv6AnO1anmGBJydv          40     !llmind   \n",
       "\n",
       "                                                    track_name   pid  \n",
       "spotify:track:7y8aVfDkqt6qirGNivvs0M        One Girl / One Boy  3785  \n",
       "spotify:track:32TXsOUIWtTQDkE72Cvafe         Pardon My Freedom  2997  \n",
       "spotify:track:0BjOgTLP0kLC88XqMoyrv8                      Slyd  2871  \n",
       "spotify:track:5zfg3qZOcjS4IFhazNk9PW                    Yadnus  1633  \n",
       "spotify:track:3MZ0Obyv6AnO1anmGBJydv  Take A Break - Interlude  3162  "
      ]
     },
     "execution_count": 12,
     "metadata": {},
     "output_type": "execute_result"
    }
   ],
   "source": [
    "merged.info() # 93132 all non-null values. No Missing values.\n",
    "merged.sort_values(['artist_name','track_name'],inplace=True)\n",
    "merged.head()"
   ]
  },
  {
   "cell_type": "code",
   "execution_count": 13,
   "metadata": {},
   "outputs": [
    {
     "data": {
      "text/plain": [
       "<matplotlib.axes._subplots.AxesSubplot at 0x1c174f36a0>"
      ]
     },
     "execution_count": 13,
     "metadata": {},
     "output_type": "execute_result"
    },
    {
     "data": {
      "image/png": "[encoded data removed]",
      "text/plain": [
       "<Figure size 720x720 with 6 Axes>"
      ]
     },
     "metadata": {},
     "output_type": "display_data"
    }
   ],
   "source": [
    "f, axes = plt.subplots(2, 3,figsize=(10, 10), sharex=True)\n",
    "sns.kdeplot(merged.acousticness, shade=True, color='red', ax=axes[0, 0])\n",
    "sns.kdeplot(merged.instrumentalness, shade=True, color=\"pink\", ax=axes[0, 1])\n",
    "sns.kdeplot(merged.liveness, shade=True, color='purple', ax=axes[0, 2])\n",
    "sns.kdeplot(merged.danceability, shade=True, color=\"blue\", ax=axes[1, 0])\n",
    "sns.kdeplot(merged.energy, shade=True, color=\"green\", ax=axes[1, 1])\n",
    "sns.kdeplot(merged.valence, shade=True, color='yellow', ax=axes[1, 2])\n",
    "# Seem like distributions of acousticness, instrumentalness and liveness similar to each other.\n",
    "# Each distribution contains lots of 0 values with low standard deviation; however, distributions of other except liveness,\n",
    "# have a dip at each mean. This dip might represents that it has lots of mins and max values/ can be understood that classical and modern music.\n",
    "# Danceability is normally distributed.\n",
    "# Tracks with high valence sound more positive (e.g. happy, cheerful, euphoric), \n",
    "# while tracks with low valence sound more negative (e.g. sad, depressed, angry)."
   ]
  },
  {
   "cell_type": "code",
   "execution_count": 14,
   "metadata": {},
   "outputs": [
    {
     "data": {
      "text/plain": [
       "<matplotlib.axes._subplots.AxesSubplot at 0x1c1e4b4a58>"
      ]
     },
     "execution_count": 14,
     "metadata": {},
     "output_type": "execute_result"
    },
    {
     "data": {
      "image/png": "[encoded data removed]",
      "text/plain": [
       "<Figure size 432x288 with 1 Axes>"
      ]
     },
     "metadata": {},
     "output_type": "display_data"
    }
   ],
   "source": [
    "#sns.kdeplot(merged.loudness, shade=True, color='yellow')\n",
    "sns.kdeplot(merged.popularity.divide(max(merged.popularity)), shade=True)"
   ]
  },
  {
   "cell_type": "markdown",
   "metadata": {},
   "source": [
    "# Data Cleaning"
   ]
  },
  {
   "cell_type": "code",
   "execution_count": 12,
   "metadata": {},
   "outputs": [
    {
     "data": {
      "text/html": [
       "<div>\n",
       "<style scoped>\n",
       "    .dataframe tbody tr th:only-of-type {\n",
       "        vertical-align: middle;\n",
       "    }\n",
       "\n",
       "    .dataframe tbody tr th {\n",
       "        vertical-align: top;\n",
       "    }\n",
       "\n",
       "    .dataframe thead th {\n",
       "        text-align: right;\n",
       "    }\n",
       "</style>\n",
       "<table border=\"1\" class=\"dataframe\">\n",
       "  <thead>\n",
       "    <tr style=\"text-align: right;\">\n",
       "      <th></th>\n",
       "      <th>acousticness</th>\n",
       "      <th>danceability</th>\n",
       "      <th>energy</th>\n",
       "      <th>instrumentalness</th>\n",
       "      <th>liveness</th>\n",
       "      <th>loudness</th>\n",
       "      <th>speechiness</th>\n",
       "      <th>tempo</th>\n",
       "      <th>valence</th>\n",
       "      <th>popularity</th>\n",
       "      <th>pid</th>\n",
       "    </tr>\n",
       "  </thead>\n",
       "  <tbody>\n",
       "    <tr>\n",
       "      <th>count</th>\n",
       "      <td>93132.000000</td>\n",
       "      <td>93132.000000</td>\n",
       "      <td>93132.000000</td>\n",
       "      <td>93132.000000</td>\n",
       "      <td>93132.000000</td>\n",
       "      <td>93132.000000</td>\n",
       "      <td>93132.000000</td>\n",
       "      <td>93132.000000</td>\n",
       "      <td>93132.000000</td>\n",
       "      <td>93132.000000</td>\n",
       "      <td>93132.000000</td>\n",
       "    </tr>\n",
       "    <tr>\n",
       "      <th>mean</th>\n",
       "      <td>0.273692</td>\n",
       "      <td>0.576595</td>\n",
       "      <td>0.632356</td>\n",
       "      <td>0.103782</td>\n",
       "      <td>0.200451</td>\n",
       "      <td>-7.873224</td>\n",
       "      <td>0.088594</td>\n",
       "      <td>121.517016</td>\n",
       "      <td>0.478873</td>\n",
       "      <td>29.577514</td>\n",
       "      <td>2280.523622</td>\n",
       "    </tr>\n",
       "    <tr>\n",
       "      <th>std</th>\n",
       "      <td>0.308156</td>\n",
       "      <td>0.167943</td>\n",
       "      <td>0.232925</td>\n",
       "      <td>0.252933</td>\n",
       "      <td>0.173221</td>\n",
       "      <td>4.299103</td>\n",
       "      <td>0.100402</td>\n",
       "      <td>29.254943</td>\n",
       "      <td>0.250161</td>\n",
       "      <td>20.237624</td>\n",
       "      <td>1122.382377</td>\n",
       "    </tr>\n",
       "    <tr>\n",
       "      <th>min</th>\n",
       "      <td>0.000000</td>\n",
       "      <td>0.000000</td>\n",
       "      <td>0.000000</td>\n",
       "      <td>0.000000</td>\n",
       "      <td>0.000000</td>\n",
       "      <td>-60.000000</td>\n",
       "      <td>0.000000</td>\n",
       "      <td>0.000000</td>\n",
       "      <td>0.000000</td>\n",
       "      <td>0.000000</td>\n",
       "      <td>0.000000</td>\n",
       "    </tr>\n",
       "    <tr>\n",
       "      <th>25%</th>\n",
       "      <td>0.018800</td>\n",
       "      <td>0.467000</td>\n",
       "      <td>0.478000</td>\n",
       "      <td>0.000000</td>\n",
       "      <td>0.096100</td>\n",
       "      <td>-9.495250</td>\n",
       "      <td>0.034800</td>\n",
       "      <td>98.879000</td>\n",
       "      <td>0.276000</td>\n",
       "      <td>11.000000</td>\n",
       "      <td>1350.000000</td>\n",
       "    </tr>\n",
       "    <tr>\n",
       "      <th>50%</th>\n",
       "      <td>0.131000</td>\n",
       "      <td>0.586000</td>\n",
       "      <td>0.668000</td>\n",
       "      <td>0.000018</td>\n",
       "      <td>0.128000</td>\n",
       "      <td>-6.850000</td>\n",
       "      <td>0.047900</td>\n",
       "      <td>120.830500</td>\n",
       "      <td>0.467000</td>\n",
       "      <td>31.000000</td>\n",
       "      <td>2445.000000</td>\n",
       "    </tr>\n",
       "    <tr>\n",
       "      <th>75%</th>\n",
       "      <td>0.477000</td>\n",
       "      <td>0.699000</td>\n",
       "      <td>0.821000</td>\n",
       "      <td>0.008180</td>\n",
       "      <td>0.255000</td>\n",
       "      <td>-5.064000</td>\n",
       "      <td>0.090900</td>\n",
       "      <td>139.978000</td>\n",
       "      <td>0.676000</td>\n",
       "      <td>45.000000</td>\n",
       "      <td>3224.000000</td>\n",
       "    </tr>\n",
       "    <tr>\n",
       "      <th>max</th>\n",
       "      <td>0.996000</td>\n",
       "      <td>0.991000</td>\n",
       "      <td>1.000000</td>\n",
       "      <td>0.999000</td>\n",
       "      <td>1.000000</td>\n",
       "      <td>2.766000</td>\n",
       "      <td>0.965000</td>\n",
       "      <td>232.690000</td>\n",
       "      <td>1.000000</td>\n",
       "      <td>87.000000</td>\n",
       "      <td>3999.000000</td>\n",
       "    </tr>\n",
       "  </tbody>\n",
       "</table>\n",
       "</div>"
      ],
      "text/plain": [
       "       acousticness  danceability        energy  instrumentalness  \\\n",
       "count  93132.000000  93132.000000  93132.000000      93132.000000   \n",
       "mean       0.273692      0.576595      0.632356          0.103782   \n",
       "std        0.308156      0.167943      0.232925          0.252933   \n",
       "min        0.000000      0.000000      0.000000          0.000000   \n",
       "25%        0.018800      0.467000      0.478000          0.000000   \n",
       "50%        0.131000      0.586000      0.668000          0.000018   \n",
       "75%        0.477000      0.699000      0.821000          0.008180   \n",
       "max        0.996000      0.991000      1.000000          0.999000   \n",
       "\n",
       "           liveness      loudness   speechiness         tempo       valence  \\\n",
       "count  93132.000000  93132.000000  93132.000000  93132.000000  93132.000000   \n",
       "mean       0.200451     -7.873224      0.088594    121.517016      0.478873   \n",
       "std        0.173221      4.299103      0.100402     29.254943      0.250161   \n",
       "min        0.000000    -60.000000      0.000000      0.000000      0.000000   \n",
       "25%        0.096100     -9.495250      0.034800     98.879000      0.276000   \n",
       "50%        0.128000     -6.850000      0.047900    120.830500      0.467000   \n",
       "75%        0.255000     -5.064000      0.090900    139.978000      0.676000   \n",
       "max        1.000000      2.766000      0.965000    232.690000      1.000000   \n",
       "\n",
       "         popularity           pid  \n",
       "count  93132.000000  93132.000000  \n",
       "mean      29.577514   2280.523622  \n",
       "std       20.237624   1122.382377  \n",
       "min        0.000000      0.000000  \n",
       "25%       11.000000   1350.000000  \n",
       "50%       31.000000   2445.000000  \n",
       "75%       45.000000   3224.000000  \n",
       "max       87.000000   3999.000000  "
      ]
     },
     "execution_count": 12,
     "metadata": {},
     "output_type": "execute_result"
    }
   ],
   "source": [
    "merged.describe()\n",
    "# When you look at loudness, the minimum is -60 db, which people cannot hear well. We can treat them as an outlier.\n",
    "# There are some outliers in this data.\n"
   ]
  },
  {
   "cell_type": "code",
   "execution_count": 13,
   "metadata": {},
   "outputs": [
    {
     "data": {
      "text/html": [
       "<div>\n",
       "<style scoped>\n",
       "    .dataframe tbody tr th:only-of-type {\n",
       "        vertical-align: middle;\n",
       "    }\n",
       "\n",
       "    .dataframe tbody tr th {\n",
       "        vertical-align: top;\n",
       "    }\n",
       "\n",
       "    .dataframe thead th {\n",
       "        text-align: right;\n",
       "    }\n",
       "</style>\n",
       "<table border=\"1\" class=\"dataframe\">\n",
       "  <thead>\n",
       "    <tr style=\"text-align: right;\">\n",
       "      <th></th>\n",
       "      <th>acousticness</th>\n",
       "      <th>danceability</th>\n",
       "      <th>energy</th>\n",
       "      <th>instrumentalness</th>\n",
       "      <th>liveness</th>\n",
       "      <th>loudness</th>\n",
       "      <th>speechiness</th>\n",
       "      <th>tempo</th>\n",
       "      <th>valence</th>\n",
       "      <th>popularity</th>\n",
       "      <th>pid</th>\n",
       "    </tr>\n",
       "  </thead>\n",
       "  <tbody>\n",
       "    <tr>\n",
       "      <th>count</th>\n",
       "      <td>93124.000000</td>\n",
       "      <td>93124.000000</td>\n",
       "      <td>93124.000000</td>\n",
       "      <td>93124.000000</td>\n",
       "      <td>93124.000000</td>\n",
       "      <td>93124.000000</td>\n",
       "      <td>93124.000000</td>\n",
       "      <td>93124.000000</td>\n",
       "      <td>93124.000000</td>\n",
       "      <td>93124.000000</td>\n",
       "      <td>93124.000000</td>\n",
       "    </tr>\n",
       "    <tr>\n",
       "      <th>mean</th>\n",
       "      <td>0.273715</td>\n",
       "      <td>0.576644</td>\n",
       "      <td>0.632411</td>\n",
       "      <td>0.103791</td>\n",
       "      <td>0.200468</td>\n",
       "      <td>-7.868746</td>\n",
       "      <td>0.088602</td>\n",
       "      <td>121.527455</td>\n",
       "      <td>0.478914</td>\n",
       "      <td>29.579238</td>\n",
       "      <td>2280.542180</td>\n",
       "    </tr>\n",
       "    <tr>\n",
       "      <th>std</th>\n",
       "      <td>0.308158</td>\n",
       "      <td>0.167865</td>\n",
       "      <td>0.232862</td>\n",
       "      <td>0.252942</td>\n",
       "      <td>0.173219</td>\n",
       "      <td>4.272052</td>\n",
       "      <td>0.100403</td>\n",
       "      <td>29.234510</td>\n",
       "      <td>0.250132</td>\n",
       "      <td>20.237029</td>\n",
       "      <td>1122.394046</td>\n",
       "    </tr>\n",
       "    <tr>\n",
       "      <th>min</th>\n",
       "      <td>0.000000</td>\n",
       "      <td>0.000000</td>\n",
       "      <td>0.000000</td>\n",
       "      <td>0.000000</td>\n",
       "      <td>0.000000</td>\n",
       "      <td>-44.749000</td>\n",
       "      <td>0.000000</td>\n",
       "      <td>0.000000</td>\n",
       "      <td>0.000000</td>\n",
       "      <td>0.000000</td>\n",
       "      <td>0.000000</td>\n",
       "    </tr>\n",
       "    <tr>\n",
       "      <th>25%</th>\n",
       "      <td>0.018900</td>\n",
       "      <td>0.467000</td>\n",
       "      <td>0.478000</td>\n",
       "      <td>0.000000</td>\n",
       "      <td>0.096200</td>\n",
       "      <td>-9.494000</td>\n",
       "      <td>0.034800</td>\n",
       "      <td>98.883000</td>\n",
       "      <td>0.276000</td>\n",
       "      <td>11.000000</td>\n",
       "      <td>1350.000000</td>\n",
       "    </tr>\n",
       "    <tr>\n",
       "      <th>50%</th>\n",
       "      <td>0.131000</td>\n",
       "      <td>0.586000</td>\n",
       "      <td>0.668000</td>\n",
       "      <td>0.000018</td>\n",
       "      <td>0.128000</td>\n",
       "      <td>-6.849000</td>\n",
       "      <td>0.047900</td>\n",
       "      <td>120.838500</td>\n",
       "      <td>0.467000</td>\n",
       "      <td>31.000000</td>\n",
       "      <td>2445.000000</td>\n",
       "    </tr>\n",
       "    <tr>\n",
       "      <th>75%</th>\n",
       "      <td>0.477000</td>\n",
       "      <td>0.699000</td>\n",
       "      <td>0.821000</td>\n",
       "      <td>0.008180</td>\n",
       "      <td>0.255000</td>\n",
       "      <td>-5.063750</td>\n",
       "      <td>0.090900</td>\n",
       "      <td>139.978000</td>\n",
       "      <td>0.676000</td>\n",
       "      <td>45.000000</td>\n",
       "      <td>3224.000000</td>\n",
       "    </tr>\n",
       "    <tr>\n",
       "      <th>max</th>\n",
       "      <td>0.996000</td>\n",
       "      <td>0.991000</td>\n",
       "      <td>1.000000</td>\n",
       "      <td>0.999000</td>\n",
       "      <td>1.000000</td>\n",
       "      <td>2.766000</td>\n",
       "      <td>0.965000</td>\n",
       "      <td>232.690000</td>\n",
       "      <td>1.000000</td>\n",
       "      <td>87.000000</td>\n",
       "      <td>3999.000000</td>\n",
       "    </tr>\n",
       "  </tbody>\n",
       "</table>\n",
       "</div>"
      ],
      "text/plain": [
       "       acousticness  danceability        energy  instrumentalness  \\\n",
       "count  93124.000000  93124.000000  93124.000000      93124.000000   \n",
       "mean       0.273715      0.576644      0.632411          0.103791   \n",
       "std        0.308158      0.167865      0.232862          0.252942   \n",
       "min        0.000000      0.000000      0.000000          0.000000   \n",
       "25%        0.018900      0.467000      0.478000          0.000000   \n",
       "50%        0.131000      0.586000      0.668000          0.000018   \n",
       "75%        0.477000      0.699000      0.821000          0.008180   \n",
       "max        0.996000      0.991000      1.000000          0.999000   \n",
       "\n",
       "           liveness      loudness   speechiness         tempo       valence  \\\n",
       "count  93124.000000  93124.000000  93124.000000  93124.000000  93124.000000   \n",
       "mean       0.200468     -7.868746      0.088602    121.527455      0.478914   \n",
       "std        0.173219      4.272052      0.100403     29.234510      0.250132   \n",
       "min        0.000000    -44.749000      0.000000      0.000000      0.000000   \n",
       "25%        0.096200     -9.494000      0.034800     98.883000      0.276000   \n",
       "50%        0.128000     -6.849000      0.047900    120.838500      0.467000   \n",
       "75%        0.255000     -5.063750      0.090900    139.978000      0.676000   \n",
       "max        1.000000      2.766000      0.965000    232.690000      1.000000   \n",
       "\n",
       "         popularity           pid  \n",
       "count  93124.000000  93124.000000  \n",
       "mean      29.579238   2280.542180  \n",
       "std       20.237029   1122.394046  \n",
       "min        0.000000      0.000000  \n",
       "25%       11.000000   1350.000000  \n",
       "50%       31.000000   2445.000000  \n",
       "75%       45.000000   3224.000000  \n",
       "max       87.000000   3999.000000  "
      ]
     },
     "execution_count": 13,
     "metadata": {},
     "output_type": "execute_result"
    }
   ],
   "source": [
    "merged[merged.loudness == -60]\n",
    "# Most of these data's values are minimum and can be trated as Missing Value.\n",
    "# Remove these missing values\n",
    "merged = merged[~(merged.loudness == min(merged.loudness))]\n",
    "merged.describe()"
   ]
  },
  {
   "cell_type": "markdown",
   "metadata": {},
   "source": [
    "Also, we will like to only use popular songs to be recommended for users.\n",
    "Let's see how many songs have 0 popularity.\n",
    "Spotify's document says \"Generally speaking, songs that are being played a lot now will have a higher popularity than songs that were played a lot in the past.\" \n",
    "Users won't prefer listening non-popular song now.\n",
    "## So I am basically recommending today's trending songs to old users."
   ]
  },
  {
   "cell_type": "code",
   "execution_count": 14,
   "metadata": {},
   "outputs": [
    {
     "data": {
      "text/plain": [
       "11845"
      ]
     },
     "execution_count": 14,
     "metadata": {},
     "output_type": "execute_result"
    }
   ],
   "source": [
    "len(merged[merged.popularity == min(merged.popularity)])\n",
    "# 11845 songs are not listened by regular users."
   ]
  },
  {
   "cell_type": "code",
   "execution_count": 15,
   "metadata": {},
   "outputs": [
    {
     "name": "stdout",
     "output_type": "stream",
     "text": [
      "0.90    56.0\n",
      "0.91    57.0\n",
      "0.92    58.0\n",
      "0.93    59.0\n",
      "0.94    60.0\n",
      "0.95    61.0\n",
      "0.96    63.0\n",
      "0.97    65.0\n",
      "0.98    67.0\n",
      "0.99    71.0\n",
      "Name: popularity, dtype: float64\n"
     ]
    },
    {
     "data": {
      "text/plain": [
       "32952"
      ]
     },
     "execution_count": 15,
     "metadata": {},
     "output_type": "execute_result"
    }
   ],
   "source": [
    "print(merged.popularity.quantile(np.arange(.9,1,.01)))\n",
    "pop_threshold = 40 # Want to gather more data ,since our maximum of popularity is 87\n",
    "merged_popular = merged.query('popularity >= @pop_threshold')\n",
    "len(merged_popular)"
   ]
  },
  {
   "cell_type": "code",
   "execution_count": 16,
   "metadata": {},
   "outputs": [
    {
     "data": {
      "text/plain": [
       "<matplotlib.axes._subplots.AxesSubplot at 0x1c1e98cb00>"
      ]
     },
     "execution_count": 16,
     "metadata": {},
     "output_type": "execute_result"
    },
    {
     "data": {
      "image/png": "[encoded data removed]",
      "text/plain": [
       "<Figure size 720x720 with 4 Axes>"
      ]
     },
     "metadata": {},
     "output_type": "display_data"
    }
   ],
   "source": [
    "f, axes = plt.subplots(2, 2,figsize=(10, 10), sharex=True)\n",
    "sns.boxplot(merged_popular.speechiness, ax=axes[0,0])\n",
    "sns.boxplot(merged_popular.liveness, ax=axes[0,1])"
   ]
  },
  {
   "cell_type": "markdown",
   "metadata": {},
   "source": []
  },
  {
   "cell_type": "code",
   "execution_count": 17,
   "metadata": {},
   "outputs": [],
   "source": [
    "# print(merged_popular.instrumentalness.quantile(np.arange(.9,1,.01)))\n",
    "# print(merged_popular.speechiness.quantile(np.arange(.9,1,.01)))\n",
    "# Lets keep instrumentalness less than .5 as a threshold and speechiness .33\n",
    "# Values below 0.33 most likely represent music and other non-speech-like tracks.\n",
    "# merged_songs = merged[(merged.instrumentalness < .5) & (merged.speechiness < .33)]\n",
    "# merged_songs.describe()"
   ]
  },
  {
   "cell_type": "markdown",
   "metadata": {},
   "source": [
    "## Content Based Recommendation System by Audio Features"
   ]
  },
  {
   "cell_type": "markdown",
   "metadata": {},
   "source": [
    "$similarity = cos(\\ \\theta ) = \\ \\dfrac{\\ \\boldsymbol{u} \\ \\cdot \\ \\boldsymbol{v}}{\\ \\|{\\ \\boldsymbol{u}}\\ \\|\\ \\|{\\ \\boldsymbol{v}}\\ \\|}$\n",
    "This is basically same as normalized vector u times normalized vector v."
   ]
  },
  {
   "cell_type": "code",
   "execution_count": 18,
   "metadata": {},
   "outputs": [
    {
     "data": {
      "text/plain": [
       "0    spotify:track:000VZqvXwT0YNqKk7iG2GS\n",
       "1    spotify:track:000xQL6tZNLJzIrtIgxqSl\n",
       "2    spotify:track:004skCQeDn1iLntSom0rRr\n",
       "3    spotify:track:006AVH7fq061voGXkUiII4\n",
       "4    spotify:track:006yrnQMCZpiUgkR612gC8\n",
       "dtype: object"
      ]
     },
     "execution_count": 18,
     "metadata": {},
     "output_type": "execute_result"
    }
   ],
   "source": [
    "#merged_popular= merged_popular.drop('spotify:track:6YepaCG8cUabGz3lyCgCxv')\n",
    "features = ['acousticness', 'danceability', 'energy', 'instrumentalness', \n",
    "            'liveness', 'loudness','speechiness','tempo','valence']\n",
    "# Separating out the features\n",
    "x = merged_popular.loc[:, features]\n",
    "x = StandardScaler().fit_transform(x)\n",
    "\n",
    "sim = pd.DataFrame(cosine_similarity(x), index=merged_popular.index)\n",
    "sim.columns = merged_popular.index\n",
    "indices = pd.Series(merged_popular.index)\n",
    "indices[:5]"
   ]
  },
  {
   "cell_type": "code",
   "execution_count": 19,
   "metadata": {},
   "outputs": [
    {
     "ename": "KeyboardInterrupt",
     "evalue": "",
     "output_type": "error",
     "traceback": [
      "\u001b[0;31m---------------------------------------------------------------------------\u001b[0m",
      "\u001b[0;31mKeyboardInterrupt\u001b[0m                         Traceback (most recent call last)",
      "\u001b[0;32m<ipython-input-19-f34e365bde15>\u001b[0m in \u001b[0;36m<module>\u001b[0;34m()\u001b[0m\n\u001b[0;32m----> 1\u001b[0;31m \u001b[0msim\u001b[0m \u001b[0;34m=\u001b[0m \u001b[0;34m(\u001b[0m\u001b[0msim\u001b[0m \u001b[0;34m+\u001b[0m \u001b[0;36m1\u001b[0m\u001b[0;34m)\u001b[0m \u001b[0;34m/\u001b[0m \u001b[0;36m2\u001b[0m\u001b[0;34m\u001b[0m\u001b[0m\n\u001b[0m\u001b[1;32m      2\u001b[0m \u001b[0msim\u001b[0m\u001b[0;34m.\u001b[0m\u001b[0mhead\u001b[0m\u001b[0;34m(\u001b[0m\u001b[0;34m)\u001b[0m\u001b[0;34m\u001b[0m\u001b[0m\n",
      "\u001b[0;31mKeyboardInterrupt\u001b[0m: "
     ]
    }
   ],
   "source": [
    "sim = (sim + 1) / 2\n",
    "sim.head()"
   ]
  },
  {
   "cell_type": "code",
   "execution_count": 51,
   "metadata": {},
   "outputs": [
    {
     "data": {
      "text/html": [
       "<div>\n",
       "<style scoped>\n",
       "    .dataframe tbody tr th:only-of-type {\n",
       "        vertical-align: middle;\n",
       "    }\n",
       "\n",
       "    .dataframe tbody tr th {\n",
       "        vertical-align: top;\n",
       "    }\n",
       "\n",
       "    .dataframe thead th {\n",
       "        text-align: right;\n",
       "    }\n",
       "</style>\n",
       "<table border=\"1\" class=\"dataframe\">\n",
       "  <thead>\n",
       "    <tr style=\"text-align: right;\">\n",
       "      <th></th>\n",
       "      <th>item_id</th>\n",
       "      <th>similarity_score</th>\n",
       "    </tr>\n",
       "  </thead>\n",
       "  <tbody>\n",
       "    <tr>\n",
       "      <th>0</th>\n",
       "      <td>spotify:track:0tgVpDi06FyKpA1z0VMD4v</td>\n",
       "      <td>1.000000</td>\n",
       "    </tr>\n",
       "    <tr>\n",
       "      <th>1</th>\n",
       "      <td>spotify:track:6h0hBlyQGZeR8mb6SpX2us</td>\n",
       "      <td>0.985965</td>\n",
       "    </tr>\n",
       "    <tr>\n",
       "      <th>2</th>\n",
       "      <td>spotify:track:3DkaXDmC0qaFNAxgLMuwX4</td>\n",
       "      <td>0.981521</td>\n",
       "    </tr>\n",
       "    <tr>\n",
       "      <th>3</th>\n",
       "      <td>spotify:track:5P3yUXUC9rZPJPNmYGKEAz</td>\n",
       "      <td>0.980976</td>\n",
       "    </tr>\n",
       "    <tr>\n",
       "      <th>4</th>\n",
       "      <td>spotify:track:6J0xeqjdpsUH0W1YBCmD1L</td>\n",
       "      <td>0.979802</td>\n",
       "    </tr>\n",
       "    <tr>\n",
       "      <th>5</th>\n",
       "      <td>spotify:track:0tkBOcK7oRVXQJY97zzSvr</td>\n",
       "      <td>0.979772</td>\n",
       "    </tr>\n",
       "    <tr>\n",
       "      <th>6</th>\n",
       "      <td>spotify:track:44XXnLW9z7YZXSHIUVj4cO</td>\n",
       "      <td>0.978736</td>\n",
       "    </tr>\n",
       "    <tr>\n",
       "      <th>7</th>\n",
       "      <td>spotify:track:4aXAuEMP6QP3f2vYjrrXle</td>\n",
       "      <td>0.977824</td>\n",
       "    </tr>\n",
       "    <tr>\n",
       "      <th>8</th>\n",
       "      <td>spotify:track:66QtMlymqBC5O1F3fh5wTZ</td>\n",
       "      <td>0.975659</td>\n",
       "    </tr>\n",
       "    <tr>\n",
       "      <th>9</th>\n",
       "      <td>spotify:track:6rjtB7KSIiJ6v9vrACMlqF</td>\n",
       "      <td>0.973101</td>\n",
       "    </tr>\n",
       "  </tbody>\n",
       "</table>\n",
       "</div>"
      ],
      "text/plain": [
       "                                item_id  similarity_score\n",
       "0  spotify:track:0tgVpDi06FyKpA1z0VMD4v          1.000000\n",
       "1  spotify:track:6h0hBlyQGZeR8mb6SpX2us          0.985965\n",
       "2  spotify:track:3DkaXDmC0qaFNAxgLMuwX4          0.981521\n",
       "3  spotify:track:5P3yUXUC9rZPJPNmYGKEAz          0.980976\n",
       "4  spotify:track:6J0xeqjdpsUH0W1YBCmD1L          0.979802\n",
       "5  spotify:track:0tkBOcK7oRVXQJY97zzSvr          0.979772\n",
       "6  spotify:track:44XXnLW9z7YZXSHIUVj4cO          0.978736\n",
       "7  spotify:track:4aXAuEMP6QP3f2vYjrrXle          0.977824\n",
       "8  spotify:track:66QtMlymqBC5O1F3fh5wTZ          0.975659\n",
       "9  spotify:track:6rjtB7KSIiJ6v9vrACMlqF          0.973101"
      ]
     },
     "execution_count": 51,
     "metadata": {},
     "output_type": "execute_result"
    }
   ],
   "source": [
    "similar_items = pd.DataFrame(sim.loc['spotify:track:0tgVpDi06FyKpA1z0VMD4v'])\n",
    "similar_items.columns = [\"similarity_score\"]\n",
    "similar_items = similar_items.sort_values('similarity_score', ascending=False)\n",
    "similar_items = similar_items.head(10)\n",
    "similar_items.reset_index(inplace=True)\n",
    "similar_items = similar_items.rename(index=str, columns={\"index\": \"item_id\"})\n",
    "similar_items"
   ]
  },
  {
   "cell_type": "code",
   "execution_count": 57,
   "metadata": {},
   "outputs": [
    {
     "data": {
      "text/html": [
       "<div>\n",
       "<style scoped>\n",
       "    .dataframe tbody tr th:only-of-type {\n",
       "        vertical-align: middle;\n",
       "    }\n",
       "\n",
       "    .dataframe tbody tr th {\n",
       "        vertical-align: top;\n",
       "    }\n",
       "\n",
       "    .dataframe thead th {\n",
       "        text-align: right;\n",
       "    }\n",
       "</style>\n",
       "<table border=\"1\" class=\"dataframe\">\n",
       "  <thead>\n",
       "    <tr style=\"text-align: right;\">\n",
       "      <th></th>\n",
       "      <th>acousticness</th>\n",
       "      <th>danceability</th>\n",
       "      <th>energy</th>\n",
       "      <th>instrumentalness</th>\n",
       "      <th>liveness</th>\n",
       "      <th>loudness</th>\n",
       "      <th>speechiness</th>\n",
       "      <th>tempo</th>\n",
       "      <th>valence</th>\n",
       "      <th>popularity</th>\n",
       "      <th>artist_name</th>\n",
       "      <th>track_name</th>\n",
       "      <th>pid</th>\n",
       "    </tr>\n",
       "  </thead>\n",
       "  <tbody>\n",
       "    <tr>\n",
       "      <th>spotify:track:0tkBOcK7oRVXQJY97zzSvr</th>\n",
       "      <td>0.2730</td>\n",
       "      <td>0.588</td>\n",
       "      <td>0.481</td>\n",
       "      <td>0.000013</td>\n",
       "      <td>0.0986</td>\n",
       "      <td>-4.801</td>\n",
       "      <td>0.0285</td>\n",
       "      <td>93.568</td>\n",
       "      <td>0.176</td>\n",
       "      <td>57</td>\n",
       "      <td>cage the elephant</td>\n",
       "      <td>Telescope</td>\n",
       "      <td>3044</td>\n",
       "    </tr>\n",
       "    <tr>\n",
       "      <th>spotify:track:0tgVpDi06FyKpA1z0VMD4v</th>\n",
       "      <td>0.1630</td>\n",
       "      <td>0.599</td>\n",
       "      <td>0.448</td>\n",
       "      <td>0.000000</td>\n",
       "      <td>0.1060</td>\n",
       "      <td>-6.312</td>\n",
       "      <td>0.0232</td>\n",
       "      <td>95.050</td>\n",
       "      <td>0.168</td>\n",
       "      <td>87</td>\n",
       "      <td>ed sheeran</td>\n",
       "      <td>Perfect</td>\n",
       "      <td>3263</td>\n",
       "    </tr>\n",
       "    <tr>\n",
       "      <th>spotify:track:4aXAuEMP6QP3f2vYjrrXle</th>\n",
       "      <td>0.2040</td>\n",
       "      <td>0.603</td>\n",
       "      <td>0.557</td>\n",
       "      <td>0.000564</td>\n",
       "      <td>0.0998</td>\n",
       "      <td>-6.863</td>\n",
       "      <td>0.0659</td>\n",
       "      <td>99.845</td>\n",
       "      <td>0.301</td>\n",
       "      <td>41</td>\n",
       "      <td>honne</td>\n",
       "      <td>It Ain't Wrong Loving You</td>\n",
       "      <td>1014</td>\n",
       "    </tr>\n",
       "    <tr>\n",
       "      <th>spotify:track:66QtMlymqBC5O1F3fh5wTZ</th>\n",
       "      <td>0.2040</td>\n",
       "      <td>0.581</td>\n",
       "      <td>0.487</td>\n",
       "      <td>0.000000</td>\n",
       "      <td>0.1260</td>\n",
       "      <td>-6.653</td>\n",
       "      <td>0.0354</td>\n",
       "      <td>112.925</td>\n",
       "      <td>0.327</td>\n",
       "      <td>48</td>\n",
       "      <td>k. michelle</td>\n",
       "      <td>Cry</td>\n",
       "      <td>3173</td>\n",
       "    </tr>\n",
       "    <tr>\n",
       "      <th>spotify:track:6rjtB7KSIiJ6v9vrACMlqF</th>\n",
       "      <td>0.0830</td>\n",
       "      <td>0.623</td>\n",
       "      <td>0.480</td>\n",
       "      <td>0.002000</td>\n",
       "      <td>0.1240</td>\n",
       "      <td>-8.372</td>\n",
       "      <td>0.0278</td>\n",
       "      <td>92.007</td>\n",
       "      <td>0.181</td>\n",
       "      <td>59</td>\n",
       "      <td>lorde</td>\n",
       "      <td>400 Lux</td>\n",
       "      <td>3061</td>\n",
       "    </tr>\n",
       "    <tr>\n",
       "      <th>spotify:track:6h0hBlyQGZeR8mb6SpX2us</th>\n",
       "      <td>0.1770</td>\n",
       "      <td>0.636</td>\n",
       "      <td>0.445</td>\n",
       "      <td>0.000004</td>\n",
       "      <td>0.0718</td>\n",
       "      <td>-7.377</td>\n",
       "      <td>0.0285</td>\n",
       "      <td>85.989</td>\n",
       "      <td>0.188</td>\n",
       "      <td>43</td>\n",
       "      <td>lucy rose</td>\n",
       "      <td>Nebraska - Radio Edit</td>\n",
       "      <td>3863</td>\n",
       "    </tr>\n",
       "    <tr>\n",
       "      <th>spotify:track:44XXnLW9z7YZXSHIUVj4cO</th>\n",
       "      <td>0.0748</td>\n",
       "      <td>0.652</td>\n",
       "      <td>0.377</td>\n",
       "      <td>0.000001</td>\n",
       "      <td>0.1090</td>\n",
       "      <td>-7.021</td>\n",
       "      <td>0.0236</td>\n",
       "      <td>103.004</td>\n",
       "      <td>0.168</td>\n",
       "      <td>40</td>\n",
       "      <td>meg myers</td>\n",
       "      <td>Monster</td>\n",
       "      <td>1563</td>\n",
       "    </tr>\n",
       "    <tr>\n",
       "      <th>spotify:track:3DkaXDmC0qaFNAxgLMuwX4</th>\n",
       "      <td>0.1900</td>\n",
       "      <td>0.564</td>\n",
       "      <td>0.555</td>\n",
       "      <td>0.000000</td>\n",
       "      <td>0.0870</td>\n",
       "      <td>-6.611</td>\n",
       "      <td>0.0345</td>\n",
       "      <td>101.884</td>\n",
       "      <td>0.196</td>\n",
       "      <td>49</td>\n",
       "      <td>musiq soulchild</td>\n",
       "      <td>Dontchange - Album Version (Edited)</td>\n",
       "      <td>2081</td>\n",
       "    </tr>\n",
       "    <tr>\n",
       "      <th>spotify:track:5P3yUXUC9rZPJPNmYGKEAz</th>\n",
       "      <td>0.1940</td>\n",
       "      <td>0.565</td>\n",
       "      <td>0.437</td>\n",
       "      <td>0.000007</td>\n",
       "      <td>0.0656</td>\n",
       "      <td>-7.680</td>\n",
       "      <td>0.0403</td>\n",
       "      <td>96.132</td>\n",
       "      <td>0.217</td>\n",
       "      <td>67</td>\n",
       "      <td>twenty one pilots</td>\n",
       "      <td>Goner</td>\n",
       "      <td>3038</td>\n",
       "    </tr>\n",
       "    <tr>\n",
       "      <th>spotify:track:6J0xeqjdpsUH0W1YBCmD1L</th>\n",
       "      <td>0.1600</td>\n",
       "      <td>0.557</td>\n",
       "      <td>0.532</td>\n",
       "      <td>0.000004</td>\n",
       "      <td>0.0999</td>\n",
       "      <td>-6.467</td>\n",
       "      <td>0.0307</td>\n",
       "      <td>103.992</td>\n",
       "      <td>0.122</td>\n",
       "      <td>60</td>\n",
       "      <td>you me at six</td>\n",
       "      <td>Take on the World</td>\n",
       "      <td>1214</td>\n",
       "    </tr>\n",
       "  </tbody>\n",
       "</table>\n",
       "</div>"
      ],
      "text/plain": [
       "                                      acousticness  danceability  energy  \\\n",
       "spotify:track:0tkBOcK7oRVXQJY97zzSvr        0.2730         0.588   0.481   \n",
       "spotify:track:0tgVpDi06FyKpA1z0VMD4v        0.1630         0.599   0.448   \n",
       "spotify:track:4aXAuEMP6QP3f2vYjrrXle        0.2040         0.603   0.557   \n",
       "spotify:track:66QtMlymqBC5O1F3fh5wTZ        0.2040         0.581   0.487   \n",
       "spotify:track:6rjtB7KSIiJ6v9vrACMlqF        0.0830         0.623   0.480   \n",
       "spotify:track:6h0hBlyQGZeR8mb6SpX2us        0.1770         0.636   0.445   \n",
       "spotify:track:44XXnLW9z7YZXSHIUVj4cO        0.0748         0.652   0.377   \n",
       "spotify:track:3DkaXDmC0qaFNAxgLMuwX4        0.1900         0.564   0.555   \n",
       "spotify:track:5P3yUXUC9rZPJPNmYGKEAz        0.1940         0.565   0.437   \n",
       "spotify:track:6J0xeqjdpsUH0W1YBCmD1L        0.1600         0.557   0.532   \n",
       "\n",
       "                                      instrumentalness  liveness  loudness  \\\n",
       "spotify:track:0tkBOcK7oRVXQJY97zzSvr          0.000013    0.0986    -4.801   \n",
       "spotify:track:0tgVpDi06FyKpA1z0VMD4v          0.000000    0.1060    -6.312   \n",
       "spotify:track:4aXAuEMP6QP3f2vYjrrXle          0.000564    0.0998    -6.863   \n",
       "spotify:track:66QtMlymqBC5O1F3fh5wTZ          0.000000    0.1260    -6.653   \n",
       "spotify:track:6rjtB7KSIiJ6v9vrACMlqF          0.002000    0.1240    -8.372   \n",
       "spotify:track:6h0hBlyQGZeR8mb6SpX2us          0.000004    0.0718    -7.377   \n",
       "spotify:track:44XXnLW9z7YZXSHIUVj4cO          0.000001    0.1090    -7.021   \n",
       "spotify:track:3DkaXDmC0qaFNAxgLMuwX4          0.000000    0.0870    -6.611   \n",
       "spotify:track:5P3yUXUC9rZPJPNmYGKEAz          0.000007    0.0656    -7.680   \n",
       "spotify:track:6J0xeqjdpsUH0W1YBCmD1L          0.000004    0.0999    -6.467   \n",
       "\n",
       "                                      speechiness    tempo  valence  \\\n",
       "spotify:track:0tkBOcK7oRVXQJY97zzSvr       0.0285   93.568    0.176   \n",
       "spotify:track:0tgVpDi06FyKpA1z0VMD4v       0.0232   95.050    0.168   \n",
       "spotify:track:4aXAuEMP6QP3f2vYjrrXle       0.0659   99.845    0.301   \n",
       "spotify:track:66QtMlymqBC5O1F3fh5wTZ       0.0354  112.925    0.327   \n",
       "spotify:track:6rjtB7KSIiJ6v9vrACMlqF       0.0278   92.007    0.181   \n",
       "spotify:track:6h0hBlyQGZeR8mb6SpX2us       0.0285   85.989    0.188   \n",
       "spotify:track:44XXnLW9z7YZXSHIUVj4cO       0.0236  103.004    0.168   \n",
       "spotify:track:3DkaXDmC0qaFNAxgLMuwX4       0.0345  101.884    0.196   \n",
       "spotify:track:5P3yUXUC9rZPJPNmYGKEAz       0.0403   96.132    0.217   \n",
       "spotify:track:6J0xeqjdpsUH0W1YBCmD1L       0.0307  103.992    0.122   \n",
       "\n",
       "                                      popularity        artist_name  \\\n",
       "spotify:track:0tkBOcK7oRVXQJY97zzSvr          57  cage the elephant   \n",
       "spotify:track:0tgVpDi06FyKpA1z0VMD4v          87         ed sheeran   \n",
       "spotify:track:4aXAuEMP6QP3f2vYjrrXle          41              honne   \n",
       "spotify:track:66QtMlymqBC5O1F3fh5wTZ          48        k. michelle   \n",
       "spotify:track:6rjtB7KSIiJ6v9vrACMlqF          59              lorde   \n",
       "spotify:track:6h0hBlyQGZeR8mb6SpX2us          43          lucy rose   \n",
       "spotify:track:44XXnLW9z7YZXSHIUVj4cO          40          meg myers   \n",
       "spotify:track:3DkaXDmC0qaFNAxgLMuwX4          49    musiq soulchild   \n",
       "spotify:track:5P3yUXUC9rZPJPNmYGKEAz          67  twenty one pilots   \n",
       "spotify:track:6J0xeqjdpsUH0W1YBCmD1L          60      you me at six   \n",
       "\n",
       "                                                               track_name  \\\n",
       "spotify:track:0tkBOcK7oRVXQJY97zzSvr                            Telescope   \n",
       "spotify:track:0tgVpDi06FyKpA1z0VMD4v                              Perfect   \n",
       "spotify:track:4aXAuEMP6QP3f2vYjrrXle            It Ain't Wrong Loving You   \n",
       "spotify:track:66QtMlymqBC5O1F3fh5wTZ                                  Cry   \n",
       "spotify:track:6rjtB7KSIiJ6v9vrACMlqF                              400 Lux   \n",
       "spotify:track:6h0hBlyQGZeR8mb6SpX2us                Nebraska - Radio Edit   \n",
       "spotify:track:44XXnLW9z7YZXSHIUVj4cO                              Monster   \n",
       "spotify:track:3DkaXDmC0qaFNAxgLMuwX4  Dontchange - Album Version (Edited)   \n",
       "spotify:track:5P3yUXUC9rZPJPNmYGKEAz                                Goner   \n",
       "spotify:track:6J0xeqjdpsUH0W1YBCmD1L                    Take on the World   \n",
       "\n",
       "                                       pid  \n",
       "spotify:track:0tkBOcK7oRVXQJY97zzSvr  3044  \n",
       "spotify:track:0tgVpDi06FyKpA1z0VMD4v  3263  \n",
       "spotify:track:4aXAuEMP6QP3f2vYjrrXle  1014  \n",
       "spotify:track:66QtMlymqBC5O1F3fh5wTZ  3173  \n",
       "spotify:track:6rjtB7KSIiJ6v9vrACMlqF  3061  \n",
       "spotify:track:6h0hBlyQGZeR8mb6SpX2us  3863  \n",
       "spotify:track:44XXnLW9z7YZXSHIUVj4cO  1563  \n",
       "spotify:track:3DkaXDmC0qaFNAxgLMuwX4  2081  \n",
       "spotify:track:5P3yUXUC9rZPJPNmYGKEAz  3038  \n",
       "spotify:track:6J0xeqjdpsUH0W1YBCmD1L  1214  "
      ]
     },
     "execution_count": 57,
     "metadata": {},
     "output_type": "execute_result"
    }
   ],
   "source": [
    "merged_popular[merged_popular.index.isin(similar_items['item_id'])]"
   ]
  },
  {
   "cell_type": "code",
   "execution_count": 69,
   "metadata": {},
   "outputs": [],
   "source": [
    "# query_index = np.random.choice(merged_popular.index)\n",
    "# distances, indices = model_knn.kneighbors(x.loc[query_index].values.reshape(-1,1), n_neighbors = 6)\n",
    "\n",
    "# for i in range(0, len(distances.flatten())):\n",
    "#     if i == 0:\n",
    "#         print ('Recommendations for {0}:\\n'.format(x.index[query_index]))\n",
    "#     else:\n",
    "#         print ('{0}: {1}, with distance of {2}:'.format(i, x.index[indices.flatten()[i]], distances.flatten()[i]))"
   ]
  },
  {
   "cell_type": "code",
   "execution_count": null,
   "metadata": {},
   "outputs": [],
   "source": []
  },
  {
   "cell_type": "code",
   "execution_count": 75,
   "metadata": {},
   "outputs": [],
   "source": [
    "def content_recommendations(spotify_id, cosine_sim = sim.values):\n",
    "    \n",
    "    recommended_songs = []\n",
    "    \n",
    "    # gettin the index of the movie that matches the title\n",
    "    idx = indices[indices == spotify_id].index[0]\n",
    "\n",
    "    # creating a Series with the similarity scores in descending order\n",
    "    score_series = pd.Series(cosine_sim[idx]).sort_values(ascending = False)\n",
    "\n",
    "    # getting the indexes of the 10 most similar movies\n",
    "    top_5_indexes = list(score_series.iloc[1:6].index)\n",
    "\n",
    "    # populating the list with the titles of the best 10 matching movies\n",
    "    for i in top_5_indexes:\n",
    "        recommended_songs.append(list(merged_popular.index)[i])\n",
    "    \n",
    "    return merged_popular[merged_popular.index.isin(recommended_songs)]"
   ]
  },
  {
   "cell_type": "code",
   "execution_count": 39,
   "metadata": {},
   "outputs": [
    {
     "data": {
      "text/html": [
       "<div>\n",
       "<style scoped>\n",
       "    .dataframe tbody tr th:only-of-type {\n",
       "        vertical-align: middle;\n",
       "    }\n",
       "\n",
       "    .dataframe tbody tr th {\n",
       "        vertical-align: top;\n",
       "    }\n",
       "\n",
       "    .dataframe thead th {\n",
       "        text-align: right;\n",
       "    }\n",
       "</style>\n",
       "<table border=\"1\" class=\"dataframe\">\n",
       "  <thead>\n",
       "    <tr style=\"text-align: right;\">\n",
       "      <th></th>\n",
       "      <th>acousticness</th>\n",
       "      <th>danceability</th>\n",
       "      <th>energy</th>\n",
       "      <th>instrumentalness</th>\n",
       "      <th>liveness</th>\n",
       "      <th>loudness</th>\n",
       "      <th>speechiness</th>\n",
       "      <th>tempo</th>\n",
       "      <th>valence</th>\n",
       "      <th>popularity</th>\n",
       "      <th>artist_name</th>\n",
       "      <th>track_name</th>\n",
       "      <th>pid</th>\n",
       "    </tr>\n",
       "  </thead>\n",
       "  <tbody>\n",
       "    <tr>\n",
       "      <th>spotify:track:3JkqOeVknfXOZAi5leUAlp</th>\n",
       "      <td>0.2730</td>\n",
       "      <td>0.698</td>\n",
       "      <td>0.577</td>\n",
       "      <td>0.00232</td>\n",
       "      <td>0.202</td>\n",
       "      <td>-7.877</td>\n",
       "      <td>0.0260</td>\n",
       "      <td>118.072</td>\n",
       "      <td>0.354</td>\n",
       "      <td>43</td>\n",
       "      <td>needtobreathe</td>\n",
       "      <td>More Heart, Less Attack</td>\n",
       "      <td>674</td>\n",
       "    </tr>\n",
       "    <tr>\n",
       "      <th>spotify:track:3ze5haYQIPLiNHq3Iahz98</th>\n",
       "      <td>0.0834</td>\n",
       "      <td>0.783</td>\n",
       "      <td>0.536</td>\n",
       "      <td>0.00000</td>\n",
       "      <td>0.134</td>\n",
       "      <td>-7.865</td>\n",
       "      <td>0.0720</td>\n",
       "      <td>118.970</td>\n",
       "      <td>0.179</td>\n",
       "      <td>52</td>\n",
       "      <td>olivia o'brien</td>\n",
       "      <td>Empty</td>\n",
       "      <td>3682</td>\n",
       "    </tr>\n",
       "    <tr>\n",
       "      <th>spotify:track:415EcxgjNwCzaqWuBwc2EU</th>\n",
       "      <td>0.1970</td>\n",
       "      <td>0.682</td>\n",
       "      <td>0.578</td>\n",
       "      <td>0.00000</td>\n",
       "      <td>0.117</td>\n",
       "      <td>-7.860</td>\n",
       "      <td>0.1080</td>\n",
       "      <td>119.934</td>\n",
       "      <td>0.287</td>\n",
       "      <td>40</td>\n",
       "      <td>august alsina</td>\n",
       "      <td>Mama</td>\n",
       "      <td>239</td>\n",
       "    </tr>\n",
       "    <tr>\n",
       "      <th>spotify:track:4lLtanYk6tkMvooU0tWzG8</th>\n",
       "      <td>0.1460</td>\n",
       "      <td>0.706</td>\n",
       "      <td>0.558</td>\n",
       "      <td>0.00000</td>\n",
       "      <td>0.118</td>\n",
       "      <td>-7.237</td>\n",
       "      <td>0.0593</td>\n",
       "      <td>110.443</td>\n",
       "      <td>0.227</td>\n",
       "      <td>73</td>\n",
       "      <td>bruno mars</td>\n",
       "      <td>Grenade</td>\n",
       "      <td>3093</td>\n",
       "    </tr>\n",
       "    <tr>\n",
       "      <th>spotify:track:7HjJQunSPwkXXVnGeItUEH</th>\n",
       "      <td>0.2440</td>\n",
       "      <td>0.697</td>\n",
       "      <td>0.447</td>\n",
       "      <td>0.00000</td>\n",
       "      <td>0.148</td>\n",
       "      <td>-7.498</td>\n",
       "      <td>0.0409</td>\n",
       "      <td>113.034</td>\n",
       "      <td>0.207</td>\n",
       "      <td>49</td>\n",
       "      <td>the isley brothers</td>\n",
       "      <td>Contagious</td>\n",
       "      <td>2828</td>\n",
       "    </tr>\n",
       "  </tbody>\n",
       "</table>\n",
       "</div>"
      ],
      "text/plain": [
       "                                      acousticness  danceability  energy  \\\n",
       "spotify:track:3JkqOeVknfXOZAi5leUAlp        0.2730         0.698   0.577   \n",
       "spotify:track:3ze5haYQIPLiNHq3Iahz98        0.0834         0.783   0.536   \n",
       "spotify:track:415EcxgjNwCzaqWuBwc2EU        0.1970         0.682   0.578   \n",
       "spotify:track:4lLtanYk6tkMvooU0tWzG8        0.1460         0.706   0.558   \n",
       "spotify:track:7HjJQunSPwkXXVnGeItUEH        0.2440         0.697   0.447   \n",
       "\n",
       "                                      instrumentalness  liveness  loudness  \\\n",
       "spotify:track:3JkqOeVknfXOZAi5leUAlp           0.00232     0.202    -7.877   \n",
       "spotify:track:3ze5haYQIPLiNHq3Iahz98           0.00000     0.134    -7.865   \n",
       "spotify:track:415EcxgjNwCzaqWuBwc2EU           0.00000     0.117    -7.860   \n",
       "spotify:track:4lLtanYk6tkMvooU0tWzG8           0.00000     0.118    -7.237   \n",
       "spotify:track:7HjJQunSPwkXXVnGeItUEH           0.00000     0.148    -7.498   \n",
       "\n",
       "                                      speechiness    tempo  valence  \\\n",
       "spotify:track:3JkqOeVknfXOZAi5leUAlp       0.0260  118.072    0.354   \n",
       "spotify:track:3ze5haYQIPLiNHq3Iahz98       0.0720  118.970    0.179   \n",
       "spotify:track:415EcxgjNwCzaqWuBwc2EU       0.1080  119.934    0.287   \n",
       "spotify:track:4lLtanYk6tkMvooU0tWzG8       0.0593  110.443    0.227   \n",
       "spotify:track:7HjJQunSPwkXXVnGeItUEH       0.0409  113.034    0.207   \n",
       "\n",
       "                                      popularity         artist_name  \\\n",
       "spotify:track:3JkqOeVknfXOZAi5leUAlp          43       needtobreathe   \n",
       "spotify:track:3ze5haYQIPLiNHq3Iahz98          52      olivia o'brien   \n",
       "spotify:track:415EcxgjNwCzaqWuBwc2EU          40       august alsina   \n",
       "spotify:track:4lLtanYk6tkMvooU0tWzG8          73          bruno mars   \n",
       "spotify:track:7HjJQunSPwkXXVnGeItUEH          49  the isley brothers   \n",
       "\n",
       "                                                   track_name   pid  \n",
       "spotify:track:3JkqOeVknfXOZAi5leUAlp  More Heart, Less Attack   674  \n",
       "spotify:track:3ze5haYQIPLiNHq3Iahz98                    Empty  3682  \n",
       "spotify:track:415EcxgjNwCzaqWuBwc2EU                     Mama   239  \n",
       "spotify:track:4lLtanYk6tkMvooU0tWzG8                  Grenade  3093  \n",
       "spotify:track:7HjJQunSPwkXXVnGeItUEH               Contagious  2828  "
      ]
     },
     "execution_count": 39,
     "metadata": {},
     "output_type": "execute_result"
    }
   ],
   "source": [
    "content_recommendations('spotify:track:0tgVpDi06FyKpA1z0VMD4v')"
   ]
  },
  {
   "cell_type": "markdown",
   "metadata": {},
   "source": [
    "## Content Based Recommendation System by song's genres"
   ]
  },
  {
   "cell_type": "code",
   "execution_count": 24,
   "metadata": {},
   "outputs": [
    {
     "name": "stdout",
     "output_type": "stream",
     "text": [
      "<class 'pandas.core.frame.DataFrame'>\n",
      "CategoricalIndex: 16412 entries, !!! to 태양\n",
      "Data columns (total 1 columns):\n",
      "genre    16412 non-null object\n",
      "dtypes: object(1)\n",
      "memory usage: 928.5+ KB\n"
     ]
    }
   ],
   "source": [
    "bag_of_genres.index = pd.CategoricalIndex(bag_of_genres.index)\n",
    "bag_of_genres.head()\n",
    "bag_of_genres.info()"
   ]
  },
  {
   "cell_type": "code",
   "execution_count": 9,
   "metadata": {},
   "outputs": [
    {
     "ename": "NameError",
     "evalue": "name 'merged_popular' is not defined",
     "output_type": "error",
     "traceback": [
      "\u001b[0;31m---------------------------------------------------------------------------\u001b[0m",
      "\u001b[0;31mNameError\u001b[0m                                 Traceback (most recent call last)",
      "\u001b[0;32m<ipython-input-9-9f7d908624e2>\u001b[0m in \u001b[0;36m<module>\u001b[0;34m()\u001b[0m\n\u001b[1;32m      1\u001b[0m \u001b[0;31m#bag_of_genres[bag_of_genres.index == 'a$ap roky']\u001b[0m\u001b[0;34m\u001b[0m\u001b[0;34m\u001b[0m\u001b[0m\n\u001b[1;32m      2\u001b[0m \u001b[0;31m#merged_popular[merged_popular.artist_name == '!!!']\u001b[0m\u001b[0;34m\u001b[0m\u001b[0;34m\u001b[0m\u001b[0m\n\u001b[0;32m----> 3\u001b[0;31m \u001b[0mmerged_popular\u001b[0m\u001b[0;34m[\u001b[0m\u001b[0mmerged_popular\u001b[0m\u001b[0;34m.\u001b[0m\u001b[0martist_name\u001b[0m \u001b[0;34m==\u001b[0m \u001b[0;34m'a$ap rocky'\u001b[0m\u001b[0;34m]\u001b[0m\u001b[0;34m.\u001b[0m\u001b[0mhead\u001b[0m\u001b[0;34m(\u001b[0m\u001b[0;34m)\u001b[0m\u001b[0;34m\u001b[0m\u001b[0m\n\u001b[0m",
      "\u001b[0;31mNameError\u001b[0m: name 'merged_popular' is not defined"
     ]
    }
   ],
   "source": [
    "#bag_of_genres[bag_of_genres.index == 'a$ap roky']\n",
    "#merged_popular[merged_popular.artist_name == '!!!']\n",
    "merged_popular[merged_popular.artist_name == 'a$ap rocky'].head()"
   ]
  },
  {
   "cell_type": "code",
   "execution_count": 82,
   "metadata": {},
   "outputs": [
    {
     "data": {
      "text/plain": [
       "array([[1.        , 0.18257419, 0.28867513, ..., 0.        , 0.40824829,\n",
       "        0.        ],\n",
       "       [0.18257419, 1.        , 0.        , ..., 0.25819889, 0.        ,\n",
       "        0.4472136 ],\n",
       "       [0.28867513, 0.        , 1.        , ..., 0.        , 0.70710678,\n",
       "        0.        ],\n",
       "       ...,\n",
       "       [0.        , 0.25819889, 0.        , ..., 1.        , 0.        ,\n",
       "        0.57735027],\n",
       "       [0.40824829, 0.        , 0.70710678, ..., 0.        , 1.        ,\n",
       "        0.        ],\n",
       "       [0.        , 0.4472136 , 0.        , ..., 0.57735027, 0.        ,\n",
       "        1.        ]])"
      ]
     },
     "execution_count": 82,
     "metadata": {},
     "output_type": "execute_result"
    }
   ],
   "source": [
    "count = CountVectorizer() # Initializing for counting genres.\n",
    "count_matrix = count.fit_transform(bag_of_genres['genre']) # Transform\n",
    "sim2 = cosine_similarity(count_matrix, count_matrix)\n",
    "sim2"
   ]
  },
  {
   "cell_type": "code",
   "execution_count": 83,
   "metadata": {},
   "outputs": [
    {
     "data": {
      "text/plain": [
       "0                    !!!\n",
       "1    \"Weird Al\" Yankovic\n",
       "2                #1 Dads\n",
       "3          $teven Cannon\n",
       "4            $uicideBoy$\n",
       "Name: artist_name, dtype: object"
      ]
     },
     "execution_count": 83,
     "metadata": {},
     "output_type": "execute_result"
    }
   ],
   "source": [
    "indices = pd.Series(bag_of_genres.index)\n",
    "indices[:5]"
   ]
  },
  {
   "cell_type": "code",
   "execution_count": 84,
   "metadata": {},
   "outputs": [
    {
     "data": {
      "text/plain": [
       "NearestNeighbors(algorithm='brute', leaf_size=30, metric='cosine',\n",
       "         metric_params=None, n_jobs=1, n_neighbors=5, p=2, radius=1.0)"
      ]
     },
     "execution_count": 84,
     "metadata": {},
     "output_type": "execute_result"
    }
   ],
   "source": [
    "from sklearn.neighbors import NearestNeighbors\n",
    "\n",
    "model_knn = NearestNeighbors(metric = 'cosine', algorithm = 'brute')\n",
    "model_knn.fit(sim2)"
   ]
  },
  {
   "cell_type": "code",
   "execution_count": 87,
   "metadata": {},
   "outputs": [
    {
     "data": {
      "text/plain": [
       "array([[1.        , 0.18257419, 0.28867513, ..., 0.        , 0.40824829,\n",
       "        0.        ],\n",
       "       [0.18257419, 1.        , 0.        , ..., 0.25819889, 0.        ,\n",
       "        0.4472136 ],\n",
       "       [0.28867513, 0.        , 1.        , ..., 0.        , 0.70710678,\n",
       "        0.        ],\n",
       "       ...,\n",
       "       [0.        , 0.25819889, 0.        , ..., 1.        , 0.        ,\n",
       "        0.57735027],\n",
       "       [0.40824829, 0.        , 0.70710678, ..., 0.        , 1.        ,\n",
       "        0.        ],\n",
       "       [0.        , 0.4472136 , 0.        , ..., 0.57735027, 0.        ,\n",
       "        1.        ]])"
      ]
     },
     "execution_count": 87,
     "metadata": {},
     "output_type": "execute_result"
    }
   ],
   "source": [
    "sim2"
   ]
  },
  {
   "cell_type": "code",
   "execution_count": 222,
   "metadata": {},
   "outputs": [],
   "source": [
    "def content_recommendations_genre(artist_name, cosine_sim = sim2):\n",
    "    \n",
    "    recommended_songs = []\n",
    "    \n",
    "    # Find the index of the artist that matches\n",
    "    idx = indices[indices == artist_name].index[0]\n",
    "\n",
    "    # creating a Series with the similarity scores in descending order\n",
    "    score_series = pd.Series(cosine_sim[idx]).sort_values(ascending = False)\n",
    "\n",
    "    # getting the indexes of the 10 most similar movies\n",
    "    top_10_indexes = list(score_series.iloc[1:11].index)\n",
    "    \n",
    "    # populating the list with the titles of the best 10 matching movies\n",
    "    for i in top_10_indexes:\n",
    "        recommended_songs.append(list(bag_of_genres.index)[i])\n",
    "    \n",
    "    top_10_songs = bag_of_genres[bag_of_genres.index.isin(recommended_songs)]\n",
    "    top_10_songs['scores'] = list(score_series.iloc[1:11,])\n",
    "    return top_10_songs"
   ]
  },
  {
   "cell_type": "code",
   "execution_count": 224,
   "metadata": {},
   "outputs": [
    {
     "name": "stderr",
     "output_type": "stream",
     "text": [
      "/Users/krisseo/anaconda3/lib/python3.6/site-packages/ipykernel_launcher.py:19: SettingWithCopyWarning: \n",
      "A value is trying to be set on a copy of a slice from a DataFrame.\n",
      "Try using .loc[row_indexer,col_indexer] = value instead\n",
      "\n",
      "See the caveats in the documentation: http://pandas.pydata.org/pandas-docs/stable/indexing.html#indexing-view-versus-copy\n"
     ]
    },
    {
     "data": {
      "text/html": [
       "<div>\n",
       "<style scoped>\n",
       "    .dataframe tbody tr th:only-of-type {\n",
       "        vertical-align: middle;\n",
       "    }\n",
       "\n",
       "    .dataframe tbody tr th {\n",
       "        vertical-align: top;\n",
       "    }\n",
       "\n",
       "    .dataframe thead th {\n",
       "        text-align: right;\n",
       "    }\n",
       "</style>\n",
       "<table border=\"1\" class=\"dataframe\">\n",
       "  <thead>\n",
       "    <tr style=\"text-align: right;\">\n",
       "      <th></th>\n",
       "      <th>genre</th>\n",
       "      <th>scores</th>\n",
       "    </tr>\n",
       "    <tr>\n",
       "      <th>artist_name</th>\n",
       "      <th></th>\n",
       "      <th></th>\n",
       "    </tr>\n",
       "  </thead>\n",
       "  <tbody>\n",
       "    <tr>\n",
       "      <th>Beyoncé</th>\n",
       "      <td>dance pop pop r&amp;b</td>\n",
       "      <td>0.878310</td>\n",
       "    </tr>\n",
       "    <tr>\n",
       "      <th>G.NA</th>\n",
       "      <td>dance pop k-pop</td>\n",
       "      <td>0.878310</td>\n",
       "    </tr>\n",
       "    <tr>\n",
       "      <th>H.E.R.</th>\n",
       "      <td>pop r&amp;b</td>\n",
       "      <td>0.878310</td>\n",
       "    </tr>\n",
       "    <tr>\n",
       "      <th>HYOYEON</th>\n",
       "      <td>k-pop</td>\n",
       "      <td>0.878310</td>\n",
       "    </tr>\n",
       "    <tr>\n",
       "      <th>Justin Timberlake</th>\n",
       "      <td>dance pop pop r&amp;b</td>\n",
       "      <td>0.878310</td>\n",
       "    </tr>\n",
       "    <tr>\n",
       "      <th>Lady Gaga</th>\n",
       "      <td>dance pop pop</td>\n",
       "      <td>0.878310</td>\n",
       "    </tr>\n",
       "    <tr>\n",
       "      <th>Lana Del Rey</th>\n",
       "      <td>dance pop pop</td>\n",
       "      <td>0.878310</td>\n",
       "    </tr>\n",
       "    <tr>\n",
       "      <th>Mark Ronson</th>\n",
       "      <td>dance pop pop</td>\n",
       "      <td>0.872872</td>\n",
       "    </tr>\n",
       "    <tr>\n",
       "      <th>ONEW</th>\n",
       "      <td>k-pop</td>\n",
       "      <td>0.872872</td>\n",
       "    </tr>\n",
       "    <tr>\n",
       "      <th>Whitney Houston</th>\n",
       "      <td>dance pop pop r&amp;b</td>\n",
       "      <td>0.872872</td>\n",
       "    </tr>\n",
       "  </tbody>\n",
       "</table>\n",
       "</div>"
      ],
      "text/plain": [
       "                               genre    scores\n",
       "artist_name                                   \n",
       "Beyoncé            dance pop pop r&b  0.878310\n",
       "G.NA                 dance pop k-pop  0.878310\n",
       "H.E.R.                       pop r&b  0.878310\n",
       "HYOYEON                        k-pop  0.878310\n",
       "Justin Timberlake  dance pop pop r&b  0.878310\n",
       "Lady Gaga              dance pop pop  0.878310\n",
       "Lana Del Rey           dance pop pop  0.878310\n",
       "Mark Ronson            dance pop pop  0.872872\n",
       "ONEW                           k-pop  0.872872\n",
       "Whitney Houston    dance pop pop r&b  0.872872"
      ]
     },
     "execution_count": 224,
     "metadata": {},
     "output_type": "execute_result"
    }
   ],
   "source": [
    "content_recommendations_genre('Lorde')"
   ]
  },
  {
   "cell_type": "markdown",
   "metadata": {},
   "source": [
    "### PCA"
   ]
  },
  {
   "cell_type": "code",
   "execution_count": 141,
   "metadata": {},
   "outputs": [],
   "source": [
    "features = ['acousticness', 'danceability', 'energy', 'instrumentalness', \n",
    "            'liveness', 'loudness','speechiness','tempo','valence']\n",
    "# Separating out the features\n",
    "x = merged.loc[:, features].values\n",
    "# Separating out the target\n",
    "y = merged.loc[:,'popularity'].values\n",
    "# Standardizing the features\n",
    "x = StandardScaler().fit_transform(x)"
   ]
  },
  {
   "cell_type": "code",
   "execution_count": 136,
   "metadata": {},
   "outputs": [
    {
     "data": {
      "text/html": [
       "<div>\n",
       "<style scoped>\n",
       "    .dataframe tbody tr th:only-of-type {\n",
       "        vertical-align: middle;\n",
       "    }\n",
       "\n",
       "    .dataframe tbody tr th {\n",
       "        vertical-align: top;\n",
       "    }\n",
       "\n",
       "    .dataframe thead th {\n",
       "        text-align: right;\n",
       "    }\n",
       "</style>\n",
       "<table border=\"1\" class=\"dataframe\">\n",
       "  <thead>\n",
       "    <tr style=\"text-align: right;\">\n",
       "      <th></th>\n",
       "      <th>acousticness</th>\n",
       "      <th>danceability</th>\n",
       "      <th>energy</th>\n",
       "      <th>instrumentalness</th>\n",
       "      <th>liveness</th>\n",
       "      <th>loudness</th>\n",
       "      <th>speechiness</th>\n",
       "      <th>tempo</th>\n",
       "      <th>valence</th>\n",
       "    </tr>\n",
       "  </thead>\n",
       "  <tbody>\n",
       "    <tr>\n",
       "      <th>0</th>\n",
       "      <td>-0.879891</td>\n",
       "      <td>0.746719</td>\n",
       "      <td>0.938690</td>\n",
       "      <td>-0.410082</td>\n",
       "      <td>0.701704</td>\n",
       "      <td>0.494576</td>\n",
       "      <td>-0.477031</td>\n",
       "      <td>-0.154266</td>\n",
       "      <td>1.563512</td>\n",
       "    </tr>\n",
       "    <tr>\n",
       "      <th>1</th>\n",
       "      <td>-0.880637</td>\n",
       "      <td>0.800309</td>\n",
       "      <td>1.119006</td>\n",
       "      <td>0.364596</td>\n",
       "      <td>2.549062</td>\n",
       "      <td>0.422003</td>\n",
       "      <td>-0.104525</td>\n",
       "      <td>-0.026184</td>\n",
       "      <td>0.600126</td>\n",
       "    </tr>\n",
       "    <tr>\n",
       "      <th>2</th>\n",
       "      <td>-0.685021</td>\n",
       "      <td>1.675612</td>\n",
       "      <td>0.363395</td>\n",
       "      <td>0.550417</td>\n",
       "      <td>0.089767</td>\n",
       "      <td>-0.200223</td>\n",
       "      <td>0.108619</td>\n",
       "      <td>-0.051719</td>\n",
       "      <td>0.412246</td>\n",
       "    </tr>\n",
       "    <tr>\n",
       "      <th>3</th>\n",
       "      <td>-0.770043</td>\n",
       "      <td>0.699083</td>\n",
       "      <td>0.711148</td>\n",
       "      <td>-0.315429</td>\n",
       "      <td>-0.813130</td>\n",
       "      <td>0.433401</td>\n",
       "      <td>-0.160301</td>\n",
       "      <td>0.155735</td>\n",
       "      <td>-0.091432</td>\n",
       "    </tr>\n",
       "    <tr>\n",
       "      <th>4</th>\n",
       "      <td>-0.589614</td>\n",
       "      <td>1.360027</td>\n",
       "      <td>-0.937458</td>\n",
       "      <td>2.432348</td>\n",
       "      <td>-0.739813</td>\n",
       "      <td>-0.636131</td>\n",
       "      <td>4.256974</td>\n",
       "      <td>1.373792</td>\n",
       "      <td>0.192387</td>\n",
       "    </tr>\n",
       "  </tbody>\n",
       "</table>\n",
       "</div>"
      ],
      "text/plain": [
       "   acousticness  danceability    energy  instrumentalness  liveness  loudness  \\\n",
       "0     -0.879891      0.746719  0.938690         -0.410082  0.701704  0.494576   \n",
       "1     -0.880637      0.800309  1.119006          0.364596  2.549062  0.422003   \n",
       "2     -0.685021      1.675612  0.363395          0.550417  0.089767 -0.200223   \n",
       "3     -0.770043      0.699083  0.711148         -0.315429 -0.813130  0.433401   \n",
       "4     -0.589614      1.360027 -0.937458          2.432348 -0.739813 -0.636131   \n",
       "\n",
       "   speechiness     tempo   valence  \n",
       "0    -0.477031 -0.154266  1.563512  \n",
       "1    -0.104525 -0.026184  0.600126  \n",
       "2     0.108619 -0.051719  0.412246  \n",
       "3    -0.160301  0.155735 -0.091432  \n",
       "4     4.256974  1.373792  0.192387  "
      ]
     },
     "execution_count": 136,
     "metadata": {},
     "output_type": "execute_result"
    }
   ],
   "source": [
    "standard_pd = pd.DataFrame(data=x, columns=features).head()\n",
    "standard_pd.head()"
   ]
  },
  {
   "cell_type": "code",
   "execution_count": 147,
   "metadata": {},
   "outputs": [],
   "source": [
    "pca = PCA(n_components=2)\n",
    "principalComponents = pca.fit_transform(x)\n",
    "principalDf = pd.DataFrame(data = principalComponents\n",
    "             , columns = ['principal component 1', 'principal component 2'])\n",
    "model = KNeighborsClassifier(4)\n",
    "\n",
    "model.fit(principalComponents, y)\n",
    "predict = model.predict(principalComponents)\n"
   ]
  },
  {
   "cell_type": "code",
   "execution_count": 213,
   "metadata": {},
   "outputs": [],
   "source": [
    "#plot 3D\n",
    "# fig = plt.figure(figsize=(20,20))\n",
    "# ax = fig.add_subplot(111, projection='3d')\n",
    "# ax.scatter(merged_songs['acousticness'], merged_songs['danceability'], merged_songs['popularity'], c='skyblue', s=60)\n",
    "# ax.view_init(0, 60)\n",
    "# plt.show()\n",
    " "
   ]
  },
  {
   "cell_type": "markdown",
   "metadata": {},
   "source": [
    "### Users Data In United States"
   ]
  },
  {
   "cell_type": "code",
   "execution_count": 10,
   "metadata": {},
   "outputs": [],
   "source": [
    "artname = artname.set_index('users')\n",
    "profile = profile.set_index('users')"
   ]
  },
  {
   "cell_type": "code",
   "execution_count": 11,
   "metadata": {},
   "outputs": [
    {
     "data": {
      "text/html": [
       "<div>\n",
       "<style scoped>\n",
       "    .dataframe tbody tr th:only-of-type {\n",
       "        vertical-align: middle;\n",
       "    }\n",
       "\n",
       "    .dataframe tbody tr th {\n",
       "        vertical-align: top;\n",
       "    }\n",
       "\n",
       "    .dataframe thead th {\n",
       "        text-align: right;\n",
       "    }\n",
       "</style>\n",
       "<table border=\"1\" class=\"dataframe\">\n",
       "  <thead>\n",
       "    <tr style=\"text-align: right;\">\n",
       "      <th></th>\n",
       "      <th>users</th>\n",
       "      <th>artist_name</th>\n",
       "      <th>plays</th>\n",
       "      <th>country</th>\n",
       "    </tr>\n",
       "  </thead>\n",
       "  <tbody>\n",
       "    <tr>\n",
       "      <th>195</th>\n",
       "      <td>00007a47085b9aab8af55f52ec8846ac479ac4fe</td>\n",
       "      <td>devendra banhart</td>\n",
       "      <td>456</td>\n",
       "      <td>United States</td>\n",
       "    </tr>\n",
       "    <tr>\n",
       "      <th>196</th>\n",
       "      <td>00007a47085b9aab8af55f52ec8846ac479ac4fe</td>\n",
       "      <td>boards of canada</td>\n",
       "      <td>407</td>\n",
       "      <td>United States</td>\n",
       "    </tr>\n",
       "    <tr>\n",
       "      <th>197</th>\n",
       "      <td>00007a47085b9aab8af55f52ec8846ac479ac4fe</td>\n",
       "      <td>cocorosie</td>\n",
       "      <td>386</td>\n",
       "      <td>United States</td>\n",
       "    </tr>\n",
       "    <tr>\n",
       "      <th>198</th>\n",
       "      <td>00007a47085b9aab8af55f52ec8846ac479ac4fe</td>\n",
       "      <td>aphex twin</td>\n",
       "      <td>213</td>\n",
       "      <td>United States</td>\n",
       "    </tr>\n",
       "    <tr>\n",
       "      <th>199</th>\n",
       "      <td>00007a47085b9aab8af55f52ec8846ac479ac4fe</td>\n",
       "      <td>animal collective</td>\n",
       "      <td>203</td>\n",
       "      <td>United States</td>\n",
       "    </tr>\n",
       "  </tbody>\n",
       "</table>\n",
       "</div>"
      ],
      "text/plain": [
       "                                        users        artist_name  plays  \\\n",
       "195  00007a47085b9aab8af55f52ec8846ac479ac4fe   devendra banhart    456   \n",
       "196  00007a47085b9aab8af55f52ec8846ac479ac4fe   boards of canada    407   \n",
       "197  00007a47085b9aab8af55f52ec8846ac479ac4fe          cocorosie    386   \n",
       "198  00007a47085b9aab8af55f52ec8846ac479ac4fe         aphex twin    213   \n",
       "199  00007a47085b9aab8af55f52ec8846ac479ac4fe  animal collective    203   \n",
       "\n",
       "           country  \n",
       "195  United States  \n",
       "196  United States  \n",
       "197  United States  \n",
       "198  United States  \n",
       "199  United States  "
      ]
     },
     "execution_count": 11,
     "metadata": {},
     "output_type": "execute_result"
    }
   ],
   "source": [
    "profile_merged = pd.merge(artname,profile, left_index=True, right_index=True)\n",
    "profile_merged = profile_merged.reset_index()\n",
    "# Only US profiles.\n",
    "us_profile = profile_merged[profile_merged.country == \"United States\"]\n",
    "us_profile.head()"
   ]
  },
  {
   "cell_type": "code",
   "execution_count": 18,
   "metadata": {},
   "outputs": [
    {
     "name": "stdout",
     "output_type": "stream",
     "text": [
      "['artist_name']\n"
     ]
    }
   ],
   "source": [
    "# Shows there is no more duplicated rows in the data frame.\n",
    "has_nan = us_profile.isnull().any(axis=0)\n",
    "has_nan = [us_profile.columns[i] for i in np.where(has_nan)[0]]\n",
    "print(has_nan) "
   ]
  },
  {
   "cell_type": "code",
   "execution_count": 19,
   "metadata": {},
   "outputs": [
    {
     "data": {
      "text/html": [
       "<div>\n",
       "<style scoped>\n",
       "    .dataframe tbody tr th:only-of-type {\n",
       "        vertical-align: middle;\n",
       "    }\n",
       "\n",
       "    .dataframe tbody tr th {\n",
       "        vertical-align: top;\n",
       "    }\n",
       "\n",
       "    .dataframe thead th {\n",
       "        text-align: right;\n",
       "    }\n",
       "</style>\n",
       "<table border=\"1\" class=\"dataframe\">\n",
       "  <thead>\n",
       "    <tr style=\"text-align: right;\">\n",
       "      <th></th>\n",
       "      <th>artist_name</th>\n",
       "      <th>total plays</th>\n",
       "    </tr>\n",
       "  </thead>\n",
       "  <tbody>\n",
       "    <tr>\n",
       "      <th>0</th>\n",
       "      <td>04)]</td>\n",
       "      <td>6</td>\n",
       "    </tr>\n",
       "    <tr>\n",
       "      <th>1</th>\n",
       "      <td>mohamed lamine</td>\n",
       "      <td>113</td>\n",
       "    </tr>\n",
       "    <tr>\n",
       "      <th>2</th>\n",
       "      <td>the ranting gryphon</td>\n",
       "      <td>4</td>\n",
       "    </tr>\n",
       "    <tr>\n",
       "      <th>3</th>\n",
       "      <td>!!!</td>\n",
       "      <td>118625</td>\n",
       "    </tr>\n",
       "    <tr>\n",
       "      <th>4</th>\n",
       "      <td>!action pact!</td>\n",
       "      <td>673</td>\n",
       "    </tr>\n",
       "  </tbody>\n",
       "</table>\n",
       "</div>"
      ],
      "text/plain": [
       "            artist_name  total plays\n",
       "0                  04)]            6\n",
       "1        mohamed lamine          113\n",
       "2   the ranting gryphon            4\n",
       "3                   !!!       118625\n",
       "4         !action pact!          673"
      ]
     },
     "execution_count": 19,
     "metadata": {},
     "output_type": "execute_result"
    }
   ],
   "source": [
    "artists_plays = us_profile.groupby(['artist_name'])['plays'].sum().reset_index()\n",
    "artists_plays.columns = ['artist_name','total plays']\n",
    "artists_plays.head()"
   ]
  },
  {
   "cell_type": "code",
   "execution_count": 20,
   "metadata": {},
   "outputs": [],
   "source": [
    "users_with_total = us_profile.merge(artists_plays, on='artist_name', how ='left')\n",
    "users_with_total = users_with_total.drop(columns='country')\n"
   ]
  },
  {
   "cell_type": "code",
   "execution_count": 24,
   "metadata": {},
   "outputs": [
    {
     "data": {
      "text/plain": [
       "count    1.141230e+05\n",
       "mean     7.470071e+03\n",
       "std      7.938058e+04\n",
       "min      1.000000e+00\n",
       "25%      6.000000e+01\n",
       "50%      2.210000e+02\n",
       "75%      9.670000e+02\n",
       "max      1.070520e+07\n",
       "Name: total plays, dtype: float64"
      ]
     },
     "execution_count": 24,
     "metadata": {},
     "output_type": "execute_result"
    }
   ],
   "source": [
    "artists_plays['total plays'].describe()"
   ]
  },
  {
   "cell_type": "markdown",
   "metadata": {},
   "source": [
    "Minimum of total plays is one, which can be interpreted as there are not well known unique artists.\n",
    "Need to clean the data. \n",
    "Difference of min and max is too big for total plays and median of total plays is 221; therefore, I have to set up a reasonable threshold to prevent nosiy data."
   ]
  },
  {
   "cell_type": "code",
   "execution_count": 25,
   "metadata": {},
   "outputs": [],
   "source": [
    "artists_plays['total plays'].quantile(np.arange(.9,1,.01))\n",
    "# Set the threshold to keep about top 3% of the data.\n",
    "threshold = artists_plays['total plays'].quantile(.97)\n"
   ]
  },
  {
   "cell_type": "code",
   "execution_count": 26,
   "metadata": {},
   "outputs": [
    {
     "data": {
      "text/html": [
       "<div>\n",
       "<style scoped>\n",
       "    .dataframe tbody tr th:only-of-type {\n",
       "        vertical-align: middle;\n",
       "    }\n",
       "\n",
       "    .dataframe tbody tr th {\n",
       "        vertical-align: top;\n",
       "    }\n",
       "\n",
       "    .dataframe thead th {\n",
       "        text-align: right;\n",
       "    }\n",
       "</style>\n",
       "<table border=\"1\" class=\"dataframe\">\n",
       "  <thead>\n",
       "    <tr style=\"text-align: right;\">\n",
       "      <th></th>\n",
       "      <th>users</th>\n",
       "      <th>artist_name</th>\n",
       "      <th>plays</th>\n",
       "      <th>total plays</th>\n",
       "    </tr>\n",
       "  </thead>\n",
       "  <tbody>\n",
       "    <tr>\n",
       "      <th>0</th>\n",
       "      <td>00007a47085b9aab8af55f52ec8846ac479ac4fe</td>\n",
       "      <td>devendra banhart</td>\n",
       "      <td>456</td>\n",
       "      <td>868311.0</td>\n",
       "    </tr>\n",
       "    <tr>\n",
       "      <th>1</th>\n",
       "      <td>00007a47085b9aab8af55f52ec8846ac479ac4fe</td>\n",
       "      <td>boards of canada</td>\n",
       "      <td>407</td>\n",
       "      <td>1750033.0</td>\n",
       "    </tr>\n",
       "    <tr>\n",
       "      <th>2</th>\n",
       "      <td>00007a47085b9aab8af55f52ec8846ac479ac4fe</td>\n",
       "      <td>cocorosie</td>\n",
       "      <td>386</td>\n",
       "      <td>382582.0</td>\n",
       "    </tr>\n",
       "    <tr>\n",
       "      <th>3</th>\n",
       "      <td>00007a47085b9aab8af55f52ec8846ac479ac4fe</td>\n",
       "      <td>aphex twin</td>\n",
       "      <td>213</td>\n",
       "      <td>1093663.0</td>\n",
       "    </tr>\n",
       "    <tr>\n",
       "      <th>4</th>\n",
       "      <td>00007a47085b9aab8af55f52ec8846ac479ac4fe</td>\n",
       "      <td>animal collective</td>\n",
       "      <td>203</td>\n",
       "      <td>1808594.0</td>\n",
       "    </tr>\n",
       "  </tbody>\n",
       "</table>\n",
       "</div>"
      ],
      "text/plain": [
       "                                      users        artist_name  plays  \\\n",
       "0  00007a47085b9aab8af55f52ec8846ac479ac4fe   devendra banhart    456   \n",
       "1  00007a47085b9aab8af55f52ec8846ac479ac4fe   boards of canada    407   \n",
       "2  00007a47085b9aab8af55f52ec8846ac479ac4fe          cocorosie    386   \n",
       "3  00007a47085b9aab8af55f52ec8846ac479ac4fe         aphex twin    213   \n",
       "4  00007a47085b9aab8af55f52ec8846ac479ac4fe  animal collective    203   \n",
       "\n",
       "   total plays  \n",
       "0     868311.0  \n",
       "1    1750033.0  \n",
       "2     382582.0  \n",
       "3    1093663.0  \n",
       "4    1808594.0  "
      ]
     },
     "execution_count": 26,
     "metadata": {},
     "output_type": "execute_result"
    }
   ],
   "source": [
    "top3 = users_with_total[users_with_total['total plays'] >= threshold]\n",
    "top3 = top3.drop_duplicates(['users','artist_name'])\n",
    "top3.head()"
   ]
  },
  {
   "cell_type": "code",
   "execution_count": 27,
   "metadata": {},
   "outputs": [
    {
     "data": {
      "text/html": [
       "<div>\n",
       "<style scoped>\n",
       "    .dataframe tbody tr th:only-of-type {\n",
       "        vertical-align: middle;\n",
       "    }\n",
       "\n",
       "    .dataframe tbody tr th {\n",
       "        vertical-align: top;\n",
       "    }\n",
       "\n",
       "    .dataframe thead th {\n",
       "        text-align: right;\n",
       "    }\n",
       "</style>\n",
       "<table border=\"1\" class=\"dataframe\">\n",
       "  <thead>\n",
       "    <tr style=\"text-align: right;\">\n",
       "      <th></th>\n",
       "      <th>plays</th>\n",
       "      <th>total plays</th>\n",
       "    </tr>\n",
       "  </thead>\n",
       "  <tbody>\n",
       "    <tr>\n",
       "      <th>count</th>\n",
       "      <td>2.478240e+06</td>\n",
       "      <td>2.478240e+06</td>\n",
       "    </tr>\n",
       "    <tr>\n",
       "      <th>mean</th>\n",
       "      <td>2.822212e+02</td>\n",
       "      <td>8.485949e+05</td>\n",
       "    </tr>\n",
       "    <tr>\n",
       "      <th>std</th>\n",
       "      <td>7.866463e+02</td>\n",
       "      <td>1.398823e+06</td>\n",
       "    </tr>\n",
       "    <tr>\n",
       "      <th>min</th>\n",
       "      <td>1.000000e+00</td>\n",
       "      <td>3.248400e+04</td>\n",
       "    </tr>\n",
       "    <tr>\n",
       "      <th>25%</th>\n",
       "      <td>5.600000e+01</td>\n",
       "      <td>1.339700e+05</td>\n",
       "    </tr>\n",
       "    <tr>\n",
       "      <th>50%</th>\n",
       "      <td>1.330000e+02</td>\n",
       "      <td>3.721970e+05</td>\n",
       "    </tr>\n",
       "    <tr>\n",
       "      <th>75%</th>\n",
       "      <td>2.920000e+02</td>\n",
       "      <td>1.046437e+06</td>\n",
       "    </tr>\n",
       "    <tr>\n",
       "      <th>max</th>\n",
       "      <td>2.883750e+05</td>\n",
       "      <td>1.070520e+07</td>\n",
       "    </tr>\n",
       "  </tbody>\n",
       "</table>\n",
       "</div>"
      ],
      "text/plain": [
       "              plays   total plays\n",
       "count  2.478240e+06  2.478240e+06\n",
       "mean   2.822212e+02  8.485949e+05\n",
       "std    7.866463e+02  1.398823e+06\n",
       "min    1.000000e+00  3.248400e+04\n",
       "25%    5.600000e+01  1.339700e+05\n",
       "50%    1.330000e+02  3.721970e+05\n",
       "75%    2.920000e+02  1.046437e+06\n",
       "max    2.883750e+05  1.070520e+07"
      ]
     },
     "execution_count": 27,
     "metadata": {},
     "output_type": "execute_result"
    }
   ],
   "source": [
    "top3.describe()"
   ]
  },
  {
   "cell_type": "code",
   "execution_count": 52,
   "metadata": {},
   "outputs": [
    {
     "name": "stdout",
     "output_type": "stream",
     "text": [
      "<class 'pandas.core.frame.DataFrame'>\n",
      "Index: 3424 entries, !!! to 이효리\n",
      "Columns: 66836 entries, 00007a47085b9aab8af55f52ec8846ac479ac4fe to fffe8c7f952d9b960a56ed4dcb40a415d924b224\n",
      "dtypes: float64(66836)\n",
      "memory usage: 1.7+ GB\n"
     ]
    }
   ],
   "source": [
    "# Now Pivot the table to transform the data. m items and n users\n",
    "pivoted = top3.pivot_table(index='artist_name', columns='users', values='plays').fillna(0)\n",
    "pivoted.info()"
   ]
  },
  {
   "cell_type": "code",
   "execution_count": null,
   "metadata": {},
   "outputs": [],
   "source": []
  },
  {
   "cell_type": "markdown",
   "metadata": {},
   "source": [
    "# Collaborative Based Filtering Users/Artists\n",
    "# Information Retrieval"
   ]
  },
  {
   "cell_type": "markdown",
   "metadata": {},
   "source": [
    "Calculating similarity matrix based on different methods."
   ]
  },
  {
   "cell_type": "code",
   "execution_count": 55,
   "metadata": {},
   "outputs": [],
   "source": [
    "sparse = csr_matrix(pivoted.values)"
   ]
  },
  {
   "cell_type": "code",
   "execution_count": 56,
   "metadata": {},
   "outputs": [
    {
     "data": {
      "text/plain": [
       "<3424x66836 sparse matrix of type '<class 'numpy.float64'>'\n",
       "\twith 2478240 stored elements in Compressed Sparse Row format>"
      ]
     },
     "execution_count": 56,
     "metadata": {},
     "output_type": "execute_result"
    }
   ],
   "source": [
    "sparse"
   ]
  },
  {
   "cell_type": "code",
   "execution_count": 57,
   "metadata": {},
   "outputs": [
    {
     "data": {
      "text/plain": [
       "NearestNeighbors(algorithm='brute', leaf_size=30, metric='cosine',\n",
       "         metric_params=None, n_jobs=1, n_neighbors=5, p=2, radius=1.0)"
      ]
     },
     "execution_count": 57,
     "metadata": {},
     "output_type": "execute_result"
    }
   ],
   "source": [
    "model_knn = NearestNeighbors(metric='cosine',algorithm = 'brute')\n",
    "model_knn.fit(sparse)"
   ]
  },
  {
   "cell_type": "code",
   "execution_count": 68,
   "metadata": {},
   "outputs": [
    {
     "name": "stdout",
     "output_type": "stream",
     "text": [
      "Recommendations for the tragically hip:\n",
      "\n",
      "1: guano apes, with distance of 0.5165459741510404:\n",
      "2: alice cooper, with distance of 0.6457705537355878:\n",
      "3: bon jovi, with distance of 0.7436137504455367:\n",
      "4: alien ant farm, with distance of 0.7662000107541385:\n",
      "5: the magic numbers, with distance of 0.76863571639352:\n"
     ]
    }
   ],
   "source": [
    "query_index = np.random.choice(pivoted.shape[0])\n",
    "distances, indices = model_knn.kneighbors(pivoted.iloc[query_index, :].values.reshape(1, -1), n_neighbors = 6)\n",
    "\n",
    "\n",
    "for i in range(0, len(distances.flatten())):\n",
    "    if i == 0:\n",
    "        print ('Recommendations for {0}:\\n'.format(pivoted.index[query_index]))\n",
    "    else:\n",
    "        print ('{0}: {1}, with distance of {2}:'.format(i, pivoted.index[indices.flatten()[i]], distances.flatten()[i]))"
   ]
  },
  {
   "cell_type": "code",
   "execution_count": 67,
   "metadata": {},
   "outputs": [
    {
     "data": {
      "text/plain": [
       "array([1.11022302e-16, 6.23414462e-01, 6.43431575e-01, 6.82500580e-01,\n",
       "       7.23153763e-01, 7.32854719e-01])"
      ]
     },
     "execution_count": 67,
     "metadata": {},
     "output_type": "execute_result"
    }
   ],
   "source": [
    "distances.flatten()"
   ]
  },
  {
   "cell_type": "code",
   "execution_count": null,
   "metadata": {},
   "outputs": [],
   "source": []
  },
  {
   "cell_type": "code",
   "execution_count": null,
   "metadata": {},
   "outputs": [],
   "source": [
    "def collaborative_rec(query_index, cosine_sim = sim.values):\n",
    "    \n",
    "    recommended_songs = []\n",
    "    \n",
    "    # gettin the index of the movie that matches the title\n",
    "    idx = indices[indices == spotify_id].index[0]\n",
    "\n",
    "    # creating a Series with the similarity scores in descending order\n",
    "    score_series = pd.Series(cosine_sim[idx]).sort_values(ascending = False)\n",
    "\n",
    "    # getting the indexes of the 10 most similar movies\n",
    "    top_5_indexes = list(score_series.iloc[1:6].index)\n",
    "\n",
    "    # populating the list with the titles of the best 10 matching movies\n",
    "    for i in top_5_indexes:\n",
    "        recommended_songs.append(list(merged_popular.index)[i])\n",
    "    \n",
    "    return merged_popular[merged_popular.index.isin(recommended_songs)]"
   ]
  },
  {
   "cell_type": "code",
   "execution_count": 37,
   "metadata": {},
   "outputs": [
    {
     "ename": "SyntaxError",
     "evalue": "unexpected EOF while parsing (<ipython-input-37-14428e88dab3>, line 2)",
     "output_type": "error",
     "traceback": [
      "\u001b[0;36m  File \u001b[0;32m\"<ipython-input-37-14428e88dab3>\"\u001b[0;36m, line \u001b[0;32m2\u001b[0m\n\u001b[0;31m    \u001b[0m\n\u001b[0m    ^\u001b[0m\n\u001b[0;31mSyntaxError\u001b[0m\u001b[0;31m:\u001b[0m unexpected EOF while parsing\n"
     ]
    }
   ],
   "source": [
    "idf = [1 + log(N/(1+docF) for docF in)] \n",
    "\n",
    "# IDF diminishes the weight of terms that occur frequently in the document. \n",
    "    "
   ]
  },
  {
   "cell_type": "code",
   "execution_count": null,
   "metadata": {},
   "outputs": [],
   "source": [
    "def bm25"
   ]
  },
  {
   "cell_type": "markdown",
   "metadata": {},
   "source": [
    "### THINGS TO DO \n",
    "### HOW ARE YOU GONNA BUILD A LINEAR MODEL SETTING Y=POPUALRITY.\n",
    "### COMBINE SVD TO SIMILAR FEATURES TO SUMMARIZE FEATURES\n",
    "### Calculating Similarities between each songs. (Done)\n",
    "### How can I recommend songs based on the artists they like?\n",
    "### Grouby Genres --> and combine audio_features?\n",
    "A hybrid approach called collaboration via content deals with these issues by incorporating both the information used by content-based filtering and by collaborative filtering."
   ]
  },
  {
   "cell_type": "code",
   "execution_count": 33,
   "metadata": {},
   "outputs": [
    {
     "ename": "TypeError",
     "evalue": "'numpy.bool_' object is not iterable",
     "output_type": "error",
     "traceback": [
      "\u001b[0;31m---------------------------------------------------------------------------\u001b[0m",
      "\u001b[0;31mTypeError\u001b[0m                                 Traceback (most recent call last)",
      "\u001b[0;32m<ipython-input-33-cec66dfba4cf>\u001b[0m in \u001b[0;36m<module>\u001b[0;34m()\u001b[0m\n\u001b[0;32m----> 1\u001b[0;31m \u001b[0mmax\u001b[0m\u001b[0;34m(\u001b[0m\u001b[0mcollabo_sim\u001b[0m\u001b[0;34m.\u001b[0m\u001b[0mall\u001b[0m\u001b[0;34m(\u001b[0m\u001b[0;34m)\u001b[0m\u001b[0;34m)\u001b[0m\u001b[0;34m\u001b[0m\u001b[0m\n\u001b[0m",
      "\u001b[0;31mTypeError\u001b[0m: 'numpy.bool_' object is not iterable"
     ]
    }
   ],
   "source": []
  },
  {
   "cell_type": "code",
   "execution_count": 22,
   "metadata": {},
   "outputs": [],
   "source": [
    "# trainset, testset = train_test_split(pivoted, test_size=.15)\n",
    "# knn = surprise.KNNWithMeans(k=6,im_options={'name': 'pearson_baseline', 'user_based': True})\n",
    "\n"
   ]
  },
  {
   "cell_type": "markdown",
   "metadata": {},
   "source": []
  },
  {
   "cell_type": "code",
   "execution_count": null,
   "metadata": {},
   "outputs": [],
   "source": []
  },
  {
   "cell_type": "markdown",
   "metadata": {},
   "source": [
    "## Data Visualization"
   ]
  },
  {
   "cell_type": "code",
   "execution_count": 34,
   "metadata": {},
   "outputs": [],
   "source": [
    "def heatMap(df):\n",
    "    \"\"\" Taking a dataframe and returns to Heat Map to describe \n",
    "        each of features in the df.\n",
    "    \"\"\"\n",
    "    corr = df.corr()\n",
    "    # Return Upper Triangular Correlation Matrix, since corr matrix is symmetric.\n",
    "    mask = np.zeros_like(corr, dtype=np.bool)\n",
    "    mask[np.triu_indices_from(mask)] = True\n",
    "    \n",
    "    # Set Figures\n",
    "    fig, ax = plt.subplots(figsize=(10, 10))\n",
    "    # Generate Color Map\n",
    "    colormap = sns.diverging_palette(220, 10, as_cmap=True)\n",
    "    # Generate Heat Map based on Correlation\n",
    "    sns.heatmap(corr, mask=mask, cmap=colormap, annot=True, fmt=\".2f\")\n",
    "    \n",
    "    # Apply xticks\n",
    "    plt.xticks(range(len(corr.columns)), corr.columns);\n",
    "    # Apply yticks\n",
    "    plt.yticks(range(len(corr.columns)), corr.columns)\n",
    "    # Show plot\n",
    "    plt.show()"
   ]
  },
  {
   "cell_type": "code",
   "execution_count": 35,
   "metadata": {},
   "outputs": [
    {
     "data": {
      "image/png": "[encoded data removed]",
      "text/plain": [
       "<Figure size 720x720 with 2 Axes>"
      ]
     },
     "metadata": {},
     "output_type": "display_data"
    }
   ],
   "source": [
    "heatMap(merged)"
   ]
  },
  {
   "cell_type": "markdown",
   "metadata": {},
   "source": [
    "As we can see from the heat map, energy and loudness are negativley correlated with acousticness, but strongly positively correlated to each other.\n",
    "There is no significant factor that affects popularity; however, there is a slightly negative correlation bewteen instrumentalness and popularity. It might be the fact that classical musics are instrumental and are not frequently on Billboard Top 100."
   ]
  },
  {
   "cell_type": "code",
   "execution_count": null,
   "metadata": {},
   "outputs": [],
   "source": [
    "#plt.hist(x=artists_merged['total plays'], normed=True, bins=100, histtype='stepfilled')\n",
    "artists_merged['total plays'].describe()"
   ]
  },
  {
   "cell_type": "markdown",
   "metadata": {},
   "source": [
    "There was a huge difference between minimum plays and maximum plays. Hence, I would like to exclude some data points to prevent the noise."
   ]
  },
  {
   "cell_type": "code",
   "execution_count": null,
   "metadata": {},
   "outputs": [],
   "source": [
    "#total = pd.merge(profile_merged,merged, on='artist_name', how='left')"
   ]
  },
  {
   "cell_type": "markdown",
   "metadata": {},
   "source": [
    "How to connect KNN two matrix. \n",
    "1. profile and artist_name --> Will recommend artist based on the number of plays. Collarborative Filtering\n",
    "2. songs and features --> will recommend songs. Content Based Filters.\n",
    "\n",
    "Get average of each features for unique artists and then apply knn to get similar artist based on features?\n",
    "How to connect User-based and item-based."
   ]
  },
  {
   "cell_type": "code",
   "execution_count": 81,
   "metadata": {},
   "outputs": [],
   "source": [
    "X = [merged.acousticness, merged.danceability, merged.energy, merged.instrumentalness,\n",
    "     merged.liveness, merged.speechiness, merged.tempo, merged.valence]\n",
    "Y = merged.popularity.tolist()"
   ]
  },
  {
   "cell_type": "code",
   "execution_count": 82,
   "metadata": {},
   "outputs": [],
   "source": [
    "r_squared = [] # The coefficient of determination. A statistical measure of how well the regression line approximates the popularity.\n",
    "\n",
    "for x in X:\n",
    "    result = sm.OLS(Y,x).fit()\n",
    "    r_squared.append(result.rsquared)"
   ]
  },
  {
   "cell_type": "code",
   "execution_count": null,
   "metadata": {},
   "outputs": [],
   "source": [
    "\n"
   ]
  },
  {
   "cell_type": "markdown",
   "metadata": {},
   "source": [
    "# 7/3 Build KNN System.\n",
    "# Think how you will map audio_features to songs and summarize audio_feautres."
   ]
  },
  {
   "cell_type": "code",
   "execution_count": null,
   "metadata": {},
   "outputs": [],
   "source": []
  }
 ],
 "metadata": {
  "kernelspec": {
   "display_name": "Python 3",
   "language": "python",
   "name": "python3"
  },
  "language_info": {
   "codemirror_mode": {
    "name": "ipython",
    "version": 3
   },
   "file_extension": ".py",
   "mimetype": "text/x-python",
   "name": "python",
   "nbconvert_exporter": "python",
   "pygments_lexer": "ipython3",
   "version": "3.6.5"
  }
 },
 "nbformat": 4,
 "nbformat_minor": 2
}
