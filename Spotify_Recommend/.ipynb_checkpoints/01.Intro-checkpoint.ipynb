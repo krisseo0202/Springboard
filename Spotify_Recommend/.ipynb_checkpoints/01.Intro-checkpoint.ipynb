{
 "cells": [
  {
   "cell_type": "code",
   "execution_count": 3,
   "metadata": {},
   "outputs": [],
   "source": [
    "import pickle\n",
    "import glob\n",
    "import pandas as pd\n",
    "import numpy as np\n",
    "\n",
    "import spotipy\n",
    "import spotipy.util as util\n",
    "from spotipy.oauth2 import SpotifyClientCredentials\n"
   ]
  },
  {
   "cell_type": "markdown",
   "metadata": {},
   "source": [
    "## Load Music Data / Data Collection\n",
    "***"
   ]
  },
  {
   "cell_type": "code",
   "execution_count": null,
   "metadata": {},
   "outputs": [],
   "source": [
    "artname = pd.read_csv('data/usersha1-artmbid-artname-plays.tsv', sep='\\t', header=None, names = ['users', 'artist_id', 'artist_name', 'plays'],\n",
    "                        usecols = ['users', 'artist_name', 'plays'])\n",
    "profile = pd.read_csv('data/usersha1-profile.tsv', sep='\\t', header=None, names = ['users', 'gender', 'age', 'country', 'sign_up'],\n",
    "                        usecols = ['users', 'country'])\n"
   ]
  },
  {
   "cell_type": "code",
   "execution_count": null,
   "metadata": {},
   "outputs": [],
   "source": [
    "#Getting all the spotify_data follwing by numbers\n",
    "filenames = glob.glob('data/spotify_data*.csv')\n",
    "l = []\n",
    "for file in filenames: \n",
    "    df = pd.read_csv(file)\n",
    "    l.append(df)\n",
    "    \n",
    "spotify_data = pd.concat(l, axis = 0,ignore_index= True)\n",
    "spotify_data.head()\n"
   ]
  },
  {
   "cell_type": "code",
   "execution_count": null,
   "metadata": {},
   "outputs": [],
   "source": [
    "#SpotifyClientCredentials that can be used to authenticate requests like\n",
    "#Using Spotify API to collect more detailed audio features\n",
    "client_credentials_manager = SpotifyClientCredentials(client_id=\"ad1a53bb434c4023a44d59b0c5ac533b\",client_secret='e25b1aa4183d47b7abb9c0494bb05696')\n",
    "sp = spotipy.Spotify(client_credentials_manager=client_credentials_manager)\n",
    "\n"
   ]
  },
  {
   "cell_type": "code",
   "execution_count": null,
   "metadata": {},
   "outputs": [],
   "source": [
    "trackid = list(set(spotify_data.trackid))\n",
    "batchsize = 50\n",
    "\n",
    "def spotify_info(trackid,batchsize):\n",
    "    features = []\n",
    "    popularity = []\n",
    "    uri = []\n",
    "    artists_uri = []\n",
    "    none_count = 0\n",
    "    none_count2 = 0\n",
    "    for i in range(0,len(trackid),batchsize):\n",
    "        batch = trackid[i:i+batchsize]\n",
    "        track_results = sp.tracks(batch)\n",
    "        features_results = sp.audio_features(tracks = batch)\n",
    "        for i, t in enumerate(track_results['tracks']):\n",
    "            if t == None:\n",
    "                none_count += none_count + 1\n",
    "            else:\n",
    "                popularity.append(t['popularity'])\n",
    "                uri.append(t['uri'])\n",
    "                artists_uri.append(t['artists'][0]['uri'])\n",
    "    for i, t in enumerate(features_results):\n",
    "        if t == None:\n",
    "            none_count2 += none_count2 + 1\n",
    "        else:\n",
    "            features.append(t)\n",
    "        return(features, popularity,uri, artists_uri)"
   ]
  },
  {
   "cell_type": "code",
   "execution_count": null,
   "metadata": {},
   "outputs": [],
   "source": [
    "genres = []\n",
    "artists_name = []\n",
    "none_count3 = 0\n",
    "artists_uri = list(set(artists_uri))\n",
    "\n",
    "for i in range(0, len(artists_uri), batchsize):\n",
    "    batch = artists_uri[i:i+batchsize]\n",
    "    artist_results = sp.artists(batch)\n",
    "    for i,t in enumerate(artist_results['artists']):\n",
    "        if t['genres'] == []:\n",
    "            t['genres'] == np.nan\n",
    "        else:\n",
    "            genres.append(t['genres'])\n",
    "            artists_name.append(t['name'])\n"
   ]
  },
  {
   "cell_type": "code",
   "execution_count": null,
   "metadata": {},
   "outputs": [],
   "source": [
    "artists_genres = pd.DataFrame(\n",
    "    {'artist_name':artists_name,\n",
    "     'genres':genres\n",
    "    })\n",
    "print(artists_genres.head(),\n",
    "artists_genres.info())\n",
    "genre = artists_genres.apply(lambda x: pd.Series(x['genres']),axis=1).stack().reset_index(level=1, drop=True)\n",
    "genre.name = 'genre'\n",
    "artists_genres = artists_genres.drop('genres', axis=1).join(genre).reset_index(drop=True)\n"
   ]
  },
  {
   "cell_type": "code",
   "execution_count": null,
   "metadata": {},
   "outputs": [],
   "source": [
    "features = pd.DataFrame.from_dict(features)\n",
    "features = features.drop(['id','analysis_url','type','track_href','type'], axis=1)\n",
    "features = features.set_index(\"uri\")\n",
    "df_pop = pd.DataFrame(\n",
    "    {'uri': uri,\n",
    "     'popularity': popularity\n",
    "    })\n",
    "df_pop = df_pop.set_index(\"uri\")\n"
   ]
  },
  {
   "cell_type": "code",
   "execution_count": null,
   "metadata": {},
   "outputs": [],
   "source": [
    "all_features = pd.merge(features,df_pop, left_index=True, right_index=True)\n",
    "all_features.head()\n"
   ]
  },
  {
   "cell_type": "markdown",
   "metadata": {},
   "source": [
    "### Saving files as pickle"
   ]
  },
  {
   "cell_type": "code",
   "execution_count": null,
   "metadata": {},
   "outputs": [],
   "source": [
    "pickle.dump(artists_genres, open(\"artists_genres.p\", 'wb'))"
   ]
  },
  {
   "cell_type": "code",
   "execution_count": null,
   "metadata": {},
   "outputs": [],
   "source": [
    "pickle.dump(all_features,open(\"all_features.p\",\"wb\"))"
   ]
  }
 ],
 "metadata": {
  "kernelspec": {
   "display_name": "Python 3",
   "language": "python",
   "name": "python3"
  },
  "language_info": {
   "codemirror_mode": {
    "name": "ipython",
    "version": 3
   },
   "file_extension": ".py",
   "mimetype": "text/x-python",
   "name": "python",
   "nbconvert_exporter": "python",
   "pygments_lexer": "ipython3",
   "version": "3.6.5"
  }
 },
 "nbformat": 4,
 "nbformat_minor": 2
}
